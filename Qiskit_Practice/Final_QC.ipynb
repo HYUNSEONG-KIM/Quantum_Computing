{
 "cells": [
  {
   "cell_type": "markdown",
   "metadata": {},
   "source": [
    "# Final Project of Quantum Computation"
   ]
  },
  {
   "cell_type": "markdown",
   "metadata": {},
   "source": [
    "20195048 김현성"
   ]
  },
  {
   "cell_type": "markdown",
   "metadata": {},
   "source": [
    "## Problem 1\n",
    "\n",
    "Solve the following linear system with HHL algorithm\n",
    "\n",
    "$$\\begin{bmatrix}1 & -1/3 \\\\ -1/3 & 1\\end{bmatrix} \\mathbf{x} = \\begin{bmatrix} 0 \\\\ 1 \\end{bmatrix}$$"
   ]
  },
  {
   "cell_type": "markdown",
   "metadata": {},
   "source": [
    "## Problem 2 \n",
    "\n",
    "Extend the problem 1 result and solve following equation\n",
    "\n",
    "$$\\frac{1}{4}\n",
    "\\begin{bmatrix}\n",
    "15 & 9 & 5 & -3 \\\\\n",
    "9 & 15 & 3 & -5 \\\\\n",
    "5 & 3 & 15 & -9 \\\\\n",
    "-3 & -5 & -9 & 15\\end{bmatrix} \\mathbf{x} = \n",
    "\\frac{1}{2} \n",
    "\\begin{bmatrix}\n",
    "1\\\\\n",
    "1\\\\\n",
    "1\\\\\n",
    "1\n",
    "\\end{bmatrix}$$"
   ]
  },
  {
   "cell_type": "markdown",
   "metadata": {},
   "source": [
    "## Answer\n",
    "\n",
    "Since the matrix already a Hermit matrix, the calculation does not require a conversion. Before we implement HHL. Let us see the exact solutions of the each system."
   ]
  },
  {
   "cell_type": "markdown",
   "metadata": {},
   "source": [
    "### Exact solutions"
   ]
  },
  {
   "cell_type": "code",
   "execution_count": 1,
   "metadata": {},
   "outputs": [],
   "source": [
    "from IPython.display import display, Math"
   ]
  },
  {
   "cell_type": "code",
   "execution_count": 2,
   "metadata": {},
   "outputs": [],
   "source": [
    "import sympy as sp\n",
    "from sympy.printing.mathml import mathml\n",
    "sp.init_printing(use_unicode=True) # allow LaTeX printing\n"
   ]
  },
  {
   "cell_type": "code",
   "execution_count": 3,
   "metadata": {},
   "outputs": [],
   "source": [
    "scale1 = 3\n",
    "A1 = sp.Matrix([[3, -1], [-1, 3]])/scale1\n",
    "b1 = sp.Matrix([[0], [1]])\n",
    "scale2 = 4\n",
    "A2 = sp.Matrix(\n",
    "    [\n",
    "        [15, 9, 5, -3], \n",
    "        [9, 15, 3, -5],\n",
    "        [5, 3, 15, -9],\n",
    "        [-3, -5, -9, 15]])/scale2\n",
    "b2 = sp.Matrix(4*[[2]])/scale2\n",
    "\n",
    "A1_np = np.array(A1).astype(complex)\n",
    "A2_np = np.array(A2).astype(complex)"
   ]
  },
  {
   "cell_type": "code",
   "execution_count": 4,
   "metadata": {},
   "outputs": [
    {
     "data": {
      "text/latex": [
       "$\\displaystyle \\left[\\begin{matrix}1 & - \\frac{1}{3}\\\\- \\frac{1}{3} & 1\\end{matrix}\\right]$"
      ],
      "text/plain": [
       "<IPython.core.display.Math object>"
      ]
     },
     "metadata": {},
     "output_type": "display_data"
    },
    {
     "data": {
      "text/latex": [
       "$\\displaystyle det(A_1): 8/9$"
      ],
      "text/plain": [
       "<IPython.core.display.Math object>"
      ]
     },
     "metadata": {},
     "output_type": "display_data"
    },
    {
     "data": {
      "text/latex": [
       "$\\displaystyle \\mathbf{x}: \\left[\\begin{matrix}\\frac{3}{8} & \\frac{9}{8}\\end{matrix}\\right]$"
      ],
      "text/plain": [
       "<IPython.core.display.Math object>"
      ]
     },
     "metadata": {},
     "output_type": "display_data"
    },
    {
     "data": {
      "text/latex": [
       "$\\displaystyle \\left[\\begin{matrix}\\frac{15}{4} & \\frac{9}{4} & \\frac{5}{4} & - \\frac{3}{4}\\\\\\frac{9}{4} & \\frac{15}{4} & \\frac{3}{4} & - \\frac{5}{4}\\\\\\frac{5}{4} & \\frac{3}{4} & \\frac{15}{4} & - \\frac{9}{4}\\\\- \\frac{3}{4} & - \\frac{5}{4} & - \\frac{9}{4} & \\frac{15}{4}\\end{matrix}\\right]$"
      ],
      "text/plain": [
       "<IPython.core.display.Math object>"
      ]
     },
     "metadata": {},
     "output_type": "display_data"
    },
    {
     "data": {
      "text/latex": [
       "$\\displaystyle det(A_2): 64$"
      ],
      "text/plain": [
       "<IPython.core.display.Math object>"
      ]
     },
     "metadata": {},
     "output_type": "display_data"
    },
    {
     "data": {
      "text/latex": [
       "$\\displaystyle \\mathbf{x}: \\left[\\begin{matrix}- \\frac{1}{32} & \\frac{7}{32} & \\frac{11}{32} & \\frac{13}{32}\\end{matrix}\\right]$"
      ],
      "text/plain": [
       "<IPython.core.display.Math object>"
      ]
     },
     "metadata": {},
     "output_type": "display_data"
    }
   ],
   "source": [
    "display(Math(sp.latex(A1)))\n",
    "display(Math(f\"$det(A_1): {A1.det()}$\",))\n",
    "display(Math(\"$\\mathbf{x}: \" + sp.latex(A1.solve(b1).T)))\n",
    "display(Math(sp.latex(A2)))\n",
    "display(Math(f\"$det(A_2): {A2.det()}$\",))\n",
    "display(Math(\"$\\mathbf{x}: \" + sp.latex(A2.solve(b2).T)))"
   ]
  },
  {
   "cell_type": "code",
   "execution_count": 86,
   "metadata": {},
   "outputs": [
    {
     "data": {
      "image/png": "[encoded data removed]",
      "text/latex": [
       "$\\displaystyle \\left\\{ 1 : 1, \\  2 : 1, \\  4 : 1, \\  8 : 1\\right\\}$"
      ],
      "text/plain": [
       "{1: 1, 2: 1, 4: 1, 8: 1}"
      ]
     },
     "execution_count": 86,
     "metadata": {},
     "output_type": "execute_result"
    }
   ],
   "source": [
    "A2.eigenvals()"
   ]
  },
  {
   "cell_type": "code",
   "execution_count": 88,
   "metadata": {},
   "outputs": [
    {
     "data": {
      "image/png": "[encoded data removed]",
      "text/latex": [
       "$\\displaystyle \\left[ \\left( 1, \\  1, \\  \\left[ \\left[\\begin{matrix}-1\\\\1\\\\1\\\\1\\end{matrix}\\right]\\right]\\right), \\  \\left( 2, \\  1, \\  \\left[ \\left[\\begin{matrix}1\\\\-1\\\\1\\\\1\\end{matrix}\\right]\\right]\\right), \\  \\left( 4, \\  1, \\  \\left[ \\left[\\begin{matrix}1\\\\1\\\\-1\\\\1\\end{matrix}\\right]\\right]\\right), \\  \\left( 8, \\  1, \\  \\left[ \\left[\\begin{matrix}-1\\\\-1\\\\-1\\\\1\\end{matrix}\\right]\\right]\\right)\\right]$"
      ],
      "text/plain": [
       "⎡⎛      ⎡⎡-1⎤⎤⎞  ⎛      ⎡⎡1 ⎤⎤⎞  ⎛      ⎡⎡1 ⎤⎤⎞  ⎛      ⎡⎡-1⎤⎤⎞⎤\n",
       "⎢⎜      ⎢⎢  ⎥⎥⎟  ⎜      ⎢⎢  ⎥⎥⎟  ⎜      ⎢⎢  ⎥⎥⎟  ⎜      ⎢⎢  ⎥⎥⎟⎥\n",
       "⎢⎜      ⎢⎢1 ⎥⎥⎟  ⎜      ⎢⎢-1⎥⎥⎟  ⎜      ⎢⎢1 ⎥⎥⎟  ⎜      ⎢⎢-1⎥⎥⎟⎥\n",
       "⎢⎜1, 1, ⎢⎢  ⎥⎥⎟, ⎜2, 1, ⎢⎢  ⎥⎥⎟, ⎜4, 1, ⎢⎢  ⎥⎥⎟, ⎜8, 1, ⎢⎢  ⎥⎥⎟⎥\n",
       "⎢⎜      ⎢⎢1 ⎥⎥⎟  ⎜      ⎢⎢1 ⎥⎥⎟  ⎜      ⎢⎢-1⎥⎥⎟  ⎜      ⎢⎢-1⎥⎥⎟⎥\n",
       "⎢⎜      ⎢⎢  ⎥⎥⎟  ⎜      ⎢⎢  ⎥⎥⎟  ⎜      ⎢⎢  ⎥⎥⎟  ⎜      ⎢⎢  ⎥⎥⎟⎥\n",
       "⎣⎝      ⎣⎣1 ⎦⎦⎠  ⎝      ⎣⎣1 ⎦⎦⎠  ⎝      ⎣⎣1 ⎦⎦⎠  ⎝      ⎣⎣1 ⎦⎦⎠⎦"
      ]
     },
     "execution_count": 88,
     "metadata": {},
     "output_type": "execute_result"
    }
   ],
   "source": [
    "A2.eigenvects()"
   ]
  },
  {
   "cell_type": "markdown",
   "metadata": {},
   "source": [
    "## System configuration"
   ]
  },
  {
   "cell_type": "markdown",
   "metadata": {},
   "source": [
    "Eigenvalues and eigenvectos of each systems\n",
    "\n",
    "* $\\{\\lambda _i\\}_{A_1} = \\{ \\frac{2}{3}, \\frac{4}{3}\\}$\n",
    "* $\\{\\lambda _i\\}_{A_2} = \\{ \\frac{1}{4}, \\frac{2}{4}, \\frac{4}{4}, \\frac{8}{4}\\}$\n",
    "\n",
    "then, the desired scaled eigenvalues and the scale factors are \n",
    "\n",
    "$$\\tilde{\\lambda} = N \\frac{\\lambda }{2 \\pi} t $$\n",
    "\n",
    "* $\\{\\tilde{\\lambda}_i\\}_{A_1} = \\{ 1, 2\\}$\n",
    "* $\\{\\tilde{\\lambda}_i\\}_{A_2} = \\{ 1, 2, 4, 8\\}$\n",
    "* $t_1 = \\frac{3}{4} \\pi $\n",
    "* $t_2 = \\frac{1}{2} \\pi $\n"
   ]
  },
  {
   "cell_type": "markdown",
   "metadata": {},
   "source": [
    "### Implementation of HHL algorithm"
   ]
  },
  {
   "cell_type": "markdown",
   "metadata": {},
   "source": [
    "Major steps of HHL algorithm\n",
    "\n",
    "3 registers required: ancilla, main-register, b-register.\n",
    "\n",
    "1. State preparation: Encoding $|b\\rangle$ vector to the register, amplitude encoding(b).\n",
    "2. Quantum Phase estimation(main, b).\n",
    "3. Ancilla bit rotation(main, ancilla).\n",
    "4. Inverse Quantum Phase estimation(main, b).\n",
    "5. Measurement."
   ]
  },
  {
   "cell_type": "markdown",
   "metadata": {},
   "source": [
    "### Decomposition of Pauli matrix "
   ]
  },
  {
   "cell_type": "markdown",
   "metadata": {},
   "source": [
    "In the HHL algorithm there is a evolution circuit $U = \\exp(i H t)$ gate of the given $A$ matrix.\n",
    "Unfortunately, to implment on the gate, we have to encode the given hamiltonian as summation of \n",
    "unitary and hermit matrices. That means we needs a Pauli-polynomial of the given matrix."
   ]
  },
  {
   "cell_type": "code",
   "execution_count": 5,
   "metadata": {},
   "outputs": [],
   "source": [
    "import numpy as np\n",
    "from itertools import combinations, combinations_with_replacement as re_combi, product\n",
    "from functools import reduce\n",
    "\n",
    "I = np.eye(2)\n",
    "X = np.array([[0, 1], [1, 0]])\n",
    "Y = complex(0, 1)*np.array([[0, -1], [1, 0]])\n",
    "Z = np.array([[1, 0], [0, -1]])"
   ]
  },
  {
   "cell_type": "code",
   "execution_count": 80,
   "metadata": {},
   "outputs": [],
   "source": [
    "def krons(oper_list): # Operator Kronecker delta\n",
    "    return reduce(np.kron, oper_list)\n",
    "def get_pauli_xz_family_n_qubit(n, fam=\"Z\"):\n",
    "    G = Z if fam==\"Z\" else X\n",
    "    return list(map(krons, product([I, G], repeat=int(n)))), list(map(lambda x: \"\".join(x), product(f\"I{fam}\", repeat=int(n))))\n",
    "def get_pauli_familiy(n):\n",
    "    p_xs, p_xs_str = get_pauli_xz_family_n_qubit(n, fam=\"X\")\n",
    "    p_zs, p_zs_str = get_pauli_xz_family_n_qubit(n, fam=\"Z\")\n",
    "\n",
    "    p_g = []\n",
    "    p_g_str =[]\n",
    "    for x_i, x_str in zip(p_xs, p_xs_str):\n",
    "        for z_j, z_str in zip(p_zs, p_zs_str):\n",
    "            g = x_i@z_j\n",
    "    \n",
    "            g_coef, g_str = get_coef(x_str, z_str)\n",
    "    \n",
    "            p_g.append(g_coef*g)\n",
    "            p_g_str.append(g_str)\n",
    "    return p_g, p_g_str    \n",
    "def get_coef(x_str, z_str):\n",
    "    n = len(x_str)\n",
    "    x_str = x_str.replace(\"X\", \"1\")\n",
    "    x_str = x_str.replace(\"I\", \"0\")\n",
    "    z_str = z_str.replace(\"Z\", \"1\")\n",
    "    z_str = z_str.replace(\"I\", \"0\")\n",
    "    \n",
    "    x_int = int(x_str, 2)\n",
    "    z_int = int(z_str, 2)\n",
    "    \n",
    "    y_pos = format(x_int&z_int, f\"0{n}b\")\n",
    "    z_pos = format((x_int|z_int) - x_int, f\"0{n}b\")\n",
    "    x_pos = format((x_int|z_int) - z_int, f\"0{n}b\")\n",
    "\n",
    "    g_str = []\n",
    "    for x,y,z in zip(x_pos, y_pos, z_pos):\n",
    "        if x==y and y==z:\n",
    "            g_str.append(\"I\")\n",
    "        elif x== \"1\":\n",
    "            g_str.append(\"X\")\n",
    "        elif y == \"1\":\n",
    "            g_str.append(\"Y\")\n",
    "        else:\n",
    "            g_str.append(\"Z\")\n",
    "    return complex(0,1)**y_pos.count(\"1\"), \"\".join(g_str)\n",
    "    \n",
    "def frobenius_inner(A, B):\n",
    "    n, n2 = A.shape\n",
    "    return np.trace((A.conj().T)@B)/(n)\n",
    "\n",
    "def get_pauli_coefficient(A):\n",
    "    k, k2 = A.shape\n",
    "    n = int(np.log2(k))\n",
    "    p_fam, p_str = get_pauli_familiy(n)\n",
    "    \n",
    "    coef = {}\n",
    "    for p_m, p_m_str in zip(p_fam, p_str):\n",
    "        coef[p_m_str] = frobenius_inner(p_m, A)\n",
    "    return coef"
   ]
  },
  {
   "cell_type": "code",
   "execution_count": 83,
   "metadata": {},
   "outputs": [],
   "source": [
    "coef_A1 = get_pauli_coefficient(A1_np)\n",
    "coef_A2 = get_pauli_coefficient(A2_np)"
   ]
  },
  {
   "cell_type": "code",
   "execution_count": 85,
   "metadata": {},
   "outputs": [
    {
     "data": {
      "text/plain": [
       "{'I': (1+0j), 'Z': 0j, 'X': (-0.3333333333333333+0j), 'Y': 0j}"
      ]
     },
     "execution_count": 85,
     "metadata": {},
     "output_type": "execute_result"
    }
   ],
   "source": [
    "coef_A1"
   ]
  },
  {
   "cell_type": "code",
   "execution_count": 84,
   "metadata": {},
   "outputs": [
    {
     "data": {
      "text/plain": [
       "{'II': (3.75+0j),\n",
       " 'IZ': 0j,\n",
       " 'ZI': 0j,\n",
       " 'ZZ': 0j,\n",
       " 'IX': 0j,\n",
       " 'IY': 0j,\n",
       " 'ZX': (2.25+0j),\n",
       " 'ZY': 0j,\n",
       " 'XI': 0j,\n",
       " 'XZ': (1.25+0j),\n",
       " 'YI': 0j,\n",
       " 'YZ': 0j,\n",
       " 'XX': 0j,\n",
       " 'XY': 0j,\n",
       " 'YX': 0j,\n",
       " 'YY': (0.75+0j)}"
      ]
     },
     "execution_count": 84,
     "metadata": {},
     "output_type": "execute_result"
    }
   ],
   "source": [
    "coef_A2"
   ]
  },
  {
   "cell_type": "markdown",
   "metadata": {},
   "source": [
    "The $A_1$ and $A_2$ become\n",
    "\n",
    "$$A_1 = I - \\frac{1}{3}X$$\n",
    "$$A_2 = 3.75 II + 1.25 XZ + 2.25 ZX + 0.75 YY$$\n",
    "\n",
    "About the commuting relationship, $A_1$ components are tirvially commuting each other.\n",
    "For $A_2$ elements, we can use a method suggested by Chapuis et al (2018).\n",
    "\n",
    "**Theorem**: For two pauli strings, there are X, Z family decomposition such as $P_1 = x_1 * z_1$ and $P_2 = x_2 * z_2$. \n",
    "The given Pauli strings are commuting if and only if $[x_1, z_2]$ and $[x_2, z_1]$ are either commute or anti-commute.\n",
    "\n",
    "Now see below,\n",
    "\n",
    "<center>\n",
    "\n",
    "|Element|X-family|Z_family|\n",
    "|:---:|:---:|:---:|\n",
    "|XZ|XI|IZ|\n",
    "|ZX|IX|ZI|\n",
    "|YY|XX|ZZ|\n",
    "\n",
    "</center>\n",
    "\n",
    "All of them are anticommute, in cross line elements of X, Z family columns.\n",
    "Therefore, we don't have to worry about the anticommute relationship on implementation."
   ]
  },
  {
   "cell_type": "markdown",
   "metadata": {},
   "source": [
    "---"
   ]
  },
  {
   "cell_type": "code",
   "execution_count": 11,
   "metadata": {},
   "outputs": [],
   "source": [
    "from qiskit import QuantumCircuit, QuantumRegister, ClassicalRegister"
   ]
  },
  {
   "cell_type": "code",
   "execution_count": 21,
   "metadata": {},
   "outputs": [],
   "source": [
    "num_ancilla_register = 1\n",
    "num_clock_register = 4\n",
    "num_vector_register = 4 "
   ]
  },
  {
   "cell_type": "code",
   "execution_count": 22,
   "metadata": {},
   "outputs": [],
   "source": [
    "qr_ancilla = QuantumRegister(num_ancilla_register, name=\"ancilla\")\n",
    "qr_clock = QuantumRegister(num_main_register, name=\"clock\")\n",
    "qr_vector = QuantumRegister(num_vector_register, name=\"vector\")\n",
    "cr = ClassicalRegister(1, name = \"classic\")"
   ]
  },
  {
   "cell_type": "code",
   "execution_count": 23,
   "metadata": {},
   "outputs": [],
   "source": [
    "qc = QuantumCircuit(qr_ancilla, qr_main, qr_vector, cr, name=\"HHL\")"
   ]
  },
  {
   "cell_type": "markdown",
   "metadata": {},
   "source": [
    "State preparation for $|b\\rangle$ vector."
   ]
  },
  {
   "cell_type": "code",
   "execution_count": 24,
   "metadata": {},
   "outputs": [],
   "source": [
    "from qiskit.circuit.library import StatePreparation"
   ]
  },
  {
   "cell_type": "code",
   "execution_count": 25,
   "metadata": {},
   "outputs": [
    {
     "data": {
      "image/png": "[encoded data removed]",
      "text/latex": [
       "$\\displaystyle \\left[\\begin{matrix}0\\\\1\\end{matrix}\\right]$"
      ],
      "text/plain": [
       "⎡0⎤\n",
       "⎢ ⎥\n",
       "⎣1⎦"
      ]
     },
     "execution_count": 25,
     "metadata": {},
     "output_type": "execute_result"
    }
   ],
   "source": [
    "b1"
   ]
  },
  {
   "cell_type": "code",
   "execution_count": null,
   "metadata": {},
   "outputs": [],
   "source": [
    "def initiate_matrix(A):\n",
    "    #return A_gates\n",
    "    pass\n",
    "def HHL(A, wires):\n",
    "    #return qc\n",
    "    pass"
   ]
  },
  {
   "cell_type": "markdown",
   "metadata": {},
   "source": []
  },
  {
   "cell_type": "markdown",
   "metadata": {},
   "source": [
    "### Results"
   ]
  },
  {
   "cell_type": "markdown",
   "metadata": {},
   "source": []
  }
 ],
 "metadata": {
  "kernelspec": {
   "display_name": "Python 3",
   "language": "python",
   "name": "python3"
  },
  "language_info": {
   "codemirror_mode": {
    "name": "ipython",
    "version": 3
   },
   "file_extension": ".py",
   "mimetype": "text/x-python",
   "name": "python",
   "nbconvert_exporter": "python",
   "pygments_lexer": "ipython3",
   "version": "3.11.3"
  }
 },
 "nbformat": 4,
 "nbformat_minor": 2
}
