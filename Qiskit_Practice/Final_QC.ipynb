{
 "cells": [
  {
   "cell_type": "markdown",
   "metadata": {},
   "source": [
    "# Final Project of Quantum Computation"
   ]
  },
  {
   "cell_type": "markdown",
   "metadata": {},
   "source": [
    "20195048 김현성"
   ]
  },
  {
   "cell_type": "markdown",
   "metadata": {},
   "source": [
    "## Problem 1\n",
    "\n",
    "Solve the following linear system with HHL algorithm\n",
    "\n",
    "$$\\begin{bmatrix}1 & -1/3 \\\\ -1/3 & 1\\end{bmatrix} \\mathbf{x} = \\begin{bmatrix} 0 \\\\ 1 \\end{bmatrix}$$"
   ]
  },
  {
   "cell_type": "markdown",
   "metadata": {},
   "source": [
    "## Problem 2 \n",
    "\n",
    "Extend the problem 1 result and solve following equation\n",
    "\n",
    "$$\\frac{1}{4}\n",
    "\\begin{bmatrix}\n",
    "15 & 9 & 5 & -3 \\\\\n",
    "9 & 15 & 3 & -5 \\\\\n",
    "5 & 3 & 15 & -9 \\\\\n",
    "-3 & -5 & -9 & 15\\end{bmatrix} \\mathbf{x} = \n",
    "\\frac{1}{2} \n",
    "\\begin{bmatrix}\n",
    "1\\\\\n",
    "1\\\\\n",
    "1\\\\\n",
    "1\n",
    "\\end{bmatrix}$$"
   ]
  },
  {
   "cell_type": "markdown",
   "metadata": {},
   "source": [
    "## Answer\n",
    "\n",
    "Since the matrix already a Hermit matrix, the calculation does not require a conversion. Before we implement HHL. Let us see the exact solutions of the each system."
   ]
  },
  {
   "cell_type": "markdown",
   "metadata": {},
   "source": [
    "### Exact solutions"
   ]
  },
  {
   "cell_type": "code",
   "execution_count": 1,
   "metadata": {},
   "outputs": [],
   "source": [
    "from IPython.display import display, Math"
   ]
  },
  {
   "cell_type": "code",
   "execution_count": 5,
   "metadata": {},
   "outputs": [],
   "source": [
    "import sympy as sp\n",
    "import numpy as np\n",
    "from sympy.printing.mathml import mathml\n",
    "#sp.init_printing(use_unicode=True) # allow LaTeX printing\n"
   ]
  },
  {
   "cell_type": "code",
   "execution_count": 6,
   "metadata": {},
   "outputs": [],
   "source": [
    "scale1 = 3\n",
    "A1 = sp.Matrix([[3, -1], [-1, 3]])/scale1\n",
    "b1 = sp.Matrix([[0], [1]])\n",
    "scale2 = 4\n",
    "A2 = sp.Matrix(\n",
    "    [\n",
    "        [15, 9, 5, -3], \n",
    "        [9, 15, 3, -5],\n",
    "        [5, 3, 15, -9],\n",
    "        [-3, -5, -9, 15]])/scale2\n",
    "b2 = sp.Matrix(4*[[2]])/scale2\n",
    "\n",
    "A1_np = np.array(A1).astype(complex)\n",
    "A2_np = np.array(A2).astype(complex)"
   ]
  },
  {
   "cell_type": "code",
   "execution_count": 7,
   "metadata": {},
   "outputs": [
    {
     "data": {
      "text/latex": [
       "$\\displaystyle \\left[\\begin{matrix}1 & - \\frac{1}{3}\\\\- \\frac{1}{3} & 1\\end{matrix}\\right]$"
      ],
      "text/plain": [
       "<IPython.core.display.Math object>"
      ]
     },
     "metadata": {},
     "output_type": "display_data"
    },
    {
     "data": {
      "text/latex": [
       "$\\displaystyle det(A_1): 8/9$"
      ],
      "text/plain": [
       "<IPython.core.display.Math object>"
      ]
     },
     "metadata": {},
     "output_type": "display_data"
    },
    {
     "data": {
      "text/latex": [
       "$\\displaystyle \\mathbf{x}: \\left[\\begin{matrix}\\frac{3}{8} & \\frac{9}{8}\\end{matrix}\\right]$"
      ],
      "text/plain": [
       "<IPython.core.display.Math object>"
      ]
     },
     "metadata": {},
     "output_type": "display_data"
    },
    {
     "data": {
      "text/latex": [
       "$\\displaystyle \\left[\\begin{matrix}\\frac{15}{4} & \\frac{9}{4} & \\frac{5}{4} & - \\frac{3}{4}\\\\\\frac{9}{4} & \\frac{15}{4} & \\frac{3}{4} & - \\frac{5}{4}\\\\\\frac{5}{4} & \\frac{3}{4} & \\frac{15}{4} & - \\frac{9}{4}\\\\- \\frac{3}{4} & - \\frac{5}{4} & - \\frac{9}{4} & \\frac{15}{4}\\end{matrix}\\right]$"
      ],
      "text/plain": [
       "<IPython.core.display.Math object>"
      ]
     },
     "metadata": {},
     "output_type": "display_data"
    },
    {
     "data": {
      "text/latex": [
       "$\\displaystyle det(A_2): 64$"
      ],
      "text/plain": [
       "<IPython.core.display.Math object>"
      ]
     },
     "metadata": {},
     "output_type": "display_data"
    },
    {
     "data": {
      "text/latex": [
       "$\\displaystyle \\mathbf{x}: \\left[\\begin{matrix}- \\frac{1}{32} & \\frac{7}{32} & \\frac{11}{32} & \\frac{13}{32}\\end{matrix}\\right]$"
      ],
      "text/plain": [
       "<IPython.core.display.Math object>"
      ]
     },
     "metadata": {},
     "output_type": "display_data"
    }
   ],
   "source": [
    "display(Math(sp.latex(A1)))\n",
    "display(Math(f\"$det(A_1): {A1.det()}$\",))\n",
    "display(Math(\"$\\mathbf{x}: \" + sp.latex(A1.solve(b1).T)))\n",
    "display(Math(sp.latex(A2)))\n",
    "display(Math(f\"$det(A_2): {A2.det()}$\",))\n",
    "display(Math(\"$\\mathbf{x}: \" + sp.latex(A2.solve(b2).T)))"
   ]
  },
  {
   "cell_type": "code",
   "execution_count": 59,
   "metadata": {},
   "outputs": [
    {
     "data": {
      "text/plain": [
       "{8: 1, 4: 1, 2: 1, 1: 1}"
      ]
     },
     "metadata": {},
     "output_type": "display_data"
    },
    {
     "data": {
      "text/latex": [
       "$\\displaystyle \\left[ \\left( 1, \\  1, \\  \\left[ \\left[\\begin{matrix}-1\\\\1\\\\1\\\\1\\end{matrix}\\right]\\right]\\right), \\  \\left( 2, \\  1, \\  \\left[ \\left[\\begin{matrix}1\\\\-1\\\\1\\\\1\\end{matrix}\\right]\\right]\\right), \\  \\left( 4, \\  1, \\  \\left[ \\left[\\begin{matrix}1\\\\1\\\\-1\\\\1\\end{matrix}\\right]\\right]\\right), \\  \\left( 8, \\  1, \\  \\left[ \\left[\\begin{matrix}-1\\\\-1\\\\-1\\\\1\\end{matrix}\\right]\\right]\\right)\\right]$"
      ],
      "text/plain": [
       "<IPython.core.display.Math object>"
      ]
     },
     "metadata": {},
     "output_type": "display_data"
    }
   ],
   "source": [
    "# A2 \n",
    "display(A2.eigenvals())\n",
    "display(Math(sp.latex(A2.eigenvects())))"
   ]
  },
  {
   "cell_type": "code",
   "execution_count": 48,
   "metadata": {},
   "outputs": [
    {
     "data": {
      "text/plain": [
       "[1, 2, 4, 8]"
      ]
     },
     "execution_count": 48,
     "metadata": {},
     "output_type": "execute_result"
    }
   ],
   "source": [
    "evlist = (e1, e2, e3 ,e4) = [np.array(c[0]).astype(complex) for (a, b, c) in A2.eigenvects()]\n",
    "eval2 = list(A2.eigenvals().keys())\n",
    "(eval2).reverse()\n",
    "eval2"
   ]
  },
  {
   "cell_type": "code",
   "execution_count": 68,
   "metadata": {},
   "outputs": [
    {
     "data": {
      "text/latex": [
       "$\\displaystyle \\left[\\begin{matrix}-1.0 & 1.0 & 1.0 & -1.0\\\\1.0 & -1.0 & 1.0 & -1.0\\\\1.0 & 1.0 & -1.0 & -1.0\\\\1.0 & 1.0 & 1.0 & 1.0\\end{matrix}\\right]$"
      ],
      "text/plain": [
       "<IPython.core.display.Math object>"
      ]
     },
     "metadata": {},
     "output_type": "display_data"
    },
    {
     "data": {
      "text/plain": [
       "[array([[1.0*exp(4.0*I) + 1.0*exp(1.0*I) + 1.0*exp(2.0*I) + 1.0*exp(8.0*I),\n",
       "         -1.0*exp(2.0*I) - 1.0*exp(1.0*I) + 1.0*exp(4.0*I) + 1.0*exp(8.0*I),\n",
       "         -1.0*exp(1.0*I) - 1.0*exp(4.0*I) + 1.0*exp(2.0*I) + 1.0*exp(8.0*I),\n",
       "         -1.0*exp(8.0*I) - 1.0*exp(1.0*I) + 1.0*exp(4.0*I) + 1.0*exp(2.0*I)],\n",
       "        [-1.0*exp(2.0*I) - 1.0*exp(1.0*I) + 1.0*exp(4.0*I) + 1.0*exp(8.0*I),\n",
       "         1.0*exp(4.0*I) + 1.0*exp(1.0*I) + 1.0*exp(2.0*I) + 1.0*exp(8.0*I),\n",
       "         -1.0*exp(2.0*I) - 1.0*exp(4.0*I) + 1.0*exp(1.0*I) + 1.0*exp(8.0*I),\n",
       "         -1.0*exp(8.0*I) - 1.0*exp(2.0*I) + 1.0*exp(4.0*I) + 1.0*exp(1.0*I)],\n",
       "        [-1.0*exp(1.0*I) - 1.0*exp(4.0*I) + 1.0*exp(2.0*I) + 1.0*exp(8.0*I),\n",
       "         -1.0*exp(2.0*I) - 1.0*exp(4.0*I) + 1.0*exp(1.0*I) + 1.0*exp(8.0*I),\n",
       "         1.0*exp(4.0*I) + 1.0*exp(1.0*I) + 1.0*exp(2.0*I) + 1.0*exp(8.0*I),\n",
       "         -1.0*exp(8.0*I) - 1.0*exp(4.0*I) + 1.0*exp(1.0*I) + 1.0*exp(2.0*I)],\n",
       "        [-1.0*exp(8.0*I) - 1.0*exp(1.0*I) + 1.0*exp(4.0*I) + 1.0*exp(2.0*I),\n",
       "         -1.0*exp(8.0*I) - 1.0*exp(2.0*I) + 1.0*exp(4.0*I) + 1.0*exp(1.0*I),\n",
       "         -1.0*exp(8.0*I) - 1.0*exp(4.0*I) + 1.0*exp(1.0*I) + 1.0*exp(2.0*I),\n",
       "         1.0*exp(4.0*I) + 1.0*exp(1.0*I) + 1.0*exp(2.0*I) + 1.0*exp(8.0*I)]],\n",
       "       dtype=object),\n",
       " array([[1.0*exp(4.0*I) + 1.0*exp(16.0*I) + 1.0*exp(2.0*I) + 1.0*exp(8.0*I),\n",
       "         -1.0*exp(2.0*I) + 1.0*exp(16.0*I) - 1.0*exp(4.0*I) + 1.0*exp(8.0*I),\n",
       "         -1.0*exp(8.0*I) - 1.0*exp(2.0*I) + 1.0*exp(4.0*I) + 1.0*exp(16.0*I),\n",
       "         -1.0*exp(2.0*I) + 1.0*exp(4.0*I) - 1.0*exp(16.0*I) + 1.0*exp(8.0*I)],\n",
       "        [-1.0*exp(2.0*I) + 1.0*exp(16.0*I) - 1.0*exp(4.0*I) + 1.0*exp(8.0*I),\n",
       "         1.0*exp(4.0*I) + 1.0*exp(16.0*I) + 1.0*exp(2.0*I) + 1.0*exp(8.0*I),\n",
       "         -1.0*exp(8.0*I) + 1.0*exp(16.0*I) - 1.0*exp(4.0*I) + 1.0*exp(2.0*I),\n",
       "         -1.0*exp(16.0*I) - 1.0*exp(4.0*I) + 1.0*exp(2.0*I) + 1.0*exp(8.0*I)],\n",
       "        [-1.0*exp(8.0*I) - 1.0*exp(2.0*I) + 1.0*exp(4.0*I) + 1.0*exp(16.0*I),\n",
       "         -1.0*exp(8.0*I) + 1.0*exp(16.0*I) - 1.0*exp(4.0*I) + 1.0*exp(2.0*I),\n",
       "         1.0*exp(4.0*I) + 1.0*exp(16.0*I) + 1.0*exp(2.0*I) + 1.0*exp(8.0*I),\n",
       "         -1.0*exp(8.0*I) + 1.0*exp(4.0*I) - 1.0*exp(16.0*I) + 1.0*exp(2.0*I)],\n",
       "        [-1.0*exp(2.0*I) + 1.0*exp(4.0*I) - 1.0*exp(16.0*I) + 1.0*exp(8.0*I),\n",
       "         -1.0*exp(16.0*I) - 1.0*exp(4.0*I) + 1.0*exp(2.0*I) + 1.0*exp(8.0*I),\n",
       "         -1.0*exp(8.0*I) + 1.0*exp(4.0*I) - 1.0*exp(16.0*I) + 1.0*exp(2.0*I),\n",
       "         1.0*exp(4.0*I) + 1.0*exp(16.0*I) + 1.0*exp(2.0*I) + 1.0*exp(8.0*I)]],\n",
       "       dtype=object),\n",
       " array([[1.0*exp(4.0*I) + 1.0*exp(16.0*I) + 1.0*exp(32.0*I) + 1.0*exp(8.0*I),\n",
       "         -1.0*exp(8.0*I) + 1.0*exp(16.0*I) + 1.0*exp(32.0*I) - 1.0*exp(4.0*I),\n",
       "         -1.0*exp(16.0*I) + 1.0*exp(32.0*I) - 1.0*exp(4.0*I) + 1.0*exp(8.0*I),\n",
       "         -1.0*exp(32.0*I) + 1.0*exp(16.0*I) - 1.0*exp(4.0*I) + 1.0*exp(8.0*I)],\n",
       "        [-1.0*exp(8.0*I) + 1.0*exp(16.0*I) + 1.0*exp(32.0*I) - 1.0*exp(4.0*I),\n",
       "         1.0*exp(4.0*I) + 1.0*exp(16.0*I) + 1.0*exp(32.0*I) + 1.0*exp(8.0*I),\n",
       "         -1.0*exp(8.0*I) + 1.0*exp(4.0*I) - 1.0*exp(16.0*I) + 1.0*exp(32.0*I),\n",
       "         -1.0*exp(8.0*I) + 1.0*exp(4.0*I) - 1.0*exp(32.0*I) + 1.0*exp(16.0*I)],\n",
       "        [-1.0*exp(16.0*I) + 1.0*exp(32.0*I) - 1.0*exp(4.0*I) + 1.0*exp(8.0*I),\n",
       "         -1.0*exp(8.0*I) + 1.0*exp(4.0*I) - 1.0*exp(16.0*I) + 1.0*exp(32.0*I),\n",
       "         1.0*exp(4.0*I) + 1.0*exp(16.0*I) + 1.0*exp(32.0*I) + 1.0*exp(8.0*I),\n",
       "         1.0*exp(4.0*I) - 1.0*exp(32.0*I) - 1.0*exp(16.0*I) + 1.0*exp(8.0*I)],\n",
       "        [-1.0*exp(32.0*I) + 1.0*exp(16.0*I) - 1.0*exp(4.0*I) + 1.0*exp(8.0*I),\n",
       "         -1.0*exp(8.0*I) + 1.0*exp(4.0*I) - 1.0*exp(32.0*I) + 1.0*exp(16.0*I),\n",
       "         1.0*exp(4.0*I) - 1.0*exp(32.0*I) - 1.0*exp(16.0*I) + 1.0*exp(8.0*I),\n",
       "         1.0*exp(4.0*I) + 1.0*exp(16.0*I) + 1.0*exp(32.0*I) + 1.0*exp(8.0*I)]],\n",
       "       dtype=object),\n",
       " array([[1.0*exp(16.0*I) + 1.0*exp(32.0*I) + 1.0*exp(64.0*I) + 1.0*exp(8.0*I),\n",
       "         -1.0*exp(8.0*I) - 1.0*exp(16.0*I) + 1.0*exp(32.0*I) + 1.0*exp(64.0*I),\n",
       "         -1.0*exp(8.0*I) - 1.0*exp(32.0*I) + 1.0*exp(16.0*I) + 1.0*exp(64.0*I),\n",
       "         -1.0*exp(8.0*I) - 1.0*exp(64.0*I) + 1.0*exp(16.0*I) + 1.0*exp(32.0*I)],\n",
       "        [-1.0*exp(8.0*I) - 1.0*exp(16.0*I) + 1.0*exp(32.0*I) + 1.0*exp(64.0*I),\n",
       "         1.0*exp(16.0*I) + 1.0*exp(32.0*I) + 1.0*exp(64.0*I) + 1.0*exp(8.0*I),\n",
       "         -1.0*exp(32.0*I) - 1.0*exp(16.0*I) + 1.0*exp(64.0*I) + 1.0*exp(8.0*I),\n",
       "         -1.0*exp(64.0*I) - 1.0*exp(16.0*I) + 1.0*exp(32.0*I) + 1.0*exp(8.0*I)],\n",
       "        [-1.0*exp(8.0*I) - 1.0*exp(32.0*I) + 1.0*exp(16.0*I) + 1.0*exp(64.0*I),\n",
       "         -1.0*exp(32.0*I) - 1.0*exp(16.0*I) + 1.0*exp(64.0*I) + 1.0*exp(8.0*I),\n",
       "         1.0*exp(16.0*I) + 1.0*exp(32.0*I) + 1.0*exp(64.0*I) + 1.0*exp(8.0*I),\n",
       "         -1.0*exp(64.0*I) - 1.0*exp(32.0*I) + 1.0*exp(16.0*I) + 1.0*exp(8.0*I)],\n",
       "        [-1.0*exp(8.0*I) - 1.0*exp(64.0*I) + 1.0*exp(16.0*I) + 1.0*exp(32.0*I),\n",
       "         -1.0*exp(64.0*I) - 1.0*exp(16.0*I) + 1.0*exp(32.0*I) + 1.0*exp(8.0*I),\n",
       "         -1.0*exp(64.0*I) - 1.0*exp(32.0*I) + 1.0*exp(16.0*I) + 1.0*exp(8.0*I),\n",
       "         1.0*exp(16.0*I) + 1.0*exp(32.0*I) + 1.0*exp(64.0*I) + 1.0*exp(8.0*I)]],\n",
       "       dtype=object)]"
      ]
     },
     "execution_count": 68,
     "metadata": {},
     "output_type": "execute_result"
    }
   ],
   "source": [
    "V = sp.Matrix(np.hstack(evlist))\n",
    "Vt = V.C.T\n",
    "display(Math(sp.latex(V)))\n",
    "U2s = []\n",
    "for j in range(0, 4):\n",
    "    U2 = sp.Matrix(sp.eye(4))\n",
    "    for i in range(0,4):\n",
    "        U2[i, i]=(int(2**j))*eval2[i] \n",
    "    U2 = sp.exp(complex(0,1)*U2)\n",
    "    U2s.append(np.array(V@U2@Vt))\n",
    "U2s"
   ]
  },
  {
   "cell_type": "markdown",
   "metadata": {},
   "source": [
    "## System configuration"
   ]
  },
  {
   "cell_type": "markdown",
   "metadata": {},
   "source": [
    "Eigenvalues and eigenvectos of each systems\n",
    "\n",
    "* $\\{\\lambda _i\\}_{A_1} = \\{ \\frac{2}{3}, \\frac{4}{3}\\}$\n",
    "* $\\{\\lambda _i\\}_{A_2} = \\{ \\frac{1}{4}, \\frac{2}{4}, \\frac{4}{4}, \\frac{8}{4}\\}$\n",
    "\n",
    "then, the desired scaled eigenvalues and the scale factors are \n",
    "\n",
    "$$\\tilde{\\lambda} = N \\frac{\\lambda }{2 \\pi} t $$\n",
    "\n",
    "* $\\{\\tilde{\\lambda}_i\\}_{A_1} = \\{ 1, 2\\}$\n",
    "* $\\{\\tilde{\\lambda}_i\\}_{A_2} = \\{ 1, 2, 4, 8\\}$\n",
    "* $t_1 = \\frac{3}{4} \\pi $\n",
    "* $t_2 = \\frac{1}{2} \\pi $\n"
   ]
  },
  {
   "cell_type": "code",
   "execution_count": 153,
   "metadata": {},
   "outputs": [],
   "source": [
    "t1 = 3/4 * np.pi\n",
    "t2 = 1/2 * np.pi"
   ]
  },
  {
   "cell_type": "markdown",
   "metadata": {},
   "source": [
    "### Implementation of HHL algorithm"
   ]
  },
  {
   "cell_type": "markdown",
   "metadata": {},
   "source": [
    "Major steps of HHL algorithm\n",
    "\n",
    "3 registers required: ancilla, main-register, b-register.\n",
    "\n",
    "1. State preparation: Encoding $|b\\rangle$ vector to the register, amplitude encoding(b).\n",
    "2. Quantum Phase estimation(main, b).\n",
    "3. Ancilla bit rotation(main, ancilla).\n",
    "4. Inverse Quantum Phase estimation(main, b).\n",
    "5. Measurement."
   ]
  },
  {
   "cell_type": "markdown",
   "metadata": {},
   "source": [
    "### Decomposition of Pauli matrix "
   ]
  },
  {
   "cell_type": "markdown",
   "metadata": {},
   "source": [
    "In the HHL algorithm there is a evolution circuit $U = \\exp(i H t)$ gate of the given $A$ matrix.\n",
    "Unfortunately, to implment on the gate, we have to encode the given hamiltonian as summation of \n",
    "unitary and hermit matrices. That means we needs a Pauli-polynomial of the given matrix."
   ]
  },
  {
   "cell_type": "code",
   "execution_count": 127,
   "metadata": {},
   "outputs": [],
   "source": [
    "import numpy as np\n",
    "from itertools import combinations, combinations_with_replacement as re_combi, product\n",
    "from functools import reduce\n",
    "\n",
    "I = np.eye(2)\n",
    "X = np.array([[0, 1], [1, 0]])\n",
    "Y = complex(0, 1)*np.array([[0, -1], [1, 0]])\n",
    "Z = np.array([[1, 0], [0, -1]])"
   ]
  },
  {
   "cell_type": "code",
   "execution_count": 128,
   "metadata": {},
   "outputs": [],
   "source": [
    "def krons(oper_list): # Operator Kronecker delta\n",
    "    return reduce(np.kron, oper_list)\n",
    "def get_pauli_xz_family_n_qubit(n, fam=\"Z\"):\n",
    "    G = Z if fam==\"Z\" else X\n",
    "    return list(map(krons, product([I, G], repeat=int(n)))), list(map(lambda x: \"\".join(x), product(f\"I{fam}\", repeat=int(n))))\n",
    "def get_pauli_familiy(n):\n",
    "    p_xs, p_xs_str = get_pauli_xz_family_n_qubit(n, fam=\"X\")\n",
    "    p_zs, p_zs_str = get_pauli_xz_family_n_qubit(n, fam=\"Z\")\n",
    "\n",
    "    p_g = []\n",
    "    p_g_str =[]\n",
    "    for x_i, x_str in zip(p_xs, p_xs_str):\n",
    "        for z_j, z_str in zip(p_zs, p_zs_str):\n",
    "            g = x_i@z_j\n",
    "    \n",
    "            g_coef, g_str = get_coef(x_str, z_str)\n",
    "    \n",
    "            p_g.append(g_coef*g)\n",
    "            p_g_str.append(g_str)\n",
    "    return p_g, p_g_str    \n",
    "def get_coef(x_str, z_str):\n",
    "    n = len(x_str)\n",
    "    x_str = x_str.replace(\"X\", \"1\")\n",
    "    x_str = x_str.replace(\"I\", \"0\")\n",
    "    z_str = z_str.replace(\"Z\", \"1\")\n",
    "    z_str = z_str.replace(\"I\", \"0\")\n",
    "    \n",
    "    x_int = int(x_str, 2)\n",
    "    z_int = int(z_str, 2)\n",
    "    \n",
    "    y_pos = format(x_int&z_int, f\"0{n}b\")\n",
    "    z_pos = format((x_int|z_int) - x_int, f\"0{n}b\")\n",
    "    x_pos = format((x_int|z_int) - z_int, f\"0{n}b\")\n",
    "\n",
    "    g_str = []\n",
    "    for x,y,z in zip(x_pos, y_pos, z_pos):\n",
    "        if x==y and y==z:\n",
    "            g_str.append(\"I\")\n",
    "        elif x== \"1\":\n",
    "            g_str.append(\"X\")\n",
    "        elif y == \"1\":\n",
    "            g_str.append(\"Y\")\n",
    "        else:\n",
    "            g_str.append(\"Z\")\n",
    "    return complex(0,1)**y_pos.count(\"1\"), \"\".join(g_str)\n",
    "    \n",
    "def frobenius_inner(A, B):\n",
    "    n, n2 = A.shape\n",
    "    return np.trace((A.conj().T)@B)/(n)\n",
    "\n",
    "def get_pauli_coefficient(A):\n",
    "    k, k2 = A.shape\n",
    "    n = int(np.log2(k))\n",
    "    p_fam, p_str = get_pauli_familiy(n)\n",
    "    \n",
    "    coef = {}\n",
    "    for p_m, p_m_str in zip(p_fam, p_str):\n",
    "        coef[p_m_str] = frobenius_inner(p_m, A)\n",
    "    return coef"
   ]
  },
  {
   "cell_type": "code",
   "execution_count": 129,
   "metadata": {},
   "outputs": [],
   "source": [
    "coef_A1 = get_pauli_coefficient(A1_np)\n",
    "coef_A2 = get_pauli_coefficient(A2_np)"
   ]
  },
  {
   "cell_type": "code",
   "execution_count": 130,
   "metadata": {},
   "outputs": [
    {
     "data": {
      "text/plain": [
       "{'I': (1+0j), 'Z': 0j, 'X': (-0.3333333333333333+0j), 'Y': 0j}"
      ]
     },
     "execution_count": 130,
     "metadata": {},
     "output_type": "execute_result"
    }
   ],
   "source": [
    "coef_A1"
   ]
  },
  {
   "cell_type": "code",
   "execution_count": 131,
   "metadata": {},
   "outputs": [
    {
     "data": {
      "text/plain": [
       "{'II': (3.75+0j),\n",
       " 'IZ': 0j,\n",
       " 'ZI': 0j,\n",
       " 'ZZ': 0j,\n",
       " 'IX': 0j,\n",
       " 'IY': 0j,\n",
       " 'ZX': (2.25+0j),\n",
       " 'ZY': 0j,\n",
       " 'XI': 0j,\n",
       " 'XZ': (1.25+0j),\n",
       " 'YI': 0j,\n",
       " 'YZ': 0j,\n",
       " 'XX': 0j,\n",
       " 'XY': 0j,\n",
       " 'YX': 0j,\n",
       " 'YY': (0.75+0j)}"
      ]
     },
     "execution_count": 131,
     "metadata": {},
     "output_type": "execute_result"
    }
   ],
   "source": [
    "coef_A2"
   ]
  },
  {
   "cell_type": "markdown",
   "metadata": {},
   "source": [
    "The $A_1$ and $A_2$ become\n",
    "\n",
    "$$A_1 = I - \\frac{1}{3}X$$\n",
    "$$A_2 = 3.75 II + 1.25 XZ + 2.25 ZX + 0.75 YY$$\n",
    "\n",
    "About the commuting relationship, $A_1$ components are tirvially commuting each other.\n",
    "For $A_2$ elements, we can use a method suggested by Chapuis et al (2018).\n",
    "\n",
    "**Theorem**: For two pauli strings, there are X, Z family decomposition such as $P_1 = x_1 * z_1$ and $P_2 = x_2 * z_2$. \n",
    "The given Pauli strings are commuting if and only if $[x_1, z_2]$ and $[x_2, z_1]$ are either commute or anti-commute.\n",
    "\n",
    "Now see below,\n",
    "\n",
    "<center>\n",
    "\n",
    "|Element|X-family|Z_family|\n",
    "|:---:|:---:|:---:|\n",
    "|XZ|XI|IZ|\n",
    "|ZX|IX|ZI|\n",
    "|YY|XX|ZZ|\n",
    "\n",
    "</center>\n",
    "\n",
    "All of them are anticommute, in cross line elements of X, Z family columns.\n",
    "Therefore, we don't have to worry about the anticommute relationship on implementation."
   ]
  },
  {
   "cell_type": "code",
   "execution_count": 168,
   "metadata": {},
   "outputs": [
    {
     "data": {
      "text/plain": [
       "array([[-0.5+0.5j, -0.5-0.5j],\n",
       "       [-0.5-0.5j, -0.5+0.5j]])"
      ]
     },
     "execution_count": 168,
     "metadata": {},
     "output_type": "execute_result"
    }
   ],
   "source": [
    "# U1\n",
    "I =sp.eye(2)\n",
    "X = sp.Matrix([[0,1] ,[1,0] ])\n",
    "ai = 1*t1\n",
    "ax = sp.Number(1/3)*t1\n",
    "U1 = np.array(sp.exp(complex(0,1) * ai * I) @ sp.exp(complex(0,1) * ax * X)).astype(complex)\n",
    "U1_inv = np.linalg.inv(U1)\n",
    "U1"
   ]
  },
  {
   "cell_type": "code",
   "execution_count": 169,
   "metadata": {},
   "outputs": [],
   "source": [
    "U1_1 = U1\n",
    "U1_2 = U1@U1\n",
    "U1_1_inv = U1_inv\n",
    "U1_2_inv = U1_inv@U1_inv"
   ]
  },
  {
   "cell_type": "code",
   "execution_count": 170,
   "metadata": {},
   "outputs": [
    {
     "data": {
      "text/plain": [
       "array([[ 0.25+0.25j,  0.75-0.25j, -0.25-0.25j, -0.25-0.25j],\n",
       "       [ 0.75-0.25j,  0.25+0.25j,  0.25+0.25j,  0.25+0.25j],\n",
       "       [-0.25-0.25j,  0.25+0.25j,  0.25+0.25j, -0.75+0.25j],\n",
       "       [-0.25-0.25j,  0.25+0.25j, -0.75+0.25j,  0.25+0.25j]])"
      ]
     },
     "execution_count": 170,
     "metadata": {},
     "output_type": "execute_result"
    }
   ],
   "source": [
    "# U2\n",
    "II = sp.kronecker_product(sp.eye(2), sp.eye(2))\n",
    "XZ = sp.kronecker_product(sp.Matrix(X), sp.Matrix(Z))\n",
    "ZX = sp.kronecker_product(sp.Matrix(Z), sp.Matrix(X))\n",
    "YY = sp.kronecker_product(sp.Matrix(Y), sp.Matrix(Y))\n",
    "aii = 3.75*t2\n",
    "axz = 1.25*t2\n",
    "azx = 2.25*t2\n",
    "ayy = 0.75*t2\n",
    "U2 = np.array(sp.exp(complex(0,1) * aii * II) @ sp.exp(complex(0,1) * azx * ZX) @ sp.exp(complex(0,1) * axz * XZ) @sp.exp(complex(0,1) * ayy * YY)).astype(complex)\n",
    "U2_inv = np.linalg.inv(U2)\n",
    "U2"
   ]
  },
  {
   "cell_type": "code",
   "execution_count": 171,
   "metadata": {},
   "outputs": [],
   "source": [
    "U2_1 = U2\n",
    "U2_2 = U2@U2\n",
    "U2_3 = U2@U2_2\n",
    "U2_4 = U2_2@U2_2\n",
    "U2_1_inv = U2_inv\n",
    "U2_2_inv = U2_inv@U2_inv\n",
    "U2_3_inv = U2_inv@U2_2_inv\n",
    "U2_4_inv = U2_2_inv@U2_2_inv"
   ]
  },
  {
   "cell_type": "markdown",
   "metadata": {},
   "source": [
    "---"
   ]
  },
  {
   "cell_type": "code",
   "execution_count": 207,
   "metadata": {},
   "outputs": [],
   "source": [
    "from qiskit import QuantumCircuit, QuantumRegister, ClassicalRegister\n",
    "from qiskit.circuit.library import QFT\n",
    "from qiskit import QuantumCircuit, Aer, execute\n",
    "from qiskit.quantum_info import partial_trace, Operator\n",
    "from qiskit.visualization import plot_histogram\n",
    "#from qiskit.quantum_info.operators import Operator\n",
    "from qiskit.extensions import UnitaryGate"
   ]
  },
  {
   "cell_type": "code",
   "execution_count": 158,
   "metadata": {},
   "outputs": [],
   "source": [
    "y_theta1 = [np.pi, np.pi/3]\n",
    "y_theta2 = [2*np.arcsin(1/(2**i)) for i in range(0,4)]"
   ]
  },
  {
   "cell_type": "markdown",
   "metadata": {},
   "source": [
    "## Problem 1"
   ]
  },
  {
   "cell_type": "code",
   "execution_count": 210,
   "metadata": {},
   "outputs": [],
   "source": [
    "from qiskit.extensions import UnitaryGate"
   ]
  },
  {
   "cell_type": "code",
   "execution_count": 234,
   "metadata": {},
   "outputs": [],
   "source": [
    "cu11     = UnitaryGate(U1_1, label=\"U11\").control()\n",
    "cu12     = UnitaryGate(U1_2, label=\"U12\").control()\n",
    "cu11_inv = UnitaryGate(U1_1_inv, label=\"U11_inv\").control()\n",
    "cu12_inv = UnitaryGate(U1_2_inv, label=\"U12_inv\").control()"
   ]
  },
  {
   "cell_type": "code",
   "execution_count": 228,
   "metadata": {},
   "outputs": [],
   "source": [
    "num_ancilla_register = 1\n",
    "num_clock_register = 2\n",
    "num_vector_register = 1"
   ]
  },
  {
   "cell_type": "code",
   "execution_count": 236,
   "metadata": {},
   "outputs": [],
   "source": [
    "qr_ancilla = QuantumRegister(num_ancilla_register, name=\"ancilla\")\n",
    "qr_clock = QuantumRegister(num_clock_register, name=\"clock\")\n",
    "qr_vector = QuantumRegister(num_vector_register, name=\"vector\")\n",
    "cr = ClassicalRegister(2, name = \"classic\")"
   ]
  },
  {
   "cell_type": "code",
   "execution_count": 237,
   "metadata": {},
   "outputs": [],
   "source": [
    "qc = QuantumCircuit(qr_ancilla, qr_clock, qr_vector, cr, name=\"HHL\")"
   ]
  },
  {
   "cell_type": "code",
   "execution_count": 238,
   "metadata": {},
   "outputs": [
    {
     "data": {
      "text/plain": [
       "<qiskit.circuit.instructionset.InstructionSet at 0x2b096025480>"
      ]
     },
     "execution_count": 238,
     "metadata": {},
     "output_type": "execute_result"
    }
   ],
   "source": [
    "qc.x(qr_vector)\n",
    "qc.barrier() # QPE initiate\n",
    "qc.h(qr_clock[:])\n",
    "\n",
    "qc.append(cu11, [qr_clock[0],  qr_vector[0]])\n",
    "qc.append(cu12, [qr_clock[1],  qr_vector[0]])\n",
    "qc.append(QFT(2).inverse(), qr_clock[:])\n",
    "\n",
    "for i, angle in zip(range(0, len(qr_clock)), y_theta1):\n",
    "    qc.cry(angle, qr_clock[i], qr_ancilla)\n",
    "\n",
    "qc.measure(qr_ancilla, cr[0])\n",
    "\n",
    "qc.append(QFT(2), qr_clock[:])\n",
    "\n",
    "qc.append(cu12_inv, [qr_clock[1],  qr_vector[0]])\n",
    "qc.append(cu11_inv, [qr_clock[0],  qr_vector[0]])\n",
    "\n",
    "qc.h(qr_clock[:])\n",
    "qc.barrier()"
   ]
  },
  {
   "cell_type": "code",
   "execution_count": 239,
   "metadata": {},
   "outputs": [
    {
     "data": {
      "text/plain": [
       "<qiskit.circuit.instructionset.InstructionSet at 0x2b095f82c80>"
      ]
     },
     "execution_count": 239,
     "metadata": {},
     "output_type": "execute_result"
    }
   ],
   "source": [
    "qc.measure(qr_ancilla, cr[0])\n",
    "qc.measure(qr_vector , cr[1])"
   ]
  },
  {
   "cell_type": "code",
   "execution_count": 240,
   "metadata": {},
   "outputs": [
    {
     "data": {
      "text/html": [
       "<pre style=\"word-wrap: normal;white-space: pre;background: #fff0;line-height: 1.1;font-family: &quot;Courier New&quot;,Courier,monospace\">                 ░                             ┌───────┐┌─────────┐┌─┐        »\n",
       "  ancilla: ──────░─────────────────────────────┤ Ry(π) ├┤ Ry(π/3) ├┤M├────────»\n",
       "                 ░ ┌───┐              ┌───────┐└───┬───┘└────┬────┘└╥┘┌──────┐»\n",
       "  clock_0: ──────░─┤ H ├───■──────────┤0      ├────■─────────┼──────╫─┤0     ├»\n",
       "                 ░ ├───┤   │          │  IQFT │              │      ║ │  QFT │»\n",
       "  clock_1: ──────░─┤ H ├───┼──────■───┤1      ├──────────────■──────╫─┤1     ├»\n",
       "           ┌───┐ ░ └───┘┌──┴──┐┌──┴──┐└───────┘                     ║ └──────┘»\n",
       "   vector: ┤ X ├─░──────┤ U11 ├┤ U12 ├──────────────────────────────╫─────────»\n",
       "           └───┘ ░      └─────┘└─────┘                              ║         »\n",
       "classic: 2/═════════════════════════════════════════════════════════╩═════════»\n",
       "                                                                    0         »\n",
       "«                                       ░ ┌─┐   \n",
       "«  ancilla: ────────────────────────────░─┤M├───\n",
       "«                                 ┌───┐ ░ └╥┘   \n",
       "«  clock_0: ────────────────■─────┤ H ├─░──╫────\n",
       "«                           │     ├───┤ ░  ║    \n",
       "«  clock_1: ─────■──────────┼─────┤ H ├─░──╫────\n",
       "«           ┌────┴────┐┌────┴────┐└───┘ ░  ║ ┌─┐\n",
       "«   vector: ┤ U12_inv ├┤ U11_inv ├──────░──╫─┤M├\n",
       "«           └─────────┘└─────────┘      ░  ║ └╥┘\n",
       "«classic: 2/═══════════════════════════════╩══╩═\n",
       "«                                          0  1 </pre>"
      ],
      "text/plain": [
       "                 ░                             ┌───────┐┌─────────┐┌─┐        »\n",
       "  ancilla: ──────░─────────────────────────────┤ Ry(π) ├┤ Ry(π/3) ├┤M├────────»\n",
       "                 ░ ┌───┐              ┌───────┐└───┬───┘└────┬────┘└╥┘┌──────┐»\n",
       "  clock_0: ──────░─┤ H ├───■──────────┤0      ├────■─────────┼──────╫─┤0     ├»\n",
       "                 ░ ├───┤   │          │  IQFT │              │      ║ │  QFT │»\n",
       "  clock_1: ──────░─┤ H ├───┼──────■───┤1      ├──────────────■──────╫─┤1     ├»\n",
       "           ┌───┐ ░ └───┘┌──┴──┐┌──┴──┐└───────┘                     ║ └──────┘»\n",
       "   vector: ┤ X ├─░──────┤ U11 ├┤ U12 ├──────────────────────────────╫─────────»\n",
       "           └───┘ ░      └─────┘└─────┘                              ║         »\n",
       "classic: 2/═════════════════════════════════════════════════════════╩═════════»\n",
       "                                                                    0         »\n",
       "«                                       ░ ┌─┐   \n",
       "«  ancilla: ────────────────────────────░─┤M├───\n",
       "«                                 ┌───┐ ░ └╥┘   \n",
       "«  clock_0: ────────────────■─────┤ H ├─░──╫────\n",
       "«                           │     ├───┤ ░  ║    \n",
       "«  clock_1: ─────■──────────┼─────┤ H ├─░──╫────\n",
       "«           ┌────┴────┐┌────┴────┐└───┘ ░  ║ ┌─┐\n",
       "«   vector: ┤ U12_inv ├┤ U11_inv ├──────░──╫─┤M├\n",
       "«           └─────────┘└─────────┘      ░  ║ └╥┘\n",
       "«classic: 2/═══════════════════════════════╩══╩═\n",
       "«                                          0  1 "
      ]
     },
     "execution_count": 240,
     "metadata": {},
     "output_type": "execute_result"
    }
   ],
   "source": [
    "qc.draw()"
   ]
  },
  {
   "cell_type": "code",
   "execution_count": 308,
   "metadata": {},
   "outputs": [],
   "source": [
    "simulator = Aer.get_backend('qasm_simulator', shots=10000)\n"
   ]
  },
  {
   "cell_type": "code",
   "execution_count": 318,
   "metadata": {},
   "outputs": [],
   "source": [
    "result = execute(qc, simulator, shots=10000).result()\n",
    "counts = result.get_counts(qc)"
   ]
  },
  {
   "cell_type": "code",
   "execution_count": 319,
   "metadata": {},
   "outputs": [
    {
     "data": {
      "image/png": "[encoded data removed]",
      "text/plain": [
       "<Figure size 700x500 with 1 Axes>"
      ]
     },
     "execution_count": 319,
     "metadata": {},
     "output_type": "execute_result"
    }
   ],
   "source": [
    "plot_histogram(counts)"
   ]
  },
  {
   "cell_type": "code",
   "execution_count": 320,
   "metadata": {},
   "outputs": [
    {
     "data": {
      "text/plain": [
       "{'00': 1923, '11': 5579, '10': 1902, '01': 596}"
      ]
     },
     "execution_count": 320,
     "metadata": {},
     "output_type": "execute_result"
    }
   ],
   "source": [
    "counts"
   ]
  },
  {
   "cell_type": "code",
   "execution_count": 322,
   "metadata": {},
   "outputs": [
    {
     "data": {
      "text/plain": [
       "9.360738255033556"
      ]
     },
     "execution_count": 322,
     "metadata": {},
     "output_type": "execute_result"
    }
   ],
   "source": [
    "counts[\"11\"]/counts[\"01\"] # The [1, 9] amplitude is achieved."
   ]
  },
  {
   "cell_type": "markdown",
   "metadata": {},
   "source": [
    "## Problem 2"
   ]
  },
  {
   "cell_type": "code",
   "execution_count": 296,
   "metadata": {},
   "outputs": [],
   "source": [
    "cu21     = UnitaryGate(U2_1, label=\"U21\").control()\n",
    "cu22     = UnitaryGate(U2_2, label=\"U22\").control()\n",
    "cu23     = UnitaryGate(U2_3, label=\"U23\").control()\n",
    "cu24     = UnitaryGate(U2_4, label=\"U24\").control()\n",
    "cu21_inv = UnitaryGate(U2_1_inv, label=\"U21_inv\").control()\n",
    "cu22_inv = UnitaryGate(U2_2_inv, label=\"U22_inv\").control()\n",
    "cu23_inv = UnitaryGate(U2_3_inv, label=\"U23_inv\").control()\n",
    "cu24_inv = UnitaryGate(U2_4_inv, label=\"U24_inv\").control()"
   ]
  },
  {
   "cell_type": "code",
   "execution_count": 297,
   "metadata": {},
   "outputs": [],
   "source": [
    "num_ancilla_register = 1\n",
    "num_clock_register = 4\n",
    "num_vector_register = 2"
   ]
  },
  {
   "cell_type": "code",
   "execution_count": 298,
   "metadata": {},
   "outputs": [],
   "source": [
    "qr_ancilla2 = QuantumRegister(num_ancilla_register, name=\"ancilla\")\n",
    "qr_clock2 = QuantumRegister(num_clock_register, name=\"clock\")\n",
    "qr_vector2 = QuantumRegister(num_vector_register, name=\"vector\")\n",
    "cr2 = ClassicalRegister(3, name = \"classic\")"
   ]
  },
  {
   "cell_type": "code",
   "execution_count": 299,
   "metadata": {},
   "outputs": [],
   "source": [
    "qc2 = QuantumCircuit(qr_ancilla2, qr_clock2, qr_vector2, cr2, name=\"HHL_2\")"
   ]
  },
  {
   "cell_type": "code",
   "execution_count": 300,
   "metadata": {},
   "outputs": [
    {
     "data": {
      "text/plain": [
       "<qiskit.circuit.instructionset.InstructionSet at 0x2b0965a8fa0>"
      ]
     },
     "execution_count": 300,
     "metadata": {},
     "output_type": "execute_result"
    }
   ],
   "source": [
    "qc2.h(qr_vector2) # Initiate b vector\n",
    "\n",
    "qc2.barrier() # QPE initiate\n",
    "qc2.h(qr_clock2)\n",
    "\n",
    "qc2.append(cu21, [qr_clock2[0],  qr_vector2[0], qr_vector2[1]])\n",
    "qc2.append(cu22, [qr_clock2[1],  qr_vector2[0], qr_vector2[1]])\n",
    "qc2.append(cu23, [qr_clock2[2],  qr_vector2[0], qr_vector2[1]])\n",
    "qc2.append(cu24, [qr_clock2[3],  qr_vector2[0], qr_vector2[1]])\n",
    "\n",
    "qc2.append(QFT(4).inverse(), qr_clock2[:])\n",
    "qc2.barrier()\n",
    "for i, angle in zip(range(0, len(qr_clock2)), y_theta2):\n",
    "    qc2.cry(angle, qr_clock2[i], qr_ancilla2)\n",
    "\n",
    "qc2.measure(qr_ancilla2, cr2[0])\n",
    "qc2.barrier()\n",
    "qc2.append(QFT(4), qr_clock2[:])\n",
    "\n",
    "qc2.append(cu24_inv, [qr_clock2[3],  qr_vector2[0], qr_vector2[1]])\n",
    "qc2.append(cu23_inv, [qr_clock2[2],  qr_vector2[0], qr_vector2[1]])\n",
    "qc2.append(cu22_inv, [qr_clock2[1],  qr_vector2[0], qr_vector2[1]])\n",
    "qc2.append(cu21_inv, [qr_clock2[0],  qr_vector2[0], qr_vector2[1]])\n",
    "qc2.barrier()\n",
    "qc2.h(qr_clock2[:])\n",
    "qc2.barrier()"
   ]
  },
  {
   "cell_type": "code",
   "execution_count": 301,
   "metadata": {},
   "outputs": [
    {
     "data": {
      "text/plain": [
       "<qiskit.circuit.instructionset.InstructionSet at 0x2b096d6b4c0>"
      ]
     },
     "execution_count": 301,
     "metadata": {},
     "output_type": "execute_result"
    }
   ],
   "source": [
    "qc2.measure(qr_ancilla2, cr2[0])\n",
    "qc2.measure(qr_vector2[0], cr2[1])\n",
    "qc2.measure(qr_vector2[1], cr2[2])"
   ]
  },
  {
   "cell_type": "code",
   "execution_count": 302,
   "metadata": {},
   "outputs": [
    {
     "data": {
      "text/html": [
       "<pre style=\"word-wrap: normal;white-space: pre;background: #fff0;line-height: 1.1;font-family: &quot;Courier New&quot;,Courier,monospace\">                 ░                                                ░ ┌───────┐»\n",
       "  ancilla: ──────░────────────────────────────────────────────────░─┤ Ry(π) ├»\n",
       "                 ░ ┌───┐                                ┌───────┐ ░ └───┬───┘»\n",
       "  clock_0: ──────░─┤ H ├───■────────────────────────────┤0      ├─░─────■────»\n",
       "                 ░ ├───┤   │                            │       │ ░          »\n",
       "  clock_1: ──────░─┤ H ├───┼───────■────────────────────┤1      ├─░──────────»\n",
       "                 ░ ├───┤   │       │                    │  IQFT │ ░          »\n",
       "  clock_2: ──────░─┤ H ├───┼───────┼───────■────────────┤2      ├─░──────────»\n",
       "                 ░ ├───┤   │       │       │            │       │ ░          »\n",
       "  clock_3: ──────░─┤ H ├───┼───────┼───────┼───────■────┤3      ├─░──────────»\n",
       "           ┌───┐ ░ └───┘┌──┴───┐┌──┴───┐┌──┴───┐┌──┴───┐└───────┘ ░          »\n",
       " vector_0: ┤ H ├─░──────┤0     ├┤0     ├┤0     ├┤0     ├──────────░──────────»\n",
       "           ├───┤ ░      │  U21 ││  U22 ││  U23 ││  U24 │          ░          »\n",
       " vector_1: ┤ H ├─░──────┤1     ├┤1     ├┤1     ├┤1     ├──────────░──────────»\n",
       "           └───┘ ░      └──────┘└──────┘└──────┘└──────┘          ░          »\n",
       "classic: 3/══════════════════════════════════════════════════════════════════»\n",
       "                                                                             »\n",
       "«           ┌─────────┐┌─────────────┐┌─────────────┐┌─┐ ░                     »\n",
       "«  ancilla: ┤ Ry(π/3) ├┤ Ry(0.50536) ├┤ Ry(0.25066) ├┤M├─░─────────────────────»\n",
       "«           └────┬────┘└──────┬──────┘└──────┬──────┘└╥┘ ░ ┌──────┐            »\n",
       "«  clock_0: ─────┼────────────┼──────────────┼────────╫──░─┤0     ├────────────»\n",
       "«                │            │              │        ║  ░ │      │            »\n",
       "«  clock_1: ─────■────────────┼──────────────┼────────╫──░─┤1     ├────────────»\n",
       "«                             │              │        ║  ░ │  QFT │            »\n",
       "«  clock_2: ──────────────────■──────────────┼────────╫──░─┤2     ├────────────»\n",
       "«                                            │        ║  ░ │      │            »\n",
       "«  clock_3: ─────────────────────────────────■────────╫──░─┤3     ├─────■──────»\n",
       "«                                                     ║  ░ └──────┘┌────┴─────┐»\n",
       "« vector_0: ──────────────────────────────────────────╫──░─────────┤0         ├»\n",
       "«                                                     ║  ░         │  U24_inv │»\n",
       "« vector_1: ──────────────────────────────────────────╫──░─────────┤1         ├»\n",
       "«                                                     ║  ░         └──────────┘»\n",
       "«classic: 3/══════════════════════════════════════════╩════════════════════════»\n",
       "«                                                     0                        »\n",
       "«                                                ░       ░ ┌─┐      \n",
       "«  ancilla: ─────────────────────────────────────░───────░─┤M├──────\n",
       "«                                                ░ ┌───┐ ░ └╥┘      \n",
       "«  clock_0: ─────────────────────────────■───────░─┤ H ├─░──╫───────\n",
       "«                                        │       ░ ├───┤ ░  ║       \n",
       "«  clock_1: ─────────────────■───────────┼───────░─┤ H ├─░──╫───────\n",
       "«                            │           │       ░ ├───┤ ░  ║       \n",
       "«  clock_2: ─────■───────────┼───────────┼───────░─┤ H ├─░──╫───────\n",
       "«                │           │           │       ░ ├───┤ ░  ║       \n",
       "«  clock_3: ─────┼───────────┼───────────┼───────░─┤ H ├─░──╫───────\n",
       "«           ┌────┴─────┐┌────┴─────┐┌────┴─────┐ ░ └───┘ ░  ║ ┌─┐   \n",
       "« vector_0: ┤0         ├┤0         ├┤0         ├─░───────░──╫─┤M├───\n",
       "«           │  U23_inv ││  U22_inv ││  U21_inv │ ░       ░  ║ └╥┘┌─┐\n",
       "« vector_1: ┤1         ├┤1         ├┤1         ├─░───────░──╫──╫─┤M├\n",
       "«           └──────────┘└──────────┘└──────────┘ ░       ░  ║  ║ └╥┘\n",
       "«classic: 3/════════════════════════════════════════════════╩══╩══╩═\n",
       "«                                                           0  1  2 </pre>"
      ],
      "text/plain": [
       "                 ░                                                ░ ┌───────┐»\n",
       "  ancilla: ──────░────────────────────────────────────────────────░─┤ Ry(π) ├»\n",
       "                 ░ ┌───┐                                ┌───────┐ ░ └───┬───┘»\n",
       "  clock_0: ──────░─┤ H ├───■────────────────────────────┤0      ├─░─────■────»\n",
       "                 ░ ├───┤   │                            │       │ ░          »\n",
       "  clock_1: ──────░─┤ H ├───┼───────■────────────────────┤1      ├─░──────────»\n",
       "                 ░ ├───┤   │       │                    │  IQFT │ ░          »\n",
       "  clock_2: ──────░─┤ H ├───┼───────┼───────■────────────┤2      ├─░──────────»\n",
       "                 ░ ├───┤   │       │       │            │       │ ░          »\n",
       "  clock_3: ──────░─┤ H ├───┼───────┼───────┼───────■────┤3      ├─░──────────»\n",
       "           ┌───┐ ░ └───┘┌──┴───┐┌──┴───┐┌──┴───┐┌──┴───┐└───────┘ ░          »\n",
       " vector_0: ┤ H ├─░──────┤0     ├┤0     ├┤0     ├┤0     ├──────────░──────────»\n",
       "           ├───┤ ░      │  U21 ││  U22 ││  U23 ││  U24 │          ░          »\n",
       " vector_1: ┤ H ├─░──────┤1     ├┤1     ├┤1     ├┤1     ├──────────░──────────»\n",
       "           └───┘ ░      └──────┘└──────┘└──────┘└──────┘          ░          »\n",
       "classic: 3/══════════════════════════════════════════════════════════════════»\n",
       "                                                                             »\n",
       "«           ┌─────────┐┌─────────────┐┌─────────────┐┌─┐ ░                     »\n",
       "«  ancilla: ┤ Ry(π/3) ├┤ Ry(0.50536) ├┤ Ry(0.25066) ├┤M├─░─────────────────────»\n",
       "«           └────┬────┘└──────┬──────┘└──────┬──────┘└╥┘ ░ ┌──────┐            »\n",
       "«  clock_0: ─────┼────────────┼──────────────┼────────╫──░─┤0     ├────────────»\n",
       "«                │            │              │        ║  ░ │      │            »\n",
       "«  clock_1: ─────■────────────┼──────────────┼────────╫──░─┤1     ├────────────»\n",
       "«                             │              │        ║  ░ │  QFT │            »\n",
       "«  clock_2: ──────────────────■──────────────┼────────╫──░─┤2     ├────────────»\n",
       "«                                            │        ║  ░ │      │            »\n",
       "«  clock_3: ─────────────────────────────────■────────╫──░─┤3     ├─────■──────»\n",
       "«                                                     ║  ░ └──────┘┌────┴─────┐»\n",
       "« vector_0: ──────────────────────────────────────────╫──░─────────┤0         ├»\n",
       "«                                                     ║  ░         │  U24_inv │»\n",
       "« vector_1: ──────────────────────────────────────────╫──░─────────┤1         ├»\n",
       "«                                                     ║  ░         └──────────┘»\n",
       "«classic: 3/══════════════════════════════════════════╩════════════════════════»\n",
       "«                                                     0                        »\n",
       "«                                                ░       ░ ┌─┐      \n",
       "«  ancilla: ─────────────────────────────────────░───────░─┤M├──────\n",
       "«                                                ░ ┌───┐ ░ └╥┘      \n",
       "«  clock_0: ─────────────────────────────■───────░─┤ H ├─░──╫───────\n",
       "«                                        │       ░ ├───┤ ░  ║       \n",
       "«  clock_1: ─────────────────■───────────┼───────░─┤ H ├─░──╫───────\n",
       "«                            │           │       ░ ├───┤ ░  ║       \n",
       "«  clock_2: ─────■───────────┼───────────┼───────░─┤ H ├─░──╫───────\n",
       "«                │           │           │       ░ ├───┤ ░  ║       \n",
       "«  clock_3: ─────┼───────────┼───────────┼───────░─┤ H ├─░──╫───────\n",
       "«           ┌────┴─────┐┌────┴─────┐┌────┴─────┐ ░ └───┘ ░  ║ ┌─┐   \n",
       "« vector_0: ┤0         ├┤0         ├┤0         ├─░───────░──╫─┤M├───\n",
       "«           │  U23_inv ││  U22_inv ││  U21_inv │ ░       ░  ║ └╥┘┌─┐\n",
       "« vector_1: ┤1         ├┤1         ├┤1         ├─░───────░──╫──╫─┤M├\n",
       "«           └──────────┘└──────────┘└──────────┘ ░       ░  ║  ║ └╥┘\n",
       "«classic: 3/════════════════════════════════════════════════╩══╩══╩═\n",
       "«                                                           0  1  2 "
      ]
     },
     "execution_count": 302,
     "metadata": {},
     "output_type": "execute_result"
    }
   ],
   "source": [
    "qc2.draw()"
   ]
  },
  {
   "cell_type": "code",
   "execution_count": 305,
   "metadata": {},
   "outputs": [],
   "source": [
    "result2 = execute(qc2, simulator, shots=50000).result()\n",
    "counts2 = result2.get_counts(qc2)"
   ]
  },
  {
   "cell_type": "code",
   "execution_count": 306,
   "metadata": {},
   "outputs": [
    {
     "data": {
      "image/png": "[encoded data removed]",
      "text/plain": [
       "<Figure size 700x500 with 1 Axes>"
      ]
     },
     "execution_count": 306,
     "metadata": {},
     "output_type": "execute_result"
    }
   ],
   "source": [
    "plot_histogram(counts2)"
   ]
  },
  {
   "cell_type": "code",
   "execution_count": null,
   "metadata": {},
   "outputs": [],
   "source": [
    "1, 49, 121 ,169"
   ]
  },
  {
   "cell_type": "code",
   "execution_count": null,
   "metadata": {},
   "outputs": [],
   "source": []
  }
 ],
 "metadata": {
  "kernelspec": {
   "display_name": "Python 3",
   "language": "python",
   "name": "python3"
  },
  "language_info": {
   "codemirror_mode": {
    "name": "ipython",
    "version": 3
   },
   "file_extension": ".py",
   "mimetype": "text/x-python",
   "name": "python",
   "nbconvert_exporter": "python",
   "pygments_lexer": "ipython3",
   "version": "3.11.4"
  }
 },
 "nbformat": 4,
 "nbformat_minor": 2
}
