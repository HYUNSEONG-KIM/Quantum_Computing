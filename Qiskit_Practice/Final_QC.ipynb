{
 "cells": [
  {
   "cell_type": "markdown",
   "metadata": {},
   "source": [
    "# Final Project of Quantum Computation"
   ]
  },
  {
   "cell_type": "markdown",
   "metadata": {},
   "source": [
    "20195048 김현성"
   ]
  },
  {
   "cell_type": "markdown",
   "metadata": {},
   "source": [
    "## Problem 1\n",
    "\n",
    "Solve the following linear system with HHL algorithm\n",
    "\n",
    "$$\\begin{bmatrix}1 & -1/3 \\\\ -1/3 & 1\\end{bmatrix} \\mathbf{x} = \\begin{bmatrix} 0 \\\\ 1 \\end{bmatrix}$$"
   ]
  },
  {
   "cell_type": "markdown",
   "metadata": {},
   "source": [
    "## Problem 2 \n",
    "\n",
    "Extend the problem 1 result and solve following equation\n",
    "\n",
    "$$\\frac{1}{4}\n",
    "\\begin{bmatrix}\n",
    "15 & 9 & 5 & -3 \\\\\n",
    "9 & 15 & 3 & -5 \\\\\n",
    "5 & 3 & 15 & -9 \\\\\n",
    "-3 & -5 & -9 & 15\\end{bmatrix} \\mathbf{x} = \n",
    "\\frac{1}{2} \n",
    "\\begin{bmatrix}\n",
    "1\\\\\n",
    "1\\\\\n",
    "1\\\\\n",
    "1\n",
    "\\end{bmatrix}$$"
   ]
  },
  {
   "cell_type": "markdown",
   "metadata": {},
   "source": [
    "## Answer\n",
    "\n",
    "Since the matrix already a Hermit matrix, the calculation does not require a conversion. Before we implement HHL. Let us see the exact solutions of the each system."
   ]
  },
  {
   "cell_type": "markdown",
   "metadata": {},
   "source": [
    "### Exact solutions"
   ]
  },
  {
   "cell_type": "code",
   "execution_count": 7,
   "metadata": {},
   "outputs": [],
   "source": [
    "from IPython.display import display, Math"
   ]
  },
  {
   "cell_type": "code",
   "execution_count": 8,
   "metadata": {},
   "outputs": [],
   "source": [
    "import sympy as sp\n",
    "from sympy.printing.mathml import mathml\n",
    "sp.init_printing(use_unicode=True) # allow LaTeX printing\n"
   ]
  },
  {
   "cell_type": "code",
   "execution_count": 9,
   "metadata": {},
   "outputs": [],
   "source": [
    "scale1 = 3\n",
    "A1 = sp.Matrix([[3, -1], [-1, 3]])/scale1\n",
    "b1 = sp.Matrix([[0], [1]])\n",
    "scale2 = 4\n",
    "A2 = sp.Matrix(\n",
    "    [\n",
    "        [15, 9, 5, -3], \n",
    "        [9, 15, 3, -5],\n",
    "        [5, 3, 15, -9],\n",
    "        [-3, -5, -9, 15]])/scale2\n",
    "b2 = sp.Matrix(4*[[2]])/scale2"
   ]
  },
  {
   "cell_type": "code",
   "execution_count": 20,
   "metadata": {},
   "outputs": [
    {
     "data": {
      "text/latex": [
       "$\\displaystyle \\left[\\begin{matrix}1 & - \\frac{1}{3}\\\\- \\frac{1}{3} & 1\\end{matrix}\\right]$"
      ],
      "text/plain": [
       "<IPython.core.display.Math object>"
      ]
     },
     "metadata": {},
     "output_type": "display_data"
    },
    {
     "data": {
      "text/latex": [
       "$\\displaystyle det(A_1): 8/9$"
      ],
      "text/plain": [
       "<IPython.core.display.Math object>"
      ]
     },
     "metadata": {},
     "output_type": "display_data"
    },
    {
     "data": {
      "text/latex": [
       "$\\displaystyle \\mathbf{x}: \\left[\\begin{matrix}\\frac{3}{8} & \\frac{9}{8}\\end{matrix}\\right]$"
      ],
      "text/plain": [
       "<IPython.core.display.Math object>"
      ]
     },
     "metadata": {},
     "output_type": "display_data"
    },
    {
     "data": {
      "text/latex": [
       "$\\displaystyle \\left[\\begin{matrix}\\frac{15}{4} & \\frac{9}{4} & \\frac{5}{4} & - \\frac{3}{4}\\\\\\frac{9}{4} & \\frac{15}{4} & \\frac{3}{4} & - \\frac{5}{4}\\\\\\frac{5}{4} & \\frac{3}{4} & \\frac{15}{4} & - \\frac{9}{4}\\\\- \\frac{3}{4} & - \\frac{5}{4} & - \\frac{9}{4} & \\frac{15}{4}\\end{matrix}\\right]$"
      ],
      "text/plain": [
       "<IPython.core.display.Math object>"
      ]
     },
     "metadata": {},
     "output_type": "display_data"
    },
    {
     "data": {
      "text/latex": [
       "$\\displaystyle det(A_2): 64$"
      ],
      "text/plain": [
       "<IPython.core.display.Math object>"
      ]
     },
     "metadata": {},
     "output_type": "display_data"
    },
    {
     "data": {
      "text/latex": [
       "$\\displaystyle \\mathbf{x}: \\left[\\begin{matrix}- \\frac{1}{32} & \\frac{7}{32} & \\frac{11}{32} & \\frac{13}{32}\\end{matrix}\\right]$"
      ],
      "text/plain": [
       "<IPython.core.display.Math object>"
      ]
     },
     "metadata": {},
     "output_type": "display_data"
    }
   ],
   "source": [
    "display(Math(sp.latex(A1)))\n",
    "display(Math(f\"$det(A_1): {A1.det()}$\",))\n",
    "display(Math(\"$\\mathbf{x}: \" + sp.latex(A1.solve(b1).T)))\n",
    "display(Math(sp.latex(A2)))\n",
    "display(Math(f\"$det(A_2): {A2.det()}$\",))\n",
    "display(Math(\"$\\mathbf{x}: \" + sp.latex(A2.solve(b2).T)))"
   ]
  },
  {
   "cell_type": "markdown",
   "metadata": {},
   "source": [
    "### Implementation of HHL algorithm"
   ]
  },
  {
   "cell_type": "markdown",
   "metadata": {},
   "source": [
    "Major steps of HHL algorithm\n",
    "\n",
    "3 registers required: ancilla, main-register, b-register.\n",
    "\n",
    "1. State preparation: Encoding $|b\\rangle$ vector to the register, amplitude encoding(b).\n",
    "2. Quantum Phase estimation(main, b).\n",
    "3. Ancilla bit rotation(main, ancilla).\n",
    "4. Inverse Quantum Phase estimation(main, b).\n",
    "5. Measurement."
   ]
  },
  {
   "cell_type": "code",
   "execution_count": 1,
   "metadata": {},
   "outputs": [],
   "source": [
    "from qiskit import QuantumCircuit, QuantumRegister, ClassicalRegister"
   ]
  },
  {
   "cell_type": "code",
   "execution_count": 21,
   "metadata": {},
   "outputs": [],
   "source": [
    "num_ancilla_register = 1\n",
    "num_main_register = 4\n",
    "num_vector_register = 4 "
   ]
  },
  {
   "cell_type": "code",
   "execution_count": 22,
   "metadata": {},
   "outputs": [],
   "source": [
    "qr_ancilla = QuantumRegister(num_ancilla_register, name=\"ancilla\")\n",
    "qr_main = QuantumRegister(num_main_register, name=\"main\")\n",
    "qr_vector = QuantumRegister(num_vector_register, name=\"vector\")\n",
    "cr = ClassicalRegister(1, name = \"classic\")"
   ]
  },
  {
   "cell_type": "code",
   "execution_count": 23,
   "metadata": {},
   "outputs": [],
   "source": [
    "qc = QuantumCircuit(qr_ancilla, qr_main, qr_vector, cr, name=\"HHL\")"
   ]
  },
  {
   "cell_type": "markdown",
   "metadata": {},
   "source": [
    "State preparation for $|b\\rangle$ vector."
   ]
  },
  {
   "cell_type": "code",
   "execution_count": 24,
   "metadata": {},
   "outputs": [],
   "source": [
    "from qiskit.circuit.library import StatePreparation"
   ]
  },
  {
   "cell_type": "code",
   "execution_count": 25,
   "metadata": {},
   "outputs": [
    {
     "data": {
      "image/png": "[encoded data removed]",
      "text/latex": [
       "$\\displaystyle \\left[\\begin{matrix}0\\\\1\\end{matrix}\\right]$"
      ],
      "text/plain": [
       "⎡0⎤\n",
       "⎢ ⎥\n",
       "⎣1⎦"
      ]
     },
     "execution_count": 25,
     "metadata": {},
     "output_type": "execute_result"
    }
   ],
   "source": [
    "b1"
   ]
  },
  {
   "cell_type": "code",
   "execution_count": null,
   "metadata": {},
   "outputs": [],
   "source": [
    "def initiate_matrix(A):\n",
    "    #return A_gates\n",
    "    pass\n",
    "def HHL(A, wires):\n",
    "    #return qc\n",
    "    pass"
   ]
  },
  {
   "cell_type": "markdown",
   "metadata": {},
   "source": []
  },
  {
   "cell_type": "markdown",
   "metadata": {},
   "source": [
    "### Results"
   ]
  },
  {
   "cell_type": "markdown",
   "metadata": {},
   "source": []
  }
 ],
 "metadata": {
  "kernelspec": {
   "display_name": "Python 3",
   "language": "python",
   "name": "python3"
  },
  "language_info": {
   "codemirror_mode": {
    "name": "ipython",
    "version": 3
   },
   "file_extension": ".py",
   "mimetype": "text/x-python",
   "name": "python",
   "nbconvert_exporter": "python",
   "pygments_lexer": "ipython3",
   "version": "3.11.3"
  }
 },
 "nbformat": 4,
 "nbformat_minor": 2
}
