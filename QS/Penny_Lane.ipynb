{
 "cells": [
  {
   "cell_type": "markdown",
   "metadata": {},
   "source": [
    "# Adiabatic process simulation with Pennylane"
   ]
  },
  {
   "cell_type": "markdown",
   "metadata": {},
   "source": [
    "This demonstration showes how to implement an adiabatic process with Pennylane library. Adiabatic process is a common method to accelerate ground-search method in quadratic unconstratined binary optimization(QUBO) problem. \n",
    "\n",
    "As an example, we construct a single QUBO problem and we will compare the result with real anealing process. "
   ]
  },
  {
   "cell_type": "markdown",
   "metadata": {},
   "source": [
    "## Brief Introduction to Adiabatic process"
   ]
  },
  {
   "cell_type": "markdown",
   "metadata": {},
   "source": [
    "What if the system would change *slowly*?\n",
    "\n",
    "Then, the system will still remained at ground state. Actually, not only for ground state but also for all corresponding states between two initial and final hamiltonian of the system."
   ]
  },
  {
   "cell_type": "markdown",
   "metadata": {},
   "source": []
  },
  {
   "cell_type": "markdown",
   "metadata": {},
   "source": [
    "In many introductory textbooks and references, they only deal the time independent case of hamiltonians. It is because the gate-model can only run a independent hamiltonians, for example, pauli-gates. The time-dependent hamiltonian evolution can be constructed with several different independent evolutions. "
   ]
  },
  {
   "cell_type": "markdown",
   "metadata": {},
   "source": [
    "$$H(t) = \\sum_{i=1}^N H_i (t)$$\n",
    "\n",
    "Usually, $H_i(t)$ are not commute each other. That is why Trroter-Suzuki expansion is used to express the time-evolution circuit. \n",
    "\n",
    "Order of hamiltonian is not a significant parameter in real physical hamiltonian, but in quantum circuit, it is related to error of Trrotter expansion. \n",
    "\n",
    "See, Hamiltonian sorting algorithm in \n",
    "\n",
    "* `Raeisi, Wiebe, Sanders, Quantum-circuit design for efficient simulations of many-body quantum dynamics, New Journal of Physics 14, 2012`. \n",
    "* `Tomesh, et al, Optimized Quantum Program Execution Ordering to Mitigate Errors in Simulations of Quantum Systems, 2021 international conference on Rebooting Computing (ICRC)`"
   ]
  },
  {
   "cell_type": "markdown",
   "metadata": {},
   "source": [
    "Adiabatic scheduling, $T, f(s)$ for the given two hamiltonian, $H_i, H_f$\n",
    "\n",
    "$t\\in [0, T]$\n",
    "\n",
    "$$H_{adia}(t) = f(s(t)) H_i + (1-f(s(t))) H_f$$\n",
    "\n",
    "where, $s(t) = t/T$."
   ]
  },
  {
   "cell_type": "markdown",
   "metadata": {},
   "source": [
    "In Pennylane, we can simulate the time-evolution operator with `ApproxTimeEvolution` template. "
   ]
  },
  {
   "cell_type": "markdown",
   "metadata": {},
   "source": [
    "## Variational Ansatz"
   ]
  },
  {
   "cell_type": "markdown",
   "metadata": {},
   "source": [
    "Anstaz papers\n",
    "\n",
    "* Quantum-optimal-control-inspired ansatz for variational quantum algorithms\n",
    "* Hamiltonian variational ansatz without barren plateaus"
   ]
  },
  {
   "cell_type": "markdown",
   "metadata": {},
   "source": []
  }
 ],
 "metadata": {
  "language_info": {
   "name": "python"
  },
  "orig_nbformat": 4
 },
 "nbformat": 4,
 "nbformat_minor": 2
}
