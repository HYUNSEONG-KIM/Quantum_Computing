{
 "cells": [
  {
   "cell_type": "markdown",
   "metadata": {},
   "source": [
    "# Topics and References"
   ]
  },
  {
   "cell_type": "markdown",
   "metadata": {},
   "source": []
  },
  {
   "cell_type": "markdown",
   "metadata": {},
   "source": [
    "# Simulation"
   ]
  },
  {
   "cell_type": "markdown",
   "metadata": {},
   "source": [
    "* Simulation of Many-Body Fermi Systems on a Universal Quantum Computer\n",
    "```\n",
    "Abrams, Daniel S. and Lloyd, Seth, Phys. Rev. Lett., vol 79, Issue 12, 2586-2589, 1997, APS, DOI:10.1103/PhysRevLett.79.2586, \n",
    "Arxiv version: https://arxiv.org/abs/quant-ph/9703054\n",
    "```\n",
    "\n",
    "* Simulating the dynamics of time-dependent Hamiltonians with a truncated Dyson series\n",
    "\n",
    "```\n",
    "Mária Kieferová, Artur Scherer, and Dominic W. Berry\n",
    "Phys. Rev. A 99, 042314 – Published 5 April 2019\n",
    "```"
   ]
  },
  {
   "cell_type": "markdown",
   "metadata": {},
   "source": [
    "# Simulation Algorithms"
   ]
  },
  {
   "cell_type": "markdown",
   "metadata": {},
   "source": [
    "* Efficient variational simulation of non-trivial quantum states"
   ]
  },
  {
   "cell_type": "markdown",
   "metadata": {},
   "source": [
    "* Quantum Algorithm for Time-Dependent Hamiltonian Simulation by Permutation Expansion"
   ]
  },
  {
   "cell_type": "markdown",
   "metadata": {},
   "source": [
    "* Method to efficiently simulate the thermodynamic properties of the Fermi-Hubbard model on a quantum computer.\n",
    "\n",
    "```\n",
    "Dallaire-Demers, P.-L., & Wilhelm, F. K. (2016).  Physical Review A, 93(3). doi:10.1103/physreva.93.032303\n",
    "```"
   ]
  },
  {
   "cell_type": "markdown",
   "metadata": {},
   "source": [
    "# Quantum Chemistry"
   ]
  },
  {
   "cell_type": "markdown",
   "metadata": {},
   "source": [
    "* Quantum Resource Estimation for Quantum Chemistry Algorithms\n",
    "\n",
    "2022 IEEE international conference on Quantu, computing and engineering(QCE)\n"
   ]
  },
  {
   "cell_type": "markdown",
   "metadata": {},
   "source": [
    "# Density Functional Theory"
   ]
  },
  {
   "cell_type": "markdown",
   "metadata": {},
   "source": [
    "* Introduction to Density Functional Theory: Calculations by Hand on the Helium Atom\n",
    "```\n",
    "J. Chem. Educ. 2014, 91, 12, 2116–2123, Publication Date:November 14, 2014\n",
    "https://doi.org/10.1021/ed5004788\n",
    "```\n",
    "* An Introduction to Density Functional Theory\n",
    "```N. M. Harrison```"
   ]
  },
  {
   "cell_type": "markdown",
   "metadata": {},
   "source": [
    "* Toward Density Functional Theory on Quantum Computers ?\n",
    "```\n",
    "Bruno Senjean1?, Saad Yalouz2† and Matthieu Saubanère1, arXiv:2204.01443v2 [quant-ph]\n",
    "```"
   ]
  },
  {
   "cell_type": "markdown",
   "metadata": {},
   "source": [
    "* Implementation of the Density-functional Theory on Quantum\n",
    "Computers with Linear Scaling with respect to the Number of Atoms"
   ]
  },
  {
   "cell_type": "markdown",
   "metadata": {},
   "source": []
  }
 ],
 "metadata": {
  "language_info": {
   "name": "python"
  },
  "orig_nbformat": 4
 },
 "nbformat": 4,
 "nbformat_minor": 2
}
