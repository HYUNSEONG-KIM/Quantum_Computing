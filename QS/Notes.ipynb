{
 "cells": [
  {
   "cell_type": "markdown",
   "metadata": {},
   "source": [
    "# Topics and References"
   ]
  },
  {
   "cell_type": "markdown",
   "metadata": {},
   "source": []
  },
  {
   "cell_type": "markdown",
   "metadata": {},
   "source": [
    "## Circuit and Ansatz Optimization"
   ]
  },
  {
   "cell_type": "markdown",
   "metadata": {},
   "source": [
    "```\n",
    "Algebraic Compression of Quantum Circuits for Hamiltonian Evolution\n",
    "```"
   ]
  },
  {
   "cell_type": "markdown",
   "metadata": {},
   "source": [
    "```\n",
    "https://pubs.acs.org/doi/10.1021/acsomega.3c01060\n",
    "```"
   ]
  },
  {
   "cell_type": "markdown",
   "metadata": {},
   "source": [
    "Krylov Algorithms\n",
    "\n",
    "* Real-Time Krylov Theory for Quantum Computing\n",
    "Algorithms\n",
    "* Quantum Krylov subspace algorithms\n",
    "for ground and excited state energy estimation"
   ]
  },
  {
   "cell_type": "markdown",
   "metadata": {},
   "source": [
    "# Simulation"
   ]
  },
  {
   "cell_type": "markdown",
   "metadata": {},
   "source": [
    "* Simulation of Many-Body Fermi Systems on a Universal Quantum Computer\n",
    "```\n",
    "Abrams, Daniel S. and Lloyd, Seth, Phys. Rev. Lett., vol 79, Issue 12, 2586-2589, 1997, APS, DOI:10.1103/PhysRevLett.79.2586, \n",
    "Arxiv version: https://arxiv.org/abs/quant-ph/9703054\n",
    "```\n"
   ]
  },
  {
   "cell_type": "markdown",
   "metadata": {},
   "source": [
    "* Using Quantum Computers for Quantum Simulation\n",
    "\n",
    "```\n",
    "Katherine L. Brown 1∗\n",
    ", William J. Munro 2,3 and Vivien M. Kendon \n",
    "```"
   ]
  },
  {
   "cell_type": "markdown",
   "metadata": {},
   "source": [
    "# Simulation Algorithms"
   ]
  },
  {
   "cell_type": "markdown",
   "metadata": {},
   "source": [
    "# Quantum Chemistry"
   ]
  },
  {
   "cell_type": "markdown",
   "metadata": {},
   "source": [
    "* Quantum Resource Estimation for Quantum Chemistry Algorithms\n",
    "\n",
    "2022 IEEE international conference on Quantu, computing and engineering(QCE)\n"
   ]
  },
  {
   "cell_type": "markdown",
   "metadata": {},
   "source": [
    "# Density Functional Theory"
   ]
  },
  {
   "cell_type": "markdown",
   "metadata": {},
   "source": [
    "* Introduction to Density Functional Theory: Calculations by Hand on the Helium Atom\n",
    "```\n",
    "J. Chem. Educ. 2014, 91, 12, 2116–2123, Publication Date:November 14, 2014\n",
    "https://doi.org/10.1021/ed5004788\n",
    "```\n",
    "* An Introduction to Density Functional\n",
    "Theory\n",
    "```N. M. Harrison```"
   ]
  },
  {
   "cell_type": "markdown",
   "metadata": {},
   "source": [
    "* Toward Density Functional Theory on Quantum Computers ?\n",
    "```\n",
    "Bruno Senjean1?, Saad Yalouz2† and Matthieu Saubanère1, arXiv:2204.01443v2 [quant-ph]\n",
    "```"
   ]
  },
  {
   "cell_type": "markdown",
   "metadata": {},
   "source": [
    "* Implementation of the Density-functional Theory on Quantum\n",
    "Computers with Linear Scaling with respect to the Number of Atoms"
   ]
  },
  {
   "cell_type": "markdown",
   "metadata": {},
   "source": []
  }
 ],
 "metadata": {
  "language_info": {
   "name": "python"
  },
  "orig_nbformat": 4
 },
 "nbformat": 4,
 "nbformat_minor": 2
}
