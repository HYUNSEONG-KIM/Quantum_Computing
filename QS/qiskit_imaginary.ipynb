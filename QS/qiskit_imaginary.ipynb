{
 "cells": [
  {
   "cell_type": "code",
   "execution_count": 2,
   "metadata": {},
   "outputs": [
    {
     "name": "stdout",
     "output_type": "stream",
     "text": [
      "Requirement already satisfied: qiskit in /Users/hyunseongkim/miniconda3/envs/quantum_computer/lib/python3.11/site-packages (1.0.2)\n",
      "Collecting qiskit-nature\n",
      "  Obtaining dependency information for qiskit-nature from https://files.pythonhosted.org/packages/66/16/2bf5c270457dbda2123604108f007f4b7087fa5a3913e60f5a4f75b76d92/qiskit_nature-0.7.2-py3-none-any.whl.metadata\n",
      "  Downloading qiskit_nature-0.7.2-py3-none-any.whl.metadata (8.0 kB)\n",
      "Requirement already satisfied: rustworkx>=0.14.0 in /Users/hyunseongkim/miniconda3/envs/quantum_computer/lib/python3.11/site-packages (from qiskit) (0.14.2)\n",
      "Requirement already satisfied: numpy<2,>=1.17 in /Users/hyunseongkim/miniconda3/envs/quantum_computer/lib/python3.11/site-packages (from qiskit) (1.23.5)\n",
      "Requirement already satisfied: scipy>=1.5 in /Users/hyunseongkim/miniconda3/envs/quantum_computer/lib/python3.11/site-packages (from qiskit) (1.11.2)\n",
      "Requirement already satisfied: sympy>=1.3 in /Users/hyunseongkim/miniconda3/envs/quantum_computer/lib/python3.11/site-packages (from qiskit) (1.12)\n",
      "Requirement already satisfied: dill>=0.3 in /Users/hyunseongkim/miniconda3/envs/quantum_computer/lib/python3.11/site-packages (from qiskit) (0.3.8)\n",
      "Requirement already satisfied: python-dateutil>=2.8.0 in /Users/hyunseongkim/miniconda3/envs/quantum_computer/lib/python3.11/site-packages (from qiskit) (2.8.2)\n",
      "Requirement already satisfied: stevedore>=3.0.0 in /Users/hyunseongkim/miniconda3/envs/quantum_computer/lib/python3.11/site-packages (from qiskit) (5.2.0)\n",
      "Requirement already satisfied: typing-extensions in /Users/hyunseongkim/miniconda3/envs/quantum_computer/lib/python3.11/site-packages (from qiskit) (4.9.0)\n",
      "Requirement already satisfied: symengine>=0.11 in /Users/hyunseongkim/miniconda3/envs/quantum_computer/lib/python3.11/site-packages (from qiskit) (0.11.0)\n",
      "Requirement already satisfied: qiskit-algorithms>=0.2.1 in /Users/hyunseongkim/miniconda3/envs/quantum_computer/lib/python3.11/site-packages (from qiskit-nature) (0.3.0)\n",
      "Requirement already satisfied: psutil>=5 in /Users/hyunseongkim/miniconda3/envs/quantum_computer/lib/python3.11/site-packages (from qiskit-nature) (5.9.0)\n",
      "Requirement already satisfied: setuptools>=40.1.0 in /Users/hyunseongkim/miniconda3/envs/quantum_computer/lib/python3.11/site-packages (from qiskit-nature) (68.0.0)\n",
      "Collecting h5py (from qiskit-nature)\n",
      "  Obtaining dependency information for h5py from https://files.pythonhosted.org/packages/f0/af/dfbea0c69fe725e9e77259d42f4e14eb582eb094200aaf697feb36f513d8/h5py-3.11.0-cp311-cp311-macosx_11_0_arm64.whl.metadata\n",
      "  Downloading h5py-3.11.0-cp311-cp311-macosx_11_0_arm64.whl.metadata (2.5 kB)\n",
      "Requirement already satisfied: six>=1.5 in /Users/hyunseongkim/miniconda3/envs/quantum_computer/lib/python3.11/site-packages (from python-dateutil>=2.8.0->qiskit) (1.16.0)\n",
      "Requirement already satisfied: pbr!=2.1.0,>=2.0.0 in /Users/hyunseongkim/miniconda3/envs/quantum_computer/lib/python3.11/site-packages (from stevedore>=3.0.0->qiskit) (6.0.0)\n",
      "Requirement already satisfied: mpmath>=0.19 in /Users/hyunseongkim/miniconda3/envs/quantum_computer/lib/python3.11/site-packages (from sympy>=1.3->qiskit) (1.3.0)\n",
      "Downloading qiskit_nature-0.7.2-py3-none-any.whl (2.2 MB)\n",
      "\u001b[2K   \u001b[90m━━━━━━━━━━━━━━━━━━━━━━━━━━━━━━━━━━━━━━━━\u001b[0m \u001b[32m2.2/2.2 MB\u001b[0m \u001b[31m6.0 MB/s\u001b[0m eta \u001b[36m0:00:00\u001b[0ma \u001b[36m0:00:01\u001b[0m\n",
      "\u001b[?25hDownloading h5py-3.11.0-cp311-cp311-macosx_11_0_arm64.whl (2.9 MB)\n",
      "\u001b[2K   \u001b[90m━━━━━━━━━━━━━━━━━━━━━━━━━━━━━━━━━━━━━━━━\u001b[0m \u001b[32m2.9/2.9 MB\u001b[0m \u001b[31m4.5 MB/s\u001b[0m eta \u001b[36m0:00:00\u001b[0ma \u001b[36m0:00:01\u001b[0m\n",
      "\u001b[?25hInstalling collected packages: h5py, qiskit-nature\n",
      "Successfully installed h5py-3.11.0 qiskit-nature-0.7.2\n"
     ]
    }
   ],
   "source": [
    "!pip install qiskit qiskit-nature"
   ]
  },
  {
   "cell_type": "code",
   "execution_count": 4,
   "metadata": {},
   "outputs": [
    {
     "ename": "ModuleNotFoundError",
     "evalue": "No module named 'qiskit_aer'",
     "output_type": "error",
     "traceback": [
      "\u001b[0;31m---------------------------------------------------------------------------\u001b[0m",
      "\u001b[0;31mModuleNotFoundError\u001b[0m                       Traceback (most recent call last)",
      "Cell \u001b[0;32mIn[4], line 1\u001b[0m\n\u001b[0;32m----> 1\u001b[0m \u001b[38;5;28;01mfrom\u001b[39;00m \u001b[38;5;21;01mqiskit_aer\u001b[39;00m \u001b[38;5;28;01mimport\u001b[39;00m Aer\n\u001b[1;32m      2\u001b[0m \u001b[38;5;28;01mfrom\u001b[39;00m \u001b[38;5;21;01mqiskit\u001b[39;00m\u001b[38;5;21;01m.\u001b[39;00m\u001b[38;5;21;01mutils\u001b[39;00m \u001b[38;5;28;01mimport\u001b[39;00m QuantumInstance\n\u001b[1;32m      3\u001b[0m \u001b[38;5;28;01mfrom\u001b[39;00m \u001b[38;5;21;01mqiskit\u001b[39;00m\u001b[38;5;21;01m.\u001b[39;00m\u001b[38;5;21;01malgorithms\u001b[39;00m \u001b[38;5;28;01mimport\u001b[39;00m ImaginaryTimeEvolution\n",
      "\u001b[0;31mModuleNotFoundError\u001b[0m: No module named 'qiskit_aer'"
     ]
    }
   ],
   "source": [
    "from qiskit_aer import Aer\n",
    "from qiskit.utils import QuantumInstance\n",
    "from qiskit.algorithms import ImaginaryTimeEvolution\n",
    "from qiskit_nature.drivers import PySCFDriver\n",
    "from qiskit_nature.problems.second_quantization.electronic import ElectronicStructureProblem\n",
    "from qiskit_nature.converters.second_quantization import QubitConverter\n",
    "from qiskit_nature.mappers.second_quantization import ParityMapper\n",
    "from qiskit_nature.circuit.library import HartreeFock, UCCSD\n",
    "\n",
    "# Define the molecule\n",
    "driver = PySCFDriver(atom='H 0 0 0; H 0 0 0.735', basis='sto3g')\n",
    "\n",
    "# Set up the electronic structure problem\n",
    "es_problem = ElectronicStructureProblem(driver)\n",
    "\n",
    "# Convert to qubit Hamiltonian\n",
    "qubit_converter = QubitConverter(mapper=ParityMapper(), two_qubit_reduction=True)\n",
    "hamiltonian = qubit_converter.convert(es_problem.second_q_ops()[0])\n",
    "\n",
    "# Define initial state and ansatz\n",
    "num_particles = (es_problem.molecule_data_transformed.num_alpha, es_problem.molecule_data_transformed.num_beta)\n",
    "num_spin_orbitals = 2 * es_problem.molecule_data_transformed.num_molecular_orbitals\n",
    "\n",
    "initial_state = HartreeFock(num_spin_orbitals, num_particles, qubit_converter)\n",
    "ansatz = UCCSD(qubit_converter, num_particles, num_spin_orbitals, initial_state=initial_state)\n",
    "\n",
    "# Set up quantum instance\n",
    "quantum_instance = QuantumInstance(backend=Aer.get_backend('statevector_simulator'))\n",
    "\n",
    "# Imaginary time evolution\n",
    "ite = ImaginaryTimeEvolution(quantum_instance=quantum_instance, ansatz=ansatz)\n",
    "result = ite.evolve(hamiltonian)\n",
    "\n",
    "# Extract and display results\n",
    "print(\"Ground state energy: \", result.eigenvalue.real)\n"
   ]
  },
  {
   "cell_type": "code",
   "execution_count": null,
   "metadata": {},
   "outputs": [],
   "source": []
  }
 ],
 "metadata": {
  "kernelspec": {
   "display_name": "Python 3",
   "language": "python",
   "name": "python3"
  },
  "language_info": {
   "codemirror_mode": {
    "name": "ipython",
    "version": 3
   },
   "file_extension": ".py",
   "mimetype": "text/x-python",
   "name": "python",
   "nbconvert_exporter": "python",
   "pygments_lexer": "ipython3",
   "version": "3.11.4"
  }
 },
 "nbformat": 4,
 "nbformat_minor": 2
}
