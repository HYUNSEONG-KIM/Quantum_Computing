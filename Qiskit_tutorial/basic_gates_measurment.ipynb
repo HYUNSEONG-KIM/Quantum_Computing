{
 "cells": [
  {
   "cell_type": "markdown",
   "metadata": {},
   "source": [
    "## Basic Circuit implementation\n",
    "\n",
    "See `qiskit.circuit.library` [document](https://docs.quantum.ibm.com/api/qiskit/circuit_library)."
   ]
  },
  {
   "cell_type": "code",
   "execution_count": 1,
   "metadata": {},
   "outputs": [
    {
     "name": "stdout",
     "output_type": "stream",
     "text": [
      "Requirement already satisfied: qiskit in /Users/hyunseongkim/miniconda3/envs/quantum_computer/lib/python3.11/site-packages (1.0.2)\n",
      "Requirement already satisfied: rustworkx>=0.14.0 in /Users/hyunseongkim/miniconda3/envs/quantum_computer/lib/python3.11/site-packages (from qiskit) (0.14.2)\n",
      "Requirement already satisfied: numpy<2,>=1.17 in /Users/hyunseongkim/miniconda3/envs/quantum_computer/lib/python3.11/site-packages (from qiskit) (1.23.5)\n",
      "Requirement already satisfied: scipy>=1.5 in /Users/hyunseongkim/miniconda3/envs/quantum_computer/lib/python3.11/site-packages (from qiskit) (1.11.2)\n",
      "Requirement already satisfied: sympy>=1.3 in /Users/hyunseongkim/miniconda3/envs/quantum_computer/lib/python3.11/site-packages (from qiskit) (1.12)\n",
      "Requirement already satisfied: dill>=0.3 in /Users/hyunseongkim/miniconda3/envs/quantum_computer/lib/python3.11/site-packages (from qiskit) (0.3.8)\n",
      "Requirement already satisfied: python-dateutil>=2.8.0 in /Users/hyunseongkim/miniconda3/envs/quantum_computer/lib/python3.11/site-packages (from qiskit) (2.8.2)\n",
      "Requirement already satisfied: stevedore>=3.0.0 in /Users/hyunseongkim/miniconda3/envs/quantum_computer/lib/python3.11/site-packages (from qiskit) (5.2.0)\n",
      "Requirement already satisfied: typing-extensions in /Users/hyunseongkim/miniconda3/envs/quantum_computer/lib/python3.11/site-packages (from qiskit) (4.9.0)\n",
      "Requirement already satisfied: symengine>=0.11 in /Users/hyunseongkim/miniconda3/envs/quantum_computer/lib/python3.11/site-packages (from qiskit) (0.11.0)\n",
      "Requirement already satisfied: six>=1.5 in /Users/hyunseongkim/miniconda3/envs/quantum_computer/lib/python3.11/site-packages (from python-dateutil>=2.8.0->qiskit) (1.16.0)\n",
      "Requirement already satisfied: pbr!=2.1.0,>=2.0.0 in /Users/hyunseongkim/miniconda3/envs/quantum_computer/lib/python3.11/site-packages (from stevedore>=3.0.0->qiskit) (6.0.0)\n",
      "Requirement already satisfied: mpmath>=0.19 in /Users/hyunseongkim/miniconda3/envs/quantum_computer/lib/python3.11/site-packages (from sympy>=1.3->qiskit) (1.3.0)\n"
     ]
    }
   ],
   "source": [
    "!pip install qiskit"
   ]
  },
  {
   "cell_type": "code",
   "execution_count": 7,
   "metadata": {},
   "outputs": [
    {
     "data": {
      "image/png": "[encoded data removed]",
      "text/plain": [
       "<Figure size 454.719x367.889 with 1 Axes>"
      ]
     },
     "execution_count": 7,
     "metadata": {},
     "output_type": "execute_result"
    }
   ],
   "source": [
    "from qiskit.circuit.library import CRZGate\n",
    "import numpy as np\n",
    "crz_t1 = CRZGate(np.pi)\n",
    "\n",
    "qc= QuantumCircuit(4)\n",
    "qc.append(crz_t1, [0, 1])\n",
    "\n",
    "qc.barrier([0,1])\n",
    "\n",
    "qc.append(CRZGate(np.pi/4), [1, 0])\n",
    "qc.h(3)\n",
    "qc.append(crz_t1, [0, 3])\n",
    "qc.draw(\"mpl\")\n"
   ]
  },
  {
   "cell_type": "code",
   "execution_count": 5,
   "metadata": {},
   "outputs": [],
   "source": [
    "# Get basic gates\n",
    "from qiskit.circuit.library import HGate, CXGate\n",
    "from qiskit import QuantumCircuit\n",
    "\n",
    "HG = HGate()"
   ]
  },
  {
   "cell_type": "code",
   "execution_count": 6,
   "metadata": {},
   "outputs": [
    {
     "data": {
      "image/png": "[encoded data removed]",
      "text/plain": [
       "<Figure size 203.683x200.667 with 1 Axes>"
      ]
     },
     "execution_count": 6,
     "metadata": {},
     "output_type": "execute_result"
    }
   ],
   "source": [
    "qc = QuantumCircuit(2) # number of qubits\n",
    "qc.append(HG, [0])\n",
    "qc.draw('mpl')"
   ]
  },
  {
   "cell_type": "code",
   "execution_count": 4,
   "metadata": {},
   "outputs": [
    {
     "data": {
      "text/html": [
       "<pre style=\"word-wrap: normal;white-space: pre;background: #fff0;line-height: 1.1;font-family: &quot;Courier New&quot;,Courier,monospace\">     ┌───┐\n",
       "q_0: ┤ H ├\n",
       "     └───┘\n",
       "q_1: ─────\n",
       "          </pre>"
      ],
      "text/plain": [
       "     ┌───┐\n",
       "q_0: ┤ H ├\n",
       "     └───┘\n",
       "q_1: ─────\n",
       "          "
      ]
     },
     "execution_count": 4,
     "metadata": {},
     "output_type": "execute_result"
    }
   ],
   "source": [
    "qc.draw()"
   ]
  },
  {
   "cell_type": "code",
   "execution_count": 16,
   "metadata": {},
   "outputs": [
    {
     "data": {
      "image/png": "[encoded data removed]",
      "text/plain": [
       "<Figure size 538.128x284.278 with 1 Axes>"
      ]
     },
     "execution_count": 16,
     "metadata": {},
     "output_type": "execute_result"
    }
   ],
   "source": [
    "# Some standard gates inherited in circuit.\n",
    "qc = QuantumCircuit(2, 2) # 2 qubit, 2 classic bit\n",
    "qc.x(1)\n",
    "qc.h(range(2))\n",
    "qc.cz(0, 1)\n",
    "qc.measure([0,1], [0, 1])\n",
    "qc.draw('mpl')"
   ]
  },
  {
   "cell_type": "markdown",
   "metadata": {},
   "source": [
    "### Gate and matrix"
   ]
  },
  {
   "cell_type": "code",
   "execution_count": 37,
   "metadata": {},
   "outputs": [],
   "source": [
    "from qiskit.circuit.library import (\n",
    "    XGate, YGate, ZGate,\n",
    "    TGate, SGate, HGate, \n",
    "    RXGate, RZGate, RYGate,\n",
    "    CXGate, CZGate)\n",
    "X = XGate()\n",
    "Y = YGate()\n",
    "Z = ZGate()\n",
    "T = TGate()\n",
    "S = SGate()\n",
    "H = HGate()"
   ]
  },
  {
   "cell_type": "markdown",
   "metadata": {},
   "source": [
    "## Matrix representation"
   ]
  },
  {
   "cell_type": "markdown",
   "metadata": {},
   "source": [
    "The all gate on the circuit and also the ciruit itself a giant unitary matrix.\n",
    "We can transform the gate into matrix form and the given matrix into the gate."
   ]
  },
  {
   "cell_type": "code",
   "execution_count": 38,
   "metadata": {},
   "outputs": [
    {
     "data": {
      "text/plain": [
       "(matrix([[0.+0.j, 1.+0.j],\n",
       "         [1.+0.j, 0.+0.j]]),\n",
       " matrix([[1.        +0.j        , 0.        +0.j        ],\n",
       "         [0.        +0.j        , 0.70710678+0.70710678j]]))"
      ]
     },
     "execution_count": 38,
     "metadata": {},
     "output_type": "execute_result"
    }
   ],
   "source": [
    "# numpy\n",
    "# Each gate in Qiskit library are \n",
    "# itself compatible with numpy routine.\n",
    "np.matrix(X), np.matrix(T)"
   ]
  },
  {
   "cell_type": "code",
   "execution_count": 39,
   "metadata": {},
   "outputs": [
    {
     "data": {
      "text/plain": [
       "array([[0.+0.j, 1.+0.j],\n",
       "       [1.+0.j, 0.+0.j]])"
      ]
     },
     "execution_count": 39,
     "metadata": {},
     "output_type": "execute_result"
    }
   ],
   "source": [
    "# Gate subroutine\n",
    "# Qiskit provides matrix representation which is embeded in the Gate class.\n",
    "X.to_matrix() "
   ]
  },
  {
   "cell_type": "code",
   "execution_count": 40,
   "metadata": {},
   "outputs": [
    {
     "data": {
      "text/plain": [
       "array([[ 0.70710678+0.j,  0.70710678+0.j],\n",
       "       [ 0.70710678+0.j, -0.70710678+0.j]])"
      ]
     },
     "execution_count": 40,
     "metadata": {},
     "output_type": "execute_result"
    }
   ],
   "source": [
    "H.to_matrix()"
   ]
  },
  {
   "cell_type": "code",
   "execution_count": 41,
   "metadata": {},
   "outputs": [
    {
     "data": {
      "text/plain": [
       "matrix([[ 0.70710678,  0.70710678],\n",
       "        [ 0.70710678, -0.70710678]])"
      ]
     },
     "execution_count": 41,
     "metadata": {},
     "output_type": "execute_result"
    }
   ],
   "source": [
    "(1/np.sqrt(2))*np.matrix([\n",
    "    [1,1],\n",
    "    [1,-1]\n",
    "])"
   ]
  },
  {
   "cell_type": "markdown",
   "metadata": {},
   "source": [
    "### Gate power\n",
    "\n",
    "Single gate can be decomposed to several gates\n",
    "\n",
    "$$U = (U^{1/n})^n$$\n",
    "\n",
    "The $n$ could be real number. It does not have to be integer in all case.\n",
    "Qiskit provides the `power()` routine to decompose the single gate and reversely, the method can compose the several iterative gate."
   ]
  },
  {
   "cell_type": "code",
   "execution_count": 29,
   "metadata": {},
   "outputs": [
    {
     "data": {
      "text/plain": [
       "array([[0.+0.j, 1.+0.j],\n",
       "       [1.+0.j, 0.+0.j]])"
      ]
     },
     "execution_count": 29,
     "metadata": {},
     "output_type": "execute_result"
    }
   ],
   "source": [
    "X.to_matrix()"
   ]
  },
  {
   "cell_type": "code",
   "execution_count": 30,
   "metadata": {},
   "outputs": [
    {
     "data": {
      "text/plain": [
       "array([[-9.33118602e-16-2.12152338e-16j,  1.00000000e+00-1.20914569e-16j],\n",
       "       [ 1.00000000e+00-1.03718708e-16j, -6.44407220e-16+4.09030040e-16j]])"
      ]
     },
     "execution_count": 30,
     "metadata": {},
     "output_type": "execute_result"
    }
   ],
   "source": [
    "X1_3 = X.power(1/3).to_matrix() # (X)^{1/3}\n",
    "X1_3@X1_3@X1_3"
   ]
  },
  {
   "cell_type": "code",
   "execution_count": 31,
   "metadata": {},
   "outputs": [
    {
     "data": {
      "text/plain": [
       "array([[0.+0.j, 1.+0.j],\n",
       "       [1.+0.j, 0.+0.j]])"
      ]
     },
     "execution_count": 31,
     "metadata": {},
     "output_type": "execute_result"
    }
   ],
   "source": [
    "X3 = X.power(3).to_matrix() # X^3, it must be X\n",
    "X3"
   ]
  },
  {
   "cell_type": "markdown",
   "metadata": {},
   "source": [
    "## Circuit to gate"
   ]
  },
  {
   "cell_type": "markdown",
   "metadata": {},
   "source": [
    "As we first mentioned, a circuit itself a giant uniatry gate.\n",
    "Qiskit provides a routine to convert the circuit into the single gate.\n",
    "\n",
    "For example, let's implement a tensor product of several matrix with circuit."
   ]
  },
  {
   "cell_type": "code",
   "execution_count": 66,
   "metadata": {},
   "outputs": [],
   "source": [
    "from qiskit import QuantumCircuit\n",
    "from qiskit.circuit.library import HGate, XGate\n",
    "from qiskit.quantum_info import Operator # For the ciruit to matrix\n",
    "from scipy.linalg import kron as tensor_product"
   ]
  },
  {
   "cell_type": "code",
   "execution_count": 46,
   "metadata": {},
   "outputs": [],
   "source": [
    "h = HGate().to_matrix()\n",
    "x = XGate().to_matrix()"
   ]
  },
  {
   "cell_type": "code",
   "execution_count": 47,
   "metadata": {},
   "outputs": [
    {
     "data": {
      "text/plain": [
       "array([[ 0.        +0.j,  0.70710678+0.j,  0.        +0.j,\n",
       "         0.70710678+0.j],\n",
       "       [ 0.70710678+0.j,  0.        +0.j,  0.70710678+0.j,\n",
       "         0.        +0.j],\n",
       "       [ 0.        +0.j,  0.70710678+0.j, -0.        +0.j,\n",
       "        -0.70710678+0.j],\n",
       "       [ 0.70710678+0.j,  0.        +0.j, -0.70710678+0.j,\n",
       "        -0.        +0.j]])"
      ]
     },
     "execution_count": 47,
     "metadata": {},
     "output_type": "execute_result"
    }
   ],
   "source": [
    "tensor_product(h, x)"
   ]
  },
  {
   "cell_type": "code",
   "execution_count": 64,
   "metadata": {},
   "outputs": [
    {
     "data": {
      "text/html": [
       "<pre style=\"word-wrap: normal;white-space: pre;background: #fff0;line-height: 1.1;font-family: &quot;Courier New&quot;,Courier,monospace\">     ┌───┐\n",
       "q_0: ┤ H ├\n",
       "     ├───┤\n",
       "q_1: ┤ X ├\n",
       "     └───┘</pre>"
      ],
      "text/plain": [
       "     ┌───┐\n",
       "q_0: ┤ H ├\n",
       "     ├───┤\n",
       "q_1: ┤ X ├\n",
       "     └───┘"
      ]
     },
     "execution_count": 64,
     "metadata": {},
     "output_type": "execute_result"
    }
   ],
   "source": [
    "qc = QuantumCircuit(2)\n",
    "qc.h(0)\n",
    "qc.x(1)\n",
    "qc.draw()"
   ]
  },
  {
   "cell_type": "code",
   "execution_count": 68,
   "metadata": {},
   "outputs": [
    {
     "data": {
      "text/plain": [
       "array([[ 0.        +0.j,  0.        +0.j,  0.70710678+0.j,\n",
       "         0.70710678+0.j],\n",
       "       [ 0.        +0.j,  0.        +0.j,  0.70710678+0.j,\n",
       "        -0.70710678+0.j],\n",
       "       [ 0.70710678+0.j,  0.70710678+0.j,  0.        +0.j,\n",
       "         0.        +0.j],\n",
       "       [ 0.70710678+0.j, -0.70710678+0.j,  0.        +0.j,\n",
       "         0.        +0.j]])"
      ]
     },
     "execution_count": 68,
     "metadata": {},
     "output_type": "execute_result"
    }
   ],
   "source": [
    "# The circuit has a routine 'to_matrix'.\n",
    "\n",
    "Operator(qc).to_matrix()"
   ]
  },
  {
   "cell_type": "markdown",
   "metadata": {},
   "source": [
    "### Tensor Product"
   ]
  },
  {
   "cell_type": "markdown",
   "metadata": {},
   "source": [
    "## Hamiltonian"
   ]
  },
  {
   "cell_type": "code",
   "execution_count": 23,
   "metadata": {},
   "outputs": [],
   "source": [
    "from qiskit.circuit.library import HamiltonianGate\n",
    "import numpy as np\n",
    "from scipy.linalg import expm"
   ]
  },
  {
   "cell_type": "code",
   "execution_count": 21,
   "metadata": {},
   "outputs": [],
   "source": [
    "H = np.matrix([\n",
    "    [0, 1, 4, 7],\n",
    "    [1, 0, 5, 3],\n",
    "    [4, 5, 0, 1],\n",
    "    [7, 3, 1, 0]\n",
    "    ], dtype=complex)\n",
    "t = 0.2\n",
    "hgate = HamiltonianGate(H, t)"
   ]
  },
  {
   "cell_type": "code",
   "execution_count": 25,
   "metadata": {},
   "outputs": [
    {
     "data": {
      "text/plain": [
       "array([[ 0.04380594+0.12558268j, -0.56921777-0.05412968j,\n",
       "        -0.13590766-0.28229904j, -0.03772989-0.74550919j],\n",
       "       [-0.56921777-0.05412968j,  0.48049057+0.10873281j,\n",
       "        -0.05412736-0.61527073j, -0.14470045-0.16715571j],\n",
       "       [-0.13590766-0.28229904j, -0.05412736-0.61527073j,\n",
       "         0.38177938+0.12137779j, -0.59736931-0.05486675j],\n",
       "       [-0.03772989-0.74550919j, -0.14470045-0.16715571j,\n",
       "        -0.59736931-0.05486675j,  0.14246547+0.11728763j]])"
      ]
     },
     "execution_count": 25,
     "metadata": {},
     "output_type": "execute_result"
    }
   ],
   "source": [
    "# Scipy matrix exponential.\n",
    "expm(-1j*H*t)"
   ]
  },
  {
   "cell_type": "code",
   "execution_count": 26,
   "metadata": {},
   "outputs": [
    {
     "data": {
      "text/plain": [
       "array([[ 0.04380594+0.12558268j, -0.56921777-0.05412968j,\n",
       "        -0.13590766-0.28229904j, -0.03772989-0.74550919j],\n",
       "       [-0.56921777-0.05412968j,  0.48049057+0.10873281j,\n",
       "        -0.05412736-0.61527073j, -0.14470045-0.16715571j],\n",
       "       [-0.13590766-0.28229904j, -0.05412736-0.61527073j,\n",
       "         0.38177938+0.12137779j, -0.59736931-0.05486675j],\n",
       "       [-0.03772989-0.74550919j, -0.14470045-0.16715571j,\n",
       "        -0.59736931-0.05486675j,  0.14246547+0.11728763j]])"
      ]
     },
     "execution_count": 26,
     "metadata": {},
     "output_type": "execute_result"
    }
   ],
   "source": [
    "hgate.to_matrix()"
   ]
  },
  {
   "cell_type": "markdown",
   "metadata": {},
   "source": [
    "from cir"
   ]
  },
  {
   "cell_type": "markdown",
   "metadata": {},
   "source": [
    "## Measurement"
   ]
  },
  {
   "cell_type": "code",
   "execution_count": null,
   "metadata": {},
   "outputs": [],
   "source": [
    "from qiskit import execute, Aer, transpile\n",
    "aer_state_sim = Aer.get_backend('statevector_simulator') # Simulator"
   ]
  },
  {
   "cell_type": "code",
   "execution_count": null,
   "metadata": {},
   "outputs": [],
   "source": [
    "job = execute(qc, aer_state_sim) \n",
    "psi = job.result().get_statevector(qc) # Get state vector"
   ]
  },
  {
   "cell_type": "markdown",
   "metadata": {},
   "source": [
    "$$\\langle \\psi | H | \\psi \\rangle$$"
   ]
  },
  {
   "cell_type": "code",
   "execution_count": null,
   "metadata": {},
   "outputs": [],
   "source": []
  },
  {
   "cell_type": "markdown",
   "metadata": {},
   "source": [
    "## Drawing a circuit\n",
    "\n",
    "See details in `Visualize circuits`.\n"
   ]
  },
  {
   "cell_type": "code",
   "execution_count": 69,
   "metadata": {},
   "outputs": [],
   "source": [
    "from qiskit import QuantumCircuit"
   ]
  },
  {
   "cell_type": "code",
   "execution_count": 71,
   "metadata": {},
   "outputs": [],
   "source": [
    "# Prepare circuit\n",
    "qc = QuantumCircuit(3)\n",
    "qc.h([0, 1])\n",
    "qc.x([2])\n",
    "qc.rx(0.5, [0])\n",
    "qc.cx(0, 1)\n",
    "qc.measure_all()"
   ]
  },
  {
   "cell_type": "code",
   "execution_count": 72,
   "metadata": {},
   "outputs": [
    {
     "data": {
      "text/html": [
       "<pre style=\"word-wrap: normal;white-space: pre;background: #fff0;line-height: 1.1;font-family: &quot;Courier New&quot;,Courier,monospace\">        ┌───┐┌─────────┐      ░ ┌─┐      \n",
       "   q_0: ┤ H ├┤ Rx(0.5) ├──■───░─┤M├──────\n",
       "        ├───┤└─────────┘┌─┴─┐ ░ └╥┘┌─┐   \n",
       "   q_1: ┤ H ├───────────┤ X ├─░──╫─┤M├───\n",
       "        ├───┤           └───┘ ░  ║ └╥┘┌─┐\n",
       "   q_2: ┤ X ├─────────────────░──╫──╫─┤M├\n",
       "        └───┘                 ░  ║  ║ └╥┘\n",
       "meas: 3/═════════════════════════╩══╩══╩═\n",
       "                                 0  1  2 </pre>"
      ],
      "text/plain": [
       "        ┌───┐┌─────────┐      ░ ┌─┐      \n",
       "   q_0: ┤ H ├┤ Rx(0.5) ├──■───░─┤M├──────\n",
       "        ├───┤└─────────┘┌─┴─┐ ░ └╥┘┌─┐   \n",
       "   q_1: ┤ H ├───────────┤ X ├─░──╫─┤M├───\n",
       "        ├───┤           └───┘ ░  ║ └╥┘┌─┐\n",
       "   q_2: ┤ X ├─────────────────░──╫──╫─┤M├\n",
       "        └───┘                 ░  ║  ║ └╥┘\n",
       "meas: 3/═════════════════════════╩══╩══╩═\n",
       "                                 0  1  2 "
      ]
     },
     "execution_count": 72,
     "metadata": {},
     "output_type": "execute_result"
    }
   ],
   "source": [
    "# ASCII code\n",
    "qc.draw()"
   ]
  },
  {
   "cell_type": "code",
   "execution_count": 73,
   "metadata": {},
   "outputs": [
    {
     "name": "stdout",
     "output_type": "stream",
     "text": [
      "        ┌───┐┌─────────┐      ░ ┌─┐      \n",
      "   q_0: ┤ H ├┤ Rx(0.5) ├──■───░─┤M├──────\n",
      "        ├───┤└─────────┘┌─┴─┐ ░ └╥┘┌─┐   \n",
      "   q_1: ┤ H ├───────────┤ X ├─░──╫─┤M├───\n",
      "        ├───┤           └───┘ ░  ║ └╥┘┌─┐\n",
      "   q_2: ┤ X ├─────────────────░──╫──╫─┤M├\n",
      "        └───┘                 ░  ║  ║ └╥┘\n",
      "meas: 3/═════════════════════════╩══╩══╩═\n",
      "                                 0  1  2 \n"
     ]
    }
   ],
   "source": [
    "print(qc) #QC itself has a string representation."
   ]
  },
  {
   "cell_type": "markdown",
   "metadata": {},
   "source": [
    "### Matplotlib"
   ]
  },
  {
   "cell_type": "code",
   "execution_count": 87,
   "metadata": {},
   "outputs": [],
   "source": [
    "import matplotlib.pyplot as plt\n",
    "from IPython.display import display"
   ]
  },
  {
   "cell_type": "code",
   "execution_count": 88,
   "metadata": {},
   "outputs": [],
   "source": [
    "fig = qc.draw(output=\"mpl\") # returen a matplotlib figure object."
   ]
  },
  {
   "cell_type": "code",
   "execution_count": 86,
   "metadata": {},
   "outputs": [
    {
     "data": {
      "image/png": "[encoded data removed]",
      "text/plain": [
       "<Figure size 747.609x367.889 with 1 Axes>"
      ]
     },
     "metadata": {},
     "output_type": "display_data"
    }
   ],
   "source": [
    "display(fig)"
   ]
  },
  {
   "cell_type": "code",
   "execution_count": 89,
   "metadata": {},
   "outputs": [],
   "source": [
    "# save to file\n",
    "fig.savefig(\"quantum_circuit.pdf\", backend=\"pgf\")"
   ]
  },
  {
   "cell_type": "markdown",
   "metadata": {},
   "source": [
    "You can set various style of the gate, line, measurement in the drawing."
   ]
  },
  {
   "cell_type": "markdown",
   "metadata": {},
   "source": [
    "### Latex \n",
    "\n",
    "The renderer requires latex program in the system.\n",
    "You can install the next latex packages.\n",
    "\n",
    "- TexLive\n",
    "- MiKTeX\n",
    "- TinyTex\n",
    "\n",
    "In addition, the poppler library is required for renderer."
   ]
  },
  {
   "cell_type": "code",
   "execution_count": null,
   "metadata": {},
   "outputs": [],
   "source": [
    "# Latex as lenderer\n",
    "# qc.draw(output=\"latex\")"
   ]
  },
  {
   "cell_type": "markdown",
   "metadata": {},
   "source": []
  }
 ],
 "metadata": {
  "kernelspec": {
   "display_name": "quantum_computer",
   "language": "python",
   "name": "python3"
  },
  "language_info": {
   "codemirror_mode": {
    "name": "ipython",
    "version": 3
   },
   "file_extension": ".py",
   "mimetype": "text/x-python",
   "name": "python",
   "nbconvert_exporter": "python",
   "pygments_lexer": "ipython3",
   "version": "3.11.4"
  }
 },
 "nbformat": 4,
 "nbformat_minor": 2
}
