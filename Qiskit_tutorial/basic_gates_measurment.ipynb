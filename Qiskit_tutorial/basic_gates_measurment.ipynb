{
 "cells": [
  {
   "cell_type": "markdown",
   "metadata": {},
   "source": [
    "## Qiskit으로 양자 회로 만들기\n",
    "\n",
    "다음의 문서를 참고해 봅시다. `qiskit.circuit.library` [document](https://docs.quantum.ibm.com/api/qiskit/circuit_library).\n",
    "\n",
    "먼저 다음의 과정을 살펴 봅시다. 가장 단순한 양자 회로를 짜는 과정입니다. 아무것도 안하는 회로를 짜는 것이죠."
   ]
  },
  {
   "cell_type": "code",
   "execution_count": 1,
   "metadata": {},
   "outputs": [
    {
     "name": "stdout",
     "output_type": "stream",
     "text": [
      "Requirement already satisfied: qiskit in /Users/hyunseongkim/miniconda3/envs/quantum_computer/lib/python3.11/site-packages (1.1.1)\n",
      "Requirement already satisfied: qiskit-aer in /Users/hyunseongkim/miniconda3/envs/quantum_computer/lib/python3.11/site-packages (0.14.2)\n",
      "Requirement already satisfied: rustworkx>=0.14.0 in /Users/hyunseongkim/miniconda3/envs/quantum_computer/lib/python3.11/site-packages (from qiskit) (0.14.2)\n",
      "Requirement already satisfied: numpy<3,>=1.17 in /Users/hyunseongkim/miniconda3/envs/quantum_computer/lib/python3.11/site-packages (from qiskit) (1.23.5)\n",
      "Requirement already satisfied: scipy>=1.5 in /Users/hyunseongkim/miniconda3/envs/quantum_computer/lib/python3.11/site-packages (from qiskit) (1.11.2)\n",
      "Requirement already satisfied: sympy>=1.3 in /Users/hyunseongkim/miniconda3/envs/quantum_computer/lib/python3.11/site-packages (from qiskit) (1.12)\n",
      "Requirement already satisfied: dill>=0.3 in /Users/hyunseongkim/miniconda3/envs/quantum_computer/lib/python3.11/site-packages (from qiskit) (0.3.8)\n",
      "Requirement already satisfied: python-dateutil>=2.8.0 in /Users/hyunseongkim/miniconda3/envs/quantum_computer/lib/python3.11/site-packages (from qiskit) (2.8.2)\n",
      "Requirement already satisfied: stevedore>=3.0.0 in /Users/hyunseongkim/miniconda3/envs/quantum_computer/lib/python3.11/site-packages (from qiskit) (5.2.0)\n",
      "Requirement already satisfied: typing-extensions in /Users/hyunseongkim/miniconda3/envs/quantum_computer/lib/python3.11/site-packages (from qiskit) (4.9.0)\n",
      "Requirement already satisfied: symengine>=0.11 in /Users/hyunseongkim/miniconda3/envs/quantum_computer/lib/python3.11/site-packages (from qiskit) (0.11.0)\n",
      "Requirement already satisfied: psutil>=5 in /Users/hyunseongkim/miniconda3/envs/quantum_computer/lib/python3.11/site-packages (from qiskit-aer) (5.9.0)\n",
      "Requirement already satisfied: six>=1.5 in /Users/hyunseongkim/miniconda3/envs/quantum_computer/lib/python3.11/site-packages (from python-dateutil>=2.8.0->qiskit) (1.16.0)\n",
      "Requirement already satisfied: pbr!=2.1.0,>=2.0.0 in /Users/hyunseongkim/miniconda3/envs/quantum_computer/lib/python3.11/site-packages (from stevedore>=3.0.0->qiskit) (6.0.0)\n",
      "Requirement already satisfied: mpmath>=0.19 in /Users/hyunseongkim/miniconda3/envs/quantum_computer/lib/python3.11/site-packages (from sympy>=1.3->qiskit) (1.3.0)\n"
     ]
    }
   ],
   "source": [
    "!pip install qiskit qiskit-aer"
   ]
  },
  {
   "cell_type": "code",
   "execution_count": 2,
   "metadata": {},
   "outputs": [],
   "source": [
    "import qiskit"
   ]
  },
  {
   "cell_type": "code",
   "execution_count": 3,
   "metadata": {},
   "outputs": [
    {
     "data": {
      "image/png": "[encoded data removed]",
      "text/plain": [
       "<Figure size 143.647x117.056 with 1 Axes>"
      ]
     },
     "execution_count": 3,
     "metadata": {},
     "output_type": "execute_result"
    }
   ],
   "source": [
    "from qiskit import QuantumCircuit # Qiskit 에서 Quantumcircuit 이라는 Class를 받아옵니다.\n",
    "qc = QuantumCircuit(1, name=\"First circuit\") # Qubit 1 개 양자 회로 정의하기\n",
    "qc.draw(\"mpl\") # 그리기"
   ]
  },
  {
   "cell_type": "code",
   "execution_count": 4,
   "metadata": {},
   "outputs": [
    {
     "data": {
      "text/html": [
       "<pre style=\"word-wrap: normal;white-space: pre;background: #fff0;line-height: 1.1;font-family: &quot;Courier New&quot;,Courier,monospace\">   \n",
       "q: \n",
       "   </pre>"
      ],
      "text/plain": [
       "   \n",
       "q: \n",
       "   "
      ]
     },
     "execution_count": 4,
     "metadata": {},
     "output_type": "execute_result"
    }
   ],
   "source": [
    "qc.draw()"
   ]
  },
  {
   "cell_type": "markdown",
   "metadata": {},
   "source": [
    "앞으로 여러분이 Qiskit을 사용하면, 많이 쓸 코드입니다.\n",
    "\n",
    "1. 양자회로를 만들고\n",
    "2. 그 회로의 모양을 출력하는 것이죠.\n",
    "\n",
    "간단하게 `X`라는 양자 게이트를 적용해 봅시다."
   ]
  },
  {
   "cell_type": "code",
   "execution_count": 5,
   "metadata": {},
   "outputs": [
    {
     "data": {
      "image/png": "[encoded data removed]",
      "text/plain": [
       "<Figure size 185.453x117.056 with 1 Axes>"
      ]
     },
     "execution_count": 5,
     "metadata": {},
     "output_type": "execute_result"
    }
   ],
   "source": [
    "qc.x(0)\n",
    "qc.draw(\"mpl\")"
   ]
  },
  {
   "cell_type": "code",
   "execution_count": 6,
   "metadata": {},
   "outputs": [
    {
     "data": {
      "image/png": "[encoded data removed]",
      "text/plain": [
       "<Figure size 352.675x117.056 with 1 Axes>"
      ]
     },
     "execution_count": 6,
     "metadata": {},
     "output_type": "execute_result"
    }
   ],
   "source": [
    "qc.h(0)\n",
    "qc.y(0)\n",
    "qc.draw(\"mpl\")"
   ]
  },
  {
   "cell_type": "code",
   "execution_count": 7,
   "metadata": {},
   "outputs": [
    {
     "ename": "AttributeError",
     "evalue": "'QuantumCircuit' object has no attribute 'kfajs'",
     "output_type": "error",
     "traceback": [
      "\u001b[0;31m---------------------------------------------------------------------------\u001b[0m",
      "\u001b[0;31mAttributeError\u001b[0m                            Traceback (most recent call last)",
      "Cell \u001b[0;32mIn[7], line 1\u001b[0m\n\u001b[0;32m----> 1\u001b[0m \u001b[43mqc\u001b[49m\u001b[38;5;241;43m.\u001b[39;49m\u001b[43mkfajs\u001b[49m\n",
      "\u001b[0;31mAttributeError\u001b[0m: 'QuantumCircuit' object has no attribute 'kfajs'"
     ]
    }
   ],
   "source": [
    "qc.kfajs"
   ]
  },
  {
   "cell_type": "markdown",
   "metadata": {},
   "source": [
    "그리고 이 녀석을 측정해 봅시다."
   ]
  },
  {
   "cell_type": "code",
   "execution_count": 8,
   "metadata": {},
   "outputs": [
    {
     "data": {
      "image/png": "[encoded data removed]",
      "text/plain": [
       "<Figure size 580.387x200.667 with 1 Axes>"
      ]
     },
     "execution_count": 8,
     "metadata": {},
     "output_type": "execute_result"
    }
   ],
   "source": [
    "qc.measure_all() #\n",
    "qc.draw(\"mpl\")"
   ]
  },
  {
   "cell_type": "markdown",
   "metadata": {},
   "source": [
    "위 회로에서 여러분은 어떤 결과를 얻을까요? 지금은 이후에 측정 단원에서 이를 알아보고 지금은 양자 회로를 짜는 예시를 더 살펴봅시다."
   ]
  },
  {
   "cell_type": "markdown",
   "metadata": {},
   "source": [
    "$$\\begin{cases}\n",
    "State      &-& 1st &- & 2nd &\\\\   \n",
    "--&--&--&--&--&\\\\\n",
    "|0 \\rangle &-& H   &- & X   &\\\\ \n",
    "|0 \\rangle &-& X   &- & Y   &\\\\ \n",
    "|0 \\rangle &-& H   &- & RX  &\\\\ \n",
    "|0 \\rangle &-& RYY &- & P   &\\\\ \n",
    "|0 \\rangle &-& Z   &- & H   & \n",
    "\\end{cases}\n",
    "$$"
   ]
  },
  {
   "cell_type": "markdown",
   "metadata": {},
   "source": [
    "## 2 개 qubit\n",
    "\n",
    "Qubit 하나만 사용하는 건 너무 간단하니 여러개를 사용해 봅시다.\n",
    "그리고 몇가지 gate를 소개해 두겠습니다.\n",
    "\n",
    "1. X: `qc.x( {i-th} )`\n",
    "2. Z: `qc.z( {i-th} )`\n",
    "3. H: `qc.h( {i-th} )`\n",
    "4. CNOT: `qc.cx(i, j)`"
   ]
  },
  {
   "cell_type": "markdown",
   "metadata": {},
   "source": [
    "### X\n",
    "\n",
    "X gate는 행렬로 표기하면 다음과 같습니다.\n",
    "\n",
    "$$\\begin{bmatrix}0 & 1\\\\ 1 & 0\\end{bmatrix}$$\n",
    "\n",
    "$$\\begin{bmatrix}0 & 1\\\\ 1 & 0\\end{bmatrix} \\begin{bmatrix}1\\\\ 0\\end{bmatrix} = \\begin{bmatrix}0\\\\ 1\\end{bmatrix}$$\n",
    "$$\\begin{bmatrix}0 & 1\\\\ 1 & 0\\end{bmatrix} \\begin{bmatrix}0\\\\ 1\\end{bmatrix} = \\begin{bmatrix}1\\\\ 0\\end{bmatrix}$$\n",
    "\n",
    "즉,\n",
    "\n",
    "$$| 0 \\rangle \\rightarrow | 1 \\rangle, | 1 \\rangle \\rightarrow | 0 \\rangle$$\n",
    "\n",
    "을 만들어주는 gate입니다. NOT gate라고도 부릅니다. 1을 0으로 0을 1로 바꾸어주기 때문이죠.\n",
    "\n",
    "다음의 벡터에 X gate를 가해주면 어떤 벡터가 나올까요? 말해보세요.\n",
    "\n",
    "- $\\frac{1}{2}(|0\\rangle + |1 \\rangle)$\n",
    "- $\\frac{3}{5}|0\\rangle + \\frac{4}{5}||1 \\rangle$\n",
    "\n",
    "### H\n",
    "\n",
    "H gate는 Hadamard(아다마르) 게이트라 부릅니다. 양자 컴퓨팅에서 가장 중요한 기초 게이트들 중 하나이죠.\n",
    "행렬료 표기하면,\n",
    "\n",
    "$$\\frac{1}{\\sqrt{2}} \\begin{bmatrix} 1 & 1\\\\ 1 & -1\\end{bmatrix}$$\n",
    "\n",
    "X gate와 같이 $|0>, |1>$ 에 적용해 봅시다.\n",
    "\n",
    "$$\\frac{1}{\\sqrt{2}} \\begin{bmatrix} 1 & 1\\\\ 1 & -1\\end{bmatrix} \\begin{bmatrix} 1 \\\\ 0\\end{bmatrix} = \\frac{1}{\\sqrt{2}} \\begin{bmatrix} 1 \\\\ 1\\end{bmatrix}\n",
    "= \\frac{1}{\\sqrt{2}} (|0> + |1>)$$\n",
    "$$\\frac{1}{\\sqrt{2}} \\begin{bmatrix} 1 & 1\\\\ 1 & -1\\end{bmatrix} \\begin{bmatrix} 0 \\\\ 1\\end{bmatrix} = \\frac{1}{\\sqrt{2}} \\begin{bmatrix} 1 \\\\ -1\\end{bmatrix}\n",
    "= \\frac{1}{\\sqrt{2}} (|0> - |1>)$$\n",
    "\n",
    "각각에 적용했더니 2가지 상태가 모드 함께 있는 상태가 나왔습니다. \n",
    "가장 중요한 기초 게이트인 이유가 이것입니다. 아다마르 게이트를 이용하면, Qubit이 일반 Bit와는 구별되는 중첩 상태를 만들 수 있기 때문입니다."
   ]
  },
  {
   "cell_type": "code",
   "execution_count": 9,
   "metadata": {},
   "outputs": [
    {
     "data": {
      "image/png": "[encoded data removed]",
      "text/plain": [
       "<Figure size 663.998x284.278 with 1 Axes>"
      ]
     },
     "execution_count": 9,
     "metadata": {},
     "output_type": "execute_result"
    }
   ],
   "source": [
    "qc2 = QuantumCircuit(2)\n",
    "qc2.x(0)\n",
    "qc2.h(1)\n",
    "qc2.barrier([0, 1])\n",
    "qc2.cx(0, 1)\n",
    "qc2.measure_all()\n",
    "qc2.draw(\"mpl\")"
   ]
  },
  {
   "cell_type": "markdown",
   "metadata": {},
   "source": [
    "## 양자회로에서 값 얻어보기\n",
    "\n",
    "이제 양자 회로를 짜는 방법을 알아봤습니다.\n",
    "이 회로에서 값을 얻어봅시다. 다음의 과정을 거칩니다.\n",
    "\n",
    "1. 만든 양자 회로를 `transpile`을 거쳐 Simulator에 맞는 조합으로 바꾸기\n",
    "2. Simulator에서 값을 계산하기"
   ]
  },
  {
   "cell_type": "code",
   "execution_count": 10,
   "metadata": {},
   "outputs": [],
   "source": [
    "from qiskit import QuantumCircuit, transpile\n",
    "from qiskit_aer import AerSimulator\n",
    "from qiskit.visualization import plot_histogram"
   ]
  },
  {
   "cell_type": "code",
   "execution_count": 11,
   "metadata": {},
   "outputs": [],
   "source": [
    "# Transpile for simulator\n",
    "simulator = AerSimulator()\n",
    "circ = transpile(qc2, simulator) #\n",
    "\n",
    "# Run and get counts\n",
    "result = simulator.run(circ).result()\n",
    "counts = result.get_counts(circ)"
   ]
  },
  {
   "cell_type": "code",
   "execution_count": 12,
   "metadata": {},
   "outputs": [
    {
     "data": {
      "text/html": [
       "<pre style=\"word-wrap: normal;white-space: pre;background: #fff0;line-height: 1.1;font-family: &quot;Courier New&quot;,Courier,monospace\">        ┌───┐ ░       ░ ┌─┐   \n",
       "   q_0: ┤ X ├─░───■───░─┤M├───\n",
       "        ├───┤ ░ ┌─┴─┐ ░ └╥┘┌─┐\n",
       "   q_1: ┤ H ├─░─┤ X ├─░──╫─┤M├\n",
       "        └───┘ ░ └───┘ ░  ║ └╥┘\n",
       "meas: 2/═════════════════╩══╩═\n",
       "                         0  1 </pre>"
      ],
      "text/plain": [
       "        ┌───┐ ░       ░ ┌─┐   \n",
       "   q_0: ┤ X ├─░───■───░─┤M├───\n",
       "        ├───┤ ░ ┌─┴─┐ ░ └╥┘┌─┐\n",
       "   q_1: ┤ H ├─░─┤ X ├─░──╫─┤M├\n",
       "        └───┘ ░ └───┘ ░  ║ └╥┘\n",
       "meas: 2/═════════════════╩══╩═\n",
       "                         0  1 "
      ]
     },
     "execution_count": 12,
     "metadata": {},
     "output_type": "execute_result"
    }
   ],
   "source": [
    "qc2.draw()"
   ]
  },
  {
   "cell_type": "code",
   "execution_count": 9,
   "metadata": {},
   "outputs": [
    {
     "data": {
      "image/png": "[encoded data removed]",
      "text/plain": [
       "<Figure size 640x480 with 1 Axes>"
      ]
     },
     "execution_count": 9,
     "metadata": {},
     "output_type": "execute_result"
    }
   ],
   "source": [
    "plot_histogram(counts, title='Bell-State counts')"
   ]
  },
  {
   "cell_type": "markdown",
   "metadata": {},
   "source": [
    "# 요약\n",
    "\n",
    "양자회로를 짜고 측정하는 과정은 아래와 같이 이루어집니다."
   ]
  },
  {
   "cell_type": "code",
   "execution_count": 30,
   "metadata": {},
   "outputs": [
    {
     "data": {
      "image/png": "[encoded data removed]",
      "text/plain": [
       "<Figure size 998.442x535.111 with 1 Axes>"
      ]
     },
     "execution_count": 30,
     "metadata": {},
     "output_type": "execute_result"
    }
   ],
   "source": [
    "# 1. Qubit을 몇개를 쓸 지 정의합니다.\n",
    "qc = QuantumCircuit(5) # 우린 5개를 사용해보죠.\n",
    "# 2. 양자 게이트들을 회로에 적용해 봅니다.\n",
    "# ----- 이렇게 생긴 Circuit을 만들어 봅시다.\n",
    "qc.x(3)\n",
    "qc.h(0)\n",
    "qc.h(1)\n",
    "qc.h(3)\n",
    "qc.cx(3, 2)\n",
    "qc.cx(1, 4)\n",
    "qc.measure_all()\n",
    "# 3. `qc.draw()` 로 circuit을 확인해 봅시다.\n",
    "qc.draw(\"mpl\")"
   ]
  },
  {
   "cell_type": "code",
   "execution_count": 31,
   "metadata": {},
   "outputs": [],
   "source": [
    "# 4. 양자 회로를 돌릴 기기를 가져옵시다. 여기서는 Simulator입니다.\n",
    "simulator = AerSimulator()\n",
    "# 5. 우리가 만든 회로를 기기에 맞게 변형시켜 줍니다.\n",
    "circ = transpile(qc, simulator)\n",
    "# 6. 회로를 돌려서 결과를 얻읍시다.\n",
    "result = simulator.run(circ).result()\n"
   ]
  },
  {
   "cell_type": "code",
   "execution_count": 32,
   "metadata": {},
   "outputs": [],
   "source": [
    "# 7. 결과에서 다양한 값을 얻어 볼 수 있습니다.\n",
    "counts = result.get_counts(circ)"
   ]
  },
  {
   "cell_type": "code",
   "execution_count": 33,
   "metadata": {},
   "outputs": [
    {
     "data": {
      "image/png": "[encoded data removed]",
      "text/plain": [
       "<Figure size 640x480 with 1 Axes>"
      ]
     },
     "execution_count": 33,
     "metadata": {},
     "output_type": "execute_result"
    }
   ],
   "source": [
    "plot_histogram(counts, title='Counts the result.')"
   ]
  },
  {
   "cell_type": "markdown",
   "metadata": {},
   "source": [
    "## 해보기\n",
    "\n",
    "1. Qubit 2개를 쓴 회로를 만들어보세요, X, H, CNOT 3개를 조합해, (00, 11)이나 (10, 01) 만이 측정되는 회로를 만들어봅시다.\n",
    "2. 3개 qubit에서 (000, 111)만 측정되는 회로를 만들어봅시다.\n",
    "3. 위에서 말한 게이트 외에 다양한 게이트가 있습니다. Qiskit 홈페이지에서 gate를 찾아보고 적용해 본 뒤, 어떤 변화가 생기는 지 말해 보세요. 어떤 게이트는 qubit이 1개 일때는 별 영향이 없다가 2개 이상이면 영향이 생기는 것도 있습니다."
   ]
  },
  {
   "cell_type": "markdown",
   "metadata": {},
   "source": [
    "---"
   ]
  },
  {
   "cell_type": "code",
   "execution_count": 7,
   "metadata": {},
   "outputs": [
    {
     "data": {
      "image/png": "[encoded data removed]",
      "text/plain": [
       "<Figure size 454.719x367.889 with 1 Axes>"
      ]
     },
     "execution_count": 7,
     "metadata": {},
     "output_type": "execute_result"
    }
   ],
   "source": [
    "from qiskit.circuit.library import CRZGate\n",
    "import numpy as np\n",
    "crz_t1 = CRZGate(np.pi)\n",
    "\n",
    "qc= QuantumCircuit(4)\n",
    "qc.append(crz_t1, [0, 1])\n",
    "\n",
    "qc.barrier([0,1])\n",
    "\n",
    "qc.append(CRZGate(np.pi/4), [1, 0])\n",
    "qc.h(3)\n",
    "qc.append(crz_t1, [0, 3])\n",
    "qc.draw(\"mpl\")\n"
   ]
  },
  {
   "cell_type": "code",
   "execution_count": 5,
   "metadata": {},
   "outputs": [],
   "source": [
    "# Get basic gates\n",
    "from qiskit.circuit.library import HGate, CXGate\n",
    "from qiskit import QuantumCircuit\n",
    "\n",
    "HG = HGate()"
   ]
  },
  {
   "cell_type": "code",
   "execution_count": 6,
   "metadata": {},
   "outputs": [
    {
     "data": {
      "image/png": "[encoded data removed]",
      "text/plain": [
       "<Figure size 203.683x200.667 with 1 Axes>"
      ]
     },
     "execution_count": 6,
     "metadata": {},
     "output_type": "execute_result"
    }
   ],
   "source": [
    "qc = QuantumCircuit(2) # number of qubits\n",
    "qc.append(HG, [0])\n",
    "qc.draw('mpl')"
   ]
  },
  {
   "cell_type": "code",
   "execution_count": 4,
   "metadata": {},
   "outputs": [
    {
     "data": {
      "text/html": [
       "<pre style=\"word-wrap: normal;white-space: pre;background: #fff0;line-height: 1.1;font-family: &quot;Courier New&quot;,Courier,monospace\">     ┌───┐\n",
       "q_0: ┤ H ├\n",
       "     └───┘\n",
       "q_1: ─────\n",
       "          </pre>"
      ],
      "text/plain": [
       "     ┌───┐\n",
       "q_0: ┤ H ├\n",
       "     └───┘\n",
       "q_1: ─────\n",
       "          "
      ]
     },
     "execution_count": 4,
     "metadata": {},
     "output_type": "execute_result"
    }
   ],
   "source": [
    "qc.draw()"
   ]
  },
  {
   "cell_type": "code",
   "execution_count": 16,
   "metadata": {},
   "outputs": [
    {
     "data": {
      "image/png": "[encoded data removed]",
      "text/plain": [
       "<Figure size 538.128x284.278 with 1 Axes>"
      ]
     },
     "execution_count": 16,
     "metadata": {},
     "output_type": "execute_result"
    }
   ],
   "source": [
    "# Some standard gates inherited in circuit.\n",
    "qc = QuantumCircuit(2, 2) # 2 qubit, 2 classic bit\n",
    "qc.x(1)\n",
    "qc.h(range(2))\n",
    "qc.cz(0, 1)\n",
    "qc.measure([0,1], [0, 1])\n",
    "qc.draw('mpl')"
   ]
  },
  {
   "cell_type": "markdown",
   "metadata": {},
   "source": [
    "### Gate and matrix"
   ]
  },
  {
   "cell_type": "code",
   "execution_count": 37,
   "metadata": {},
   "outputs": [],
   "source": [
    "from qiskit.circuit.library import (\n",
    "    XGate, YGate, ZGate,\n",
    "    TGate, SGate, HGate, \n",
    "    RXGate, RZGate, RYGate,\n",
    "    CXGate, CZGate)\n",
    "X = XGate()\n",
    "Y = YGate()\n",
    "Z = ZGate()\n",
    "T = TGate()\n",
    "S = SGate()\n",
    "H = HGate()"
   ]
  },
  {
   "cell_type": "markdown",
   "metadata": {},
   "source": [
    "## Matrix representation"
   ]
  },
  {
   "cell_type": "markdown",
   "metadata": {},
   "source": [
    "The all gate on the circuit and also the ciruit itself a giant unitary matrix.\n",
    "We can transform the gate into matrix form and the given matrix into the gate."
   ]
  },
  {
   "cell_type": "code",
   "execution_count": 38,
   "metadata": {},
   "outputs": [
    {
     "data": {
      "text/plain": [
       "(matrix([[0.+0.j, 1.+0.j],\n",
       "         [1.+0.j, 0.+0.j]]),\n",
       " matrix([[1.        +0.j        , 0.        +0.j        ],\n",
       "         [0.        +0.j        , 0.70710678+0.70710678j]]))"
      ]
     },
     "execution_count": 38,
     "metadata": {},
     "output_type": "execute_result"
    }
   ],
   "source": [
    "# numpy\n",
    "# Each gate in Qiskit library are \n",
    "# itself compatible with numpy routine.\n",
    "np.matrix(X), np.matrix(T)"
   ]
  },
  {
   "cell_type": "code",
   "execution_count": 39,
   "metadata": {},
   "outputs": [
    {
     "data": {
      "text/plain": [
       "array([[0.+0.j, 1.+0.j],\n",
       "       [1.+0.j, 0.+0.j]])"
      ]
     },
     "execution_count": 39,
     "metadata": {},
     "output_type": "execute_result"
    }
   ],
   "source": [
    "# Gate subroutine\n",
    "# Qiskit provides matrix representation which is embeded in the Gate class.\n",
    "X.to_matrix() "
   ]
  },
  {
   "cell_type": "code",
   "execution_count": 40,
   "metadata": {},
   "outputs": [
    {
     "data": {
      "text/plain": [
       "array([[ 0.70710678+0.j,  0.70710678+0.j],\n",
       "       [ 0.70710678+0.j, -0.70710678+0.j]])"
      ]
     },
     "execution_count": 40,
     "metadata": {},
     "output_type": "execute_result"
    }
   ],
   "source": [
    "H.to_matrix()"
   ]
  },
  {
   "cell_type": "code",
   "execution_count": 41,
   "metadata": {},
   "outputs": [
    {
     "data": {
      "text/plain": [
       "matrix([[ 0.70710678,  0.70710678],\n",
       "        [ 0.70710678, -0.70710678]])"
      ]
     },
     "execution_count": 41,
     "metadata": {},
     "output_type": "execute_result"
    }
   ],
   "source": [
    "(1/np.sqrt(2))*np.matrix([\n",
    "    [1,1],\n",
    "    [1,-1]\n",
    "])"
   ]
  },
  {
   "cell_type": "markdown",
   "metadata": {},
   "source": [
    "### Gate power\n",
    "\n",
    "Single gate can be decomposed to several gates\n",
    "\n",
    "$$U = (U^{1/n})^n$$\n",
    "\n",
    "The $n$ could be real number. It does not have to be integer in all case.\n",
    "Qiskit provides the `power()` routine to decompose the single gate and reversely, the method can compose the several iterative gate."
   ]
  },
  {
   "cell_type": "code",
   "execution_count": 29,
   "metadata": {},
   "outputs": [
    {
     "data": {
      "text/plain": [
       "array([[0.+0.j, 1.+0.j],\n",
       "       [1.+0.j, 0.+0.j]])"
      ]
     },
     "execution_count": 29,
     "metadata": {},
     "output_type": "execute_result"
    }
   ],
   "source": [
    "X.to_matrix()"
   ]
  },
  {
   "cell_type": "code",
   "execution_count": 30,
   "metadata": {},
   "outputs": [
    {
     "data": {
      "text/plain": [
       "array([[-9.33118602e-16-2.12152338e-16j,  1.00000000e+00-1.20914569e-16j],\n",
       "       [ 1.00000000e+00-1.03718708e-16j, -6.44407220e-16+4.09030040e-16j]])"
      ]
     },
     "execution_count": 30,
     "metadata": {},
     "output_type": "execute_result"
    }
   ],
   "source": [
    "X1_3 = X.power(1/3).to_matrix() # (X)^{1/3}\n",
    "X1_3@X1_3@X1_3"
   ]
  },
  {
   "cell_type": "code",
   "execution_count": 31,
   "metadata": {},
   "outputs": [
    {
     "data": {
      "text/plain": [
       "array([[0.+0.j, 1.+0.j],\n",
       "       [1.+0.j, 0.+0.j]])"
      ]
     },
     "execution_count": 31,
     "metadata": {},
     "output_type": "execute_result"
    }
   ],
   "source": [
    "X3 = X.power(3).to_matrix() # X^3, it must be X\n",
    "X3"
   ]
  },
  {
   "cell_type": "markdown",
   "metadata": {},
   "source": [
    "## Circuit to gate"
   ]
  },
  {
   "cell_type": "markdown",
   "metadata": {},
   "source": [
    "As we first mentioned, a circuit itself a giant uniatry gate.\n",
    "Qiskit provides a routine to convert the circuit into the single gate.\n",
    "\n",
    "For example, let's implement a tensor product of several matrix with circuit."
   ]
  },
  {
   "cell_type": "code",
   "execution_count": 66,
   "metadata": {},
   "outputs": [],
   "source": [
    "from qiskit import QuantumCircuit\n",
    "from qiskit.circuit.library import HGate, XGate\n",
    "from qiskit.quantum_info import Operator # For the ciruit to matrix\n",
    "from scipy.linalg import kron as tensor_product"
   ]
  },
  {
   "cell_type": "code",
   "execution_count": 46,
   "metadata": {},
   "outputs": [],
   "source": [
    "h = HGate().to_matrix()\n",
    "x = XGate().to_matrix()"
   ]
  },
  {
   "cell_type": "code",
   "execution_count": 47,
   "metadata": {},
   "outputs": [
    {
     "data": {
      "text/plain": [
       "array([[ 0.        +0.j,  0.70710678+0.j,  0.        +0.j,\n",
       "         0.70710678+0.j],\n",
       "       [ 0.70710678+0.j,  0.        +0.j,  0.70710678+0.j,\n",
       "         0.        +0.j],\n",
       "       [ 0.        +0.j,  0.70710678+0.j, -0.        +0.j,\n",
       "        -0.70710678+0.j],\n",
       "       [ 0.70710678+0.j,  0.        +0.j, -0.70710678+0.j,\n",
       "        -0.        +0.j]])"
      ]
     },
     "execution_count": 47,
     "metadata": {},
     "output_type": "execute_result"
    }
   ],
   "source": [
    "tensor_product(h, x)"
   ]
  },
  {
   "cell_type": "code",
   "execution_count": 64,
   "metadata": {},
   "outputs": [
    {
     "data": {
      "text/html": [
       "<pre style=\"word-wrap: normal;white-space: pre;background: #fff0;line-height: 1.1;font-family: &quot;Courier New&quot;,Courier,monospace\">     ┌───┐\n",
       "q_0: ┤ H ├\n",
       "     ├───┤\n",
       "q_1: ┤ X ├\n",
       "     └───┘</pre>"
      ],
      "text/plain": [
       "     ┌───┐\n",
       "q_0: ┤ H ├\n",
       "     ├───┤\n",
       "q_1: ┤ X ├\n",
       "     └───┘"
      ]
     },
     "execution_count": 64,
     "metadata": {},
     "output_type": "execute_result"
    }
   ],
   "source": [
    "qc = QuantumCircuit(2)\n",
    "qc.h(0)\n",
    "qc.x(1)\n",
    "qc.draw()"
   ]
  },
  {
   "cell_type": "code",
   "execution_count": 68,
   "metadata": {},
   "outputs": [
    {
     "data": {
      "text/plain": [
       "array([[ 0.        +0.j,  0.        +0.j,  0.70710678+0.j,\n",
       "         0.70710678+0.j],\n",
       "       [ 0.        +0.j,  0.        +0.j,  0.70710678+0.j,\n",
       "        -0.70710678+0.j],\n",
       "       [ 0.70710678+0.j,  0.70710678+0.j,  0.        +0.j,\n",
       "         0.        +0.j],\n",
       "       [ 0.70710678+0.j, -0.70710678+0.j,  0.        +0.j,\n",
       "         0.        +0.j]])"
      ]
     },
     "execution_count": 68,
     "metadata": {},
     "output_type": "execute_result"
    }
   ],
   "source": [
    "# The circuit has a routine 'to_matrix'.\n",
    "\n",
    "Operator(qc).to_matrix()"
   ]
  },
  {
   "cell_type": "markdown",
   "metadata": {},
   "source": [
    "### Tensor Product"
   ]
  },
  {
   "cell_type": "markdown",
   "metadata": {},
   "source": [
    "## Hamiltonian"
   ]
  },
  {
   "cell_type": "code",
   "execution_count": 23,
   "metadata": {},
   "outputs": [],
   "source": [
    "from qiskit.circuit.library import HamiltonianGate\n",
    "import numpy as np\n",
    "from scipy.linalg import expm"
   ]
  },
  {
   "cell_type": "code",
   "execution_count": 21,
   "metadata": {},
   "outputs": [],
   "source": [
    "H = np.matrix([\n",
    "    [0, 1, 4, 7],\n",
    "    [1, 0, 5, 3],\n",
    "    [4, 5, 0, 1],\n",
    "    [7, 3, 1, 0]\n",
    "    ], dtype=complex)\n",
    "t = 0.2\n",
    "hgate = HamiltonianGate(H, t)"
   ]
  },
  {
   "cell_type": "code",
   "execution_count": 25,
   "metadata": {},
   "outputs": [
    {
     "data": {
      "text/plain": [
       "array([[ 0.04380594+0.12558268j, -0.56921777-0.05412968j,\n",
       "        -0.13590766-0.28229904j, -0.03772989-0.74550919j],\n",
       "       [-0.56921777-0.05412968j,  0.48049057+0.10873281j,\n",
       "        -0.05412736-0.61527073j, -0.14470045-0.16715571j],\n",
       "       [-0.13590766-0.28229904j, -0.05412736-0.61527073j,\n",
       "         0.38177938+0.12137779j, -0.59736931-0.05486675j],\n",
       "       [-0.03772989-0.74550919j, -0.14470045-0.16715571j,\n",
       "        -0.59736931-0.05486675j,  0.14246547+0.11728763j]])"
      ]
     },
     "execution_count": 25,
     "metadata": {},
     "output_type": "execute_result"
    }
   ],
   "source": [
    "# Scipy matrix exponential.\n",
    "expm(-1j*H*t)"
   ]
  },
  {
   "cell_type": "code",
   "execution_count": 26,
   "metadata": {},
   "outputs": [
    {
     "data": {
      "text/plain": [
       "array([[ 0.04380594+0.12558268j, -0.56921777-0.05412968j,\n",
       "        -0.13590766-0.28229904j, -0.03772989-0.74550919j],\n",
       "       [-0.56921777-0.05412968j,  0.48049057+0.10873281j,\n",
       "        -0.05412736-0.61527073j, -0.14470045-0.16715571j],\n",
       "       [-0.13590766-0.28229904j, -0.05412736-0.61527073j,\n",
       "         0.38177938+0.12137779j, -0.59736931-0.05486675j],\n",
       "       [-0.03772989-0.74550919j, -0.14470045-0.16715571j,\n",
       "        -0.59736931-0.05486675j,  0.14246547+0.11728763j]])"
      ]
     },
     "execution_count": 26,
     "metadata": {},
     "output_type": "execute_result"
    }
   ],
   "source": [
    "hgate.to_matrix()"
   ]
  },
  {
   "cell_type": "markdown",
   "metadata": {},
   "source": [
    "from cir"
   ]
  },
  {
   "cell_type": "markdown",
   "metadata": {},
   "source": [
    "## Measurement"
   ]
  },
  {
   "cell_type": "code",
   "execution_count": null,
   "metadata": {},
   "outputs": [],
   "source": [
    "from qiskit import execute, Aer, transpile\n",
    "aer_state_sim = Aer.get_backend('statevector_simulator') # Simulator"
   ]
  },
  {
   "cell_type": "code",
   "execution_count": null,
   "metadata": {},
   "outputs": [],
   "source": [
    "job = execute(qc, aer_state_sim) \n",
    "psi = job.result().get_statevector(qc) # Get state vector"
   ]
  },
  {
   "cell_type": "markdown",
   "metadata": {},
   "source": [
    "$$\\langle \\psi | H | \\psi \\rangle$$"
   ]
  },
  {
   "cell_type": "code",
   "execution_count": null,
   "metadata": {},
   "outputs": [],
   "source": []
  },
  {
   "cell_type": "markdown",
   "metadata": {},
   "source": [
    "## Drawing a circuit\n",
    "\n",
    "See details in `Visualize circuits`.\n"
   ]
  },
  {
   "cell_type": "code",
   "execution_count": 69,
   "metadata": {},
   "outputs": [],
   "source": [
    "from qiskit import QuantumCircuit"
   ]
  },
  {
   "cell_type": "code",
   "execution_count": 71,
   "metadata": {},
   "outputs": [],
   "source": [
    "# Prepare circuit\n",
    "qc = QuantumCircuit(3)\n",
    "qc.h([0, 1])\n",
    "qc.x([2])\n",
    "qc.rx(0.5, [0])\n",
    "qc.cx(0, 1)\n",
    "qc.measure_all()"
   ]
  },
  {
   "cell_type": "code",
   "execution_count": 72,
   "metadata": {},
   "outputs": [
    {
     "data": {
      "text/html": [
       "<pre style=\"word-wrap: normal;white-space: pre;background: #fff0;line-height: 1.1;font-family: &quot;Courier New&quot;,Courier,monospace\">        ┌───┐┌─────────┐      ░ ┌─┐      \n",
       "   q_0: ┤ H ├┤ Rx(0.5) ├──■───░─┤M├──────\n",
       "        ├───┤└─────────┘┌─┴─┐ ░ └╥┘┌─┐   \n",
       "   q_1: ┤ H ├───────────┤ X ├─░──╫─┤M├───\n",
       "        ├───┤           └───┘ ░  ║ └╥┘┌─┐\n",
       "   q_2: ┤ X ├─────────────────░──╫──╫─┤M├\n",
       "        └───┘                 ░  ║  ║ └╥┘\n",
       "meas: 3/═════════════════════════╩══╩══╩═\n",
       "                                 0  1  2 </pre>"
      ],
      "text/plain": [
       "        ┌───┐┌─────────┐      ░ ┌─┐      \n",
       "   q_0: ┤ H ├┤ Rx(0.5) ├──■───░─┤M├──────\n",
       "        ├───┤└─────────┘┌─┴─┐ ░ └╥┘┌─┐   \n",
       "   q_1: ┤ H ├───────────┤ X ├─░──╫─┤M├───\n",
       "        ├───┤           └───┘ ░  ║ └╥┘┌─┐\n",
       "   q_2: ┤ X ├─────────────────░──╫──╫─┤M├\n",
       "        └───┘                 ░  ║  ║ └╥┘\n",
       "meas: 3/═════════════════════════╩══╩══╩═\n",
       "                                 0  1  2 "
      ]
     },
     "execution_count": 72,
     "metadata": {},
     "output_type": "execute_result"
    }
   ],
   "source": [
    "# ASCII code\n",
    "qc.draw()"
   ]
  },
  {
   "cell_type": "code",
   "execution_count": 73,
   "metadata": {},
   "outputs": [
    {
     "name": "stdout",
     "output_type": "stream",
     "text": [
      "        ┌───┐┌─────────┐      ░ ┌─┐      \n",
      "   q_0: ┤ H ├┤ Rx(0.5) ├──■───░─┤M├──────\n",
      "        ├───┤└─────────┘┌─┴─┐ ░ └╥┘┌─┐   \n",
      "   q_1: ┤ H ├───────────┤ X ├─░──╫─┤M├───\n",
      "        ├───┤           └───┘ ░  ║ └╥┘┌─┐\n",
      "   q_2: ┤ X ├─────────────────░──╫──╫─┤M├\n",
      "        └───┘                 ░  ║  ║ └╥┘\n",
      "meas: 3/═════════════════════════╩══╩══╩═\n",
      "                                 0  1  2 \n"
     ]
    }
   ],
   "source": [
    "print(qc) #QC itself has a string representation."
   ]
  },
  {
   "cell_type": "markdown",
   "metadata": {},
   "source": [
    "### Matplotlib"
   ]
  },
  {
   "cell_type": "code",
   "execution_count": 87,
   "metadata": {},
   "outputs": [],
   "source": [
    "import matplotlib.pyplot as plt\n",
    "from IPython.display import display"
   ]
  },
  {
   "cell_type": "code",
   "execution_count": 88,
   "metadata": {},
   "outputs": [],
   "source": [
    "fig = qc.draw(output=\"mpl\") # returen a matplotlib figure object."
   ]
  },
  {
   "cell_type": "code",
   "execution_count": 86,
   "metadata": {},
   "outputs": [
    {
     "data": {
      "image/png": "[encoded data removed]",
      "text/plain": [
       "<Figure size 747.609x367.889 with 1 Axes>"
      ]
     },
     "metadata": {},
     "output_type": "display_data"
    }
   ],
   "source": [
    "display(fig)"
   ]
  },
  {
   "cell_type": "code",
   "execution_count": 89,
   "metadata": {},
   "outputs": [],
   "source": [
    "# save to file\n",
    "fig.savefig(\"quantum_circuit.pdf\", backend=\"pgf\")"
   ]
  },
  {
   "cell_type": "markdown",
   "metadata": {},
   "source": [
    "You can set various style of the gate, line, measurement in the drawing."
   ]
  },
  {
   "cell_type": "markdown",
   "metadata": {},
   "source": [
    "### Latex \n",
    "\n",
    "The renderer requires latex program in the system.\n",
    "You can install the next latex packages.\n",
    "\n",
    "- TexLive\n",
    "- MiKTeX\n",
    "- TinyTex\n",
    "\n",
    "In addition, the poppler library is required for renderer."
   ]
  },
  {
   "cell_type": "code",
   "execution_count": null,
   "metadata": {},
   "outputs": [],
   "source": [
    "# Latex as lenderer\n",
    "# qc.draw(output=\"latex\")"
   ]
  },
  {
   "cell_type": "markdown",
   "metadata": {},
   "source": []
  }
 ],
 "metadata": {
  "kernelspec": {
   "display_name": "quantum_computer",
   "language": "python",
   "name": "python3"
  },
  "language_info": {
   "codemirror_mode": {
    "name": "ipython",
    "version": 3
   },
   "file_extension": ".py",
   "mimetype": "text/x-python",
   "name": "python",
   "nbconvert_exporter": "python",
   "pygments_lexer": "ipython3",
   "version": "3.11.4"
  }
 },
 "nbformat": 4,
 "nbformat_minor": 2
}
