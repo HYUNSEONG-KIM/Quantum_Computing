{
 "cells": [
  {
   "cell_type": "code",
   "execution_count": 27,
   "metadata": {},
   "outputs": [
    {
     "data": {
      "text/plain": [
       "c_ulong(4294967295)"
      ]
     },
     "execution_count": 27,
     "metadata": {},
     "output_type": "execute_result"
    }
   ],
   "source": [
    "import ctypes\n",
    "ctypes.c_ulong(-1)"
   ]
  },
  {
   "cell_type": "code",
   "execution_count": 62,
   "metadata": {},
   "outputs": [],
   "source": [
    "next = ctypes.c_uint(1)\n",
    "c_c1 = ctypes.c_uint(1103515245)\n",
    "c_c2 = ctypes.c_uint(12345)\n",
    "c_c3 = ctypes.c_uint(65536)\n",
    "c_c4 = ctypes.c_uint(32768)\n"
   ]
  },
  {
   "cell_type": "code",
   "execution_count": 63,
   "metadata": {},
   "outputs": [],
   "source": [
    "def rand():\n",
    "    global next\n",
    "    next.value = next.value *c_c1.value + c_c2.value\n",
    "    return ctypes.c_uint(int(next.value/c_c3.value)%c_c4.value).value\n",
    "def srand(seed):\n",
    "    global next\n",
    "    next.value = ctypes.c_uint(seed).value\n",
    "    return None"
   ]
  },
  {
   "cell_type": "code",
   "execution_count": 64,
   "metadata": {},
   "outputs": [],
   "source": [
    "srand(1430)"
   ]
  },
  {
   "cell_type": "code",
   "execution_count": 65,
   "metadata": {},
   "outputs": [
    {
     "data": {
      "text/plain": [
       "27066"
      ]
     },
     "execution_count": 65,
     "metadata": {},
     "output_type": "execute_result"
    }
   ],
   "source": [
    "rand()"
   ]
  },
  {
   "cell_type": "code",
   "execution_count": 67,
   "metadata": {},
   "outputs": [
    {
     "name": "stdout",
     "output_type": "stream",
     "text": [
      "810\n",
      "18865\n",
      "14091\n",
      "11073\n",
      "14103\n",
      "22867\n",
      "11294\n",
      "11634\n",
      "7374\n",
      "20798\n",
      "22418\n",
      "8080\n",
      "27292\n",
      "13437\n",
      "30287\n",
      "12321\n",
      "19693\n",
      "12215\n",
      "14174\n",
      "26217\n"
     ]
    }
   ],
   "source": [
    "for i in range(0, 20):\n",
    "    print(rand())"
   ]
  },
  {
   "cell_type": "code",
   "execution_count": null,
   "metadata": {},
   "outputs": [],
   "source": []
  }
 ],
 "metadata": {
  "kernelspec": {
   "display_name": "Python 3",
   "language": "python",
   "name": "python3"
  },
  "language_info": {
   "codemirror_mode": {
    "name": "ipython",
    "version": 3
   },
   "file_extension": ".py",
   "mimetype": "text/x-python",
   "name": "python",
   "nbconvert_exporter": "python",
   "pygments_lexer": "ipython3",
   "version": "3.11.4"
  },
  "orig_nbformat": 4
 },
 "nbformat": 4,
 "nbformat_minor": 2
}
