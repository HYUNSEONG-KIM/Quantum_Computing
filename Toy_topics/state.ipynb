{
 "cells": [
  {
   "cell_type": "code",
   "execution_count": 10,
   "metadata": {},
   "outputs": [],
   "source": [
    "import sympy as sp\n",
    "from sympy import tensorproduct as tp\n",
    "import numpy as np"
   ]
  },
  {
   "cell_type": "code",
   "execution_count": 11,
   "metadata": {},
   "outputs": [],
   "source": [
    "zero = sp.Matrix([1, 0 ])\n",
    "one = sp.Matrix([0, 1])"
   ]
  },
  {
   "cell_type": "code",
   "execution_count": 12,
   "metadata": {},
   "outputs": [],
   "source": [
    "map_dict = {\"0\": zero, \"1\": one}"
   ]
  },
  {
   "cell_type": "code",
   "execution_count": 19,
   "metadata": {},
   "outputs": [],
   "source": [
    "def f(s):\n",
    "    return tp(*[ map_dict[b] for b in s ])"
   ]
  },
  {
   "cell_type": "code",
   "execution_count": 21,
   "metadata": {},
   "outputs": [
    {
     "data": {
      "text/latex": [
       "$\\displaystyle \\left[\\begin{matrix}\\left[\\begin{matrix}\\left[\\begin{matrix}\\left[\\begin{matrix}0\\\\0\\end{matrix}\\right]\\\\\\left[\\begin{matrix}0\\\\0\\end{matrix}\\right]\\end{matrix}\\right]\\\\\\left[\\begin{matrix}\\left[\\begin{matrix}0\\\\1\\end{matrix}\\right]\\\\\\left[\\begin{matrix}0\\\\0\\end{matrix}\\right]\\end{matrix}\\right]\\end{matrix}\\right]\\\\\\left[\\begin{matrix}\\left[\\begin{matrix}\\left[\\begin{matrix}0\\\\0\\end{matrix}\\right]\\\\\\left[\\begin{matrix}0\\\\0\\end{matrix}\\right]\\end{matrix}\\right]\\\\\\left[\\begin{matrix}\\left[\\begin{matrix}0\\\\0\\end{matrix}\\right]\\\\\\left[\\begin{matrix}0\\\\0\\end{matrix}\\right]\\end{matrix}\\right]\\end{matrix}\\right]\\end{matrix}\\right]$"
      ],
      "text/plain": [
       "[[[[[[[[0], [0]]], [[[0], [0]]]]], [[[[[0], [1]]], [[[0], [0]]]]]]], [[[[[[[0], [0]]], [[[0], [0]]]]], [[[[[0], [0]]], [[[0], [0]]]]]]]]"
      ]
     },
     "execution_count": 21,
     "metadata": {},
     "output_type": "execute_result"
    }
   ],
   "source": [
    "f(\"0101\")"
   ]
  },
  {
   "cell_type": "code",
   "execution_count": 26,
   "metadata": {},
   "outputs": [],
   "source": [
    "n = 4\n",
    "li = []\n",
    "for i in range(0, 2**n):\n",
    "    s = bin(i).replace(\"0b\", \"\")\n",
    "    l = len(s)\n",
    "    s = (n-l)*\"0\"+s\n",
    "    li.append(f(s))"
   ]
  },
  {
   "cell_type": "code",
   "execution_count": 27,
   "metadata": {},
   "outputs": [
    {
     "name": "stdout",
     "output_type": "stream",
     "text": [
      "[[[[[[[[[1], [0]]], [[[0], [0]]]]], [[[[[0], [0]]], [[[0], [0]]]]]]], [[[[[[[0], [0]]], [[[0], [0]]]]], [[[[[0], [0]]], [[[0], [0]]]]]]]], [[[[[[[[0], [1]]], [[[0], [0]]]]], [[[[[0], [0]]], [[[0], [0]]]]]]], [[[[[[[0], [0]]], [[[0], [0]]]]], [[[[[0], [0]]], [[[0], [0]]]]]]]], [[[[[[[[0], [0]]], [[[1], [0]]]]], [[[[[0], [0]]], [[[0], [0]]]]]]], [[[[[[[0], [0]]], [[[0], [0]]]]], [[[[[0], [0]]], [[[0], [0]]]]]]]], [[[[[[[[0], [0]]], [[[0], [1]]]]], [[[[[0], [0]]], [[[0], [0]]]]]]], [[[[[[[0], [0]]], [[[0], [0]]]]], [[[[[0], [0]]], [[[0], [0]]]]]]]], [[[[[[[[0], [0]]], [[[0], [0]]]]], [[[[[1], [0]]], [[[0], [0]]]]]]], [[[[[[[0], [0]]], [[[0], [0]]]]], [[[[[0], [0]]], [[[0], [0]]]]]]]], [[[[[[[[0], [0]]], [[[0], [0]]]]], [[[[[0], [1]]], [[[0], [0]]]]]]], [[[[[[[0], [0]]], [[[0], [0]]]]], [[[[[0], [0]]], [[[0], [0]]]]]]]], [[[[[[[[0], [0]]], [[[0], [0]]]]], [[[[[0], [0]]], [[[1], [0]]]]]]], [[[[[[[0], [0]]], [[[0], [0]]]]], [[[[[0], [0]]], [[[0], [0]]]]]]]], [[[[[[[[0], [0]]], [[[0], [0]]]]], [[[[[0], [0]]], [[[0], [1]]]]]]], [[[[[[[0], [0]]], [[[0], [0]]]]], [[[[[0], [0]]], [[[0], [0]]]]]]]], [[[[[[[[0], [0]]], [[[0], [0]]]]], [[[[[0], [0]]], [[[0], [0]]]]]]], [[[[[[[1], [0]]], [[[0], [0]]]]], [[[[[0], [0]]], [[[0], [0]]]]]]]], [[[[[[[[0], [0]]], [[[0], [0]]]]], [[[[[0], [0]]], [[[0], [0]]]]]]], [[[[[[[0], [1]]], [[[0], [0]]]]], [[[[[0], [0]]], [[[0], [0]]]]]]]], [[[[[[[[0], [0]]], [[[0], [0]]]]], [[[[[0], [0]]], [[[0], [0]]]]]]], [[[[[[[0], [0]]], [[[1], [0]]]]], [[[[[0], [0]]], [[[0], [0]]]]]]]], [[[[[[[[0], [0]]], [[[0], [0]]]]], [[[[[0], [0]]], [[[0], [0]]]]]]], [[[[[[[0], [0]]], [[[0], [1]]]]], [[[[[0], [0]]], [[[0], [0]]]]]]]], [[[[[[[[0], [0]]], [[[0], [0]]]]], [[[[[0], [0]]], [[[0], [0]]]]]]], [[[[[[[0], [0]]], [[[0], [0]]]]], [[[[[1], [0]]], [[[0], [0]]]]]]]], [[[[[[[[0], [0]]], [[[0], [0]]]]], [[[[[0], [0]]], [[[0], [0]]]]]]], [[[[[[[0], [0]]], [[[0], [0]]]]], [[[[[0], [1]]], [[[0], [0]]]]]]]], [[[[[[[[0], [0]]], [[[0], [0]]]]], [[[[[0], [0]]], [[[0], [0]]]]]]], [[[[[[[0], [0]]], [[[0], [0]]]]], [[[[[0], [0]]], [[[1], [0]]]]]]]], [[[[[[[[0], [0]]], [[[0], [0]]]]], [[[[[0], [0]]], [[[0], [0]]]]]]], [[[[[[[0], [0]]], [[[0], [0]]]]], [[[[[0], [0]]], [[[0], [1]]]]]]]]]\n"
     ]
    }
   ],
   "source": [
    "print(li)"
   ]
  },
  {
   "cell_type": "code",
   "execution_count": null,
   "metadata": {},
   "outputs": [],
   "source": []
  }
 ],
 "metadata": {
  "kernelspec": {
   "display_name": "Python 3",
   "language": "python",
   "name": "python3"
  },
  "language_info": {
   "codemirror_mode": {
    "name": "ipython",
    "version": 3
   },
   "file_extension": ".py",
   "mimetype": "text/x-python",
   "name": "python",
   "nbconvert_exporter": "python",
   "pygments_lexer": "ipython3",
   "version": "3.11.3"
  },
  "orig_nbformat": 4
 },
 "nbformat": 4,
 "nbformat_minor": 2
}
