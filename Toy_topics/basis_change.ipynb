{
 "cells": [
  {
   "cell_type": "code",
   "execution_count": 55,
   "metadata": {},
   "outputs": [],
   "source": [
    "import numpy as np\n",
    "from typing import Tuple, Literal"
   ]
  },
  {
   "cell_type": "code",
   "execution_count": 57,
   "metadata": {},
   "outputs": [],
   "source": [
    "from utils import get_state_strings, convolve2d"
   ]
  },
  {
   "cell_type": "code",
   "execution_count": 58,
   "metadata": {},
   "outputs": [
    {
     "data": {
      "text/plain": [
       "['0000',\n",
       " '0001',\n",
       " '0010',\n",
       " '0011',\n",
       " '0100',\n",
       " '0101',\n",
       " '0110',\n",
       " '0111',\n",
       " '1000',\n",
       " '1001',\n",
       " '1010',\n",
       " '1011',\n",
       " '1100',\n",
       " '1101',\n",
       " '1110',\n",
       " '1111']"
      ]
     },
     "execution_count": 58,
     "metadata": {},
     "output_type": "execute_result"
    }
   ],
   "source": [
    "sst4 = get_state_strings(4)\n",
    "sst4"
   ]
  },
  {
   "cell_type": "code",
   "execution_count": 59,
   "metadata": {},
   "outputs": [],
   "source": [
    "c = [] # computational basis\n",
    "for i, state in enumerate(sst4):\n",
    "    c.append(np.array([int(s) for s in state]))"
   ]
  },
  {
   "cell_type": "code",
   "execution_count": 60,
   "metadata": {},
   "outputs": [
    {
     "data": {
      "text/plain": [
       "[array([0, 0, 0, 0]),\n",
       " array([0, 0, 0, 1]),\n",
       " array([0, 0, 1, 0]),\n",
       " array([0, 0, 1, 1]),\n",
       " array([0, 1, 0, 0]),\n",
       " array([0, 1, 0, 1]),\n",
       " array([0, 1, 1, 0]),\n",
       " array([0, 1, 1, 1]),\n",
       " array([1, 0, 0, 0]),\n",
       " array([1, 0, 0, 1]),\n",
       " array([1, 0, 1, 0]),\n",
       " array([1, 0, 1, 1]),\n",
       " array([1, 1, 0, 0]),\n",
       " array([1, 1, 0, 1]),\n",
       " array([1, 1, 1, 0]),\n",
       " array([1, 1, 1, 1])]"
      ]
     },
     "execution_count": 60,
     "metadata": {},
     "output_type": "execute_result"
    }
   ],
   "source": [
    "c"
   ]
  },
  {
   "cell_type": "code",
   "execution_count": 61,
   "metadata": {},
   "outputs": [],
   "source": [
    "g= [\n",
    "    ((c[sst4.index(\"0000\")] + c[sst4.index(\"0101\")] + c[sst4.index(\"1010\")] + c[sst4.index(\"1111\")])/2).astype(int),\n",
    "    ((c[sst4.index(\"0000\")] + c[sst4.index(\"0101\")] - c[sst4.index(\"1010\")] - c[sst4.index(\"1111\")])/2).astype(int),\n",
    "    ((c[sst4.index(\"0000\")] - c[sst4.index(\"0101\")] + c[sst4.index(\"1010\")] - c[sst4.index(\"1111\")])/2).astype(int),\n",
    "    ((c[sst4.index(\"0000\")] - c[sst4.index(\"0101\")] - c[sst4.index(\"1010\")] + c[sst4.index(\"1111\")])/2).astype(int),\n",
    "    \n",
    "    ((c[sst4.index(\"0001\")] + c[sst4.index(\"0100\")] + c[sst4.index(\"1011\")] + c[sst4.index(\"1110\")])/2).astype(int),\n",
    "    ((c[sst4.index(\"0001\")] + c[sst4.index(\"0100\")] - c[sst4.index(\"1011\")] - c[sst4.index(\"1110\")])/2).astype(int),\n",
    "    ((c[sst4.index(\"0001\")] - c[sst4.index(\"0100\")] + c[sst4.index(\"1011\")] - c[sst4.index(\"1110\")])/2).astype(int),\n",
    "    ((c[sst4.index(\"0001\")] - c[sst4.index(\"0100\")] - c[sst4.index(\"1011\")] + c[sst4.index(\"1110\")])/2).astype(int),\n",
    "    \n",
    "    ((c[sst4.index(\"0010\")] + c[sst4.index(\"0111\")] + c[sst4.index(\"1000\")] + c[sst4.index(\"1101\")])/2).astype(int),\n",
    "    ((c[sst4.index(\"0010\")] + c[sst4.index(\"0111\")] - c[sst4.index(\"1000\")] - c[sst4.index(\"1101\")])/2).astype(int),\n",
    "    ((c[sst4.index(\"0010\")] - c[sst4.index(\"0111\")] + c[sst4.index(\"1000\")] - c[sst4.index(\"1101\")])/2).astype(int),\n",
    "    ((c[sst4.index(\"0010\")] - c[sst4.index(\"0111\")] - c[sst4.index(\"1000\")] + c[sst4.index(\"1101\")])/2).astype(int),\n",
    "    \n",
    "    ((c[sst4.index(\"0011\")] + c[sst4.index(\"0110\")] + c[sst4.index(\"1001\")] + c[sst4.index(\"1100\")])/2).astype(int),\n",
    "    ((c[sst4.index(\"0011\")] + c[sst4.index(\"0110\")] - c[sst4.index(\"1001\")] - c[sst4.index(\"1100\")])/2).astype(int),\n",
    "    ((c[sst4.index(\"0011\")] - c[sst4.index(\"0110\")] + c[sst4.index(\"1001\")] - c[sst4.index(\"1100\")])/2).astype(int),\n",
    "    ((c[sst4.index(\"0011\")] - c[sst4.index(\"0110\")] - c[sst4.index(\"1001\")] + c[sst4.index(\"1100\")])/2).astype(int),\n",
    "]"
   ]
  },
  {
   "cell_type": "code",
   "execution_count": 62,
   "metadata": {},
   "outputs": [
    {
     "data": {
      "text/plain": [
       "array([1, 1, 1, 1])"
      ]
     },
     "execution_count": 62,
     "metadata": {},
     "output_type": "execute_result"
    }
   ],
   "source": [
    "g[0]"
   ]
  },
  {
   "cell_type": "code",
   "execution_count": 63,
   "metadata": {},
   "outputs": [
    {
     "data": {
      "text/plain": [
       "[array([0, 0, 0, 0]),\n",
       " array([0, 0, 0, 1]),\n",
       " array([0, 0, 1, 0]),\n",
       " array([0, 0, 1, 1]),\n",
       " array([0, 1, 0, 0]),\n",
       " array([0, 1, 0, 1]),\n",
       " array([0, 1, 1, 0]),\n",
       " array([0, 1, 1, 1]),\n",
       " array([1, 0, 0, 0]),\n",
       " array([1, 0, 0, 1]),\n",
       " array([1, 0, 1, 0]),\n",
       " array([1, 0, 1, 1]),\n",
       " array([1, 1, 0, 0]),\n",
       " array([1, 1, 0, 1]),\n",
       " array([1, 1, 1, 0]),\n",
       " array([1, 1, 1, 1])]"
      ]
     },
     "execution_count": 63,
     "metadata": {},
     "output_type": "execute_result"
    }
   ],
   "source": [
    "c"
   ]
  },
  {
   "cell_type": "code",
   "execution_count": 64,
   "metadata": {},
   "outputs": [
    {
     "data": {
      "text/plain": [
       "[0, 1, 2, 4, 8, 3, 6, 12, 5, 9, 10, 7, 11, 13, 14, 15]"
      ]
     },
     "execution_count": 64,
     "metadata": {},
     "output_type": "execute_result"
    }
   ],
   "source": [
    "convention = [\"0000\",\"0001\",\"0010\",\"0100\",\n",
    "              \"1000\",\"0011\",\"0110\",\"1100\",\n",
    "              \"0101\",\"1001\",\"1010\",\"0111\",\n",
    "              \"1011\",\"1101\",\"1110\",\"1111\"]\n",
    "index_map = [sst4.index(s) for s in convention]\n",
    "index_map"
   ]
  },
  {
   "cell_type": "markdown",
   "metadata": {},
   "source": [
    "$$\\sum_i^{16} |c_{f(i)} \\rangle \\langle g_{i}|$$"
   ]
  },
  {
   "cell_type": "code",
   "execution_count": 81,
   "metadata": {},
   "outputs": [],
   "source": [
    "M = np.zeros((2**4, 2**4))\n",
    "for i, gi in enumerate(g):\n",
    "    M[i][index_map[i]] = 1\n",
    "M = M.astype(int)\n"
   ]
  },
  {
   "cell_type": "code",
   "execution_count": 84,
   "metadata": {},
   "outputs": [
    {
     "data": {
      "text/plain": [
       "array([[1, 0, 0, 0, 0, 0, 0, 0, 0, 0, 0, 0, 0, 0, 0, 0],\n",
       "       [0, 1, 0, 0, 0, 0, 0, 0, 0, 0, 0, 0, 0, 0, 0, 0],\n",
       "       [0, 0, 1, 0, 0, 0, 0, 0, 0, 0, 0, 0, 0, 0, 0, 0],\n",
       "       [0, 0, 0, 0, 1, 0, 0, 0, 0, 0, 0, 0, 0, 0, 0, 0],\n",
       "       [0, 0, 0, 0, 0, 0, 0, 0, 1, 0, 0, 0, 0, 0, 0, 0],\n",
       "       [0, 0, 0, 1, 0, 0, 0, 0, 0, 0, 0, 0, 0, 0, 0, 0],\n",
       "       [0, 0, 0, 0, 0, 0, 1, 0, 0, 0, 0, 0, 0, 0, 0, 0],\n",
       "       [0, 0, 0, 0, 0, 0, 0, 0, 0, 0, 0, 0, 1, 0, 0, 0],\n",
       "       [0, 0, 0, 0, 0, 1, 0, 0, 0, 0, 0, 0, 0, 0, 0, 0],\n",
       "       [0, 0, 0, 0, 0, 0, 0, 0, 0, 1, 0, 0, 0, 0, 0, 0],\n",
       "       [0, 0, 0, 0, 0, 0, 0, 0, 0, 0, 1, 0, 0, 0, 0, 0],\n",
       "       [0, 0, 0, 0, 0, 0, 0, 1, 0, 0, 0, 0, 0, 0, 0, 0],\n",
       "       [0, 0, 0, 0, 0, 0, 0, 0, 0, 0, 0, 1, 0, 0, 0, 0],\n",
       "       [0, 0, 0, 0, 0, 0, 0, 0, 0, 0, 0, 0, 0, 1, 0, 0],\n",
       "       [0, 0, 0, 0, 0, 0, 0, 0, 0, 0, 0, 0, 0, 0, 1, 0],\n",
       "       [0, 0, 0, 0, 0, 0, 0, 0, 0, 0, 0, 0, 0, 0, 0, 1]])"
      ]
     },
     "execution_count": 84,
     "metadata": {},
     "output_type": "execute_result"
    }
   ],
   "source": [
    "M"
   ]
  },
  {
   "cell_type": "code",
   "execution_count": 6,
   "metadata": {},
   "outputs": [],
   "source": [
    "N=6"
   ]
  },
  {
   "cell_type": "code",
   "execution_count": 7,
   "metadata": {},
   "outputs": [],
   "source": [
    "from math import sqrt"
   ]
  },
  {
   "cell_type": "code",
   "execution_count": 8,
   "metadata": {},
   "outputs": [
    {
     "data": {
      "text/plain": [
       "0.125"
      ]
     },
     "execution_count": 8,
     "metadata": {},
     "output_type": "execute_result"
    }
   ],
   "source": [
    "1/sqrt(2**N)"
   ]
  },
  {
   "cell_type": "code",
   "execution_count": 9,
   "metadata": {},
   "outputs": [
    {
     "data": {
      "text/plain": [
       "0.015625"
      ]
     },
     "execution_count": 9,
     "metadata": {},
     "output_type": "execute_result"
    }
   ],
   "source": [
    "2**(-N)"
   ]
  },
  {
   "cell_type": "code",
   "execution_count": null,
   "metadata": {},
   "outputs": [],
   "source": []
  }
 ],
 "metadata": {
  "kernelspec": {
   "display_name": "Python 3",
   "language": "python",
   "name": "python3"
  },
  "language_info": {
   "codemirror_mode": {
    "name": "ipython",
    "version": 3
   },
   "file_extension": ".py",
   "mimetype": "text/x-python",
   "name": "python",
   "nbconvert_exporter": "python",
   "pygments_lexer": "ipython3",
   "version": "3.11.4"
  },
  "orig_nbformat": 4
 },
 "nbformat": 4,
 "nbformat_minor": 2
}
