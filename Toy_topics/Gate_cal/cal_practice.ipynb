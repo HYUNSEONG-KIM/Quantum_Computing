{
 "cells": [
  {
   "cell_type": "code",
   "execution_count": 1,
   "metadata": {},
   "outputs": [],
   "source": [
    "from sym_g import *\n",
    "import sympy as sp\n",
    "\n",
    "theta1 = sp.Symbol(\"\\\\theta_1\")\n",
    "theta2 = sp.Symbol(\"\\\\theta_2\")"
   ]
  },
  {
   "cell_type": "code",
   "execution_count": 2,
   "metadata": {},
   "outputs": [],
   "source": [
    "from sympy.physics.quantum import TensorProduct"
   ]
  },
  {
   "cell_type": "code",
   "execution_count": 3,
   "metadata": {},
   "outputs": [
    {
     "data": {
      "text/latex": [
       "$\\displaystyle \\left[\\begin{matrix}\\cos{\\left(\\theta_{1} \\right)} & - \\sin{\\left(\\theta_{1} \\right)}\\\\\\sin{\\left(\\theta_{1} \\right)} & \\cos{\\left(\\theta_{1} \\right)}\\end{matrix}\\right]$"
      ],
      "text/plain": [
       "Matrix([\n",
       "[cos(\\theta_1), -sin(\\theta_1)],\n",
       "[sin(\\theta_1),  cos(\\theta_1)]])"
      ]
     },
     "execution_count": 3,
     "metadata": {},
     "output_type": "execute_result"
    }
   ],
   "source": [
    "W = sp.Matrix([\n",
    "    [sp.cos(theta1), -sp.sin(theta1)], \n",
    "    [sp.sin(theta1), sp.cos(theta1)]])\n",
    "I = sp.Matrix([[1, 0],[0,1]])\n",
    "W"
   ]
  },
  {
   "cell_type": "code",
   "execution_count": 4,
   "metadata": {},
   "outputs": [
    {
     "data": {
      "text/latex": [
       "$\\displaystyle \\left[\\begin{matrix}\\cos{\\left(\\theta_{1} \\right)} & - \\sin{\\left(\\theta_{1} \\right)}\\\\\\sin{\\left(\\theta_{1} \\right)} & \\cos{\\left(\\theta_{1} \\right)}\\end{matrix}\\right]$"
      ],
      "text/plain": [
       "Matrix([\n",
       "[cos(\\theta_1), -sin(\\theta_1)],\n",
       "[sin(\\theta_1),  cos(\\theta_1)]])"
      ]
     },
     "execution_count": 4,
     "metadata": {},
     "output_type": "execute_result"
    }
   ],
   "source": [
    "W"
   ]
  },
  {
   "cell_type": "code",
   "execution_count": 5,
   "metadata": {},
   "outputs": [
    {
     "data": {
      "text/latex": [
       "$\\displaystyle \\left[\\begin{matrix}\\sin^{2}{\\left(\\theta_{1} \\right)} + \\cos^{2}{\\left(\\theta_{1} \\right)} & 0\\\\0 & \\sin^{2}{\\left(\\theta_{1} \\right)} + \\cos^{2}{\\left(\\theta_{1} \\right)}\\end{matrix}\\right]$"
      ],
      "text/plain": [
       "Matrix([\n",
       "[sin(\\theta_1)**2 + cos(\\theta_1)**2,                                   0],\n",
       "[                                  0, sin(\\theta_1)**2 + cos(\\theta_1)**2]])"
      ]
     },
     "execution_count": 5,
     "metadata": {},
     "output_type": "execute_result"
    }
   ],
   "source": [
    "W.T @ I @ W"
   ]
  },
  {
   "cell_type": "code",
   "execution_count": 6,
   "metadata": {},
   "outputs": [],
   "source": [
    "U1  = sp.Matrix([\n",
    "    [sp.cos(theta1)**2 - sp.sin(theta1)**2, 2*sp.cos(theta1)*sp.sin(theta1)],\n",
    "    [2*sp.cos(theta1)*sp.sin(theta1), sp.sin(theta1)**2 - sp.cos(theta1)**2]\n",
    "])\n",
    "U2 = U1.subs(theta1, theta2)\n"
   ]
  },
  {
   "cell_type": "code",
   "execution_count": 7,
   "metadata": {},
   "outputs": [
    {
     "data": {
      "text/latex": [
       "$\\displaystyle \\left[\\begin{matrix}\\frac{\\sqrt{2}}{2}\\\\0\\\\0\\\\\\frac{\\sqrt{2}}{2}\\end{matrix}\\right]$"
      ],
      "text/plain": [
       "Matrix([\n",
       "[sqrt(2)/2],\n",
       "[        0],\n",
       "[        0],\n",
       "[sqrt(2)/2]])"
      ]
     },
     "execution_count": 7,
     "metadata": {},
     "output_type": "execute_result"
    }
   ],
   "source": [
    "b00 = sp.Matrix([1, 0, 0, 1])/sp.sqrt(2)\n",
    "b00"
   ]
  },
  {
   "cell_type": "code",
   "execution_count": 8,
   "metadata": {},
   "outputs": [],
   "source": [
    "O1 = TensorProduct(U1, I)\n",
    "O2 = TensorProduct(I, U2)"
   ]
  },
  {
   "cell_type": "code",
   "execution_count": 9,
   "metadata": {},
   "outputs": [
    {
     "data": {
      "text/latex": [
       "$\\displaystyle \\left[\\begin{matrix}- \\sin^{2}{\\left(\\theta_{1} \\right)} + \\cos^{2}{\\left(\\theta_{1} \\right)} & 0 & 2 \\sin{\\left(\\theta_{1} \\right)} \\cos{\\left(\\theta_{1} \\right)} & 0\\\\0 & - \\sin^{2}{\\left(\\theta_{1} \\right)} + \\cos^{2}{\\left(\\theta_{1} \\right)} & 0 & 2 \\sin{\\left(\\theta_{1} \\right)} \\cos{\\left(\\theta_{1} \\right)}\\\\2 \\sin{\\left(\\theta_{1} \\right)} \\cos{\\left(\\theta_{1} \\right)} & 0 & \\sin^{2}{\\left(\\theta_{1} \\right)} - \\cos^{2}{\\left(\\theta_{1} \\right)} & 0\\\\0 & 2 \\sin{\\left(\\theta_{1} \\right)} \\cos{\\left(\\theta_{1} \\right)} & 0 & \\sin^{2}{\\left(\\theta_{1} \\right)} - \\cos^{2}{\\left(\\theta_{1} \\right)}\\end{matrix}\\right]$"
      ],
      "text/plain": [
       "Matrix([\n",
       "[-sin(\\theta_1)**2 + cos(\\theta_1)**2,                                    0,       2*sin(\\theta_1)*cos(\\theta_1),                                   0],\n",
       "[                                   0, -sin(\\theta_1)**2 + cos(\\theta_1)**2,                                   0,       2*sin(\\theta_1)*cos(\\theta_1)],\n",
       "[       2*sin(\\theta_1)*cos(\\theta_1),                                    0, sin(\\theta_1)**2 - cos(\\theta_1)**2,                                   0],\n",
       "[                                   0,        2*sin(\\theta_1)*cos(\\theta_1),                                   0, sin(\\theta_1)**2 - cos(\\theta_1)**2]])"
      ]
     },
     "execution_count": 9,
     "metadata": {},
     "output_type": "execute_result"
    }
   ],
   "source": [
    "O1"
   ]
  },
  {
   "cell_type": "code",
   "execution_count": 10,
   "metadata": {},
   "outputs": [
    {
     "data": {
      "text/latex": [
       "$\\displaystyle \\left[\\begin{matrix}- \\sin^{2}{\\left(\\theta_{2} \\right)} + \\cos^{2}{\\left(\\theta_{2} \\right)} & 2 \\sin{\\left(\\theta_{2} \\right)} \\cos{\\left(\\theta_{2} \\right)} & 0 & 0\\\\2 \\sin{\\left(\\theta_{2} \\right)} \\cos{\\left(\\theta_{2} \\right)} & \\sin^{2}{\\left(\\theta_{2} \\right)} - \\cos^{2}{\\left(\\theta_{2} \\right)} & 0 & 0\\\\0 & 0 & - \\sin^{2}{\\left(\\theta_{2} \\right)} + \\cos^{2}{\\left(\\theta_{2} \\right)} & 2 \\sin{\\left(\\theta_{2} \\right)} \\cos{\\left(\\theta_{2} \\right)}\\\\0 & 0 & 2 \\sin{\\left(\\theta_{2} \\right)} \\cos{\\left(\\theta_{2} \\right)} & \\sin^{2}{\\left(\\theta_{2} \\right)} - \\cos^{2}{\\left(\\theta_{2} \\right)}\\end{matrix}\\right]$"
      ],
      "text/plain": [
       "Matrix([\n",
       "[-sin(\\theta_2)**2 + cos(\\theta_2)**2,       2*sin(\\theta_2)*cos(\\theta_2),                                    0,                                   0],\n",
       "[       2*sin(\\theta_2)*cos(\\theta_2), sin(\\theta_2)**2 - cos(\\theta_2)**2,                                    0,                                   0],\n",
       "[                                   0,                                   0, -sin(\\theta_2)**2 + cos(\\theta_2)**2,       2*sin(\\theta_2)*cos(\\theta_2)],\n",
       "[                                   0,                                   0,        2*sin(\\theta_2)*cos(\\theta_2), sin(\\theta_2)**2 - cos(\\theta_2)**2]])"
      ]
     },
     "execution_count": 10,
     "metadata": {},
     "output_type": "execute_result"
    }
   ],
   "source": [
    "O2"
   ]
  },
  {
   "cell_type": "code",
   "execution_count": 11,
   "metadata": {},
   "outputs": [
    {
     "data": {
      "text/latex": [
       "$\\displaystyle \\left[\\begin{matrix}\\frac{\\sqrt{2} \\left(- \\sin^{2}{\\left(\\theta_{1} \\right)} + \\cos^{2}{\\left(\\theta_{1} \\right)}\\right)}{2}\\\\\\sqrt{2} \\sin{\\left(\\theta_{1} \\right)} \\cos{\\left(\\theta_{1} \\right)}\\\\\\sqrt{2} \\sin{\\left(\\theta_{1} \\right)} \\cos{\\left(\\theta_{1} \\right)}\\\\\\frac{\\sqrt{2} \\left(\\sin^{2}{\\left(\\theta_{1} \\right)} - \\cos^{2}{\\left(\\theta_{1} \\right)}\\right)}{2}\\end{matrix}\\right]$"
      ],
      "text/plain": [
       "Matrix([\n",
       "[sqrt(2)*(-sin(\\theta_1)**2 + cos(\\theta_1)**2)/2],\n",
       "[             sqrt(2)*sin(\\theta_1)*cos(\\theta_1)],\n",
       "[             sqrt(2)*sin(\\theta_1)*cos(\\theta_1)],\n",
       "[ sqrt(2)*(sin(\\theta_1)**2 - cos(\\theta_1)**2)/2]])"
      ]
     },
     "execution_count": 11,
     "metadata": {},
     "output_type": "execute_result"
    }
   ],
   "source": [
    "O1@b00"
   ]
  },
  {
   "cell_type": "code",
   "execution_count": 12,
   "metadata": {},
   "outputs": [
    {
     "data": {
      "text/latex": [
       "$\\displaystyle \\left[\\begin{matrix}\\frac{\\sqrt{2} \\left(- \\sin^{2}{\\left(\\theta_{2} \\right)} + \\cos^{2}{\\left(\\theta_{2} \\right)}\\right)}{2}\\\\\\sqrt{2} \\sin{\\left(\\theta_{2} \\right)} \\cos{\\left(\\theta_{2} \\right)}\\\\\\sqrt{2} \\sin{\\left(\\theta_{2} \\right)} \\cos{\\left(\\theta_{2} \\right)}\\\\\\frac{\\sqrt{2} \\left(\\sin^{2}{\\left(\\theta_{2} \\right)} - \\cos^{2}{\\left(\\theta_{2} \\right)}\\right)}{2}\\end{matrix}\\right]$"
      ],
      "text/plain": [
       "Matrix([\n",
       "[sqrt(2)*(-sin(\\theta_2)**2 + cos(\\theta_2)**2)/2],\n",
       "[             sqrt(2)*sin(\\theta_2)*cos(\\theta_2)],\n",
       "[             sqrt(2)*sin(\\theta_2)*cos(\\theta_2)],\n",
       "[ sqrt(2)*(sin(\\theta_2)**2 - cos(\\theta_2)**2)/2]])"
      ]
     },
     "execution_count": 12,
     "metadata": {},
     "output_type": "execute_result"
    }
   ],
   "source": [
    "O2@b00"
   ]
  },
  {
   "cell_type": "code",
   "execution_count": 13,
   "metadata": {},
   "outputs": [],
   "source": [
    "b1, b2, psi1, psi2 = sp.symbols(r\"\\beta_1, \\beta_2, \\psi_1, \\psi_2\", real=True)"
   ]
  },
  {
   "cell_type": "code",
   "execution_count": 14,
   "metadata": {},
   "outputs": [
    {
     "data": {
      "text/latex": [
       "$\\displaystyle \\psi_{2}$"
      ],
      "text/plain": [
       "\\psi_2"
      ]
     },
     "execution_count": 14,
     "metadata": {},
     "output_type": "execute_result"
    }
   ],
   "source": [
    "psi2"
   ]
  },
  {
   "cell_type": "code",
   "execution_count": 15,
   "metadata": {},
   "outputs": [
    {
     "data": {
      "text/latex": [
       "$\\displaystyle i$"
      ],
      "text/plain": [
       "I"
      ]
     },
     "execution_count": 15,
     "metadata": {},
     "output_type": "execute_result"
    }
   ],
   "source": [
    "sp.I"
   ]
  },
  {
   "cell_type": "code",
   "execution_count": 16,
   "metadata": {},
   "outputs": [],
   "source": [
    "state = sp.Matrix([1, b2*sp.exp(sp.I*psi2), b1*b2*sp.exp(sp.I *(psi1 + psi2)), b1*sp.exp(sp.I * psi1)])\n",
    "state_conjugate = sp.conjugate(state)"
   ]
  },
  {
   "cell_type": "code",
   "execution_count": 17,
   "metadata": {},
   "outputs": [
    {
     "data": {
      "text/latex": [
       "$\\displaystyle \\left[\\begin{matrix}1\\\\\\beta_{2} e^{- i \\psi_{2}}\\\\\\beta_{1} \\beta_{2} e^{- i \\left(\\psi_{1} + \\psi_{2}\\right)}\\\\\\beta_{1} e^{- i \\psi_{1}}\\end{matrix}\\right]$"
      ],
      "text/plain": [
       "Matrix([\n",
       "[                                        1],\n",
       "[                   \\beta_2*exp(-I*\\psi_2)],\n",
       "[\\beta_1*\\beta_2*exp(-I*(\\psi_1 + \\psi_2))],\n",
       "[                   \\beta_1*exp(-I*\\psi_1)]])"
      ]
     },
     "execution_count": 17,
     "metadata": {},
     "output_type": "execute_result"
    }
   ],
   "source": [
    "state_conjugate"
   ]
  },
  {
   "cell_type": "code",
   "execution_count": 18,
   "metadata": {},
   "outputs": [],
   "source": [
    "rho = TensorProduct(state.T, state)"
   ]
  },
  {
   "cell_type": "code",
   "execution_count": 19,
   "metadata": {},
   "outputs": [
    {
     "data": {
      "text/latex": [
       "$\\displaystyle \\left[\\begin{matrix}1 & \\beta_{2} e^{- i \\psi_{2}} & \\beta_{1} \\beta_{2} e^{- i \\left(\\psi_{1} + \\psi_{2}\\right)} & \\beta_{1} e^{- i \\psi_{1}}\\end{matrix}\\right]$"
      ],
      "text/plain": [
       "Matrix([[1, \\beta_2*exp(-I*\\psi_2), \\beta_1*\\beta_2*exp(-I*(\\psi_1 + \\psi_2)), \\beta_1*exp(-I*\\psi_1)]])"
      ]
     },
     "execution_count": 19,
     "metadata": {},
     "output_type": "execute_result"
    }
   ],
   "source": [
    "state_conjugate.T"
   ]
  },
  {
   "cell_type": "code",
   "execution_count": 20,
   "metadata": {},
   "outputs": [],
   "source": [
    "app = []\n",
    "for i in state_conjugate:\n",
    "    app.append(i*state.T)"
   ]
  },
  {
   "cell_type": "code",
   "execution_count": 21,
   "metadata": {},
   "outputs": [
    {
     "data": {
      "text/plain": [
       "[Matrix([[1, \\beta_2*exp(I*\\psi_2), \\beta_1*\\beta_2*exp(I*(\\psi_1 + \\psi_2)), \\beta_1*exp(I*\\psi_1)]]),\n",
       " Matrix([[\\beta_2*exp(-I*\\psi_2), \\beta_2**2, \\beta_1*\\beta_2**2*exp(-I*\\psi_2)*exp(I*(\\psi_1 + \\psi_2)), \\beta_1*\\beta_2*exp(I*\\psi_1)*exp(-I*\\psi_2)]]),\n",
       " Matrix([[\\beta_1*\\beta_2*exp(-I*(\\psi_1 + \\psi_2)), \\beta_1*\\beta_2**2*exp(I*\\psi_2)*exp(-I*(\\psi_1 + \\psi_2)), \\beta_1**2*\\beta_2**2, \\beta_1**2*\\beta_2*exp(I*\\psi_1)*exp(-I*(\\psi_1 + \\psi_2))]]),\n",
       " Matrix([[\\beta_1*exp(-I*\\psi_1), \\beta_1*\\beta_2*exp(-I*\\psi_1)*exp(I*\\psi_2), \\beta_1**2*\\beta_2*exp(-I*\\psi_1)*exp(I*(\\psi_1 + \\psi_2)), \\beta_1**2]])]"
      ]
     },
     "execution_count": 21,
     "metadata": {},
     "output_type": "execute_result"
    }
   ],
   "source": [
    "app"
   ]
  },
  {
   "cell_type": "code",
   "execution_count": 22,
   "metadata": {},
   "outputs": [],
   "source": [
    "matrix = (sp.Matrix(app).T)"
   ]
  },
  {
   "cell_type": "code",
   "execution_count": 23,
   "metadata": {},
   "outputs": [],
   "source": [
    "matrix.simplify()"
   ]
  },
  {
   "cell_type": "code",
   "execution_count": 24,
   "metadata": {},
   "outputs": [
    {
     "data": {
      "text/latex": [
       "$\\displaystyle \\beta_{1}^{4} \\beta_{2}^{4} + 2 \\beta_{1}^{4} \\beta_{2}^{2} + \\beta_{1}^{4} + 2 \\beta_{1}^{2} \\beta_{2}^{4} + 4 \\beta_{1}^{2} \\beta_{2}^{2} + 2 \\beta_{1}^{2} + \\beta_{2}^{4} + 2 \\beta_{2}^{2} + 1$"
      ],
      "text/plain": [
       "\\beta_1**4*\\beta_2**4 + 2*\\beta_1**4*\\beta_2**2 + \\beta_1**4 + 2*\\beta_1**2*\\beta_2**4 + 4*\\beta_1**2*\\beta_2**2 + 2*\\beta_1**2 + \\beta_2**4 + 2*\\beta_2**2 + 1"
      ]
     },
     "execution_count": 24,
     "metadata": {},
     "output_type": "execute_result"
    }
   ],
   "source": [
    "sp.simplify(sp.trace(matrix@matrix))"
   ]
  },
  {
   "cell_type": "code",
   "execution_count": 25,
   "metadata": {},
   "outputs": [],
   "source": [
    "v1 = sp.Matrix([[1], [b1*sp.exp(sp.I *psi1)]])\n",
    "v2 = sp.Matrix([[1], [b2*sp.exp(sp.I *psi2)]])"
   ]
  },
  {
   "cell_type": "code",
   "execution_count": 26,
   "metadata": {},
   "outputs": [],
   "source": [
    "state00 = TensorProduct(v1, v2)"
   ]
  },
  {
   "cell_type": "code",
   "execution_count": 27,
   "metadata": {},
   "outputs": [
    {
     "data": {
      "text/latex": [
       "$\\displaystyle \\left[\\begin{matrix}1 & 0\\\\0 & 1\\end{matrix}\\right]$"
      ],
      "text/plain": [
       "Matrix([\n",
       "[1, 0],\n",
       "[0, 1]])"
      ]
     },
     "execution_count": 27,
     "metadata": {},
     "output_type": "execute_result"
    }
   ],
   "source": [
    "sp.Matrix([[1, 0],[0, 1]])"
   ]
  },
  {
   "cell_type": "code",
   "execution_count": 28,
   "metadata": {},
   "outputs": [],
   "source": [
    "CNOT = TensorProduct(\n",
    "    sp.Matrix([[1, 0],[0, 0]]), \n",
    "    sp.Matrix([[1, 0], [0, 1]])) + TensorProduct(\n",
    "    sp.Matrix([[0, 0],[0, 1]]), \n",
    "    sp.Matrix([[0, 1], [1, 0]]))"
   ]
  },
  {
   "cell_type": "code",
   "execution_count": 154,
   "metadata": {},
   "outputs": [
    {
     "data": {
      "text/latex": [
       "$\\displaystyle \\left[\\begin{matrix}1\\\\\\beta_{2} e^{- i \\psi_{2}}\\\\\\beta_{1} \\beta_{2} e^{- i \\psi_{1}} e^{- i \\psi_{2}}\\\\\\beta_{1} e^{- i \\psi_{1}}\\end{matrix}\\right]$"
      ],
      "text/plain": [
       "Matrix([\n",
       "[                                            1],\n",
       "[                       \\beta_2*exp(-I*\\psi_2)],\n",
       "[\\beta_1*\\beta_2*exp(-I*\\psi_1)*exp(-I*\\psi_2)],\n",
       "[                       \\beta_1*exp(-I*\\psi_1)]])"
      ]
     },
     "execution_count": 154,
     "metadata": {},
     "output_type": "execute_result"
    }
   ],
   "source": [
    "Enstate = CNOT@state00\n",
    "Enstate.conjugate()"
   ]
  },
  {
   "cell_type": "code",
   "execution_count": 155,
   "metadata": {},
   "outputs": [
    {
     "data": {
      "text/latex": [
       "$\\displaystyle \\left[\\begin{matrix}1 & \\beta_{2} e^{- i \\psi_{2}} & \\beta_{1} \\beta_{2} e^{- i \\psi_{1}} e^{- i \\psi_{2}} & \\beta_{1} e^{- i \\psi_{1}}\\\\\\beta_{2} e^{i \\psi_{2}} & \\beta_{2}^{2} & \\beta_{1} \\beta_{2}^{2} e^{- i \\psi_{1}} & \\beta_{1} \\beta_{2} e^{- i \\psi_{1}} e^{i \\psi_{2}}\\\\\\beta_{1} \\beta_{2} e^{i \\psi_{1}} e^{i \\psi_{2}} & \\beta_{1} \\beta_{2}^{2} e^{i \\psi_{1}} & \\beta_{1}^{2} \\beta_{2}^{2} & \\beta_{1}^{2} \\beta_{2} e^{i \\psi_{2}}\\\\\\beta_{1} e^{i \\psi_{1}} & \\beta_{1} \\beta_{2} e^{i \\psi_{1}} e^{- i \\psi_{2}} & \\beta_{1}^{2} \\beta_{2} e^{- i \\psi_{2}} & \\beta_{1}^{2}\\end{matrix}\\right]$"
      ],
      "text/plain": [
       "Matrix([\n",
       "[                                          1,                       \\beta_2*exp(-I*\\psi_2), \\beta_1*\\beta_2*exp(-I*\\psi_1)*exp(-I*\\psi_2),                       \\beta_1*exp(-I*\\psi_1)],\n",
       "[                      \\beta_2*exp(I*\\psi_2),                                   \\beta_2**2,             \\beta_1*\\beta_2**2*exp(-I*\\psi_1), \\beta_1*\\beta_2*exp(-I*\\psi_1)*exp(I*\\psi_2)],\n",
       "[\\beta_1*\\beta_2*exp(I*\\psi_1)*exp(I*\\psi_2),             \\beta_1*\\beta_2**2*exp(I*\\psi_1),                         \\beta_1**2*\\beta_2**2,             \\beta_1**2*\\beta_2*exp(I*\\psi_2)],\n",
       "[                      \\beta_1*exp(I*\\psi_1), \\beta_1*\\beta_2*exp(I*\\psi_1)*exp(-I*\\psi_2),             \\beta_1**2*\\beta_2*exp(-I*\\psi_2),                                   \\beta_1**2]])"
      ]
     },
     "execution_count": 155,
     "metadata": {},
     "output_type": "execute_result"
    }
   ],
   "source": [
    "app = []\n",
    "for i in Enstate.conjugate():\n",
    "    app.append(i*Enstate.T)\n",
    "rho = (sp.Matrix(app).T)\n",
    "rho"
   ]
  },
  {
   "cell_type": "code",
   "execution_count": 157,
   "metadata": {},
   "outputs": [
    {
     "data": {
      "text/latex": [
       "$\\displaystyle \\beta_{1}^{4} \\beta_{2}^{4} + 2 \\beta_{1}^{4} \\beta_{2}^{2} + \\beta_{1}^{4} + 2 \\beta_{1}^{2} \\beta_{2}^{4} + 4 \\beta_{1}^{2} \\beta_{2}^{2} + 2 \\beta_{1}^{2} + \\beta_{2}^{4} + 2 \\beta_{2}^{2} + 1$"
      ],
      "text/plain": [
       "\\beta_1**4*\\beta_2**4 + 2*\\beta_1**4*\\beta_2**2 + \\beta_1**4 + 2*\\beta_1**2*\\beta_2**4 + 4*\\beta_1**2*\\beta_2**2 + 2*\\beta_1**2 + \\beta_2**4 + 2*\\beta_2**2 + 1"
      ]
     },
     "execution_count": 157,
     "metadata": {},
     "output_type": "execute_result"
    }
   ],
   "source": [
    "sp.trace(rho@rho)"
   ]
  },
  {
   "cell_type": "markdown",
   "metadata": {},
   "source": [
    "---"
   ]
  },
  {
   "cell_type": "code",
   "execution_count": 4,
   "metadata": {},
   "outputs": [],
   "source": [
    "import sympy as sp"
   ]
  },
  {
   "cell_type": "code",
   "execution_count": 5,
   "metadata": {},
   "outputs": [],
   "source": [
    "x, z, y = sp.symbols(\"x, z, y\")\n",
    "p = sp.symbols(\"p\")"
   ]
  },
  {
   "cell_type": "code",
   "execution_count": 6,
   "metadata": {},
   "outputs": [],
   "source": [
    "rho = sp.Matrix([[1+z, x-sp.I*y],[x+sp.I*y, 1-z]])\n",
    "X= sp.Matrix([[0, 1],[1,0]])\n",
    "Y= sp.Matrix([[0, -sp.I],[sp.I,0]])\n",
    "Z= sp.Matrix([[1, 0],[0,-1]])"
   ]
  },
  {
   "cell_type": "code",
   "execution_count": 7,
   "metadata": {},
   "outputs": [
    {
     "data": {
      "text/latex": [
       "$\\displaystyle \\left[\\begin{matrix}1 - z & x + i y\\\\x - i y & z + 1\\end{matrix}\\right]$"
      ],
      "text/plain": [
       "Matrix([\n",
       "[  1 - z, x + I*y],\n",
       "[x - I*y,   z + 1]])"
      ]
     },
     "execution_count": 7,
     "metadata": {},
     "output_type": "execute_result"
    }
   ],
   "source": [
    "X@rho@X"
   ]
  },
  {
   "cell_type": "code",
   "execution_count": 8,
   "metadata": {},
   "outputs": [
    {
     "data": {
      "text/latex": [
       "$\\displaystyle \\left[\\begin{matrix}1 - z & - x - i y\\\\- x + i y & z + 1\\end{matrix}\\right]$"
      ],
      "text/plain": [
       "Matrix([\n",
       "[   1 - z, -x - I*y],\n",
       "[-x + I*y,    z + 1]])"
      ]
     },
     "execution_count": 8,
     "metadata": {},
     "output_type": "execute_result"
    }
   ],
   "source": [
    "Y@rho@Y"
   ]
  },
  {
   "cell_type": "code",
   "execution_count": 9,
   "metadata": {},
   "outputs": [
    {
     "data": {
      "text/latex": [
       "$\\displaystyle \\left[\\begin{matrix}z + 1 & - x + i y\\\\- x - i y & 1 - z\\end{matrix}\\right]$"
      ],
      "text/plain": [
       "Matrix([\n",
       "[   z + 1, -x + I*y],\n",
       "[-x - I*y,    1 - z]])"
      ]
     },
     "execution_count": 9,
     "metadata": {},
     "output_type": "execute_result"
    }
   ],
   "source": [
    "Z@rho@Z"
   ]
  },
  {
   "cell_type": "code",
   "execution_count": 11,
   "metadata": {},
   "outputs": [
    {
     "data": {
      "text/latex": [
       "$\\displaystyle \\left[\\begin{matrix}p \\left(1 - z\\right) + \\left(1 - p\\right) \\left(z + 1\\right) & p \\left(x + i y\\right) + \\left(1 - p\\right) \\left(x - i y\\right)\\\\p \\left(x - i y\\right) + \\left(1 - p\\right) \\left(x + i y\\right) & p \\left(z + 1\\right) + \\left(1 - p\\right) \\left(1 - z\\right)\\end{matrix}\\right]$"
      ],
      "text/plain": [
       "Matrix([\n",
       "[    p*(1 - z) + (1 - p)*(z + 1), p*(x + I*y) + (1 - p)*(x - I*y)],\n",
       "[p*(x - I*y) + (1 - p)*(x + I*y),     p*(z + 1) + (1 - p)*(1 - z)]])"
      ]
     },
     "execution_count": 11,
     "metadata": {},
     "output_type": "execute_result"
    }
   ],
   "source": [
    "((1-p))*rho + p * X@rho@X"
   ]
  },
  {
   "cell_type": "code",
   "execution_count": 10,
   "metadata": {},
   "outputs": [
    {
     "data": {
      "text/latex": [
       "$\\displaystyle \\left[\\begin{matrix}p \\left(1 - z\\right) + \\left(1 - p\\right) \\left(z + 1\\right) & - p \\left(x + i y\\right) + \\left(1 - p\\right) \\left(x - i y\\right)\\\\- p \\left(x - i y\\right) + \\left(1 - p\\right) \\left(x + i y\\right) & p \\left(z + 1\\right) + \\left(1 - p\\right) \\left(1 - z\\right)\\end{matrix}\\right]$"
      ],
      "text/plain": [
       "Matrix([\n",
       "[     p*(1 - z) + (1 - p)*(z + 1), -p*(x + I*y) + (1 - p)*(x - I*y)],\n",
       "[-p*(x - I*y) + (1 - p)*(x + I*y),      p*(z + 1) + (1 - p)*(1 - z)]])"
      ]
     },
     "execution_count": 10,
     "metadata": {},
     "output_type": "execute_result"
    }
   ],
   "source": [
    "((1-p))*rho + p * Y@rho@Y"
   ]
  },
  {
   "cell_type": "code",
   "execution_count": 11,
   "metadata": {},
   "outputs": [
    {
     "data": {
      "text/latex": [
       "$\\displaystyle \\left[\\begin{matrix}p \\left(z + 1\\right) + \\left(1 - p\\right) \\left(z + 1\\right) & - p \\left(x - i y\\right) + \\left(1 - p\\right) \\left(x - i y\\right)\\\\- p \\left(x + i y\\right) + \\left(1 - p\\right) \\left(x + i y\\right) & p \\left(1 - z\\right) + \\left(1 - p\\right) \\left(1 - z\\right)\\end{matrix}\\right]$"
      ],
      "text/plain": [
       "Matrix([\n",
       "[     p*(z + 1) + (1 - p)*(z + 1), -p*(x - I*y) + (1 - p)*(x - I*y)],\n",
       "[-p*(x + I*y) + (1 - p)*(x + I*y),      p*(1 - z) + (1 - p)*(1 - z)]])"
      ]
     },
     "execution_count": 11,
     "metadata": {},
     "output_type": "execute_result"
    }
   ],
   "source": [
    "((1-p))*rho + p * Z@rho@Z"
   ]
  },
  {
   "cell_type": "code",
   "execution_count": 15,
   "metadata": {},
   "outputs": [
    {
     "data": {
      "text/latex": [
       "$\\displaystyle \\left[\\begin{matrix}0 & i\\\\- i & 0\\end{matrix}\\right]$"
      ],
      "text/plain": [
       "Matrix([\n",
       "[ 0, I],\n",
       "[-I, 0]])"
      ]
     },
     "execution_count": 15,
     "metadata": {},
     "output_type": "execute_result"
    }
   ],
   "source": [
    "X@Y@X"
   ]
  },
  {
   "cell_type": "code",
   "execution_count": null,
   "metadata": {},
   "outputs": [],
   "source": []
  }
 ],
 "metadata": {
  "kernelspec": {
   "display_name": "Python 3",
   "language": "python",
   "name": "python3"
  },
  "language_info": {
   "codemirror_mode": {
    "name": "ipython",
    "version": 3
   },
   "file_extension": ".py",
   "mimetype": "text/x-python",
   "name": "python",
   "nbconvert_exporter": "python",
   "pygments_lexer": "ipython3",
   "version": "3.11.3"
  },
  "orig_nbformat": 4
 },
 "nbformat": 4,
 "nbformat_minor": 2
}
