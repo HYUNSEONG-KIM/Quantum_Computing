{
 "cells": [
  {
   "cell_type": "code",
   "execution_count": 2,
   "metadata": {},
   "outputs": [],
   "source": [
    "from sym_g import *"
   ]
  },
  {
   "cell_type": "code",
   "execution_count": 3,
   "metadata": {},
   "outputs": [],
   "source": [
    "def P(theta):\n",
    "    return sp.Matrix([\n",
    "        [1,0],\n",
    "        [0, sp.exp(complex(0,1)*theta)]\n",
    "        ])\n",
    "def CU(i:int, j:int, n:int, U):\n",
    "    assert i != j, \"Two qubit gate must have 2 different qubit index.\"\n",
    "    assert type(i) is int, \"Index i must be integer.\" \n",
    "    assert type(j) is int, \"Index j must be integer.\" \n",
    "    assert type(n) is int, \"Qubit number n must be integer.\"\n",
    "    assert i<n and j<n, \"Index must be smaller than total qubit number.\"\n",
    "    assert i>-1 and j>-1, \"Index must be positive integer including 0.\"\n",
    "    \n",
    "    glist0 = n*[Ig]\n",
    "    glist1 = n*[Ig]\n",
    "    \n",
    "    glist0[i] = CNOT0\n",
    "    glist1[i] = CNOT1\n",
    "    glist1[j] = U   \n",
    "    return tp(*glist0) + tp(*glist1) "
   ]
  },
  {
   "cell_type": "code",
   "execution_count": 4,
   "metadata": {},
   "outputs": [],
   "source": [
    "theta = sp.symbols(r\"\\theta\")\n",
    "the1, the2, the3 = sp.symbols(r\"\\theta_1, \\theta_2, \\theta_3\")"
   ]
  },
  {
   "cell_type": "code",
   "execution_count": 5,
   "metadata": {},
   "outputs": [
    {
     "data": {
      "text/latex": [
       "$\\displaystyle \\left[\\begin{matrix}1 & 0\\\\0 & e^{1.0 i \\theta}\\end{matrix}\\right]$"
      ],
      "text/plain": [
       "Matrix([\n",
       "[1,                 0],\n",
       "[0, exp(1.0*I*\\theta)]])"
      ]
     },
     "execution_count": 5,
     "metadata": {},
     "output_type": "execute_result"
    }
   ],
   "source": [
    "p = P(theta)\n",
    "p"
   ]
  },
  {
   "cell_type": "code",
   "execution_count": 9,
   "metadata": {},
   "outputs": [
    {
     "data": {
      "text/latex": [
       "$\\displaystyle \\left[\\begin{matrix}1 & 0\\\\0 & e^{1.0 i \\theta}\\end{matrix}\\right]$"
      ],
      "text/plain": [
       "Matrix([\n",
       "[1,                 0],\n",
       "[0, exp(1.0*I*\\theta)]])"
      ]
     },
     "execution_count": 9,
     "metadata": {},
     "output_type": "execute_result"
    }
   ],
   "source": [
    "P(theta)"
   ]
  },
  {
   "cell_type": "code",
   "execution_count": 10,
   "metadata": {},
   "outputs": [],
   "source": [
    "wires = 2"
   ]
  },
  {
   "cell_type": "code",
   "execution_count": 11,
   "metadata": {},
   "outputs": [
    {
     "data": {
      "text/latex": [
       "$\\displaystyle \\left[\\begin{matrix}1 & 0 & 0 & 0\\\\0 & 1 & 0 & 0\\\\0 & 0 & 1 & 0\\\\0 & 0 & 0 & e^{1.0 i \\theta}\\end{matrix}\\right]$"
      ],
      "text/plain": [
       "Matrix([\n",
       "[1, 0, 0,                 0],\n",
       "[0, 1, 0,                 0],\n",
       "[0, 0, 1,                 0],\n",
       "[0, 0, 0, exp(1.0*I*\\theta)]])"
      ]
     },
     "execution_count": 11,
     "metadata": {},
     "output_type": "execute_result"
    }
   ],
   "source": [
    "CU(0, 1, wires, P(theta))"
   ]
  },
  {
   "cell_type": "code",
   "execution_count": 12,
   "metadata": {},
   "outputs": [
    {
     "data": {
      "text/latex": [
       "$\\displaystyle \\left[\\begin{matrix}1 & 0 & 0 & 0\\\\0 & e^{1.0 i \\theta} & 0 & 0\\\\0 & 0 & 1 & 0\\\\0 & 0 & 0 & e^{1.0 i \\theta}\\end{matrix}\\right]$"
      ],
      "text/plain": [
       "Matrix([\n",
       "[1,                 0, 0,                 0],\n",
       "[0, exp(1.0*I*\\theta), 0,                 0],\n",
       "[0,                 0, 1,                 0],\n",
       "[0,                 0, 0, exp(1.0*I*\\theta)]])"
      ]
     },
     "execution_count": 12,
     "metadata": {},
     "output_type": "execute_result"
    }
   ],
   "source": [
    "Uni(P(theta), 1, 2)"
   ]
  },
  {
   "cell_type": "code",
   "execution_count": 13,
   "metadata": {},
   "outputs": [
    {
     "data": {
      "text/latex": [
       "$\\displaystyle \\left[\\begin{matrix}1 & 0 & 0 & 0\\\\0 & 1 & 0 & 0\\\\0 & 0 & e^{1.0 i \\theta} & 0\\\\0 & 0 & 0 & e^{1.0 i \\theta}\\end{matrix}\\right]$"
      ],
      "text/plain": [
       "Matrix([\n",
       "[1, 0,                 0,                 0],\n",
       "[0, 1,                 0,                 0],\n",
       "[0, 0, exp(1.0*I*\\theta),                 0],\n",
       "[0, 0,                 0, exp(1.0*I*\\theta)]])"
      ]
     },
     "execution_count": 13,
     "metadata": {},
     "output_type": "execute_result"
    }
   ],
   "source": [
    "Uni(P(theta), 0, 2)"
   ]
  },
  {
   "cell_type": "code",
   "execution_count": 14,
   "metadata": {},
   "outputs": [
    {
     "data": {
      "text/latex": [
       "$\\displaystyle \\left[\\begin{matrix}1 & 0 & 0 & 0\\\\0 & e^{1.0 i \\theta_{2}} & 0 & 0\\\\0 & 0 & e^{1.0 i \\theta_{1}} & 0\\\\0 & 0 & 0 & e^{1.0 i \\theta_{1}} e^{1.0 i \\theta_{2}} e^{1.0 i \\theta_{3}}\\end{matrix}\\right]$"
      ],
      "text/plain": [
       "Matrix([\n",
       "[1,                   0,                   0,                                                           0],\n",
       "[0, exp(1.0*I*\\theta_2),                   0,                                                           0],\n",
       "[0,                   0, exp(1.0*I*\\theta_1),                                                           0],\n",
       "[0,                   0,                   0, exp(1.0*I*\\theta_1)*exp(1.0*I*\\theta_2)*exp(1.0*I*\\theta_3)]])"
      ]
     },
     "execution_count": 14,
     "metadata": {},
     "output_type": "execute_result"
    }
   ],
   "source": [
    "Uni(P(the1), 0, 2) @ Uni(P(the2), 1, 2) @ CU(0, 1, wires, P(the3))"
   ]
  },
  {
   "cell_type": "code",
   "execution_count": 15,
   "metadata": {},
   "outputs": [
    {
     "data": {
      "text/latex": [
       "$\\displaystyle \\left[\\begin{matrix}e^{- 0.5 i \\theta_{1}} & 0 & 0 & 0\\\\0 & e^{- 0.5 i \\theta_{1}} & 0 & 0\\\\0 & 0 & e^{0.5 i \\theta_{1}} & 0\\\\0 & 0 & 0 & e^{0.5 i \\theta_{1}}\\end{matrix}\\right]$"
      ],
      "text/plain": [
       "Matrix([\n",
       "[exp(-0.5*I*\\theta_1),                    0,                   0,                   0],\n",
       "[                   0, exp(-0.5*I*\\theta_1),                   0,                   0],\n",
       "[                   0,                    0, exp(0.5*I*\\theta_1),                   0],\n",
       "[                   0,                    0,                   0, exp(0.5*I*\\theta_1)]])"
      ]
     },
     "execution_count": 15,
     "metadata": {},
     "output_type": "execute_result"
    }
   ],
   "source": [
    "Uni(RZ(the1), 0, 2)"
   ]
  },
  {
   "cell_type": "code",
   "execution_count": 16,
   "metadata": {},
   "outputs": [
    {
     "data": {
      "text/latex": [
       "$\\displaystyle \\left[\\begin{matrix}e^{- 0.5 i \\theta_{2}} & 0 & 0 & 0\\\\0 & e^{0.5 i \\theta_{2}} & 0 & 0\\\\0 & 0 & e^{- 0.5 i \\theta_{2}} & 0\\\\0 & 0 & 0 & e^{0.5 i \\theta_{2}}\\end{matrix}\\right]$"
      ],
      "text/plain": [
       "Matrix([\n",
       "[exp(-0.5*I*\\theta_2),                   0,                    0,                   0],\n",
       "[                   0, exp(0.5*I*\\theta_2),                    0,                   0],\n",
       "[                   0,                   0, exp(-0.5*I*\\theta_2),                   0],\n",
       "[                   0,                   0,                    0, exp(0.5*I*\\theta_2)]])"
      ]
     },
     "execution_count": 16,
     "metadata": {},
     "output_type": "execute_result"
    }
   ],
   "source": [
    "Uni(RZ(the2), 1, 2)"
   ]
  },
  {
   "cell_type": "code",
   "execution_count": 17,
   "metadata": {},
   "outputs": [
    {
     "data": {
      "text/latex": [
       "$\\displaystyle \\left[\\begin{matrix}e^{- 0.5 i \\theta_{1}} e^{- 0.5 i \\theta_{2}} & 0 & 0 & 0\\\\0 & e^{- 0.5 i \\theta_{1}} e^{0.5 i \\theta_{2}} & 0 & 0\\\\0 & 0 & e^{0.5 i \\theta_{1}} e^{- 0.5 i \\theta_{2}} & 0\\\\0 & 0 & 0 & e^{0.5 i \\theta_{1}} e^{0.5 i \\theta_{2}}\\end{matrix}\\right]$"
      ],
      "text/plain": [
       "Matrix([\n",
       "[exp(-0.5*I*\\theta_1)*exp(-0.5*I*\\theta_2),                                        0,                                        0,                                       0],\n",
       "[                                        0, exp(-0.5*I*\\theta_1)*exp(0.5*I*\\theta_2),                                        0,                                       0],\n",
       "[                                        0,                                        0, exp(0.5*I*\\theta_1)*exp(-0.5*I*\\theta_2),                                       0],\n",
       "[                                        0,                                        0,                                        0, exp(0.5*I*\\theta_1)*exp(0.5*I*\\theta_2)]])"
      ]
     },
     "execution_count": 17,
     "metadata": {},
     "output_type": "execute_result"
    }
   ],
   "source": [
    "Uni(RZ(the1), 0, 2) @ Uni(RZ(the2), 1, 2)"
   ]
  },
  {
   "cell_type": "code",
   "execution_count": 18,
   "metadata": {},
   "outputs": [
    {
     "data": {
      "text/latex": [
       "$\\displaystyle \\left[\\begin{matrix}e^{- 0.5 i \\theta_{3}} & 0 & 0 & 0\\\\0 & e^{0.5 i \\theta_{3}} & 0 & 0\\\\0 & 0 & e^{0.5 i \\theta_{3}} & 0\\\\0 & 0 & 0 & e^{- 0.5 i \\theta_{3}}\\end{matrix}\\right]$"
      ],
      "text/plain": [
       "Matrix([\n",
       "[exp(-0.5*I*\\theta_3),                   0,                   0,                    0],\n",
       "[                   0, exp(0.5*I*\\theta_3),                   0,                    0],\n",
       "[                   0,                   0, exp(0.5*I*\\theta_3),                    0],\n",
       "[                   0,                   0,                   0, exp(-0.5*I*\\theta_3)]])"
      ]
     },
     "execution_count": 18,
     "metadata": {},
     "output_type": "execute_result"
    }
   ],
   "source": [
    "CNOT(0, 1, 2) @ Uni(RZ(the3), 1, 2) @ CNOT(0, 1, 2)"
   ]
  },
  {
   "cell_type": "code",
   "execution_count": 19,
   "metadata": {},
   "outputs": [
    {
     "data": {
      "text/latex": [
       "$\\displaystyle \\left[\\begin{matrix}e^{- 0.5 i \\theta_{1}} e^{- 0.5 i \\theta_{2}} e^{- 0.5 i \\theta_{3}} & 0 & 0 & 0\\\\0 & e^{- 0.5 i \\theta_{1}} e^{0.5 i \\theta_{2}} e^{0.5 i \\theta_{3}} & 0 & 0\\\\0 & 0 & e^{0.5 i \\theta_{1}} e^{- 0.5 i \\theta_{2}} e^{0.5 i \\theta_{3}} & 0\\\\0 & 0 & 0 & e^{0.5 i \\theta_{1}} e^{0.5 i \\theta_{2}} e^{- 0.5 i \\theta_{3}}\\end{matrix}\\right]$"
      ],
      "text/plain": [
       "Matrix([\n",
       "[exp(-0.5*I*\\theta_1)*exp(-0.5*I*\\theta_2)*exp(-0.5*I*\\theta_3),                                                            0,                                                            0,                                                            0],\n",
       "[                                                             0, exp(-0.5*I*\\theta_1)*exp(0.5*I*\\theta_2)*exp(0.5*I*\\theta_3),                                                            0,                                                            0],\n",
       "[                                                             0,                                                            0, exp(0.5*I*\\theta_1)*exp(-0.5*I*\\theta_2)*exp(0.5*I*\\theta_3),                                                            0],\n",
       "[                                                             0,                                                            0,                                                            0, exp(0.5*I*\\theta_1)*exp(0.5*I*\\theta_2)*exp(-0.5*I*\\theta_3)]])"
      ]
     },
     "execution_count": 19,
     "metadata": {},
     "output_type": "execute_result"
    }
   ],
   "source": [
    "Evolve_2 = Uni(RZ(the1), 0, 2) @ Uni(RZ(the2), 1, 2) @ CNOT(0, 1, 2) @ Uni(RZ(the3), 1, 2) @ CNOT(0, 1, 2)\n",
    "Evolve_2"
   ]
  },
  {
   "cell_type": "code",
   "execution_count": 36,
   "metadata": {},
   "outputs": [],
   "source": [
    "wires = 2\n",
    "de = [\n",
    "    CNOT(0, 1, wires),\n",
    "    Uni(rz, 1, 2),\n",
    "    CNOT(0, 1, wires)\n",
    "]\n",
    "de_circuit = combine_circuit_gate(de)\n"
   ]
  },
  {
   "cell_type": "code",
   "execution_count": 72,
   "metadata": {},
   "outputs": [
    {
     "data": {
      "text/latex": [
       "$\\displaystyle \\left[\\begin{matrix}e^{- 0.5 i \\theta} & 0 & 0 & 0\\\\0 & e^{0.5 i \\theta} & 0 & 0\\\\0 & 0 & e^{0.5 i \\theta} & 0\\\\0 & 0 & 0 & e^{- 0.5 i \\theta}\\end{matrix}\\right]$"
      ],
      "text/plain": [
       "Matrix([\n",
       "[exp(-0.5*I*\\theta),                 0,                 0,                  0],\n",
       "[                 0, exp(0.5*I*\\theta),                 0,                  0],\n",
       "[                 0,                 0, exp(0.5*I*\\theta),                  0],\n",
       "[                 0,                 0,                 0, exp(-0.5*I*\\theta)]])"
      ]
     },
     "execution_count": 72,
     "metadata": {},
     "output_type": "execute_result"
    }
   ],
   "source": [
    "de_circuit"
   ]
  },
  {
   "cell_type": "code",
   "execution_count": 40,
   "metadata": {},
   "outputs": [],
   "source": [
    "## Basic gate calculation\n",
    "cz = CU(0, 1, wires, Zg)\n",
    "\n",
    "c_rz_pi_2 = CU(1, 0, wires, P(sp.pi/2))\n",
    "c_rz_pi_2_inv = CU(1, 0, wires, P(-sp.pi/2))\n",
    "swap_list = [\n",
    "    CNOT(0, 1, wires),\n",
    "    CNOT(1, 0, wires),\n",
    "    CNOT(0, 1, wires)\n",
    "]\n",
    "swap_2 = combine_circuit_gate(swap_list)\n",
    "qft_2_list = [\n",
    "    Uni(Hg, 0, wires),\n",
    "    c_rz_pi_2,\n",
    "    Uni(Hg, 1, wires),\n",
    "    #swap_2\n",
    "]\n",
    "qft_2_list_inv = [\n",
    "    #swap_2,\n",
    "    Uni(Hg, 1, wires),\n",
    "    c_rz_pi_2_inv,\n",
    "    Uni(Hg, 0, wires)\n",
    "]\n"
   ]
  },
  {
   "cell_type": "code",
   "execution_count": 56,
   "metadata": {},
   "outputs": [],
   "source": [
    "qft_2       = combine_circuit_gate(qft_2_list)\n",
    "qft_2_inv   = combine_circuit_gate(qft_2_list_inv)"
   ]
  },
  {
   "cell_type": "code",
   "execution_count": 57,
   "metadata": {},
   "outputs": [
    {
     "data": {
      "text/latex": [
       "$\\displaystyle \\left[\\begin{matrix}\\frac{1}{2} & \\frac{1}{2} & \\frac{1}{2} & \\frac{1}{2}\\\\\\frac{1}{2} & - \\frac{1}{2} & \\frac{e^{0.5 i \\pi}}{2} & - \\frac{e^{0.5 i \\pi}}{2}\\\\\\frac{1}{2} & \\frac{1}{2} & - \\frac{1}{2} & - \\frac{1}{2}\\\\\\frac{1}{2} & - \\frac{1}{2} & - \\frac{e^{0.5 i \\pi}}{2} & \\frac{e^{0.5 i \\pi}}{2}\\end{matrix}\\right]$"
      ],
      "text/plain": [
       "Matrix([\n",
       "[1/2,  1/2,              1/2,              1/2],\n",
       "[1/2, -1/2,  exp(0.5*I*pi)/2, -exp(0.5*I*pi)/2],\n",
       "[1/2,  1/2,             -1/2,             -1/2],\n",
       "[1/2, -1/2, -exp(0.5*I*pi)/2,  exp(0.5*I*pi)/2]])"
      ]
     },
     "execution_count": 57,
     "metadata": {},
     "output_type": "execute_result"
    }
   ],
   "source": [
    "qft_2"
   ]
  },
  {
   "cell_type": "code",
   "execution_count": 58,
   "metadata": {},
   "outputs": [
    {
     "data": {
      "text/latex": [
       "$\\displaystyle \\left[\\begin{matrix}\\frac{e^{1.0 i \\theta}}{4} + \\frac{3}{4} & - \\frac{e^{- 0.5 i \\pi} e^{1.0 i \\theta}}{4} + \\frac{e^{- 0.5 i \\pi}}{4} & \\frac{1}{4} - \\frac{e^{1.0 i \\theta}}{4} & \\frac{e^{- 0.5 i \\pi} e^{1.0 i \\theta}}{4} - \\frac{e^{- 0.5 i \\pi}}{4}\\\\- \\frac{e^{0.5 i \\pi} e^{1.0 i \\theta}}{4} + \\frac{e^{0.5 i \\pi}}{4} & \\frac{e^{1.0 i \\theta}}{4} + \\frac{3}{4} & \\frac{e^{0.5 i \\pi} e^{1.0 i \\theta}}{4} - \\frac{e^{0.5 i \\pi}}{4} & \\frac{1}{4} - \\frac{e^{1.0 i \\theta}}{4}\\\\\\frac{1}{4} - \\frac{e^{1.0 i \\theta}}{4} & \\frac{e^{- 0.5 i \\pi} e^{1.0 i \\theta}}{4} - \\frac{e^{- 0.5 i \\pi}}{4} & \\frac{e^{1.0 i \\theta}}{4} + \\frac{3}{4} & - \\frac{e^{- 0.5 i \\pi} e^{1.0 i \\theta}}{4} + \\frac{e^{- 0.5 i \\pi}}{4}\\\\\\frac{e^{0.5 i \\pi} e^{1.0 i \\theta}}{4} - \\frac{e^{0.5 i \\pi}}{4} & \\frac{1}{4} - \\frac{e^{1.0 i \\theta}}{4} & - \\frac{e^{0.5 i \\pi} e^{1.0 i \\theta}}{4} + \\frac{e^{0.5 i \\pi}}{4} & \\frac{e^{1.0 i \\theta}}{4} + \\frac{3}{4}\\end{matrix}\\right]$"
      ],
      "text/plain": [
       "Matrix([\n",
       "[                           exp(1.0*I*\\theta)/4 + 3/4, -exp(-0.5*I*pi)*exp(1.0*I*\\theta)/4 + exp(-0.5*I*pi)/4,                            1/4 - exp(1.0*I*\\theta)/4,  exp(-0.5*I*pi)*exp(1.0*I*\\theta)/4 - exp(-0.5*I*pi)/4],\n",
       "[-exp(0.5*I*pi)*exp(1.0*I*\\theta)/4 + exp(0.5*I*pi)/4,                              exp(1.0*I*\\theta)/4 + 3/4,  exp(0.5*I*pi)*exp(1.0*I*\\theta)/4 - exp(0.5*I*pi)/4,                              1/4 - exp(1.0*I*\\theta)/4],\n",
       "[                           1/4 - exp(1.0*I*\\theta)/4,  exp(-0.5*I*pi)*exp(1.0*I*\\theta)/4 - exp(-0.5*I*pi)/4,                            exp(1.0*I*\\theta)/4 + 3/4, -exp(-0.5*I*pi)*exp(1.0*I*\\theta)/4 + exp(-0.5*I*pi)/4],\n",
       "[ exp(0.5*I*pi)*exp(1.0*I*\\theta)/4 - exp(0.5*I*pi)/4,                              1/4 - exp(1.0*I*\\theta)/4, -exp(0.5*I*pi)*exp(1.0*I*\\theta)/4 + exp(0.5*I*pi)/4,                              exp(1.0*I*\\theta)/4 + 3/4]])"
      ]
     },
     "execution_count": 58,
     "metadata": {},
     "output_type": "execute_result"
    }
   ],
   "source": [
    "qft_2@CU(0, 1, 2, p)@qft_2_inv"
   ]
  },
  {
   "cell_type": "code",
   "execution_count": 53,
   "metadata": {},
   "outputs": [],
   "source": [
    "momentum_evolution = (qft_2_inv@de_circuit@qft_2)"
   ]
  },
  {
   "cell_type": "code",
   "execution_count": 54,
   "metadata": {},
   "outputs": [
    {
     "data": {
      "text/latex": [
       "$\\displaystyle \\left[\\begin{matrix}2 e^{0.5 i \\theta} + 2 e^{- 0.5 i \\theta} & 0 & - e^{0.5 i \\theta} + e^{0.5 i \\pi} e^{0.5 i \\theta} + e^{- 0.5 i \\theta} - e^{0.5 i \\pi} e^{- 0.5 i \\theta} & - e^{0.5 i \\theta} - e^{0.5 i \\pi} e^{0.5 i \\theta} + e^{- 0.5 i \\theta} + e^{0.5 i \\pi} e^{- 0.5 i \\theta}\\\\0 & 2 e^{0.5 i \\theta} + 2 e^{- 0.5 i \\theta} & - e^{0.5 i \\theta} - e^{0.5 i \\pi} e^{0.5 i \\theta} + e^{- 0.5 i \\theta} + e^{0.5 i \\pi} e^{- 0.5 i \\theta} & - e^{0.5 i \\theta} + e^{0.5 i \\pi} e^{0.5 i \\theta} + e^{- 0.5 i \\theta} - e^{0.5 i \\pi} e^{- 0.5 i \\theta}\\\\- e^{0.5 i \\theta} + e^{- 0.5 i \\pi} e^{0.5 i \\theta} + e^{- 0.5 i \\theta} - e^{- 0.5 i \\pi} e^{- 0.5 i \\theta} & - e^{0.5 i \\theta} - e^{- 0.5 i \\pi} e^{0.5 i \\theta} + e^{- 0.5 i \\theta} + e^{- 0.5 i \\pi} e^{- 0.5 i \\theta} & 2 e^{0.5 i \\theta} + 2 e^{- 0.5 i \\theta} & 0\\\\- e^{0.5 i \\theta} - e^{- 0.5 i \\pi} e^{0.5 i \\theta} + e^{- 0.5 i \\theta} + e^{- 0.5 i \\pi} e^{- 0.5 i \\theta} & - e^{0.5 i \\theta} + e^{- 0.5 i \\pi} e^{0.5 i \\theta} + e^{- 0.5 i \\theta} - e^{- 0.5 i \\pi} e^{- 0.5 i \\theta} & 0 & 2 e^{0.5 i \\theta} + 2 e^{- 0.5 i \\theta}\\end{matrix}\\right]$"
      ],
      "text/plain": [
       "Matrix([\n",
       "[                                                                    2*exp(0.5*I*\\theta) + 2*exp(-0.5*I*\\theta),                                                                                                              0, -exp(0.5*I*\\theta) + exp(0.5*I*pi)*exp(0.5*I*\\theta) + exp(-0.5*I*\\theta) - exp(0.5*I*pi)*exp(-0.5*I*\\theta), -exp(0.5*I*\\theta) - exp(0.5*I*pi)*exp(0.5*I*\\theta) + exp(-0.5*I*\\theta) + exp(0.5*I*pi)*exp(-0.5*I*\\theta)],\n",
       "[                                                                                                             0,                                                                     2*exp(0.5*I*\\theta) + 2*exp(-0.5*I*\\theta), -exp(0.5*I*\\theta) - exp(0.5*I*pi)*exp(0.5*I*\\theta) + exp(-0.5*I*\\theta) + exp(0.5*I*pi)*exp(-0.5*I*\\theta), -exp(0.5*I*\\theta) + exp(0.5*I*pi)*exp(0.5*I*\\theta) + exp(-0.5*I*\\theta) - exp(0.5*I*pi)*exp(-0.5*I*\\theta)],\n",
       "[-exp(0.5*I*\\theta) + exp(-0.5*I*pi)*exp(0.5*I*\\theta) + exp(-0.5*I*\\theta) - exp(-0.5*I*pi)*exp(-0.5*I*\\theta), -exp(0.5*I*\\theta) - exp(-0.5*I*pi)*exp(0.5*I*\\theta) + exp(-0.5*I*\\theta) + exp(-0.5*I*pi)*exp(-0.5*I*\\theta),                                                                   2*exp(0.5*I*\\theta) + 2*exp(-0.5*I*\\theta),                                                                                                            0],\n",
       "[-exp(0.5*I*\\theta) - exp(-0.5*I*pi)*exp(0.5*I*\\theta) + exp(-0.5*I*\\theta) + exp(-0.5*I*pi)*exp(-0.5*I*\\theta), -exp(0.5*I*\\theta) + exp(-0.5*I*pi)*exp(0.5*I*\\theta) + exp(-0.5*I*\\theta) - exp(-0.5*I*pi)*exp(-0.5*I*\\theta),                                                                                                            0,                                                                   2*exp(0.5*I*\\theta) + 2*exp(-0.5*I*\\theta)]])"
      ]
     },
     "execution_count": 54,
     "metadata": {},
     "output_type": "execute_result"
    }
   ],
   "source": [
    "momentum_evolution"
   ]
  },
  {
   "cell_type": "code",
   "execution_count": 48,
   "metadata": {},
   "outputs": [
    {
     "data": {
      "text/latex": [
       "$\\displaystyle \\left[\\begin{matrix}\\frac{e^{1.0 i \\theta} + 1}{e^{\\frac{3 i \\theta}{2}} + 1} & 0 & \\frac{- e^{1.0 i \\theta} + e^{i \\left(1.0 \\theta + 0.5 \\pi\\right)} + 1 - i}{2 \\left(e^{\\frac{3 i \\theta}{2}} + 1\\right)} & \\frac{- e^{1.0 i \\theta} - e^{i \\left(1.0 \\theta + 0.5 \\pi\\right)} + 1 + i}{2 \\left(e^{\\frac{3 i \\theta}{2}} + 1\\right)}\\\\0 & \\frac{e^{1.0 i \\theta} + 1}{e^{\\frac{3 i \\theta}{2}} + 1} & \\frac{- e^{1.0 i \\theta} - e^{i \\left(1.0 \\theta + 0.5 \\pi\\right)} + 1 + i}{2 \\left(e^{\\frac{3 i \\theta}{2}} + 1\\right)} & \\frac{- e^{1.0 i \\theta} + e^{i \\left(1.0 \\theta + 0.5 \\pi\\right)} + 1 - i}{2 \\left(e^{\\frac{3 i \\theta}{2}} + 1\\right)}\\\\\\frac{\\left(e^{i \\left(0.5 \\theta + 1.0 \\pi\\right)} - e^{0.5 i \\left(\\theta + \\pi\\right)} + e^{i \\left(1.5 \\theta + 0.5 \\pi\\right)} - e^{i \\left(1.5 \\theta + 1.0 \\pi\\right)}\\right) e^{- i \\left(0.5 \\theta + 1.0 \\pi\\right)}}{2 \\left(e^{\\frac{3 i \\theta}{2}} + 1\\right)} & \\frac{\\left(e^{i \\left(0.5 \\theta + 1.0 \\pi\\right)} + e^{0.5 i \\left(\\theta + \\pi\\right)} - e^{i \\left(1.5 \\theta + 0.5 \\pi\\right)} - e^{i \\left(1.5 \\theta + 1.0 \\pi\\right)}\\right) e^{- i \\left(0.5 \\theta + 1.0 \\pi\\right)}}{2 \\left(e^{\\frac{3 i \\theta}{2}} + 1\\right)} & \\frac{e^{1.0 i \\theta} + 1}{e^{\\frac{3 i \\theta}{2}} + 1} & 0\\\\\\frac{\\left(e^{i \\left(0.5 \\theta + 1.0 \\pi\\right)} + e^{0.5 i \\left(\\theta + \\pi\\right)} - e^{i \\left(1.5 \\theta + 0.5 \\pi\\right)} - e^{i \\left(1.5 \\theta + 1.0 \\pi\\right)}\\right) e^{- i \\left(0.5 \\theta + 1.0 \\pi\\right)}}{2 \\left(e^{\\frac{3 i \\theta}{2}} + 1\\right)} & \\frac{\\left(e^{i \\left(0.5 \\theta + 1.0 \\pi\\right)} - e^{0.5 i \\left(\\theta + \\pi\\right)} + e^{i \\left(1.5 \\theta + 0.5 \\pi\\right)} - e^{i \\left(1.5 \\theta + 1.0 \\pi\\right)}\\right) e^{- i \\left(0.5 \\theta + 1.0 \\pi\\right)}}{2 \\left(e^{\\frac{3 i \\theta}{2}} + 1\\right)} & 0 & \\frac{e^{1.0 i \\theta} + 1}{e^{\\frac{3 i \\theta}{2}} + 1}\\end{matrix}\\right]$"
      ],
      "text/plain": [
       "Matrix([\n",
       "[                                                                                                                                  (exp(1.0*I*\\theta) + 1)/(exp(3*I*\\theta/2) + 1),                                                                                                                                                                                 0, (-exp(1.0*I*\\theta) + exp(I*(1.0*\\theta + 0.5*pi)) + 1 - I)/(2*(exp(3*I*\\theta/2) + 1)), (-exp(1.0*I*\\theta) - exp(I*(1.0*\\theta + 0.5*pi)) + 1 + I)/(2*(exp(3*I*\\theta/2) + 1))],\n",
       "[                                                                                                                                                                                0,                                                                                                                                   (exp(1.0*I*\\theta) + 1)/(exp(3*I*\\theta/2) + 1), (-exp(1.0*I*\\theta) - exp(I*(1.0*\\theta + 0.5*pi)) + 1 + I)/(2*(exp(3*I*\\theta/2) + 1)), (-exp(1.0*I*\\theta) + exp(I*(1.0*\\theta + 0.5*pi)) + 1 - I)/(2*(exp(3*I*\\theta/2) + 1))],\n",
       "[(exp(I*(0.5*\\theta + 1.0*pi)) - exp(0.5*I*(\\theta + pi)) + exp(I*(1.5*\\theta + 0.5*pi)) - exp(I*(1.5*\\theta + 1.0*pi)))*exp(-I*(0.5*\\theta + 1.0*pi))/(2*(exp(3*I*\\theta/2) + 1)), (exp(I*(0.5*\\theta + 1.0*pi)) + exp(0.5*I*(\\theta + pi)) - exp(I*(1.5*\\theta + 0.5*pi)) - exp(I*(1.5*\\theta + 1.0*pi)))*exp(-I*(0.5*\\theta + 1.0*pi))/(2*(exp(3*I*\\theta/2) + 1)),                                         (exp(1.0*I*\\theta) + 1)/(exp(3*I*\\theta/2) + 1),                                                                                       0],\n",
       "[(exp(I*(0.5*\\theta + 1.0*pi)) + exp(0.5*I*(\\theta + pi)) - exp(I*(1.5*\\theta + 0.5*pi)) - exp(I*(1.5*\\theta + 1.0*pi)))*exp(-I*(0.5*\\theta + 1.0*pi))/(2*(exp(3*I*\\theta/2) + 1)), (exp(I*(0.5*\\theta + 1.0*pi)) - exp(0.5*I*(\\theta + pi)) + exp(I*(1.5*\\theta + 0.5*pi)) - exp(I*(1.5*\\theta + 1.0*pi)))*exp(-I*(0.5*\\theta + 1.0*pi))/(2*(exp(3*I*\\theta/2) + 1)),                                                                                       0,                                         (exp(1.0*I*\\theta) + 1)/(exp(3*I*\\theta/2) + 1)]])"
      ]
     },
     "execution_count": 48,
     "metadata": {},
     "output_type": "execute_result"
    }
   ],
   "source": [
    "sp.simplify(momentum_evolution/((sp.exp(sp.I * theta)+sp.exp(-sp.I * theta/2))/2))"
   ]
  },
  {
   "cell_type": "code",
   "execution_count": 13,
   "metadata": {},
   "outputs": [
    {
     "data": {
      "text/latex": [
       "$\\displaystyle \\left[\\begin{matrix}\\frac{e^{1.0 i \\theta}}{4} + \\frac{3}{4} & \\frac{e^{1.0 i \\theta}}{4} - \\frac{1}{4} & \\frac{1}{4} - \\frac{e^{1.0 i \\theta}}{4} & \\frac{1}{4} - \\frac{e^{1.0 i \\theta}}{4}\\\\\\frac{e^{1.0 i \\theta}}{4} - \\frac{1}{4} & \\frac{e^{1.0 i \\theta}}{4} + \\frac{3}{4} & \\frac{1}{4} - \\frac{e^{1.0 i \\theta}}{4} & \\frac{1}{4} - \\frac{e^{1.0 i \\theta}}{4}\\\\\\frac{1}{4} - \\frac{e^{1.0 i \\theta}}{4} & \\frac{1}{4} - \\frac{e^{1.0 i \\theta}}{4} & \\frac{e^{1.0 i \\theta}}{4} + \\frac{3}{4} & \\frac{e^{1.0 i \\theta}}{4} - \\frac{1}{4}\\\\\\frac{1}{4} - \\frac{e^{1.0 i \\theta}}{4} & \\frac{1}{4} - \\frac{e^{1.0 i \\theta}}{4} & \\frac{e^{1.0 i \\theta}}{4} - \\frac{1}{4} & \\frac{e^{1.0 i \\theta}}{4} + \\frac{3}{4}\\end{matrix}\\right]$"
      ],
      "text/plain": [
       "Matrix([\n",
       "[exp(1.0*I*\\theta)/4 + 3/4, exp(1.0*I*\\theta)/4 - 1/4, 1/4 - exp(1.0*I*\\theta)/4, 1/4 - exp(1.0*I*\\theta)/4],\n",
       "[exp(1.0*I*\\theta)/4 - 1/4, exp(1.0*I*\\theta)/4 + 3/4, 1/4 - exp(1.0*I*\\theta)/4, 1/4 - exp(1.0*I*\\theta)/4],\n",
       "[1/4 - exp(1.0*I*\\theta)/4, 1/4 - exp(1.0*I*\\theta)/4, exp(1.0*I*\\theta)/4 + 3/4, exp(1.0*I*\\theta)/4 - 1/4],\n",
       "[1/4 - exp(1.0*I*\\theta)/4, 1/4 - exp(1.0*I*\\theta)/4, exp(1.0*I*\\theta)/4 - 1/4, exp(1.0*I*\\theta)/4 + 3/4]])"
      ]
     },
     "execution_count": 13,
     "metadata": {},
     "output_type": "execute_result"
    }
   ],
   "source": [
    "qft_2@CU(0, 1, 2, p)@qft_2_inv"
   ]
  },
  {
   "cell_type": "code",
   "execution_count": null,
   "metadata": {},
   "outputs": [],
   "source": [
    "$\\displaystyle \\left[\\begin{matrix}\\frac{e^{0.5 i \\theta}}{2} + \\frac{e^{- 0.5 i \\theta}}{2} & 0 & - \\frac{e^{0.5 i \\theta}}{4} + \\frac{e^{0.5 i \\pi} e^{0.5 i \\theta}}{4} + \\frac{e^{- 0.5 i \\theta}}{4} - \\frac{e^{0.5 i \\pi} e^{- 0.5 i \\theta}}{4} & - \\frac{e^{0.5 i \\theta}}{4} - \\frac{e^{0.5 i \\pi} e^{0.5 i \\theta}}{4} + \\frac{e^{- 0.5 i \\theta}}{4} + \\frac{e^{0.5 i \\pi} e^{- 0.5 i \\theta}}{4}\\\\0 & \\frac{e^{0.5 i \\theta}}{2} + \\frac{e^{- 0.5 i \\theta}}{2} & - \\frac{e^{0.5 i \\theta}}{4} - \\frac{e^{0.5 i \\pi} e^{0.5 i \\theta}}{4} + \\frac{e^{- 0.5 i \\theta}}{4} + \\frac{e^{0.5 i \\pi} e^{- 0.5 i \\theta}}{4} & - \\frac{e^{0.5 i \\theta}}{4} + \\frac{e^{0.5 i \\pi} e^{0.5 i \\theta}}{4} + \\frac{e^{- 0.5 i \\theta}}{4} - \\frac{e^{0.5 i \\pi} e^{- 0.5 i \\theta}}{4}\\\\- \\frac{e^{0.5 i \\theta}}{4} + \\frac{e^{- 0.5 i \\pi} e^{0.5 i \\theta}}{4} + \\frac{e^{- 0.5 i \\theta}}{4} - \\frac{e^{- 0.5 i \\pi} e^{- 0.5 i \\theta}}{4} & - \\frac{e^{0.5 i \\theta}}{4} - \\frac{e^{- 0.5 i \\pi} e^{0.5 i \\theta}}{4} + \\frac{e^{- 0.5 i \\theta}}{4} + \\frac{e^{- 0.5 i \\pi} e^{- 0.5 i \\theta}}{4} & \\frac{e^{0.5 i \\theta}}{2} + \\frac{e^{- 0.5 i \\theta}}{2} & 0\\\\- \\frac{e^{0.5 i \\theta}}{4} - \\frac{e^{- 0.5 i \\pi} e^{0.5 i \\theta}}{4} + \\frac{e^{- 0.5 i \\theta}}{4} + \\frac{e^{- 0.5 i \\pi} e^{- 0.5 i \\theta}}{4} & - \\frac{e^{0.5 i \\theta}}{4} + \\frac{e^{- 0.5 i \\pi} e^{0.5 i \\theta}}{4} + \\frac{e^{- 0.5 i \\theta}}{4} - \\frac{e^{- 0.5 i \\pi} e^{- 0.5 i \\theta}}{4} & 0 & \\frac{e^{0.5 i \\theta}}{2} + \\frac{e^{- 0.5 i \\theta}}{2}\\end{matrix}\\right]$"
   ]
  }
 ],
 "metadata": {
  "kernelspec": {
   "display_name": "Python 3",
   "language": "python",
   "name": "python3"
  },
  "language_info": {
   "codemirror_mode": {
    "name": "ipython",
    "version": 3
   },
   "file_extension": ".py",
   "mimetype": "text/x-python",
   "name": "python",
   "nbconvert_exporter": "python",
   "pygments_lexer": "ipython3",
   "version": "3.11.3"
  }
 },
 "nbformat": 4,
 "nbformat_minor": 2
}
