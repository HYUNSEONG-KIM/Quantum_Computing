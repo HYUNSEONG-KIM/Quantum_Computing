{
 "cells": [
  {
   "cell_type": "code",
   "execution_count": 2,
   "metadata": {},
   "outputs": [],
   "source": [
    "from sym_g import *\n",
    "import sympy as sp"
   ]
  },
  {
   "cell_type": "code",
   "execution_count": 3,
   "metadata": {},
   "outputs": [],
   "source": [
    "from sympy.physics.quantum import gate as gt\n",
    "from sympy.physics.quantum import circuitplot as cirplot\n"
   ]
  },
  {
   "cell_type": "code",
   "execution_count": 4,
   "metadata": {},
   "outputs": [],
   "source": [
    "theta1 = sp.Symbol(\"\\\\theta_1\")\n",
    "theta2 = sp.Symbol(\"\\\\theta_2\")\n",
    "theta3 = sp.Symbol(\"\\\\theta_3\")"
   ]
  },
  {
   "cell_type": "code",
   "execution_count": 5,
   "metadata": {},
   "outputs": [],
   "source": [
    "wires = 3\n"
   ]
  },
  {
   "cell_type": "markdown",
   "metadata": {},
   "source": [
    "$$Z_0 Z_1 Z_2 + Z_0 Z_1 + Z_0$$"
   ]
  },
  {
   "cell_type": "code",
   "execution_count": 8,
   "metadata": {},
   "outputs": [
    {
     "data": {
      "text/latex": [
       "$\\displaystyle \\left[\\begin{matrix}1 & 0 & 0 & 0 & 0 & 0 & 0 & 0\\\\0 & e^{1.0 i \\theta_{1}} & 0 & 0 & 0 & 0 & 0 & 0\\\\0 & 0 & e^{1.0 i \\theta_{1}} & 0 & 0 & 0 & 0 & 0\\\\0 & 0 & 0 & 1 & 0 & 0 & 0 & 0\\\\0 & 0 & 0 & 0 & e^{1.0 i \\theta_{1}} & 0 & 0 & 0\\\\0 & 0 & 0 & 0 & 0 & 1 & 0 & 0\\\\0 & 0 & 0 & 0 & 0 & 0 & 1 & 0\\\\0 & 0 & 0 & 0 & 0 & 0 & 0 & e^{1.0 i \\theta_{1}}\\end{matrix}\\right]$"
      ],
      "text/plain": [
       "Matrix([\n",
       "[1,                   0,                   0, 0,                   0, 0, 0,                   0],\n",
       "[0, exp(1.0*I*\\theta_1),                   0, 0,                   0, 0, 0,                   0],\n",
       "[0,                   0, exp(1.0*I*\\theta_1), 0,                   0, 0, 0,                   0],\n",
       "[0,                   0,                   0, 1,                   0, 0, 0,                   0],\n",
       "[0,                   0,                   0, 0, exp(1.0*I*\\theta_1), 0, 0,                   0],\n",
       "[0,                   0,                   0, 0,                   0, 1, 0,                   0],\n",
       "[0,                   0,                   0, 0,                   0, 0, 1,                   0],\n",
       "[0,                   0,                   0, 0,                   0, 0, 0, exp(1.0*I*\\theta_1)]])"
      ]
     },
     "execution_count": 8,
     "metadata": {},
     "output_type": "execute_result"
    }
   ],
   "source": [
    "circuit_Z0Z1Z2 = [\n",
    "    CNOT(0, 2, wires),\n",
    "    CNOT(1, 2, wires),\n",
    "    Uni(RZ(theta1), 2, wires),\n",
    "    CNOT(1, 2, wires),\n",
    "    CNOT(0, 2, wires)\n",
    "]\n",
    "combie_circuit_gate(circuit_Z0Z1Z2)"
   ]
  },
  {
   "cell_type": "code",
   "execution_count": 13,
   "metadata": {},
   "outputs": [],
   "source": [
    "circuit_Z0Z1 = [\n",
    "    CNOT(0, 1, wires),\n",
    "    Uni(RZ(theta2), 1, wires),\n",
    "    CNOT(0, 1, wires),\n",
    "]\n",
    "circuit_Z0 = [\n",
    "    Uni(RZ(theta3), 0, wires)\n",
    "]"
   ]
  },
  {
   "cell_type": "code",
   "execution_count": 14,
   "metadata": {},
   "outputs": [
    {
     "data": {
      "text/latex": [
       "$\\displaystyle \\left[\\begin{matrix}1 & 0 & 0 & 0 & 0 & 0 & 0 & 0\\\\0 & 1 & 0 & 0 & 0 & 0 & 0 & 0\\\\0 & 0 & e^{1.0 i \\theta_{2}} & 0 & 0 & 0 & 0 & 0\\\\0 & 0 & 0 & e^{1.0 i \\theta_{2}} & 0 & 0 & 0 & 0\\\\0 & 0 & 0 & 0 & e^{1.0 i \\theta_{2}} & 0 & 0 & 0\\\\0 & 0 & 0 & 0 & 0 & e^{1.0 i \\theta_{2}} & 0 & 0\\\\0 & 0 & 0 & 0 & 0 & 0 & 1 & 0\\\\0 & 0 & 0 & 0 & 0 & 0 & 0 & 1\\end{matrix}\\right]$"
      ],
      "text/plain": [
       "Matrix([\n",
       "[1, 0,                   0,                   0,                   0,                   0, 0, 0],\n",
       "[0, 1,                   0,                   0,                   0,                   0, 0, 0],\n",
       "[0, 0, exp(1.0*I*\\theta_2),                   0,                   0,                   0, 0, 0],\n",
       "[0, 0,                   0, exp(1.0*I*\\theta_2),                   0,                   0, 0, 0],\n",
       "[0, 0,                   0,                   0, exp(1.0*I*\\theta_2),                   0, 0, 0],\n",
       "[0, 0,                   0,                   0,                   0, exp(1.0*I*\\theta_2), 0, 0],\n",
       "[0, 0,                   0,                   0,                   0,                   0, 1, 0],\n",
       "[0, 0,                   0,                   0,                   0,                   0, 0, 1]])"
      ]
     },
     "execution_count": 14,
     "metadata": {},
     "output_type": "execute_result"
    }
   ],
   "source": [
    "combie_circuit_gate(circuit_Z0Z1)"
   ]
  },
  {
   "cell_type": "code",
   "execution_count": 15,
   "metadata": {},
   "outputs": [
    {
     "data": {
      "text/latex": [
       "$\\displaystyle \\left[\\begin{matrix}1 & 0 & 0 & 0 & 0 & 0 & 0 & 0\\\\0 & 1 & 0 & 0 & 0 & 0 & 0 & 0\\\\0 & 0 & 1 & 0 & 0 & 0 & 0 & 0\\\\0 & 0 & 0 & 1 & 0 & 0 & 0 & 0\\\\0 & 0 & 0 & 0 & e^{1.0 i \\theta_{3}} & 0 & 0 & 0\\\\0 & 0 & 0 & 0 & 0 & e^{1.0 i \\theta_{3}} & 0 & 0\\\\0 & 0 & 0 & 0 & 0 & 0 & e^{1.0 i \\theta_{3}} & 0\\\\0 & 0 & 0 & 0 & 0 & 0 & 0 & e^{1.0 i \\theta_{3}}\\end{matrix}\\right]$"
      ],
      "text/plain": [
       "Matrix([\n",
       "[1, 0, 0, 0,                   0,                   0,                   0,                   0],\n",
       "[0, 1, 0, 0,                   0,                   0,                   0,                   0],\n",
       "[0, 0, 1, 0,                   0,                   0,                   0,                   0],\n",
       "[0, 0, 0, 1,                   0,                   0,                   0,                   0],\n",
       "[0, 0, 0, 0, exp(1.0*I*\\theta_3),                   0,                   0,                   0],\n",
       "[0, 0, 0, 0,                   0, exp(1.0*I*\\theta_3),                   0,                   0],\n",
       "[0, 0, 0, 0,                   0,                   0, exp(1.0*I*\\theta_3),                   0],\n",
       "[0, 0, 0, 0,                   0,                   0,                   0, exp(1.0*I*\\theta_3)]])"
      ]
     },
     "execution_count": 15,
     "metadata": {},
     "output_type": "execute_result"
    }
   ],
   "source": [
    "combie_circuit_gate(circuit_Z0)"
   ]
  },
  {
   "cell_type": "code",
   "execution_count": 17,
   "metadata": {},
   "outputs": [
    {
     "data": {
      "text/latex": [
       "$\\displaystyle \\left[\\begin{matrix}1 & 0 & 0 & 0 & 0 & 0 & 0 & 0\\\\0 & e^{1.0 i \\theta_{1}} & 0 & 0 & 0 & 0 & 0 & 0\\\\0 & 0 & e^{1.0 i \\theta_{1}} e^{1.0 i \\theta_{2}} & 0 & 0 & 0 & 0 & 0\\\\0 & 0 & 0 & e^{1.0 i \\theta_{2}} & 0 & 0 & 0 & 0\\\\0 & 0 & 0 & 0 & e^{1.0 i \\theta_{1}} e^{1.0 i \\theta_{2}} e^{1.0 i \\theta_{3}} & 0 & 0 & 0\\\\0 & 0 & 0 & 0 & 0 & e^{1.0 i \\theta_{2}} e^{1.0 i \\theta_{3}} & 0 & 0\\\\0 & 0 & 0 & 0 & 0 & 0 & e^{1.0 i \\theta_{3}} & 0\\\\0 & 0 & 0 & 0 & 0 & 0 & 0 & e^{1.0 i \\theta_{1}} e^{1.0 i \\theta_{3}}\\end{matrix}\\right]$"
      ],
      "text/plain": [
       "Matrix([\n",
       "[1,                   0,                                       0,                   0,                                                           0,                                       0,                   0,                                       0],\n",
       "[0, exp(1.0*I*\\theta_1),                                       0,                   0,                                                           0,                                       0,                   0,                                       0],\n",
       "[0,                   0, exp(1.0*I*\\theta_1)*exp(1.0*I*\\theta_2),                   0,                                                           0,                                       0,                   0,                                       0],\n",
       "[0,                   0,                                       0, exp(1.0*I*\\theta_2),                                                           0,                                       0,                   0,                                       0],\n",
       "[0,                   0,                                       0,                   0, exp(1.0*I*\\theta_1)*exp(1.0*I*\\theta_2)*exp(1.0*I*\\theta_3),                                       0,                   0,                                       0],\n",
       "[0,                   0,                                       0,                   0,                                                           0, exp(1.0*I*\\theta_2)*exp(1.0*I*\\theta_3),                   0,                                       0],\n",
       "[0,                   0,                                       0,                   0,                                                           0,                                       0, exp(1.0*I*\\theta_3),                                       0],\n",
       "[0,                   0,                                       0,                   0,                                                           0,                                       0,                   0, exp(1.0*I*\\theta_1)*exp(1.0*I*\\theta_3)]])"
      ]
     },
     "execution_count": 17,
     "metadata": {},
     "output_type": "execute_result"
    }
   ],
   "source": [
    "combie_circuit_gate(circuit_Z0Z1Z2) * combie_circuit_gate(circuit_Z0Z1) * combie_circuit_gate(circuit_Z0)"
   ]
  },
  {
   "cell_type": "code",
   "execution_count": 19,
   "metadata": {},
   "outputs": [
    {
     "data": {
      "text/latex": [
       "$\\displaystyle \\left[\\begin{matrix}1 & 0 & 0 & 0 & 0 & 0 & 0 & 0\\\\0 & e^{1.0 i \\theta_{1}} & 0 & 0 & 0 & 0 & 0 & 0\\\\0 & 0 & e^{1.0 i \\theta_{1}} e^{1.0 i \\theta_{2}} & 0 & 0 & 0 & 0 & 0\\\\0 & 0 & 0 & e^{1.0 i \\theta_{2}} & 0 & 0 & 0 & 0\\\\0 & 0 & 0 & 0 & e^{1.0 i \\theta_{1}} e^{1.0 i \\theta_{2}} e^{1.0 i \\theta_{3}} & 0 & 0 & 0\\\\0 & 0 & 0 & 0 & 0 & e^{1.0 i \\theta_{2}} e^{1.0 i \\theta_{3}} & 0 & 0\\\\0 & 0 & 0 & 0 & 0 & 0 & e^{1.0 i \\theta_{3}} & 0\\\\0 & 0 & 0 & 0 & 0 & 0 & 0 & e^{1.0 i \\theta_{1}} e^{1.0 i \\theta_{3}}\\end{matrix}\\right]$"
      ],
      "text/plain": [
       "Matrix([\n",
       "[1,                   0,                                       0,                   0,                                                           0,                                       0,                   0,                                       0],\n",
       "[0, exp(1.0*I*\\theta_1),                                       0,                   0,                                                           0,                                       0,                   0,                                       0],\n",
       "[0,                   0, exp(1.0*I*\\theta_1)*exp(1.0*I*\\theta_2),                   0,                                                           0,                                       0,                   0,                                       0],\n",
       "[0,                   0,                                       0, exp(1.0*I*\\theta_2),                                                           0,                                       0,                   0,                                       0],\n",
       "[0,                   0,                                       0,                   0, exp(1.0*I*\\theta_1)*exp(1.0*I*\\theta_2)*exp(1.0*I*\\theta_3),                                       0,                   0,                                       0],\n",
       "[0,                   0,                                       0,                   0,                                                           0, exp(1.0*I*\\theta_2)*exp(1.0*I*\\theta_3),                   0,                                       0],\n",
       "[0,                   0,                                       0,                   0,                                                           0,                                       0, exp(1.0*I*\\theta_3),                                       0],\n",
       "[0,                   0,                                       0,                   0,                                                           0,                                       0,                   0, exp(1.0*I*\\theta_1)*exp(1.0*I*\\theta_3)]])"
      ]
     },
     "execution_count": 19,
     "metadata": {},
     "output_type": "execute_result"
    }
   ],
   "source": [
    "combie_circuit_gate(circuit_Z0)* combie_circuit_gate(circuit_Z0Z1)*combie_circuit_gate(circuit_Z0Z1Z2) "
   ]
  },
  {
   "cell_type": "code",
   "execution_count": 21,
   "metadata": {},
   "outputs": [
    {
     "data": {
      "text/latex": [
       "$\\displaystyle \\left[\\begin{matrix}1 & 0 & 0 & 0 & 0 & 0 & 0 & 0\\\\0 & e^{1.0 i \\theta_{1}} & 0 & 0 & 0 & 0 & 0 & 0\\\\0 & 0 & e^{1.0 i \\theta_{1}} e^{1.0 i \\theta_{2}} & 0 & 0 & 0 & 0 & 0\\\\0 & 0 & 0 & e^{1.0 i \\theta_{2}} & 0 & 0 & 0 & 0\\\\0 & 0 & 0 & 0 & e^{1.0 i \\theta_{1}} e^{1.0 i \\theta_{2}} e^{1.0 i \\theta_{3}} & 0 & 0 & 0\\\\0 & 0 & 0 & 0 & 0 & e^{1.0 i \\theta_{2}} e^{1.0 i \\theta_{3}} & 0 & 0\\\\0 & 0 & 0 & 0 & 0 & 0 & e^{1.0 i \\theta_{3}} & 0\\\\0 & 0 & 0 & 0 & 0 & 0 & 0 & e^{1.0 i \\theta_{1}} e^{1.0 i \\theta_{3}}\\end{matrix}\\right]$"
      ],
      "text/plain": [
       "Matrix([\n",
       "[1,                   0,                                       0,                   0,                                                           0,                                       0,                   0,                                       0],\n",
       "[0, exp(1.0*I*\\theta_1),                                       0,                   0,                                                           0,                                       0,                   0,                                       0],\n",
       "[0,                   0, exp(1.0*I*\\theta_1)*exp(1.0*I*\\theta_2),                   0,                                                           0,                                       0,                   0,                                       0],\n",
       "[0,                   0,                                       0, exp(1.0*I*\\theta_2),                                                           0,                                       0,                   0,                                       0],\n",
       "[0,                   0,                                       0,                   0, exp(1.0*I*\\theta_1)*exp(1.0*I*\\theta_2)*exp(1.0*I*\\theta_3),                                       0,                   0,                                       0],\n",
       "[0,                   0,                                       0,                   0,                                                           0, exp(1.0*I*\\theta_2)*exp(1.0*I*\\theta_3),                   0,                                       0],\n",
       "[0,                   0,                                       0,                   0,                                                           0,                                       0, exp(1.0*I*\\theta_3),                                       0],\n",
       "[0,                   0,                                       0,                   0,                                                           0,                                       0,                   0, exp(1.0*I*\\theta_1)*exp(1.0*I*\\theta_3)]])"
      ]
     },
     "execution_count": 21,
     "metadata": {},
     "output_type": "execute_result"
    }
   ],
   "source": [
    "circuit_ = [\n",
    "    CNOT(0, 1, wires),\n",
    "    CNOT(1, 2, wires),\n",
    "    tp(RZ(theta3), RZ(theta2), RZ(theta1)),\n",
    "    CNOT(1, 2, wires),\n",
    "    CNOT(0, 1, wires)\n",
    "]\n",
    "combie_circuit_gate(circuit_)"
   ]
  },
  {
   "cell_type": "code",
   "execution_count": 8,
   "metadata": {},
   "outputs": [
    {
     "data": {
      "text/latex": [
       "$\\displaystyle \\left[\\begin{matrix}1 & 0 & 0 & 0\\\\0 & 1 & 0 & 0\\\\0 & 0 & 0 & e^{1.0 i \\theta_{1}}\\\\0 & 0 & e^{1.0 i \\theta_{1}} & 0\\end{matrix}\\right]$"
      ],
      "text/plain": [
       "Matrix([\n",
       "[1, 0,                   0,                   0],\n",
       "[0, 1,                   0,                   0],\n",
       "[0, 0,                   0, exp(1.0*I*\\theta_1)],\n",
       "[0, 0, exp(1.0*I*\\theta_1),                   0]])"
      ]
     },
     "execution_count": 8,
     "metadata": {},
     "output_type": "execute_result"
    }
   ],
   "source": [
    "wires= 2\n",
    "cir = [\n",
    "    CNOT(0, 1, wires),\n",
    "    Uni(RZ(theta1), 0, wires)\n",
    "]\n",
    "combie_circuit_gate(cir)"
   ]
  },
  {
   "cell_type": "code",
   "execution_count": 9,
   "metadata": {},
   "outputs": [
    {
     "data": {
      "text/latex": [
       "$\\displaystyle \\left[\\begin{matrix}1 & 0 & 0 & 0\\\\0 & 1 & 0 & 0\\\\0 & 0 & 0 & e^{1.0 i \\theta_{1}}\\\\0 & 0 & e^{1.0 i \\theta_{1}} & 0\\end{matrix}\\right]$"
      ],
      "text/plain": [
       "Matrix([\n",
       "[1, 0,                   0,                   0],\n",
       "[0, 1,                   0,                   0],\n",
       "[0, 0,                   0, exp(1.0*I*\\theta_1)],\n",
       "[0, 0, exp(1.0*I*\\theta_1),                   0]])"
      ]
     },
     "execution_count": 9,
     "metadata": {},
     "output_type": "execute_result"
    }
   ],
   "source": [
    "cir = [\n",
    "    Uni(RZ(theta1), 0, wires),\n",
    "    CNOT(0, 1, wires)\n",
    "]\n",
    "combie_circuit_gate(cir)"
   ]
  },
  {
   "cell_type": "code",
   "execution_count": null,
   "metadata": {},
   "outputs": [],
   "source": []
  }
 ],
 "metadata": {
  "kernelspec": {
   "display_name": "Python 3",
   "language": "python",
   "name": "python3"
  },
  "language_info": {
   "codemirror_mode": {
    "name": "ipython",
    "version": 3
   },
   "file_extension": ".py",
   "mimetype": "text/x-python",
   "name": "python",
   "nbconvert_exporter": "python",
   "pygments_lexer": "ipython3",
   "version": "3.11.4"
  },
  "orig_nbformat": 4
 },
 "nbformat": 4,
 "nbformat_minor": 2
}
