{
 "cells": [
  {
   "cell_type": "code",
   "execution_count": 1,
   "metadata": {},
   "outputs": [],
   "source": [
    "from sym_g import *"
   ]
  },
  {
   "cell_type": "code",
   "execution_count": 2,
   "metadata": {},
   "outputs": [
    {
     "data": {
      "text/latex": [
       "$\\displaystyle \\left[\\begin{matrix}\\frac{\\sqrt{2}}{2} & \\frac{\\sqrt{2}}{2}\\\\\\frac{\\sqrt{2}}{2} & - \\frac{\\sqrt{2}}{2}\\end{matrix}\\right]$"
      ],
      "text/plain": [
       "Matrix([\n",
       "[sqrt(2)/2,  sqrt(2)/2],\n",
       "[sqrt(2)/2, -sqrt(2)/2]])"
      ]
     },
     "execution_count": 2,
     "metadata": {},
     "output_type": "execute_result"
    }
   ],
   "source": [
    "Hg"
   ]
  },
  {
   "cell_type": "code",
   "execution_count": 3,
   "metadata": {},
   "outputs": [
    {
     "data": {
      "text/latex": [
       "$\\displaystyle \\left[\\begin{matrix}1 & 0\\\\0 & - 1.0 i\\end{matrix}\\right]$"
      ],
      "text/plain": [
       "Matrix([\n",
       "[1,      0],\n",
       "[0, -1.0*I]])"
      ]
     },
     "execution_count": 3,
     "metadata": {},
     "output_type": "execute_result"
    }
   ],
   "source": [
    "Sg"
   ]
  },
  {
   "cell_type": "code",
   "execution_count": 4,
   "metadata": {},
   "outputs": [
    {
     "data": {
      "text/latex": [
       "$\\displaystyle \\left[\\begin{matrix}1 & 0\\\\0 & 1.0 i\\end{matrix}\\right]$"
      ],
      "text/plain": [
       "Matrix([\n",
       "[1,     0],\n",
       "[0, 1.0*I]])"
      ]
     },
     "execution_count": 4,
     "metadata": {},
     "output_type": "execute_result"
    }
   ],
   "source": [
    "dag(Sg)"
   ]
  },
  {
   "cell_type": "code",
   "execution_count": 5,
   "metadata": {},
   "outputs": [
    {
     "data": {
      "text/latex": [
       "$\\displaystyle \\left[\\begin{matrix}1 & 0 & 0 & 0\\\\0 & 0 & 0 & 1\\\\0 & 0 & 1 & 0\\\\0 & 1 & 0 & 0\\end{matrix}\\right]$"
      ],
      "text/plain": [
       "Matrix([\n",
       "[1, 0, 0, 0],\n",
       "[0, 0, 0, 1],\n",
       "[0, 0, 1, 0],\n",
       "[0, 1, 0, 0]])"
      ]
     },
     "execution_count": 5,
     "metadata": {},
     "output_type": "execute_result"
    }
   ],
   "source": [
    "wires = 2\n",
    "CNOT(1,0, wires)"
   ]
  },
  {
   "cell_type": "code",
   "execution_count": 6,
   "metadata": {},
   "outputs": [],
   "source": [
    "theta = sp.Symbol(r\"\\theta\")"
   ]
  },
  {
   "cell_type": "code",
   "execution_count": 7,
   "metadata": {},
   "outputs": [
    {
     "data": {
      "text/latex": [
       "$\\displaystyle \\left[\\begin{matrix}\\cos{\\left(\\frac{\\theta}{2} \\right)} & - 1.0 i \\sin{\\left(\\frac{\\theta}{2} \\right)} & 0 & 0\\\\- 1.0 i \\sin{\\left(\\frac{\\theta}{2} \\right)} & \\cos{\\left(\\frac{\\theta}{2} \\right)} & 0 & 0\\\\0 & 0 & \\cos{\\left(\\frac{\\theta}{2} \\right)} & - 1.0 i \\sin{\\left(\\frac{\\theta}{2} \\right)}\\\\0 & 0 & - 1.0 i \\sin{\\left(\\frac{\\theta}{2} \\right)} & \\cos{\\left(\\frac{\\theta}{2} \\right)}\\end{matrix}\\right]$"
      ],
      "text/plain": [
       "Matrix([\n",
       "[       cos(\\theta/2), -1.0*I*sin(\\theta/2),                    0,                    0],\n",
       "[-1.0*I*sin(\\theta/2),        cos(\\theta/2),                    0,                    0],\n",
       "[                   0,                    0,        cos(\\theta/2), -1.0*I*sin(\\theta/2)],\n",
       "[                   0,                    0, -1.0*I*sin(\\theta/2),        cos(\\theta/2)]])"
      ]
     },
     "execution_count": 7,
     "metadata": {},
     "output_type": "execute_result"
    }
   ],
   "source": [
    "Uni(RX(theta), 1, wires)"
   ]
  },
  {
   "cell_type": "code",
   "execution_count": 2,
   "metadata": {},
   "outputs": [],
   "source": [
    "U, u_sym = ArbiUnitary(\"U\")\n",
    "A, a_sym = ArbiUnitary(\"A\")\n",
    "B, b_sym = ArbiUnitary(\"B\")\n",
    "C, c_sym = ArbiUnitary(\"C\")"
   ]
  },
  {
   "cell_type": "code",
   "execution_count": 3,
   "metadata": {},
   "outputs": [],
   "source": [
    "# symbols\n",
    "a1, a2, a3, a4 = a_sym\n",
    "b1, b2, b3, b4 = b_sym\n",
    "c1, c2, c3, c4 = c_sym"
   ]
  },
  {
   "cell_type": "markdown",
   "metadata": {},
   "source": [
    "1. You can multiply gates directly."
   ]
  },
  {
   "cell_type": "code",
   "execution_count": 5,
   "metadata": {},
   "outputs": [
    {
     "data": {
      "text/latex": [
       "$\\displaystyle \\left[\\begin{matrix}u_{1} & u_{2} & 0 & 0 & 0 & 0 & 0 & 0\\\\u_{3} & u_{4} & 0 & 0 & 0 & 0 & 0 & 0\\\\0 & 0 & u_{4} & u_{3} & 0 & 0 & 0 & 0\\\\0 & 0 & u_{2} & u_{1} & 0 & 0 & 0 & 0\\\\0 & 0 & 0 & 0 & u_{4} & u_{3} & 0 & 0\\\\0 & 0 & 0 & 0 & u_{2} & u_{1} & 0 & 0\\\\0 & 0 & 0 & 0 & 0 & 0 & u_{1} & u_{2}\\\\0 & 0 & 0 & 0 & 0 & 0 & u_{3} & u_{4}\\end{matrix}\\right]$"
      ],
      "text/plain": [
       "Matrix([\n",
       "[u_1, u_2,   0,   0,   0,   0,   0,   0],\n",
       "[u_3, u_4,   0,   0,   0,   0,   0,   0],\n",
       "[  0,   0, u_4, u_3,   0,   0,   0,   0],\n",
       "[  0,   0, u_2, u_1,   0,   0,   0,   0],\n",
       "[  0,   0,   0,   0, u_4, u_3,   0,   0],\n",
       "[  0,   0,   0,   0, u_2, u_1,   0,   0],\n",
       "[  0,   0,   0,   0,   0,   0, u_1, u_2],\n",
       "[  0,   0,   0,   0,   0,   0, u_3, u_4]])"
      ]
     },
     "execution_count": 5,
     "metadata": {},
     "output_type": "execute_result"
    }
   ],
   "source": [
    "wires = 3\n",
    "CNOT(0, 2, wires) * CNOT(1, 2, wires) * Uni(U, 2, wires) * CNOT(1, 2, wires) * CNOT(0, 2, wires)"
   ]
  },
  {
   "cell_type": "code",
   "execution_count": 6,
   "metadata": {},
   "outputs": [
    {
     "data": {
      "text/latex": [
       "$\\displaystyle \\left[\\begin{matrix}u_{4} & u_{3}\\\\u_{2} & u_{1}\\end{matrix}\\right]$"
      ],
      "text/plain": [
       "Matrix([\n",
       "[u_4, u_3],\n",
       "[u_2, u_1]])"
      ]
     },
     "execution_count": 6,
     "metadata": {},
     "output_type": "execute_result"
    }
   ],
   "source": [
    "Xg*U*Xg"
   ]
  },
  {
   "cell_type": "markdown",
   "metadata": {},
   "source": [
    "2. Or defining sequential gates and multiply at onces."
   ]
  },
  {
   "cell_type": "code",
   "execution_count": 7,
   "metadata": {},
   "outputs": [
    {
     "data": {
      "text/latex": [
       "$\\displaystyle \\left[\\begin{matrix}u_{1} & u_{2} & 0 & 0 & 0 & 0 & 0 & 0\\\\u_{3} & u_{4} & 0 & 0 & 0 & 0 & 0 & 0\\\\0 & 0 & u_{4} & u_{3} & 0 & 0 & 0 & 0\\\\0 & 0 & u_{2} & u_{1} & 0 & 0 & 0 & 0\\\\0 & 0 & 0 & 0 & u_{4} & u_{3} & 0 & 0\\\\0 & 0 & 0 & 0 & u_{2} & u_{1} & 0 & 0\\\\0 & 0 & 0 & 0 & 0 & 0 & u_{1} & u_{2}\\\\0 & 0 & 0 & 0 & 0 & 0 & u_{3} & u_{4}\\end{matrix}\\right]$"
      ],
      "text/plain": [
       "Matrix([\n",
       "[u_1, u_2,   0,   0,   0,   0,   0,   0],\n",
       "[u_3, u_4,   0,   0,   0,   0,   0,   0],\n",
       "[  0,   0, u_4, u_3,   0,   0,   0,   0],\n",
       "[  0,   0, u_2, u_1,   0,   0,   0,   0],\n",
       "[  0,   0,   0,   0, u_4, u_3,   0,   0],\n",
       "[  0,   0,   0,   0, u_2, u_1,   0,   0],\n",
       "[  0,   0,   0,   0,   0,   0, u_1, u_2],\n",
       "[  0,   0,   0,   0,   0,   0, u_3, u_4]])"
      ]
     },
     "execution_count": 7,
     "metadata": {},
     "output_type": "execute_result"
    }
   ],
   "source": [
    "circuit001 = [\n",
    "    CNOT(0, 2, wires), \n",
    "    CNOT(1, 2, wires),\n",
    "    Uni(U, 2, wires),\n",
    "    CNOT(1, 2, wires),\n",
    "    CNOT(0, 2, wires)\n",
    "]\n",
    "combie_circuit_gate(circuit001)"
   ]
  },
  {
   "cell_type": "markdown",
   "metadata": {},
   "source": [
    "---"
   ]
  },
  {
   "cell_type": "code",
   "execution_count": 8,
   "metadata": {},
   "outputs": [
    {
     "data": {
      "text/latex": [
       "$\\displaystyle \\left[\\begin{matrix}u_{1} & 0 & 0 & u_{2}\\\\0 & u_{1} & u_{2} & 0\\\\0 & u_{3} & u_{4} & 0\\\\u_{3} & 0 & 0 & u_{4}\\end{matrix}\\right]$"
      ],
      "text/plain": [
       "Matrix([\n",
       "[u_1,   0,   0, u_2],\n",
       "[  0, u_1, u_2,   0],\n",
       "[  0, u_3, u_4,   0],\n",
       "[u_3,   0,   0, u_4]])"
      ]
     },
     "execution_count": 8,
     "metadata": {},
     "output_type": "execute_result"
    }
   ],
   "source": [
    "wires = 2\n",
    "CNOT(0, 1, wires) * Uni(U, 0, wires)*CNOT(0,1,wires)"
   ]
  },
  {
   "cell_type": "code",
   "execution_count": 9,
   "metadata": {},
   "outputs": [],
   "source": [
    "t1,t2,t3 = sp.symbols(r\"\\theta_1, \\theta_2, \\theta_3\")"
   ]
  },
  {
   "cell_type": "code",
   "execution_count": 10,
   "metadata": {},
   "outputs": [
    {
     "data": {
      "text/latex": [
       "$\\displaystyle \\left[\\begin{matrix}1 & 0\\\\0 & e^{1.0 i \\theta_{1}}\\end{matrix}\\right]$"
      ],
      "text/plain": [
       "Matrix([\n",
       "[1,                   0],\n",
       "[0, exp(1.0*I*\\theta_1)]])"
      ]
     },
     "execution_count": 10,
     "metadata": {},
     "output_type": "execute_result"
    }
   ],
   "source": [
    "RZ(t1)"
   ]
  },
  {
   "cell_type": "code",
   "execution_count": 11,
   "metadata": {},
   "outputs": [
    {
     "data": {
      "text/latex": [
       "$\\displaystyle \\left[\\begin{matrix}\\frac{\\sqrt{2}}{2} & - 0.5 \\sqrt{2} i\\\\\\frac{\\sqrt{2}}{2} & 0.5 \\sqrt{2} i\\end{matrix}\\right]$"
      ],
      "text/plain": [
       "Matrix([\n",
       "[sqrt(2)/2, -0.5*sqrt(2)*I],\n",
       "[sqrt(2)/2,  0.5*sqrt(2)*I]])"
      ]
     },
     "execution_count": 11,
     "metadata": {},
     "output_type": "execute_result"
    }
   ],
   "source": [
    "tp(Hg*Sg)"
   ]
  },
  {
   "cell_type": "code",
   "execution_count": 12,
   "metadata": {},
   "outputs": [],
   "source": [
    "ZZ = CNOT(0, 1, wires) * Uni(RZ(t1), 1, wires)*CNOT(0,1,wires)\n",
    "XX = tp(Hg, Hg)*CNOT(0, 1, wires) * Uni(RZ(t2), 1, wires)*CNOT(0,1,wires)*tp(Hg, Hg)\n",
    "YY = tp(Hg*Sg, Hg*Sg)*CNOT(0, 1, wires) * Uni(RZ(t3), 1, wires)*CNOT(0,1,wires)*tp(dag(Sg)*Hg, dag(Sg)*Hg)"
   ]
  },
  {
   "cell_type": "code",
   "execution_count": 13,
   "metadata": {},
   "outputs": [
    {
     "data": {
      "text/latex": [
       "$\\displaystyle \\left[\\begin{matrix}\\left(\\frac{1}{2} - \\frac{e^{1.0 i \\theta_{2}}}{2}\\right) \\left(0.5 - 0.5 e^{1.0 i \\theta_{3}}\\right) + \\left(\\frac{e^{1.0 i \\theta_{2}}}{2} + \\frac{1}{2}\\right) \\left(0.5 e^{1.0 i \\theta_{3}} + 0.5\\right) & 0 & 0 & \\left(\\frac{1}{2} - \\frac{e^{1.0 i \\theta_{2}}}{2}\\right) \\left(0.5 e^{1.0 i \\theta_{3}} + 0.5\\right) + \\left(0.5 - 0.5 e^{1.0 i \\theta_{3}}\\right) \\left(\\frac{e^{1.0 i \\theta_{2}}}{2} + \\frac{1}{2}\\right)\\\\0 & \\left(\\frac{1}{2} - \\frac{e^{1.0 i \\theta_{2}}}{2}\\right) \\left(0.5 - 0.5 e^{1.0 i \\theta_{3}}\\right) e^{1.0 i \\theta_{1}} + \\left(\\frac{e^{1.0 i \\theta_{2}}}{2} + \\frac{1}{2}\\right) \\left(0.5 e^{1.0 i \\theta_{3}} + 0.5\\right) e^{1.0 i \\theta_{1}} & \\left(\\frac{1}{2} - \\frac{e^{1.0 i \\theta_{2}}}{2}\\right) \\left(0.5 e^{1.0 i \\theta_{3}} + 0.5\\right) e^{1.0 i \\theta_{1}} + \\left(0.5 - 0.5 e^{1.0 i \\theta_{3}}\\right) \\left(\\frac{e^{1.0 i \\theta_{2}}}{2} + \\frac{1}{2}\\right) e^{1.0 i \\theta_{1}} & 0\\\\0 & \\left(\\frac{1}{2} - \\frac{e^{1.0 i \\theta_{2}}}{2}\\right) \\left(0.5 e^{1.0 i \\theta_{3}} + 0.5\\right) e^{1.0 i \\theta_{1}} + \\left(0.5 - 0.5 e^{1.0 i \\theta_{3}}\\right) \\left(\\frac{e^{1.0 i \\theta_{2}}}{2} + \\frac{1}{2}\\right) e^{1.0 i \\theta_{1}} & \\left(\\frac{1}{2} - \\frac{e^{1.0 i \\theta_{2}}}{2}\\right) \\left(0.5 - 0.5 e^{1.0 i \\theta_{3}}\\right) e^{1.0 i \\theta_{1}} + \\left(\\frac{e^{1.0 i \\theta_{2}}}{2} + \\frac{1}{2}\\right) \\left(0.5 e^{1.0 i \\theta_{3}} + 0.5\\right) e^{1.0 i \\theta_{1}} & 0\\\\\\left(\\frac{1}{2} - \\frac{e^{1.0 i \\theta_{2}}}{2}\\right) \\left(0.5 e^{1.0 i \\theta_{3}} + 0.5\\right) + \\left(0.5 - 0.5 e^{1.0 i \\theta_{3}}\\right) \\left(\\frac{e^{1.0 i \\theta_{2}}}{2} + \\frac{1}{2}\\right) & 0 & 0 & \\left(\\frac{1}{2} - \\frac{e^{1.0 i \\theta_{2}}}{2}\\right) \\left(0.5 - 0.5 e^{1.0 i \\theta_{3}}\\right) + \\left(\\frac{e^{1.0 i \\theta_{2}}}{2} + \\frac{1}{2}\\right) \\left(0.5 e^{1.0 i \\theta_{3}} + 0.5\\right)\\end{matrix}\\right]$"
      ],
      "text/plain": [
       "Matrix([\n",
       "[(1/2 - exp(1.0*I*\\theta_2)/2)*(0.5 - 0.5*exp(1.0*I*\\theta_3)) + (exp(1.0*I*\\theta_2)/2 + 1/2)*(0.5*exp(1.0*I*\\theta_3) + 0.5),                                                                                                                                                                     0,                                                                                                                                                                     0, (1/2 - exp(1.0*I*\\theta_2)/2)*(0.5*exp(1.0*I*\\theta_3) + 0.5) + (0.5 - 0.5*exp(1.0*I*\\theta_3))*(exp(1.0*I*\\theta_2)/2 + 1/2)],\n",
       "[                                                                                                                            0, (1/2 - exp(1.0*I*\\theta_2)/2)*(0.5 - 0.5*exp(1.0*I*\\theta_3))*exp(1.0*I*\\theta_1) + (exp(1.0*I*\\theta_2)/2 + 1/2)*(0.5*exp(1.0*I*\\theta_3) + 0.5)*exp(1.0*I*\\theta_1), (1/2 - exp(1.0*I*\\theta_2)/2)*(0.5*exp(1.0*I*\\theta_3) + 0.5)*exp(1.0*I*\\theta_1) + (0.5 - 0.5*exp(1.0*I*\\theta_3))*(exp(1.0*I*\\theta_2)/2 + 1/2)*exp(1.0*I*\\theta_1),                                                                                                                             0],\n",
       "[                                                                                                                            0, (1/2 - exp(1.0*I*\\theta_2)/2)*(0.5*exp(1.0*I*\\theta_3) + 0.5)*exp(1.0*I*\\theta_1) + (0.5 - 0.5*exp(1.0*I*\\theta_3))*(exp(1.0*I*\\theta_2)/2 + 1/2)*exp(1.0*I*\\theta_1), (1/2 - exp(1.0*I*\\theta_2)/2)*(0.5 - 0.5*exp(1.0*I*\\theta_3))*exp(1.0*I*\\theta_1) + (exp(1.0*I*\\theta_2)/2 + 1/2)*(0.5*exp(1.0*I*\\theta_3) + 0.5)*exp(1.0*I*\\theta_1),                                                                                                                             0],\n",
       "[(1/2 - exp(1.0*I*\\theta_2)/2)*(0.5*exp(1.0*I*\\theta_3) + 0.5) + (0.5 - 0.5*exp(1.0*I*\\theta_3))*(exp(1.0*I*\\theta_2)/2 + 1/2),                                                                                                                                                                     0,                                                                                                                                                                     0, (1/2 - exp(1.0*I*\\theta_2)/2)*(0.5 - 0.5*exp(1.0*I*\\theta_3)) + (exp(1.0*I*\\theta_2)/2 + 1/2)*(0.5*exp(1.0*I*\\theta_3) + 0.5)]])"
      ]
     },
     "execution_count": 13,
     "metadata": {},
     "output_type": "execute_result"
    }
   ],
   "source": [
    "ZZ*YY*XX"
   ]
  },
  {
   "cell_type": "code",
   "execution_count": 14,
   "metadata": {},
   "outputs": [
    {
     "data": {
      "text/latex": [
       "$\\displaystyle \\left[\\begin{matrix}\\left(\\frac{1}{2} - \\frac{e^{1.0 i \\theta_{2}}}{2}\\right) \\left(0.5 - 0.5 e^{1.0 i \\theta_{3}}\\right) + \\left(\\frac{e^{1.0 i \\theta_{2}}}{2} + \\frac{1}{2}\\right) \\left(0.5 e^{1.0 i \\theta_{3}} + 0.5\\right) & 0 & 0 & \\left(\\frac{1}{2} - \\frac{e^{1.0 i \\theta_{2}}}{2}\\right) \\left(0.5 e^{1.0 i \\theta_{3}} + 0.5\\right) + \\left(0.5 - 0.5 e^{1.0 i \\theta_{3}}\\right) \\left(\\frac{e^{1.0 i \\theta_{2}}}{2} + \\frac{1}{2}\\right)\\\\0 & \\left(\\frac{1}{2} - \\frac{e^{1.0 i \\theta_{2}}}{2}\\right) \\left(0.5 - 0.5 e^{1.0 i \\theta_{3}}\\right) e^{1.0 i \\theta_{1}} + \\left(\\frac{e^{1.0 i \\theta_{2}}}{2} + \\frac{1}{2}\\right) \\left(0.5 e^{1.0 i \\theta_{3}} + 0.5\\right) e^{1.0 i \\theta_{1}} & \\left(\\frac{1}{2} - \\frac{e^{1.0 i \\theta_{2}}}{2}\\right) \\left(0.5 e^{1.0 i \\theta_{3}} + 0.5\\right) e^{1.0 i \\theta_{1}} + \\left(0.5 - 0.5 e^{1.0 i \\theta_{3}}\\right) \\left(\\frac{e^{1.0 i \\theta_{2}}}{2} + \\frac{1}{2}\\right) e^{1.0 i \\theta_{1}} & 0\\\\0 & \\left(\\frac{1}{2} - \\frac{e^{1.0 i \\theta_{2}}}{2}\\right) \\left(0.5 e^{1.0 i \\theta_{3}} + 0.5\\right) e^{1.0 i \\theta_{1}} + \\left(0.5 - 0.5 e^{1.0 i \\theta_{3}}\\right) \\left(\\frac{e^{1.0 i \\theta_{2}}}{2} + \\frac{1}{2}\\right) e^{1.0 i \\theta_{1}} & \\left(\\frac{1}{2} - \\frac{e^{1.0 i \\theta_{2}}}{2}\\right) \\left(0.5 - 0.5 e^{1.0 i \\theta_{3}}\\right) e^{1.0 i \\theta_{1}} + \\left(\\frac{e^{1.0 i \\theta_{2}}}{2} + \\frac{1}{2}\\right) \\left(0.5 e^{1.0 i \\theta_{3}} + 0.5\\right) e^{1.0 i \\theta_{1}} & 0\\\\\\left(\\frac{1}{2} - \\frac{e^{1.0 i \\theta_{2}}}{2}\\right) \\left(0.5 e^{1.0 i \\theta_{3}} + 0.5\\right) + \\left(0.5 - 0.5 e^{1.0 i \\theta_{3}}\\right) \\left(\\frac{e^{1.0 i \\theta_{2}}}{2} + \\frac{1}{2}\\right) & 0 & 0 & \\left(\\frac{1}{2} - \\frac{e^{1.0 i \\theta_{2}}}{2}\\right) \\left(0.5 - 0.5 e^{1.0 i \\theta_{3}}\\right) + \\left(\\frac{e^{1.0 i \\theta_{2}}}{2} + \\frac{1}{2}\\right) \\left(0.5 e^{1.0 i \\theta_{3}} + 0.5\\right)\\end{matrix}\\right]$"
      ],
      "text/plain": [
       "Matrix([\n",
       "[(1/2 - exp(1.0*I*\\theta_2)/2)*(0.5 - 0.5*exp(1.0*I*\\theta_3)) + (exp(1.0*I*\\theta_2)/2 + 1/2)*(0.5*exp(1.0*I*\\theta_3) + 0.5),                                                                                                                                                                     0,                                                                                                                                                                     0, (1/2 - exp(1.0*I*\\theta_2)/2)*(0.5*exp(1.0*I*\\theta_3) + 0.5) + (0.5 - 0.5*exp(1.0*I*\\theta_3))*(exp(1.0*I*\\theta_2)/2 + 1/2)],\n",
       "[                                                                                                                            0, (1/2 - exp(1.0*I*\\theta_2)/2)*(0.5 - 0.5*exp(1.0*I*\\theta_3))*exp(1.0*I*\\theta_1) + (exp(1.0*I*\\theta_2)/2 + 1/2)*(0.5*exp(1.0*I*\\theta_3) + 0.5)*exp(1.0*I*\\theta_1), (1/2 - exp(1.0*I*\\theta_2)/2)*(0.5*exp(1.0*I*\\theta_3) + 0.5)*exp(1.0*I*\\theta_1) + (0.5 - 0.5*exp(1.0*I*\\theta_3))*(exp(1.0*I*\\theta_2)/2 + 1/2)*exp(1.0*I*\\theta_1),                                                                                                                             0],\n",
       "[                                                                                                                            0, (1/2 - exp(1.0*I*\\theta_2)/2)*(0.5*exp(1.0*I*\\theta_3) + 0.5)*exp(1.0*I*\\theta_1) + (0.5 - 0.5*exp(1.0*I*\\theta_3))*(exp(1.0*I*\\theta_2)/2 + 1/2)*exp(1.0*I*\\theta_1), (1/2 - exp(1.0*I*\\theta_2)/2)*(0.5 - 0.5*exp(1.0*I*\\theta_3))*exp(1.0*I*\\theta_1) + (exp(1.0*I*\\theta_2)/2 + 1/2)*(0.5*exp(1.0*I*\\theta_3) + 0.5)*exp(1.0*I*\\theta_1),                                                                                                                             0],\n",
       "[(1/2 - exp(1.0*I*\\theta_2)/2)*(0.5*exp(1.0*I*\\theta_3) + 0.5) + (0.5 - 0.5*exp(1.0*I*\\theta_3))*(exp(1.0*I*\\theta_2)/2 + 1/2),                                                                                                                                                                     0,                                                                                                                                                                     0, (1/2 - exp(1.0*I*\\theta_2)/2)*(0.5 - 0.5*exp(1.0*I*\\theta_3)) + (exp(1.0*I*\\theta_2)/2 + 1/2)*(0.5*exp(1.0*I*\\theta_3) + 0.5)]])"
      ]
     },
     "execution_count": 14,
     "metadata": {},
     "output_type": "execute_result"
    }
   ],
   "source": [
    "ZZ*XX*YY"
   ]
  },
  {
   "cell_type": "code",
   "execution_count": 15,
   "metadata": {},
   "outputs": [],
   "source": [
    "circuit002 = [\n",
    "    CNOT(0, 1, 2),\n",
    "    tp(Hg, Hg),\n",
    "    CNOT(0, 1, 2),\n",
    "    Uni(C, 1, 2),\n",
    "    CNOT(0, 1, 2),\n",
    "    tp(Hg,Hg),\n",
    "    CNOT(0, 1, 2)\n",
    "]\n"
   ]
  },
  {
   "cell_type": "code",
   "execution_count": 16,
   "metadata": {},
   "outputs": [
    {
     "data": {
      "text/latex": [
       "$\\displaystyle \\left[\\begin{matrix}\\frac{c_{1}}{2} + \\frac{c_{2}}{2} + \\frac{c_{3}}{2} + \\frac{c_{4}}{2} & 0 & \\frac{c_{1}}{2} - \\frac{c_{2}}{2} + \\frac{c_{3}}{2} - \\frac{c_{4}}{2} & 0\\\\0 & \\frac{c_{1}}{2} - \\frac{c_{2}}{2} - \\frac{c_{3}}{2} + \\frac{c_{4}}{2} & 0 & \\frac{c_{1}}{2} + \\frac{c_{2}}{2} - \\frac{c_{3}}{2} - \\frac{c_{4}}{2}\\\\\\frac{c_{1}}{2} + \\frac{c_{2}}{2} - \\frac{c_{3}}{2} - \\frac{c_{4}}{2} & 0 & \\frac{c_{1}}{2} - \\frac{c_{2}}{2} - \\frac{c_{3}}{2} + \\frac{c_{4}}{2} & 0\\\\0 & \\frac{c_{1}}{2} - \\frac{c_{2}}{2} + \\frac{c_{3}}{2} - \\frac{c_{4}}{2} & 0 & \\frac{c_{1}}{2} + \\frac{c_{2}}{2} + \\frac{c_{3}}{2} + \\frac{c_{4}}{2}\\end{matrix}\\right]$"
      ],
      "text/plain": [
       "Matrix([\n",
       "[c_1/2 + c_2/2 + c_3/2 + c_4/2,                             0, c_1/2 - c_2/2 + c_3/2 - c_4/2,                             0],\n",
       "[                            0, c_1/2 - c_2/2 - c_3/2 + c_4/2,                             0, c_1/2 + c_2/2 - c_3/2 - c_4/2],\n",
       "[c_1/2 + c_2/2 - c_3/2 - c_4/2,                             0, c_1/2 - c_2/2 - c_3/2 + c_4/2,                             0],\n",
       "[                            0, c_1/2 - c_2/2 + c_3/2 - c_4/2,                             0, c_1/2 + c_2/2 + c_3/2 + c_4/2]])"
      ]
     },
     "execution_count": 16,
     "metadata": {},
     "output_type": "execute_result"
    }
   ],
   "source": [
    "combie_circuit_gate(circuit002)"
   ]
  },
  {
   "cell_type": "code",
   "execution_count": 17,
   "metadata": {},
   "outputs": [],
   "source": [
    "Param_Circuit = combie_circuit_gate(circuit002)"
   ]
  },
  {
   "cell_type": "code",
   "execution_count": 18,
   "metadata": {},
   "outputs": [
    {
     "data": {
      "text/latex": [
       "$\\displaystyle \\left[\\begin{matrix}\\frac{c_{3}}{2} + \\frac{c_{4}}{2} + \\frac{5}{2} & 0 & \\frac{c_{3}}{2} - \\frac{c_{4}}{2} - \\frac{3}{2} & 0\\\\0 & - \\frac{c_{3}}{2} + \\frac{c_{4}}{2} - \\frac{3}{2} & 0 & - \\frac{c_{3}}{2} - \\frac{c_{4}}{2} + \\frac{5}{2}\\\\- \\frac{c_{3}}{2} - \\frac{c_{4}}{2} + \\frac{5}{2} & 0 & - \\frac{c_{3}}{2} + \\frac{c_{4}}{2} - \\frac{3}{2} & 0\\\\0 & \\frac{c_{3}}{2} - \\frac{c_{4}}{2} - \\frac{3}{2} & 0 & \\frac{c_{3}}{2} + \\frac{c_{4}}{2} + \\frac{5}{2}\\end{matrix}\\right]$"
      ],
      "text/plain": [
       "Matrix([\n",
       "[ c_3/2 + c_4/2 + 5/2,                    0,  c_3/2 - c_4/2 - 3/2,                    0],\n",
       "[                   0, -c_3/2 + c_4/2 - 3/2,                    0, -c_3/2 - c_4/2 + 5/2],\n",
       "[-c_3/2 - c_4/2 + 5/2,                    0, -c_3/2 + c_4/2 - 3/2,                    0],\n",
       "[                   0,  c_3/2 - c_4/2 - 3/2,                    0,  c_3/2 + c_4/2 + 5/2]])"
      ]
     },
     "execution_count": 18,
     "metadata": {},
     "output_type": "execute_result"
    }
   ],
   "source": [
    "Param_Circuit.subs([(c1, 1), (c2, 4)])"
   ]
  },
  {
   "cell_type": "markdown",
   "metadata": {},
   "source": [
    "## Examples"
   ]
  },
  {
   "cell_type": "code",
   "execution_count": 25,
   "metadata": {},
   "outputs": [],
   "source": [
    "wires =3"
   ]
  },
  {
   "cell_type": "code",
   "execution_count": 26,
   "metadata": {},
   "outputs": [
    {
     "data": {
      "text/latex": [
       "$\\displaystyle \\left[\\begin{matrix}c_{1} & c_{2} & 0 & 0\\\\c_{3} & c_{4} & 0 & 0\\\\a_{3} c_{3} & a_{3} c_{4} & a_{4} c_{4} & a_{4} c_{3}\\\\a_{3} c_{1} & a_{3} c_{2} & a_{4} c_{2} & a_{4} c_{1}\\end{matrix}\\right]$"
      ],
      "text/plain": [
       "Matrix([\n",
       "[    c_1,     c_2,       0,       0],\n",
       "[    c_3,     c_4,       0,       0],\n",
       "[a_3*c_3, a_3*c_4, a_4*c_4, a_4*c_3],\n",
       "[a_3*c_1, a_3*c_2, a_4*c_2, a_4*c_1]])"
      ]
     },
     "execution_count": 26,
     "metadata": {},
     "output_type": "execute_result"
    }
   ],
   "source": [
    "(CNOT(0, 1, 2) * tp(A, C)* CNOT(0, 1, 2)).subs([(a1,1),(a2, 0)])"
   ]
  },
  {
   "cell_type": "code",
   "execution_count": 27,
   "metadata": {},
   "outputs": [
    {
     "data": {
      "text/latex": [
       "$\\displaystyle \\left[\\begin{matrix}\\sqrt{2} \\left(\\frac{\\sqrt{2} c_{1}}{4} + \\frac{\\sqrt{2} c_{3}}{4}\\right) + \\sqrt{2} \\left(\\frac{\\sqrt{2} c_{2}}{4} + \\frac{\\sqrt{2} c_{4}}{4}\\right) & 0 & 0 & 0 & 0 & 0 & 0 & \\sqrt{2} \\left(\\frac{\\sqrt{2} c_{1}}{4} + \\frac{\\sqrt{2} c_{3}}{4}\\right) - \\sqrt{2} \\left(\\frac{\\sqrt{2} c_{2}}{4} + \\frac{\\sqrt{2} c_{4}}{4}\\right)\\\\\\frac{\\sqrt{2} \\left(- \\frac{\\sqrt{2} c_{1}}{4} + \\frac{\\sqrt{2} c_{3}}{4}\\right)}{2} + \\frac{\\sqrt{2} \\left(\\frac{\\sqrt{2} c_{1}}{4} - \\frac{\\sqrt{2} c_{3}}{4}\\right)}{2} + \\frac{\\sqrt{2} \\left(- \\frac{\\sqrt{2} c_{2}}{4} + \\frac{\\sqrt{2} c_{4}}{4}\\right)}{2} + \\frac{\\sqrt{2} \\left(\\frac{\\sqrt{2} c_{2}}{4} - \\frac{\\sqrt{2} c_{4}}{4}\\right)}{2} & - \\frac{\\sqrt{2} \\left(- \\frac{\\sqrt{2} c_{1}}{4} + \\frac{\\sqrt{2} c_{3}}{4}\\right)}{2} + \\frac{\\sqrt{2} \\left(\\frac{\\sqrt{2} c_{1}}{4} - \\frac{\\sqrt{2} c_{3}}{4}\\right)}{2} + \\frac{\\sqrt{2} \\left(- \\frac{\\sqrt{2} c_{2}}{4} + \\frac{\\sqrt{2} c_{4}}{4}\\right)}{2} - \\frac{\\sqrt{2} \\left(\\frac{\\sqrt{2} c_{2}}{4} - \\frac{\\sqrt{2} c_{4}}{4}\\right)}{2} & 0 & 0 & 0 & 0 & - \\frac{\\sqrt{2} \\left(- \\frac{\\sqrt{2} c_{1}}{4} + \\frac{\\sqrt{2} c_{3}}{4}\\right)}{2} + \\frac{\\sqrt{2} \\left(\\frac{\\sqrt{2} c_{1}}{4} - \\frac{\\sqrt{2} c_{3}}{4}\\right)}{2} - \\frac{\\sqrt{2} \\left(- \\frac{\\sqrt{2} c_{2}}{4} + \\frac{\\sqrt{2} c_{4}}{4}\\right)}{2} + \\frac{\\sqrt{2} \\left(\\frac{\\sqrt{2} c_{2}}{4} - \\frac{\\sqrt{2} c_{4}}{4}\\right)}{2} & \\frac{\\sqrt{2} \\left(- \\frac{\\sqrt{2} c_{1}}{4} + \\frac{\\sqrt{2} c_{3}}{4}\\right)}{2} + \\frac{\\sqrt{2} \\left(\\frac{\\sqrt{2} c_{1}}{4} - \\frac{\\sqrt{2} c_{3}}{4}\\right)}{2} - \\frac{\\sqrt{2} \\left(- \\frac{\\sqrt{2} c_{2}}{4} + \\frac{\\sqrt{2} c_{4}}{4}\\right)}{2} - \\frac{\\sqrt{2} \\left(\\frac{\\sqrt{2} c_{2}}{4} - \\frac{\\sqrt{2} c_{4}}{4}\\right)}{2}\\\\\\frac{\\sqrt{2} \\left(- \\frac{\\sqrt{2} c_{1}}{4} + \\frac{\\sqrt{2} c_{3}}{4}\\right)}{2} + \\frac{\\sqrt{2} \\left(\\frac{\\sqrt{2} c_{1}}{4} - \\frac{\\sqrt{2} c_{3}}{4}\\right)}{2} + \\frac{\\sqrt{2} \\left(- \\frac{\\sqrt{2} c_{2}}{4} + \\frac{\\sqrt{2} c_{4}}{4}\\right)}{2} + \\frac{\\sqrt{2} \\left(\\frac{\\sqrt{2} c_{2}}{4} - \\frac{\\sqrt{2} c_{4}}{4}\\right)}{2} & 0 & - \\frac{\\sqrt{2} \\left(- \\frac{\\sqrt{2} c_{1}}{4} + \\frac{\\sqrt{2} c_{3}}{4}\\right)}{2} + \\frac{\\sqrt{2} \\left(\\frac{\\sqrt{2} c_{1}}{4} - \\frac{\\sqrt{2} c_{3}}{4}\\right)}{2} + \\frac{\\sqrt{2} \\left(- \\frac{\\sqrt{2} c_{2}}{4} + \\frac{\\sqrt{2} c_{4}}{4}\\right)}{2} - \\frac{\\sqrt{2} \\left(\\frac{\\sqrt{2} c_{2}}{4} - \\frac{\\sqrt{2} c_{4}}{4}\\right)}{2} & 0 & 0 & - \\frac{\\sqrt{2} \\left(- \\frac{\\sqrt{2} c_{1}}{4} + \\frac{\\sqrt{2} c_{3}}{4}\\right)}{2} + \\frac{\\sqrt{2} \\left(\\frac{\\sqrt{2} c_{1}}{4} - \\frac{\\sqrt{2} c_{3}}{4}\\right)}{2} - \\frac{\\sqrt{2} \\left(- \\frac{\\sqrt{2} c_{2}}{4} + \\frac{\\sqrt{2} c_{4}}{4}\\right)}{2} + \\frac{\\sqrt{2} \\left(\\frac{\\sqrt{2} c_{2}}{4} - \\frac{\\sqrt{2} c_{4}}{4}\\right)}{2} & 0 & \\frac{\\sqrt{2} \\left(- \\frac{\\sqrt{2} c_{1}}{4} + \\frac{\\sqrt{2} c_{3}}{4}\\right)}{2} + \\frac{\\sqrt{2} \\left(\\frac{\\sqrt{2} c_{1}}{4} - \\frac{\\sqrt{2} c_{3}}{4}\\right)}{2} - \\frac{\\sqrt{2} \\left(- \\frac{\\sqrt{2} c_{2}}{4} + \\frac{\\sqrt{2} c_{4}}{4}\\right)}{2} - \\frac{\\sqrt{2} \\left(\\frac{\\sqrt{2} c_{2}}{4} - \\frac{\\sqrt{2} c_{4}}{4}\\right)}{2}\\\\\\frac{\\sqrt{2} \\left(- \\frac{\\sqrt{2} c_{1}}{4} - \\frac{\\sqrt{2} c_{3}}{4}\\right)}{2} + \\frac{\\sqrt{2} \\left(\\frac{\\sqrt{2} c_{1}}{4} + \\frac{\\sqrt{2} c_{3}}{4}\\right)}{2} + \\frac{\\sqrt{2} \\left(- \\frac{\\sqrt{2} c_{2}}{4} - \\frac{\\sqrt{2} c_{4}}{4}\\right)}{2} + \\frac{\\sqrt{2} \\left(\\frac{\\sqrt{2} c_{2}}{4} + \\frac{\\sqrt{2} c_{4}}{4}\\right)}{2} & 0 & 0 & - \\frac{\\sqrt{2} \\left(- \\frac{\\sqrt{2} c_{1}}{4} - \\frac{\\sqrt{2} c_{3}}{4}\\right)}{2} + \\frac{\\sqrt{2} \\left(\\frac{\\sqrt{2} c_{1}}{4} + \\frac{\\sqrt{2} c_{3}}{4}\\right)}{2} - \\frac{\\sqrt{2} \\left(- \\frac{\\sqrt{2} c_{2}}{4} - \\frac{\\sqrt{2} c_{4}}{4}\\right)}{2} + \\frac{\\sqrt{2} \\left(\\frac{\\sqrt{2} c_{2}}{4} + \\frac{\\sqrt{2} c_{4}}{4}\\right)}{2} & - \\frac{\\sqrt{2} \\left(- \\frac{\\sqrt{2} c_{1}}{4} - \\frac{\\sqrt{2} c_{3}}{4}\\right)}{2} + \\frac{\\sqrt{2} \\left(\\frac{\\sqrt{2} c_{1}}{4} + \\frac{\\sqrt{2} c_{3}}{4}\\right)}{2} + \\frac{\\sqrt{2} \\left(- \\frac{\\sqrt{2} c_{2}}{4} - \\frac{\\sqrt{2} c_{4}}{4}\\right)}{2} - \\frac{\\sqrt{2} \\left(\\frac{\\sqrt{2} c_{2}}{4} + \\frac{\\sqrt{2} c_{4}}{4}\\right)}{2} & 0 & 0 & \\frac{\\sqrt{2} \\left(- \\frac{\\sqrt{2} c_{1}}{4} - \\frac{\\sqrt{2} c_{3}}{4}\\right)}{2} + \\frac{\\sqrt{2} \\left(\\frac{\\sqrt{2} c_{1}}{4} + \\frac{\\sqrt{2} c_{3}}{4}\\right)}{2} - \\frac{\\sqrt{2} \\left(- \\frac{\\sqrt{2} c_{2}}{4} - \\frac{\\sqrt{2} c_{4}}{4}\\right)}{2} - \\frac{\\sqrt{2} \\left(\\frac{\\sqrt{2} c_{2}}{4} + \\frac{\\sqrt{2} c_{4}}{4}\\right)}{2}\\\\\\frac{\\sqrt{2} \\left(- \\frac{\\sqrt{2} c_{1}}{4} + \\frac{\\sqrt{2} c_{3}}{4}\\right)}{2} + \\frac{\\sqrt{2} \\left(\\frac{\\sqrt{2} c_{1}}{4} - \\frac{\\sqrt{2} c_{3}}{4}\\right)}{2} + \\frac{\\sqrt{2} \\left(- \\frac{\\sqrt{2} c_{2}}{4} + \\frac{\\sqrt{2} c_{4}}{4}\\right)}{2} + \\frac{\\sqrt{2} \\left(\\frac{\\sqrt{2} c_{2}}{4} - \\frac{\\sqrt{2} c_{4}}{4}\\right)}{2} & 0 & 0 & - \\frac{\\sqrt{2} \\left(- \\frac{\\sqrt{2} c_{1}}{4} + \\frac{\\sqrt{2} c_{3}}{4}\\right)}{2} + \\frac{\\sqrt{2} \\left(\\frac{\\sqrt{2} c_{1}}{4} - \\frac{\\sqrt{2} c_{3}}{4}\\right)}{2} - \\frac{\\sqrt{2} \\left(- \\frac{\\sqrt{2} c_{2}}{4} + \\frac{\\sqrt{2} c_{4}}{4}\\right)}{2} + \\frac{\\sqrt{2} \\left(\\frac{\\sqrt{2} c_{2}}{4} - \\frac{\\sqrt{2} c_{4}}{4}\\right)}{2} & - \\frac{\\sqrt{2} \\left(- \\frac{\\sqrt{2} c_{1}}{4} + \\frac{\\sqrt{2} c_{3}}{4}\\right)}{2} + \\frac{\\sqrt{2} \\left(\\frac{\\sqrt{2} c_{1}}{4} - \\frac{\\sqrt{2} c_{3}}{4}\\right)}{2} + \\frac{\\sqrt{2} \\left(- \\frac{\\sqrt{2} c_{2}}{4} + \\frac{\\sqrt{2} c_{4}}{4}\\right)}{2} - \\frac{\\sqrt{2} \\left(\\frac{\\sqrt{2} c_{2}}{4} - \\frac{\\sqrt{2} c_{4}}{4}\\right)}{2} & 0 & 0 & \\frac{\\sqrt{2} \\left(- \\frac{\\sqrt{2} c_{1}}{4} + \\frac{\\sqrt{2} c_{3}}{4}\\right)}{2} + \\frac{\\sqrt{2} \\left(\\frac{\\sqrt{2} c_{1}}{4} - \\frac{\\sqrt{2} c_{3}}{4}\\right)}{2} - \\frac{\\sqrt{2} \\left(- \\frac{\\sqrt{2} c_{2}}{4} + \\frac{\\sqrt{2} c_{4}}{4}\\right)}{2} - \\frac{\\sqrt{2} \\left(\\frac{\\sqrt{2} c_{2}}{4} - \\frac{\\sqrt{2} c_{4}}{4}\\right)}{2}\\\\\\frac{\\sqrt{2} \\left(- \\frac{\\sqrt{2} c_{1}}{4} - \\frac{\\sqrt{2} c_{3}}{4}\\right)}{2} + \\frac{\\sqrt{2} \\left(\\frac{\\sqrt{2} c_{1}}{4} + \\frac{\\sqrt{2} c_{3}}{4}\\right)}{2} + \\frac{\\sqrt{2} \\left(- \\frac{\\sqrt{2} c_{2}}{4} - \\frac{\\sqrt{2} c_{4}}{4}\\right)}{2} + \\frac{\\sqrt{2} \\left(\\frac{\\sqrt{2} c_{2}}{4} + \\frac{\\sqrt{2} c_{4}}{4}\\right)}{2} & 0 & - \\frac{\\sqrt{2} \\left(- \\frac{\\sqrt{2} c_{1}}{4} - \\frac{\\sqrt{2} c_{3}}{4}\\right)}{2} + \\frac{\\sqrt{2} \\left(\\frac{\\sqrt{2} c_{1}}{4} + \\frac{\\sqrt{2} c_{3}}{4}\\right)}{2} + \\frac{\\sqrt{2} \\left(- \\frac{\\sqrt{2} c_{2}}{4} - \\frac{\\sqrt{2} c_{4}}{4}\\right)}{2} - \\frac{\\sqrt{2} \\left(\\frac{\\sqrt{2} c_{2}}{4} + \\frac{\\sqrt{2} c_{4}}{4}\\right)}{2} & 0 & 0 & - \\frac{\\sqrt{2} \\left(- \\frac{\\sqrt{2} c_{1}}{4} - \\frac{\\sqrt{2} c_{3}}{4}\\right)}{2} + \\frac{\\sqrt{2} \\left(\\frac{\\sqrt{2} c_{1}}{4} + \\frac{\\sqrt{2} c_{3}}{4}\\right)}{2} - \\frac{\\sqrt{2} \\left(- \\frac{\\sqrt{2} c_{2}}{4} - \\frac{\\sqrt{2} c_{4}}{4}\\right)}{2} + \\frac{\\sqrt{2} \\left(\\frac{\\sqrt{2} c_{2}}{4} + \\frac{\\sqrt{2} c_{4}}{4}\\right)}{2} & 0 & \\frac{\\sqrt{2} \\left(- \\frac{\\sqrt{2} c_{1}}{4} - \\frac{\\sqrt{2} c_{3}}{4}\\right)}{2} + \\frac{\\sqrt{2} \\left(\\frac{\\sqrt{2} c_{1}}{4} + \\frac{\\sqrt{2} c_{3}}{4}\\right)}{2} - \\frac{\\sqrt{2} \\left(- \\frac{\\sqrt{2} c_{2}}{4} - \\frac{\\sqrt{2} c_{4}}{4}\\right)}{2} - \\frac{\\sqrt{2} \\left(\\frac{\\sqrt{2} c_{2}}{4} + \\frac{\\sqrt{2} c_{4}}{4}\\right)}{2}\\\\\\frac{\\sqrt{2} \\left(- \\frac{\\sqrt{2} c_{1}}{4} - \\frac{\\sqrt{2} c_{3}}{4}\\right)}{2} + \\frac{\\sqrt{2} \\left(\\frac{\\sqrt{2} c_{1}}{4} + \\frac{\\sqrt{2} c_{3}}{4}\\right)}{2} + \\frac{\\sqrt{2} \\left(- \\frac{\\sqrt{2} c_{2}}{4} - \\frac{\\sqrt{2} c_{4}}{4}\\right)}{2} + \\frac{\\sqrt{2} \\left(\\frac{\\sqrt{2} c_{2}}{4} + \\frac{\\sqrt{2} c_{4}}{4}\\right)}{2} & - \\frac{\\sqrt{2} \\left(- \\frac{\\sqrt{2} c_{1}}{4} - \\frac{\\sqrt{2} c_{3}}{4}\\right)}{2} + \\frac{\\sqrt{2} \\left(\\frac{\\sqrt{2} c_{1}}{4} + \\frac{\\sqrt{2} c_{3}}{4}\\right)}{2} + \\frac{\\sqrt{2} \\left(- \\frac{\\sqrt{2} c_{2}}{4} - \\frac{\\sqrt{2} c_{4}}{4}\\right)}{2} - \\frac{\\sqrt{2} \\left(\\frac{\\sqrt{2} c_{2}}{4} + \\frac{\\sqrt{2} c_{4}}{4}\\right)}{2} & 0 & 0 & 0 & 0 & - \\frac{\\sqrt{2} \\left(- \\frac{\\sqrt{2} c_{1}}{4} - \\frac{\\sqrt{2} c_{3}}{4}\\right)}{2} + \\frac{\\sqrt{2} \\left(\\frac{\\sqrt{2} c_{1}}{4} + \\frac{\\sqrt{2} c_{3}}{4}\\right)}{2} - \\frac{\\sqrt{2} \\left(- \\frac{\\sqrt{2} c_{2}}{4} - \\frac{\\sqrt{2} c_{4}}{4}\\right)}{2} + \\frac{\\sqrt{2} \\left(\\frac{\\sqrt{2} c_{2}}{4} + \\frac{\\sqrt{2} c_{4}}{4}\\right)}{2} & \\frac{\\sqrt{2} \\left(- \\frac{\\sqrt{2} c_{1}}{4} - \\frac{\\sqrt{2} c_{3}}{4}\\right)}{2} + \\frac{\\sqrt{2} \\left(\\frac{\\sqrt{2} c_{1}}{4} + \\frac{\\sqrt{2} c_{3}}{4}\\right)}{2} - \\frac{\\sqrt{2} \\left(- \\frac{\\sqrt{2} c_{2}}{4} - \\frac{\\sqrt{2} c_{4}}{4}\\right)}{2} - \\frac{\\sqrt{2} \\left(\\frac{\\sqrt{2} c_{2}}{4} + \\frac{\\sqrt{2} c_{4}}{4}\\right)}{2}\\\\\\sqrt{2} \\left(\\frac{\\sqrt{2} c_{1}}{4} - \\frac{\\sqrt{2} c_{3}}{4}\\right) + \\sqrt{2} \\left(\\frac{\\sqrt{2} c_{2}}{4} - \\frac{\\sqrt{2} c_{4}}{4}\\right) & 0 & 0 & 0 & 0 & 0 & 0 & \\sqrt{2} \\left(\\frac{\\sqrt{2} c_{1}}{4} - \\frac{\\sqrt{2} c_{3}}{4}\\right) - \\sqrt{2} \\left(\\frac{\\sqrt{2} c_{2}}{4} - \\frac{\\sqrt{2} c_{4}}{4}\\right)\\end{matrix}\\right]$"
      ],
      "text/plain": [
       "Matrix([\n",
       "[                                                                                              sqrt(2)*(sqrt(2)*c_1/4 + sqrt(2)*c_3/4) + sqrt(2)*(sqrt(2)*c_2/4 + sqrt(2)*c_4/4),                                                                                                                                                                                0,                                                                                                                                                                                0,                                                                                                                                                                                0,                                                                                                                                                                                0,                                                                                                                                                                                0,                                                                                                                                                                                0,                                                                                               sqrt(2)*(sqrt(2)*c_1/4 + sqrt(2)*c_3/4) - sqrt(2)*(sqrt(2)*c_2/4 + sqrt(2)*c_4/4)],\n",
       "[sqrt(2)*(-sqrt(2)*c_1/4 + sqrt(2)*c_3/4)/2 + sqrt(2)*(sqrt(2)*c_1/4 - sqrt(2)*c_3/4)/2 + sqrt(2)*(-sqrt(2)*c_2/4 + sqrt(2)*c_4/4)/2 + sqrt(2)*(sqrt(2)*c_2/4 - sqrt(2)*c_4/4)/2, -sqrt(2)*(-sqrt(2)*c_1/4 + sqrt(2)*c_3/4)/2 + sqrt(2)*(sqrt(2)*c_1/4 - sqrt(2)*c_3/4)/2 + sqrt(2)*(-sqrt(2)*c_2/4 + sqrt(2)*c_4/4)/2 - sqrt(2)*(sqrt(2)*c_2/4 - sqrt(2)*c_4/4)/2,                                                                                                                                                                                0,                                                                                                                                                                                0,                                                                                                                                                                                0,                                                                                                                                                                                0, -sqrt(2)*(-sqrt(2)*c_1/4 + sqrt(2)*c_3/4)/2 + sqrt(2)*(sqrt(2)*c_1/4 - sqrt(2)*c_3/4)/2 - sqrt(2)*(-sqrt(2)*c_2/4 + sqrt(2)*c_4/4)/2 + sqrt(2)*(sqrt(2)*c_2/4 - sqrt(2)*c_4/4)/2, sqrt(2)*(-sqrt(2)*c_1/4 + sqrt(2)*c_3/4)/2 + sqrt(2)*(sqrt(2)*c_1/4 - sqrt(2)*c_3/4)/2 - sqrt(2)*(-sqrt(2)*c_2/4 + sqrt(2)*c_4/4)/2 - sqrt(2)*(sqrt(2)*c_2/4 - sqrt(2)*c_4/4)/2],\n",
       "[sqrt(2)*(-sqrt(2)*c_1/4 + sqrt(2)*c_3/4)/2 + sqrt(2)*(sqrt(2)*c_1/4 - sqrt(2)*c_3/4)/2 + sqrt(2)*(-sqrt(2)*c_2/4 + sqrt(2)*c_4/4)/2 + sqrt(2)*(sqrt(2)*c_2/4 - sqrt(2)*c_4/4)/2,                                                                                                                                                                                0, -sqrt(2)*(-sqrt(2)*c_1/4 + sqrt(2)*c_3/4)/2 + sqrt(2)*(sqrt(2)*c_1/4 - sqrt(2)*c_3/4)/2 + sqrt(2)*(-sqrt(2)*c_2/4 + sqrt(2)*c_4/4)/2 - sqrt(2)*(sqrt(2)*c_2/4 - sqrt(2)*c_4/4)/2,                                                                                                                                                                                0,                                                                                                                                                                                0, -sqrt(2)*(-sqrt(2)*c_1/4 + sqrt(2)*c_3/4)/2 + sqrt(2)*(sqrt(2)*c_1/4 - sqrt(2)*c_3/4)/2 - sqrt(2)*(-sqrt(2)*c_2/4 + sqrt(2)*c_4/4)/2 + sqrt(2)*(sqrt(2)*c_2/4 - sqrt(2)*c_4/4)/2,                                                                                                                                                                                0, sqrt(2)*(-sqrt(2)*c_1/4 + sqrt(2)*c_3/4)/2 + sqrt(2)*(sqrt(2)*c_1/4 - sqrt(2)*c_3/4)/2 - sqrt(2)*(-sqrt(2)*c_2/4 + sqrt(2)*c_4/4)/2 - sqrt(2)*(sqrt(2)*c_2/4 - sqrt(2)*c_4/4)/2],\n",
       "[sqrt(2)*(-sqrt(2)*c_1/4 - sqrt(2)*c_3/4)/2 + sqrt(2)*(sqrt(2)*c_1/4 + sqrt(2)*c_3/4)/2 + sqrt(2)*(-sqrt(2)*c_2/4 - sqrt(2)*c_4/4)/2 + sqrt(2)*(sqrt(2)*c_2/4 + sqrt(2)*c_4/4)/2,                                                                                                                                                                                0,                                                                                                                                                                                0, -sqrt(2)*(-sqrt(2)*c_1/4 - sqrt(2)*c_3/4)/2 + sqrt(2)*(sqrt(2)*c_1/4 + sqrt(2)*c_3/4)/2 - sqrt(2)*(-sqrt(2)*c_2/4 - sqrt(2)*c_4/4)/2 + sqrt(2)*(sqrt(2)*c_2/4 + sqrt(2)*c_4/4)/2, -sqrt(2)*(-sqrt(2)*c_1/4 - sqrt(2)*c_3/4)/2 + sqrt(2)*(sqrt(2)*c_1/4 + sqrt(2)*c_3/4)/2 + sqrt(2)*(-sqrt(2)*c_2/4 - sqrt(2)*c_4/4)/2 - sqrt(2)*(sqrt(2)*c_2/4 + sqrt(2)*c_4/4)/2,                                                                                                                                                                                0,                                                                                                                                                                                0, sqrt(2)*(-sqrt(2)*c_1/4 - sqrt(2)*c_3/4)/2 + sqrt(2)*(sqrt(2)*c_1/4 + sqrt(2)*c_3/4)/2 - sqrt(2)*(-sqrt(2)*c_2/4 - sqrt(2)*c_4/4)/2 - sqrt(2)*(sqrt(2)*c_2/4 + sqrt(2)*c_4/4)/2],\n",
       "[sqrt(2)*(-sqrt(2)*c_1/4 + sqrt(2)*c_3/4)/2 + sqrt(2)*(sqrt(2)*c_1/4 - sqrt(2)*c_3/4)/2 + sqrt(2)*(-sqrt(2)*c_2/4 + sqrt(2)*c_4/4)/2 + sqrt(2)*(sqrt(2)*c_2/4 - sqrt(2)*c_4/4)/2,                                                                                                                                                                                0,                                                                                                                                                                                0, -sqrt(2)*(-sqrt(2)*c_1/4 + sqrt(2)*c_3/4)/2 + sqrt(2)*(sqrt(2)*c_1/4 - sqrt(2)*c_3/4)/2 - sqrt(2)*(-sqrt(2)*c_2/4 + sqrt(2)*c_4/4)/2 + sqrt(2)*(sqrt(2)*c_2/4 - sqrt(2)*c_4/4)/2, -sqrt(2)*(-sqrt(2)*c_1/4 + sqrt(2)*c_3/4)/2 + sqrt(2)*(sqrt(2)*c_1/4 - sqrt(2)*c_3/4)/2 + sqrt(2)*(-sqrt(2)*c_2/4 + sqrt(2)*c_4/4)/2 - sqrt(2)*(sqrt(2)*c_2/4 - sqrt(2)*c_4/4)/2,                                                                                                                                                                                0,                                                                                                                                                                                0, sqrt(2)*(-sqrt(2)*c_1/4 + sqrt(2)*c_3/4)/2 + sqrt(2)*(sqrt(2)*c_1/4 - sqrt(2)*c_3/4)/2 - sqrt(2)*(-sqrt(2)*c_2/4 + sqrt(2)*c_4/4)/2 - sqrt(2)*(sqrt(2)*c_2/4 - sqrt(2)*c_4/4)/2],\n",
       "[sqrt(2)*(-sqrt(2)*c_1/4 - sqrt(2)*c_3/4)/2 + sqrt(2)*(sqrt(2)*c_1/4 + sqrt(2)*c_3/4)/2 + sqrt(2)*(-sqrt(2)*c_2/4 - sqrt(2)*c_4/4)/2 + sqrt(2)*(sqrt(2)*c_2/4 + sqrt(2)*c_4/4)/2,                                                                                                                                                                                0, -sqrt(2)*(-sqrt(2)*c_1/4 - sqrt(2)*c_3/4)/2 + sqrt(2)*(sqrt(2)*c_1/4 + sqrt(2)*c_3/4)/2 + sqrt(2)*(-sqrt(2)*c_2/4 - sqrt(2)*c_4/4)/2 - sqrt(2)*(sqrt(2)*c_2/4 + sqrt(2)*c_4/4)/2,                                                                                                                                                                                0,                                                                                                                                                                                0, -sqrt(2)*(-sqrt(2)*c_1/4 - sqrt(2)*c_3/4)/2 + sqrt(2)*(sqrt(2)*c_1/4 + sqrt(2)*c_3/4)/2 - sqrt(2)*(-sqrt(2)*c_2/4 - sqrt(2)*c_4/4)/2 + sqrt(2)*(sqrt(2)*c_2/4 + sqrt(2)*c_4/4)/2,                                                                                                                                                                                0, sqrt(2)*(-sqrt(2)*c_1/4 - sqrt(2)*c_3/4)/2 + sqrt(2)*(sqrt(2)*c_1/4 + sqrt(2)*c_3/4)/2 - sqrt(2)*(-sqrt(2)*c_2/4 - sqrt(2)*c_4/4)/2 - sqrt(2)*(sqrt(2)*c_2/4 + sqrt(2)*c_4/4)/2],\n",
       "[sqrt(2)*(-sqrt(2)*c_1/4 - sqrt(2)*c_3/4)/2 + sqrt(2)*(sqrt(2)*c_1/4 + sqrt(2)*c_3/4)/2 + sqrt(2)*(-sqrt(2)*c_2/4 - sqrt(2)*c_4/4)/2 + sqrt(2)*(sqrt(2)*c_2/4 + sqrt(2)*c_4/4)/2, -sqrt(2)*(-sqrt(2)*c_1/4 - sqrt(2)*c_3/4)/2 + sqrt(2)*(sqrt(2)*c_1/4 + sqrt(2)*c_3/4)/2 + sqrt(2)*(-sqrt(2)*c_2/4 - sqrt(2)*c_4/4)/2 - sqrt(2)*(sqrt(2)*c_2/4 + sqrt(2)*c_4/4)/2,                                                                                                                                                                                0,                                                                                                                                                                                0,                                                                                                                                                                                0,                                                                                                                                                                                0, -sqrt(2)*(-sqrt(2)*c_1/4 - sqrt(2)*c_3/4)/2 + sqrt(2)*(sqrt(2)*c_1/4 + sqrt(2)*c_3/4)/2 - sqrt(2)*(-sqrt(2)*c_2/4 - sqrt(2)*c_4/4)/2 + sqrt(2)*(sqrt(2)*c_2/4 + sqrt(2)*c_4/4)/2, sqrt(2)*(-sqrt(2)*c_1/4 - sqrt(2)*c_3/4)/2 + sqrt(2)*(sqrt(2)*c_1/4 + sqrt(2)*c_3/4)/2 - sqrt(2)*(-sqrt(2)*c_2/4 - sqrt(2)*c_4/4)/2 - sqrt(2)*(sqrt(2)*c_2/4 + sqrt(2)*c_4/4)/2],\n",
       "[                                                                                              sqrt(2)*(sqrt(2)*c_1/4 - sqrt(2)*c_3/4) + sqrt(2)*(sqrt(2)*c_2/4 - sqrt(2)*c_4/4),                                                                                                                                                                                0,                                                                                                                                                                                0,                                                                                                                                                                                0,                                                                                                                                                                                0,                                                                                                                                                                                0,                                                                                                                                                                                0,                                                                                               sqrt(2)*(sqrt(2)*c_1/4 - sqrt(2)*c_3/4) - sqrt(2)*(sqrt(2)*c_2/4 - sqrt(2)*c_4/4)]])"
      ]
     },
     "execution_count": 27,
     "metadata": {},
     "output_type": "execute_result"
    }
   ],
   "source": [
    "CNOT(0, 2, wires) * CNOT(1, 2, wires)* tp(Hg, Hg, Hg)*CNOT(1, 2, wires) * CNOT(0, 2, wires) * Uni(C, 2, wires) * CNOT(0, 2, wires) * CNOT(1, 2, wires)*tp(Hg, Hg, Hg)*CNOT(1, 2, wires) * CNOT(0, 2, wires)"
   ]
  },
  {
   "cell_type": "code",
   "execution_count": 28,
   "metadata": {},
   "outputs": [
    {
     "data": {
      "text/latex": [
       "$\\displaystyle \\left[\\begin{matrix}c_{1} & c_{2} & 0 & 0 & 0 & 0 & 0 & 0\\\\c_{3} & c_{4} & 0 & 0 & 0 & 0 & 0 & 0\\\\0 & 0 & c_{4} & c_{3} & 0 & 0 & 0 & 0\\\\0 & 0 & c_{2} & c_{1} & 0 & 0 & 0 & 0\\\\0 & 0 & 0 & 0 & c_{4} & c_{3} & 0 & 0\\\\0 & 0 & 0 & 0 & c_{2} & c_{1} & 0 & 0\\\\0 & 0 & 0 & 0 & 0 & 0 & c_{1} & c_{2}\\\\0 & 0 & 0 & 0 & 0 & 0 & c_{3} & c_{4}\\end{matrix}\\right]$"
      ],
      "text/plain": [
       "Matrix([\n",
       "[c_1, c_2,   0,   0,   0,   0,   0,   0],\n",
       "[c_3, c_4,   0,   0,   0,   0,   0,   0],\n",
       "[  0,   0, c_4, c_3,   0,   0,   0,   0],\n",
       "[  0,   0, c_2, c_1,   0,   0,   0,   0],\n",
       "[  0,   0,   0,   0, c_4, c_3,   0,   0],\n",
       "[  0,   0,   0,   0, c_2, c_1,   0,   0],\n",
       "[  0,   0,   0,   0,   0,   0, c_1, c_2],\n",
       "[  0,   0,   0,   0,   0,   0, c_3, c_4]])"
      ]
     },
     "execution_count": 28,
     "metadata": {},
     "output_type": "execute_result"
    }
   ],
   "source": [
    "CNOT(1, 2, wires) * CNOT(0, 2, wires) * Uni(C, 2, wires) * CNOT(0, 2, wires) * CNOT(1, 2, wires)"
   ]
  },
  {
   "cell_type": "code",
   "execution_count": 29,
   "metadata": {},
   "outputs": [
    {
     "data": {
      "text/latex": [
       "$\\displaystyle \\left[\\begin{matrix}a_{1} b_{1} c_{1} & a_{1} b_{1} c_{2} & a_{1} b_{2} c_{2} & a_{1} b_{2} c_{1} & a_{2} b_{1} c_{2} & a_{2} b_{1} c_{1} & a_{2} b_{2} c_{1} & a_{2} b_{2} c_{2}\\\\a_{1} b_{1} c_{3} & a_{1} b_{1} c_{4} & a_{1} b_{2} c_{4} & a_{1} b_{2} c_{3} & a_{2} b_{1} c_{4} & a_{2} b_{1} c_{3} & a_{2} b_{2} c_{3} & a_{2} b_{2} c_{4}\\\\a_{1} b_{3} c_{3} & a_{1} b_{3} c_{4} & a_{1} b_{4} c_{4} & a_{1} b_{4} c_{3} & a_{2} b_{3} c_{4} & a_{2} b_{3} c_{3} & a_{2} b_{4} c_{3} & a_{2} b_{4} c_{4}\\\\a_{1} b_{3} c_{1} & a_{1} b_{3} c_{2} & a_{1} b_{4} c_{2} & a_{1} b_{4} c_{1} & a_{2} b_{3} c_{2} & a_{2} b_{3} c_{1} & a_{2} b_{4} c_{1} & a_{2} b_{4} c_{2}\\\\a_{3} b_{1} c_{3} & a_{3} b_{1} c_{4} & a_{3} b_{2} c_{4} & a_{3} b_{2} c_{3} & a_{4} b_{1} c_{4} & a_{4} b_{1} c_{3} & a_{4} b_{2} c_{3} & a_{4} b_{2} c_{4}\\\\a_{3} b_{1} c_{1} & a_{3} b_{1} c_{2} & a_{3} b_{2} c_{2} & a_{3} b_{2} c_{1} & a_{4} b_{1} c_{2} & a_{4} b_{1} c_{1} & a_{4} b_{2} c_{1} & a_{4} b_{2} c_{2}\\\\a_{3} b_{3} c_{1} & a_{3} b_{3} c_{2} & a_{3} b_{4} c_{2} & a_{3} b_{4} c_{1} & a_{4} b_{3} c_{2} & a_{4} b_{3} c_{1} & a_{4} b_{4} c_{1} & a_{4} b_{4} c_{2}\\\\a_{3} b_{3} c_{3} & a_{3} b_{3} c_{4} & a_{3} b_{4} c_{4} & a_{3} b_{4} c_{3} & a_{4} b_{3} c_{4} & a_{4} b_{3} c_{3} & a_{4} b_{4} c_{3} & a_{4} b_{4} c_{4}\\end{matrix}\\right]$"
      ],
      "text/plain": [
       "Matrix([\n",
       "[a_1*b_1*c_1, a_1*b_1*c_2, a_1*b_2*c_2, a_1*b_2*c_1, a_2*b_1*c_2, a_2*b_1*c_1, a_2*b_2*c_1, a_2*b_2*c_2],\n",
       "[a_1*b_1*c_3, a_1*b_1*c_4, a_1*b_2*c_4, a_1*b_2*c_3, a_2*b_1*c_4, a_2*b_1*c_3, a_2*b_2*c_3, a_2*b_2*c_4],\n",
       "[a_1*b_3*c_3, a_1*b_3*c_4, a_1*b_4*c_4, a_1*b_4*c_3, a_2*b_3*c_4, a_2*b_3*c_3, a_2*b_4*c_3, a_2*b_4*c_4],\n",
       "[a_1*b_3*c_1, a_1*b_3*c_2, a_1*b_4*c_2, a_1*b_4*c_1, a_2*b_3*c_2, a_2*b_3*c_1, a_2*b_4*c_1, a_2*b_4*c_2],\n",
       "[a_3*b_1*c_3, a_3*b_1*c_4, a_3*b_2*c_4, a_3*b_2*c_3, a_4*b_1*c_4, a_4*b_1*c_3, a_4*b_2*c_3, a_4*b_2*c_4],\n",
       "[a_3*b_1*c_1, a_3*b_1*c_2, a_3*b_2*c_2, a_3*b_2*c_1, a_4*b_1*c_2, a_4*b_1*c_1, a_4*b_2*c_1, a_4*b_2*c_2],\n",
       "[a_3*b_3*c_1, a_3*b_3*c_2, a_3*b_4*c_2, a_3*b_4*c_1, a_4*b_3*c_2, a_4*b_3*c_1, a_4*b_4*c_1, a_4*b_4*c_2],\n",
       "[a_3*b_3*c_3, a_3*b_3*c_4, a_3*b_4*c_4, a_3*b_4*c_3, a_4*b_3*c_4, a_4*b_3*c_3, a_4*b_4*c_3, a_4*b_4*c_4]])"
      ]
     },
     "execution_count": 29,
     "metadata": {},
     "output_type": "execute_result"
    }
   ],
   "source": [
    "CNOT(1, 2, wires) * CNOT(0, 2, wires) * tp(A, B, C) * CNOT(0, 2, wires) * CNOT(1, 2, wires)"
   ]
  },
  {
   "cell_type": "code",
   "execution_count": 30,
   "metadata": {},
   "outputs": [
    {
     "data": {
      "text/latex": [
       "$\\displaystyle \\left[\\begin{matrix}\\frac{c_{1}}{2} + \\frac{c_{4}}{2} & \\frac{c_{2}}{2} + \\frac{c_{3}}{2} & 0 & 0 & \\frac{c_{1}}{2} - \\frac{c_{4}}{2} & \\frac{c_{2}}{2} - \\frac{c_{3}}{2} & 0 & 0\\\\\\frac{c_{2}}{2} + \\frac{c_{3}}{2} & \\frac{c_{1}}{2} + \\frac{c_{4}}{2} & 0 & 0 & - \\frac{c_{2}}{2} + \\frac{c_{3}}{2} & - \\frac{c_{1}}{2} + \\frac{c_{4}}{2} & 0 & 0\\\\0 & 0 & \\frac{c_{1}}{2} + \\frac{c_{4}}{2} & \\frac{c_{2}}{2} + \\frac{c_{3}}{2} & 0 & 0 & - \\frac{c_{1}}{2} + \\frac{c_{4}}{2} & - \\frac{c_{2}}{2} + \\frac{c_{3}}{2}\\\\0 & 0 & \\frac{c_{2}}{2} + \\frac{c_{3}}{2} & \\frac{c_{1}}{2} + \\frac{c_{4}}{2} & 0 & 0 & \\frac{c_{2}}{2} - \\frac{c_{3}}{2} & \\frac{c_{1}}{2} - \\frac{c_{4}}{2}\\\\\\frac{c_{1}}{2} - \\frac{c_{4}}{2} & \\frac{c_{2}}{2} - \\frac{c_{3}}{2} & 0 & 0 & \\frac{c_{1}}{2} + \\frac{c_{4}}{2} & \\frac{c_{2}}{2} + \\frac{c_{3}}{2} & 0 & 0\\\\- \\frac{c_{2}}{2} + \\frac{c_{3}}{2} & - \\frac{c_{1}}{2} + \\frac{c_{4}}{2} & 0 & 0 & \\frac{c_{2}}{2} + \\frac{c_{3}}{2} & \\frac{c_{1}}{2} + \\frac{c_{4}}{2} & 0 & 0\\\\0 & 0 & - \\frac{c_{1}}{2} + \\frac{c_{4}}{2} & - \\frac{c_{2}}{2} + \\frac{c_{3}}{2} & 0 & 0 & \\frac{c_{1}}{2} + \\frac{c_{4}}{2} & \\frac{c_{2}}{2} + \\frac{c_{3}}{2}\\\\0 & 0 & \\frac{c_{2}}{2} - \\frac{c_{3}}{2} & \\frac{c_{1}}{2} - \\frac{c_{4}}{2} & 0 & 0 & \\frac{c_{2}}{2} + \\frac{c_{3}}{2} & \\frac{c_{1}}{2} + \\frac{c_{4}}{2}\\end{matrix}\\right]$"
      ],
      "text/plain": [
       "Matrix([\n",
       "[ c_1/2 + c_4/2,  c_2/2 + c_3/2,              0,              0,  c_1/2 - c_4/2,  c_2/2 - c_3/2,              0,              0],\n",
       "[ c_2/2 + c_3/2,  c_1/2 + c_4/2,              0,              0, -c_2/2 + c_3/2, -c_1/2 + c_4/2,              0,              0],\n",
       "[             0,              0,  c_1/2 + c_4/2,  c_2/2 + c_3/2,              0,              0, -c_1/2 + c_4/2, -c_2/2 + c_3/2],\n",
       "[             0,              0,  c_2/2 + c_3/2,  c_1/2 + c_4/2,              0,              0,  c_2/2 - c_3/2,  c_1/2 - c_4/2],\n",
       "[ c_1/2 - c_4/2,  c_2/2 - c_3/2,              0,              0,  c_1/2 + c_4/2,  c_2/2 + c_3/2,              0,              0],\n",
       "[-c_2/2 + c_3/2, -c_1/2 + c_4/2,              0,              0,  c_2/2 + c_3/2,  c_1/2 + c_4/2,              0,              0],\n",
       "[             0,              0, -c_1/2 + c_4/2, -c_2/2 + c_3/2,              0,              0,  c_1/2 + c_4/2,  c_2/2 + c_3/2],\n",
       "[             0,              0,  c_2/2 - c_3/2,  c_1/2 - c_4/2,              0,              0,  c_2/2 + c_3/2,  c_1/2 + c_4/2]])"
      ]
     },
     "execution_count": 30,
     "metadata": {},
     "output_type": "execute_result"
    }
   ],
   "source": [
    "Uni(Hg, 0, wires) * CNOT(1, 2, wires) * CNOT(0, 2, wires) * Uni(C, 2, wires) * CNOT(0, 2, wires) * CNOT(1, 2, wires) * Uni(Hg, 0, wires)"
   ]
  },
  {
   "cell_type": "code",
   "execution_count": 31,
   "metadata": {},
   "outputs": [],
   "source": [
    "ABC_eq = (CNOT(1, 2, wires) * CNOT(0, 2, wires) * tp(A, B, C) * CNOT(0, 2, wires) * CNOT(1, 2, wires))"
   ]
  },
  {
   "cell_type": "code",
   "execution_count": 32,
   "metadata": {},
   "outputs": [
    {
     "data": {
      "text/latex": [
       "$\\displaystyle \\left[\\begin{matrix}a_{1} b_{1} c_{1} & a_{1} b_{1} c_{2} & 0 & 0 & a_{2} b_{1} c_{2} & a_{2} b_{1} c_{1} & 0 & 0\\\\a_{1} b_{1} c_{3} & a_{1} b_{1} c_{4} & 0 & 0 & a_{2} b_{1} c_{4} & a_{2} b_{1} c_{3} & 0 & 0\\\\0 & 0 & a_{1} b_{4} c_{4} & a_{1} b_{4} c_{3} & 0 & 0 & a_{2} b_{4} c_{3} & a_{2} b_{4} c_{4}\\\\0 & 0 & a_{1} b_{4} c_{2} & a_{1} b_{4} c_{1} & 0 & 0 & a_{2} b_{4} c_{1} & a_{2} b_{4} c_{2}\\\\a_{3} b_{1} c_{3} & a_{3} b_{1} c_{4} & 0 & 0 & a_{4} b_{1} c_{4} & a_{4} b_{1} c_{3} & 0 & 0\\\\a_{3} b_{1} c_{1} & a_{3} b_{1} c_{2} & 0 & 0 & a_{4} b_{1} c_{2} & a_{4} b_{1} c_{1} & 0 & 0\\\\0 & 0 & a_{3} b_{4} c_{2} & a_{3} b_{4} c_{1} & 0 & 0 & a_{4} b_{4} c_{1} & a_{4} b_{4} c_{2}\\\\0 & 0 & a_{3} b_{4} c_{4} & a_{3} b_{4} c_{3} & 0 & 0 & a_{4} b_{4} c_{3} & a_{4} b_{4} c_{4}\\end{matrix}\\right]$"
      ],
      "text/plain": [
       "Matrix([\n",
       "[a_1*b_1*c_1, a_1*b_1*c_2,           0,           0, a_2*b_1*c_2, a_2*b_1*c_1,           0,           0],\n",
       "[a_1*b_1*c_3, a_1*b_1*c_4,           0,           0, a_2*b_1*c_4, a_2*b_1*c_3,           0,           0],\n",
       "[          0,           0, a_1*b_4*c_4, a_1*b_4*c_3,           0,           0, a_2*b_4*c_3, a_2*b_4*c_4],\n",
       "[          0,           0, a_1*b_4*c_2, a_1*b_4*c_1,           0,           0, a_2*b_4*c_1, a_2*b_4*c_2],\n",
       "[a_3*b_1*c_3, a_3*b_1*c_4,           0,           0, a_4*b_1*c_4, a_4*b_1*c_3,           0,           0],\n",
       "[a_3*b_1*c_1, a_3*b_1*c_2,           0,           0, a_4*b_1*c_2, a_4*b_1*c_1,           0,           0],\n",
       "[          0,           0, a_3*b_4*c_2, a_3*b_4*c_1,           0,           0, a_4*b_4*c_1, a_4*b_4*c_2],\n",
       "[          0,           0, a_3*b_4*c_4, a_3*b_4*c_3,           0,           0, a_4*b_4*c_3, a_4*b_4*c_4]])"
      ]
     },
     "execution_count": 32,
     "metadata": {},
     "output_type": "execute_result"
    }
   ],
   "source": [
    "ABC_eq.subs([(b_sym[1], 0), (b_sym[2], 0)])"
   ]
  },
  {
   "cell_type": "code",
   "execution_count": 37,
   "metadata": {},
   "outputs": [
    {
     "data": {
      "text/latex": [
       "$\\displaystyle \\theta$"
      ],
      "text/plain": [
       "\\theta"
      ]
     },
     "execution_count": 37,
     "metadata": {},
     "output_type": "execute_result"
    }
   ],
   "source": [
    "theta = sp.symbols(r\"\\theta\")\n",
    "theta"
   ]
  },
  {
   "cell_type": "code",
   "execution_count": 51,
   "metadata": {},
   "outputs": [
    {
     "data": {
      "text/latex": [
       "$\\displaystyle \\left[\\begin{matrix}- i \\sin{\\left(\\theta \\right)} + \\cos{\\left(\\theta \\right)} & 0 & 0 & 0\\\\0 & i \\sin{\\left(\\theta \\right)} + \\cos{\\left(\\theta \\right)} & 0 & 0\\\\0 & 0 & i \\sin{\\left(\\theta \\right)} + \\cos{\\left(\\theta \\right)} & 0\\\\0 & 0 & 0 & - i \\sin{\\left(\\theta \\right)} + \\cos{\\left(\\theta \\right)}\\end{matrix}\\right]$"
      ],
      "text/plain": [
       "Matrix([\n",
       "[-I*sin(\\theta) + cos(\\theta),                           0,                           0,                            0],\n",
       "[                           0, I*sin(\\theta) + cos(\\theta),                           0,                            0],\n",
       "[                           0,                           0, I*sin(\\theta) + cos(\\theta),                            0],\n",
       "[                           0,                           0,                           0, -I*sin(\\theta) + cos(\\theta)]])"
      ]
     },
     "execution_count": 51,
     "metadata": {},
     "output_type": "execute_result"
    }
   ],
   "source": [
    "sp.cos(theta)* Uni(Ig, 1, 2) - sp.I*sp.sin(theta) * tp(Zg, Zg)"
   ]
  },
  {
   "cell_type": "code",
   "execution_count": 52,
   "metadata": {},
   "outputs": [
    {
     "data": {
      "text/latex": [
       "$\\displaystyle \\left[\\begin{matrix}1 & 0 & 0 & 0\\\\0 & e^{1.0 i \\theta} & 0 & 0\\\\0 & 0 & e^{1.0 i \\theta} & 0\\\\0 & 0 & 0 & 1\\end{matrix}\\right]$"
      ],
      "text/plain": [
       "Matrix([\n",
       "[1,                 0,                 0, 0],\n",
       "[0, exp(1.0*I*\\theta),                 0, 0],\n",
       "[0,                 0, exp(1.0*I*\\theta), 0],\n",
       "[0,                 0,                 0, 1]])"
      ]
     },
     "execution_count": 52,
     "metadata": {},
     "output_type": "execute_result"
    }
   ],
   "source": [
    "CNOT(0, 1, 2)@Uni(RZ(theta), 1, 2)@CNOT(0, 1, 2)"
   ]
  },
  {
   "cell_type": "code",
   "execution_count": 44,
   "metadata": {},
   "outputs": [],
   "source": [
    "def CU(i:int, j:int, n:int, U):\n",
    "    assert i != j, \"Two qubit gate must have 2 different qubit index.\"\n",
    "    assert type(i) is int, \"Index i must be integer.\" \n",
    "    assert type(j) is int, \"Index j must be integer.\" \n",
    "    assert type(n) is int, \"Qubit number n must be integer.\"\n",
    "    assert i<n and j<n, \"Index must be smaller than total qubit number.\"\n",
    "    assert i>-1 and j>-1, \"Index must be positive integer including 0.\"\n",
    "    \n",
    "    glist0 = n*[Ig]\n",
    "    glist1 = n*[Ig]\n",
    "    \n",
    "    glist0[i] = CNOT0\n",
    "    glist1[i] = CNOT1\n",
    "    glist1[j] = U\n",
    "    return tp(*glist0) + tp(*glist1) "
   ]
  },
  {
   "cell_type": "code",
   "execution_count": 49,
   "metadata": {},
   "outputs": [
    {
     "data": {
      "text/latex": [
       "$\\displaystyle \\left[\\begin{matrix}- i u_{1} \\sin{\\left(\\theta \\right)} + \\cos{\\left(\\theta \\right)} & - i u_{2} \\sin{\\left(\\theta \\right)} & 0 & 0\\\\- i u_{3} \\sin{\\left(\\theta \\right)} & - i u_{4} \\sin{\\left(\\theta \\right)} + \\cos{\\left(\\theta \\right)} & 0 & 0\\\\0 & 0 & - i u_{1} \\sin{\\left(\\theta \\right)} + \\cos{\\left(\\theta \\right)} & - i u_{2} \\sin{\\left(\\theta \\right)}\\\\0 & 0 & - i u_{3} \\sin{\\left(\\theta \\right)} & - i u_{4} \\sin{\\left(\\theta \\right)} + \\cos{\\left(\\theta \\right)}\\end{matrix}\\right]$"
      ],
      "text/plain": [
       "Matrix([\n",
       "[-I*u_1*sin(\\theta) + cos(\\theta),               -I*u_2*sin(\\theta),                                0,                                0],\n",
       "[              -I*u_3*sin(\\theta), -I*u_4*sin(\\theta) + cos(\\theta),                                0,                                0],\n",
       "[                               0,                                0, -I*u_1*sin(\\theta) + cos(\\theta),               -I*u_2*sin(\\theta)],\n",
       "[                               0,                                0,               -I*u_3*sin(\\theta), -I*u_4*sin(\\theta) + cos(\\theta)]])"
      ]
     },
     "execution_count": 49,
     "metadata": {},
     "output_type": "execute_result"
    }
   ],
   "source": [
    "sp.cos(theta)* Uni(Ig, 1, 2) - sp.I*sp.sin(theta) * Uni(U, 1, 2)"
   ]
  },
  {
   "cell_type": "code",
   "execution_count": null,
   "metadata": {},
   "outputs": [],
   "source": []
  }
 ],
 "metadata": {
  "kernelspec": {
   "display_name": "Python 3",
   "language": "python",
   "name": "python3"
  },
  "language_info": {
   "codemirror_mode": {
    "name": "ipython",
    "version": 3
   },
   "file_extension": ".py",
   "mimetype": "text/x-python",
   "name": "python",
   "nbconvert_exporter": "python",
   "pygments_lexer": "ipython3",
   "version": "3.11.4"
  },
  "orig_nbformat": 4
 },
 "nbformat": 4,
 "nbformat_minor": 2
}
