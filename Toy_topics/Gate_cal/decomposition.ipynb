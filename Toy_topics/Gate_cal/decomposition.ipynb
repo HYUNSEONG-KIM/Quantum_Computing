{
 "cells": [
  {
   "cell_type": "code",
   "execution_count": 1,
   "metadata": {},
   "outputs": [],
   "source": [
    "from sym_g import *"
   ]
  },
  {
   "cell_type": "code",
   "execution_count": 6,
   "metadata": {},
   "outputs": [
    {
     "data": {
      "text/latex": [
       "$\\displaystyle \\left[\\begin{matrix}58 + 36.0 i & 73 + 93.0 i & 90 + 71.0 i & 35 + 56.0 i\\\\74 + 39.0 i & 10 + 90.0 i & 19 + 82.0 i & 38 + 83.0 i\\\\18 + 99.0 i & 86 + 33.0 i & 32 + 3.0 i & 41 + 54.0 i\\\\63 + 43.0 i & 56 + 2.0 i & 74 + 65.0 i & 57 + 40.0 i\\end{matrix}\\right]$"
      ],
      "text/plain": [
       "Matrix([\n",
       "[58 + 36.0*I, 73 + 93.0*I, 90 + 71.0*I, 35 + 56.0*I],\n",
       "[74 + 39.0*I, 10 + 90.0*I, 19 + 82.0*I, 38 + 83.0*I],\n",
       "[18 + 99.0*I, 86 + 33.0*I,  32 + 3.0*I, 41 + 54.0*I],\n",
       "[63 + 43.0*I,  56 + 2.0*I, 74 + 65.0*I, 57 + 40.0*I]])"
      ]
     },
     "execution_count": 6,
     "metadata": {},
     "output_type": "execute_result"
    }
   ],
   "source": [
    "H = (sp.randMatrix(4,4) + complex(0, 1) * sp.randMatrix(4,4))\n",
    "H"
   ]
  },
  {
   "cell_type": "code",
   "execution_count": 8,
   "metadata": {},
   "outputs": [
    {
     "data": {
      "text/latex": [
       "$\\displaystyle \\left[\\begin{matrix}0 & 1 & 0 & 0\\\\1 & 0 & 0 & 0\\\\0 & 0 & 0 & 1\\\\0 & 0 & 1 & 0\\end{matrix}\\right]$"
      ],
      "text/plain": [
       "Matrix([\n",
       "[0, 1, 0, 0],\n",
       "[1, 0, 0, 0],\n",
       "[0, 0, 0, 1],\n",
       "[0, 0, 1, 0]])"
      ]
     },
     "execution_count": 8,
     "metadata": {},
     "output_type": "execute_result"
    }
   ],
   "source": [
    "tp(Ig, Xg)"
   ]
  },
  {
   "cell_type": "code",
   "execution_count": 17,
   "metadata": {},
   "outputs": [],
   "source": [
    "pauli_list = [   \n",
    "    [0, tp(Ig, Ig), \"II\"],\n",
    "    [0, tp(Ig, Zg), \"IZ\"],\n",
    "    [0, tp(Zg, Ig), \"ZI\"],\n",
    "    [0, tp(Zg, Zg), \"ZZ\"],\n",
    "    [0, tp(Ig, Xg), \"IX\"],\n",
    "    [0, tp(Xg, Ig), \"XI\"],\n",
    "    [0, tp(Xg, Xg), \"XX\"],\n",
    "    [0, tp(Ig, Yg), \"IY\"],\n",
    "    [0, tp(Yg, Ig), \"YI\"],\n",
    "    [0, tp(Yg, Yg), \"YY\"],\n",
    "    [0, tp(Zg, Xg), \"ZX\"],\n",
    "    [0, tp(Zg, Xg), \"ZY\"],\n",
    "    [0, tp(Xg, Zg), \"XZ\"],\n",
    "    [0, tp(Xg, Yg), \"XY\"],\n",
    "    [0, tp(Yg, Xg), \"YX\"],\n",
    "    [0, tp(Yg, Zg), \"YZ\"],\n",
    "]"
   ]
  },
  {
   "cell_type": "code",
   "execution_count": 18,
   "metadata": {},
   "outputs": [
    {
     "data": {
      "text/plain": [
       "16"
      ]
     },
     "execution_count": 18,
     "metadata": {},
     "output_type": "execute_result"
    }
   ],
   "source": [
    "len(pauli_list)"
   ]
  },
  {
   "cell_type": "code",
   "execution_count": 59,
   "metadata": {},
   "outputs": [],
   "source": [
    "for i, p in enumerate(pauli_list):\n",
    "    pauli_list[i][0] = 0.25*(H@p[1]).trace()"
   ]
  },
  {
   "cell_type": "code",
   "execution_count": 60,
   "metadata": {},
   "outputs": [],
   "source": [
    "coef_map = {p[2]:sp.simplify(p[0]) for p in pauli_list}"
   ]
  },
  {
   "cell_type": "code",
   "execution_count": 61,
   "metadata": {},
   "outputs": [
    {
     "data": {
      "text/plain": [
       "{'II': 39.25 + 42.25*I,\n",
       " 'IZ': 5.75 - 22.75*I,\n",
       " 'ZI': -5.25 + 20.75*I,\n",
       " 'ZZ': 18.25 - 4.25*I,\n",
       " 'IX': 65.5 + 62.75*I,\n",
       " 'XI': 50.5 + 63.75*I,\n",
       " 'XX': 50.75 + 53.5*I,\n",
       " 'IY': 10.75 + 8.5*I,\n",
       " 'YI': 13.25 - 13.5*I,\n",
       " 'YY': 1.75 + 4.0*I,\n",
       " 'ZX': 8.0 + 3.25*I,\n",
       " 'ZY': 8.0 + 3.25*I,\n",
       " 'XZ': 3.5 + 21.25*I,\n",
       " 'XY': I*(-9.75 + 9.0*I),\n",
       " 'YX': 15.5 + 23.75*I,\n",
       " 'YZ': I*(-22.5 + 27.25*I)}"
      ]
     },
     "execution_count": 61,
     "metadata": {},
     "output_type": "execute_result"
    }
   ],
   "source": [
    "coef_map"
   ]
  },
  {
   "cell_type": "code",
   "execution_count": 62,
   "metadata": {},
   "outputs": [],
   "source": [
    "h11 = H[:2, :2]\n",
    "h12 = H[:2, 2:]\n",
    "h21 = H[2:, :2]\n",
    "h22 = H[2:, 2:]"
   ]
  },
  {
   "cell_type": "code",
   "execution_count": 63,
   "metadata": {},
   "outputs": [],
   "source": [
    "def get_decomposition(H):\n",
    "    n1, n2 = H.shape\n",
    "    n1 = int(n1/2)\n",
    "    n2 = int(n2/2)\n",
    "    h11 = H[:n1, :n2]\n",
    "    h12 = H[:n1, n2:]\n",
    "    h21 = H[n1:, :n2]\n",
    "    h22 = H[n1:, n2:]\n",
    "\n",
    "    return (h11+h22)/2, (h12+h21)/2, sp.simplify(complex(0,1)*(h12-h21)/2), (h11-h22)/2"
   ]
  },
  {
   "cell_type": "code",
   "execution_count": 64,
   "metadata": {},
   "outputs": [],
   "source": [
    "c0H = (h11 + h22)/2 # I\n",
    "c3H = (h11 - h22)/2 # X\n",
    "c1H = (h12+h21)/2 # Y\n",
    "c2H = sp.simplify(complex(0,1)*(h12-h21)/2) # Z"
   ]
  },
  {
   "cell_type": "code",
   "execution_count": 65,
   "metadata": {},
   "outputs": [
    {
     "data": {
      "text/latex": [
       "$\\displaystyle \\left[\\begin{matrix}45 + 19.5 i & 57 + 73.5 i\\\\74 + 52.0 i & \\frac{67}{2} + 65.0 i\\end{matrix}\\right]$"
      ],
      "text/plain": [
       "Matrix([\n",
       "[45 + 19.5*I,   57 + 73.5*I],\n",
       "[74 + 52.0*I, 67/2 + 65.0*I]])"
      ]
     },
     "execution_count": 65,
     "metadata": {},
     "output_type": "execute_result"
    }
   ],
   "source": [
    "c0H"
   ]
  },
  {
   "cell_type": "code",
   "execution_count": 66,
   "metadata": {},
   "outputs": [],
   "source": [
    "c0, c1, c2, c3 = get_decomposition(c0H)"
   ]
  },
  {
   "cell_type": "code",
   "execution_count": 67,
   "metadata": {},
   "outputs": [
    {
     "data": {
      "text/latex": [
       "$\\displaystyle \\frac{157}{4} + 42.25 i$"
      ],
      "text/plain": [
       "157/4 + 42.25*I"
      ]
     },
     "execution_count": 67,
     "metadata": {},
     "output_type": "execute_result"
    }
   ],
   "source": [
    "c0[0]"
   ]
  },
  {
   "cell_type": "code",
   "execution_count": 68,
   "metadata": {},
   "outputs": [
    {
     "data": {
      "text/latex": [
       "$\\displaystyle \\frac{131}{2} + 62.75 i$"
      ],
      "text/plain": [
       "131/2 + 62.75*I"
      ]
     },
     "execution_count": 68,
     "metadata": {},
     "output_type": "execute_result"
    }
   ],
   "source": [
    "c1[0]"
   ]
  },
  {
   "cell_type": "code",
   "execution_count": 69,
   "metadata": {},
   "outputs": [
    {
     "data": {
      "text/latex": [
       "$\\displaystyle 39.25 + 42.25 i$"
      ],
      "text/plain": [
       "39.25 + 42.25*I"
      ]
     },
     "execution_count": 69,
     "metadata": {},
     "output_type": "execute_result"
    }
   ],
   "source": [
    "coef_map[\"II\"]"
   ]
  },
  {
   "cell_type": "code",
   "execution_count": null,
   "metadata": {},
   "outputs": [],
   "source": []
  }
 ],
 "metadata": {
  "kernelspec": {
   "display_name": "quantum_computer",
   "language": "python",
   "name": "python3"
  },
  "language_info": {
   "codemirror_mode": {
    "name": "ipython",
    "version": 3
   },
   "file_extension": ".py",
   "mimetype": "text/x-python",
   "name": "python",
   "nbconvert_exporter": "python",
   "pygments_lexer": "ipython3",
   "version": "3.11.4"
  }
 },
 "nbformat": 4,
 "nbformat_minor": 2
}
