{
 "cells": [
  {
   "cell_type": "markdown",
   "metadata": {},
   "source": [
    "# Quantum Random Number generator circuit"
   ]
  },
  {
   "cell_type": "markdown",
   "metadata": {},
   "source": [
    "Random Number generation is a cornerstone topic in simulation, cryptography and even including commercial game industry applications.\n",
    "\n",
    "\n"
   ]
  },
  {
   "cell_type": "markdown",
   "metadata": {},
   "source": [
    "## Pesudo-Random Number "
   ]
  },
  {
   "cell_type": "markdown",
   "metadata": {},
   "source": [
    "Practically, most programming language support fundamental random number generators in their standard libraries. \n",
    "For example, [Python](https://docs.python.org/3/library/random.html) provides Mersenne Twister implementation,\n",
    "C had provided very simple algorithm earlier era of their history. \n",
    "Portable version is mentioned in *Section 2.7, Kernighan and Ritcheie, The C Programming Language 2nd, 1988*.\n",
    "\n",
    "```.{C}\n",
    "unsinged long int next = 1;\n",
    "\n",
    "int rand(void){\n",
    "    next = next * 1103515245 + 12345;\n",
    "    return (unsigned int)(next/65536)%32768\n",
    "}\n",
    "```\n",
    "\n",
    "However, such algorithms are "
   ]
  },
  {
   "cell_type": "markdown",
   "metadata": {},
   "source": [
    "## Hardware Random Number Generator"
   ]
  },
  {
   "cell_type": "markdown",
   "metadata": {},
   "source": [
    "Therefore, generating random number data from natural noise phenomenon also has been attempted to guarantee the reliable randomness.\n",
    "\n",
    " "
   ]
  },
  {
   "cell_type": "markdown",
   "metadata": {},
   "source": [
    "## Quantum Random Number generator\n",
    "\n",
    "Quantum Radom Number Generator(QRNG) produces **true** random number "
   ]
  },
  {
   "cell_type": "markdown",
   "metadata": {},
   "source": [
    "# Test Random Number Sample"
   ]
  },
  {
   "cell_type": "markdown",
   "metadata": {},
   "source": []
  },
  {
   "cell_type": "markdown",
   "metadata": {},
   "source": [
    "# Random Number following Specific Distribution"
   ]
  },
  {
   "cell_type": "markdown",
   "metadata": {},
   "source": []
  }
 ],
 "metadata": {
  "language_info": {
   "name": "python"
  },
  "orig_nbformat": 4
 },
 "nbformat": 4,
 "nbformat_minor": 2
}
