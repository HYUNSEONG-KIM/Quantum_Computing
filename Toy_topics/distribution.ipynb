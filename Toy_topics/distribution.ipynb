{
 "cells": [
  {
   "cell_type": "markdown",
   "metadata": {},
   "source": [
    "# Quantum Random Number generator circuit"
   ]
  },
  {
   "cell_type": "markdown",
   "metadata": {},
   "source": [
    "Random Number generation is a cornerstone topic in simulation, cryptography and even including commercial game industry applications.\n",
    "\n",
    "\n"
   ]
  },
  {
   "cell_type": "markdown",
   "metadata": {},
   "source": [
    "Why the random number is important in these area? It is because that the randomness provide *unpredictable* value for our algorithms.\n",
    "\n",
    "In sequrity field, random number is core "
   ]
  },
  {
   "cell_type": "markdown",
   "metadata": {},
   "source": [
    "## Pseudo-Random Number "
   ]
  },
  {
   "cell_type": "markdown",
   "metadata": {},
   "source": [
    "Practically, most programming language support fundamental random number generators in their standard libraries. \n",
    "For example, [Python](https://docs.python.org/3/library/random.html) provides Mersenne Twister implementation,\n",
    "C had provided very simple algorithm earlier era of their history. \n",
    "Portable version is mentioned in *Section 2.7, Kernighan and Ritcheie, The C Programming Language 2nd, 1988*.\n",
    "\n",
    "```.{C}\n",
    "unsigned long int next = 1;\n",
    "\n",
    "int rand(void){\n",
    "    next = next * 1103515245 + 12345;\n",
    "    return (unsigned int)(next/65536)%32768\n",
    "}\n",
    "```\n",
    "\n",
    "However, not only the above simple algorithms but also further advanced generating algorithms are all *pseudo*-random number algorithm.\n",
    "Pseudo means that they are not support true randomness of their outcome. \n",
    "They are deterministic algorithm which produce same result from the same given input values. Usually this given value is called *seed*.\n",
    "With same seed and same algorithm, you can restore the psudo-random number that system use in their intermediate process. \n",
    "The randomness imitation is came from sufficiently long period of repetition by the algorthms and using time-dependent seed value.\n",
    "\n",
    "In addition, some old algorithms cannot be used in modern promised field application such as cryptography.\n",
    "It is because the old algorithms provides sufficiently long period of pesudo-random number in their era, however, the periods are not longer anymore than required range in present. See, [C programming recommendation written by Carnegie Mellon University Software Engineering Institute](https://wiki.sei.cmu.edu/confluence/display/c/MSC30-C.+Do+not+use+the+rand%28%29+function+for+generating+pseudorandom+numbers). They prohibited the usage of standard `rand()` function and recommended some advanced PRNG algorithms implementations provided by running systems such as POSIX and Windows. \n"
   ]
  },
  {
   "cell_type": "markdown",
   "metadata": {},
   "source": [
    "## Hardware Random Number Generator"
   ]
  },
  {
   "cell_type": "markdown",
   "metadata": {},
   "source": [
    "Therefore, generating random number data from natural noise phenomenon also has been attempted to guarantee the reliable randomness.\n",
    "Prominent institution is [RANDOM.ORG](random.org). They established various noise or chaotic system measurement faculties\n",
    "and provide client with the random numbers generated from the faculties.\n",
    "\n",
    "Weakness of the HRNG is that these methods require specific attachement on computer device. Even we use the randomness provider, the network interaction reduce the speed of processing.\n",
    " "
   ]
  },
  {
   "cell_type": "markdown",
   "metadata": {},
   "source": [
    "### Quantum Random Number generator\n",
    "\n",
    "Quantum Radom Number Generator(QRNG) can produces **true** random number. \n",
    "Actually, all hardware systems is also living in quantum world, therefore, we can state that the above hardware generators are also some specific type of QRNG. \n",
    "\n",
    "QRNG practically implementated in hardware chip form and are already adopted in some commercial device such as Galaxy A Quantum(smartphone).\n",
    "\n",
    "However, major difference of common HRNG and QRNG in quantum computer is we can algorithmically implement QRNG on computing unit of the system.\n",
    "In this section, we will focus on some usage of quantum system contolled by gate-model api to produce random numbers.\n"
   ]
  },
  {
   "cell_type": "markdown",
   "metadata": {},
   "source": [
    "# Implement QRNG on gate model"
   ]
  },
  {
   "cell_type": "markdown",
   "metadata": {},
   "source": [
    "Amplitude of each states of qubit system means sqaure root of existence probability of the states.\n",
    "\n",
    "$$| \\Psi \\rangle = \\sum \\sqrt{p_i} | \\psi_i \\rangle \\\\\n",
    "p_i = \\langle \\psi_i | | \\Psi \\rangle$$"
   ]
  },
  {
   "cell_type": "markdown",
   "metadata": {},
   "source": [
    "There are two model to implement distribution sampling on gate model.\n",
    "\n",
    "1. Modulate amplitude of state and measure computational basis.\n",
    "2. Prepare uniform amplitude state and measure specific observable."
   ]
  },
  {
   "cell_type": "markdown",
   "metadata": {},
   "source": [
    "## Uniform Distribution\n",
    "\n",
    "Uniform distribution is very simple. $N$-Hadamard gate is enough to preapre the system. For $N$ qubit system, each state would have $p_i = 2^{-N}$ probability value. \n",
    "\n",
    "If we have 6 qubit system, $p_i =1.5625 %$. \n",
    "See [IBM composer example](https://quantum-computing.ibm.com/composer/files/b16f0271ff4249bf3e6e0d278de8843884bc1bddac727cabf0b5890cf231e576)."
   ]
  },
  {
   "cell_type": "markdown",
   "metadata": {},
   "source": [
    "Even though, we have only an uniform distribution generator. Applying some sampling techniques we can get various random number following specific distribution. \n",
    "Simply Gaussian distribtuion is implemented in [Galton Board](https://en.wikipedia.org/wiki/Galton_board) structure. With single sample, ball, and multiple 1/2 step generate Gaussian sample. For general distribution case see [Inverse transform sampling](https://en.wikipedia.org/wiki/Inverse_transform_sampling) method on Wikipedia. There are various sampling methods and many of them use uniform sample as basic requirement.\n"
   ]
  },
  {
   "cell_type": "markdown",
   "metadata": {},
   "source": [
    "## Gaussian Distribution"
   ]
  },
  {
   "cell_type": "markdown",
   "metadata": {},
   "source": [
    "## General arbitary distribution"
   ]
  },
  {
   "cell_type": "markdown",
   "metadata": {},
   "source": [
    "# Test Randomness of Generator"
   ]
  },
  {
   "cell_type": "markdown",
   "metadata": {},
   "source": []
  },
  {
   "cell_type": "markdown",
   "metadata": {},
   "source": [
    "---"
   ]
  },
  {
   "cell_type": "code",
   "execution_count": 1,
   "metadata": {},
   "outputs": [
    {
     "name": "stdout",
     "output_type": "stream",
     "text": [
      "Requirement already satisfied: qiskit in c:\\users\\qwqwh\\documents\\github\\quantum_computing\\.conda\\lib\\site-packages (0.44.0)\n",
      "Collecting qiskit_finance\n",
      "  Downloading qiskit_finance-0.3.4-py3-none-any.whl (50 kB)\n",
      "     ---------------------------------------- 0.0/50.6 kB ? eta -:--:--\n",
      "     ------------------------------ ------- 41.0/50.6 kB 653.6 kB/s eta 0:00:01\n",
      "     -------------------------------------- 50.6/50.6 kB 650.7 kB/s eta 0:00:00\n",
      "Requirement already satisfied: qiskit-terra==0.25.0 in c:\\users\\qwqwh\\documents\\github\\quantum_computing\\.conda\\lib\\site-packages (from qiskit) (0.25.0)\n",
      "Requirement already satisfied: rustworkx>=0.13.0 in c:\\users\\qwqwh\\documents\\github\\quantum_computing\\.conda\\lib\\site-packages (from qiskit-terra==0.25.0->qiskit) (0.13.1)\n",
      "Requirement already satisfied: numpy>=1.17 in c:\\users\\qwqwh\\documents\\github\\quantum_computing\\.conda\\lib\\site-packages (from qiskit-terra==0.25.0->qiskit) (1.23.5)\n",
      "Requirement already satisfied: ply>=3.10 in c:\\users\\qwqwh\\documents\\github\\quantum_computing\\.conda\\lib\\site-packages (from qiskit-terra==0.25.0->qiskit) (3.11)\n",
      "Requirement already satisfied: psutil>=5 in c:\\users\\qwqwh\\documents\\github\\quantum_computing\\.conda\\lib\\site-packages (from qiskit-terra==0.25.0->qiskit) (5.9.0)\n",
      "Requirement already satisfied: scipy>=1.5 in c:\\users\\qwqwh\\documents\\github\\quantum_computing\\.conda\\lib\\site-packages (from qiskit-terra==0.25.0->qiskit) (1.10.0)\n",
      "Requirement already satisfied: sympy>=1.3 in c:\\users\\qwqwh\\documents\\github\\quantum_computing\\.conda\\lib\\site-packages (from qiskit-terra==0.25.0->qiskit) (1.12)\n",
      "Requirement already satisfied: dill>=0.3 in c:\\users\\qwqwh\\documents\\github\\quantum_computing\\.conda\\lib\\site-packages (from qiskit-terra==0.25.0->qiskit) (0.3.7)\n",
      "Requirement already satisfied: python-dateutil>=2.8.0 in c:\\users\\qwqwh\\documents\\github\\quantum_computing\\.conda\\lib\\site-packages (from qiskit-terra==0.25.0->qiskit) (2.8.2)\n",
      "Requirement already satisfied: stevedore>=3.0.0 in c:\\users\\qwqwh\\documents\\github\\quantum_computing\\.conda\\lib\\site-packages (from qiskit-terra==0.25.0->qiskit) (5.1.0)\n",
      "Collecting qiskit-optimization>=0.2.0 (from qiskit_finance)\n",
      "  Downloading qiskit_optimization-0.5.0-py3-none-any.whl (156 kB)\n",
      "     ---------------------------------------- 0.0/156.5 kB ? eta -:--:--\n",
      "     -------------------------------------- 156.5/156.5 kB 9.1 MB/s eta 0:00:00\n",
      "Collecting fastdtw (from qiskit_finance)\n",
      "  Downloading fastdtw-0.3.4.tar.gz (133 kB)\n",
      "     ---------------------------------------- 0.0/133.4 kB ? eta -:--:--\n",
      "     ---------------------------------------- 133.4/133.4 kB ? eta 0:00:00\n",
      "  Preparing metadata (setup.py): started\n",
      "  Preparing metadata (setup.py): finished with status 'done'\n",
      "Requirement already satisfied: setuptools>=40.1.0 in c:\\users\\qwqwh\\documents\\github\\quantum_computing\\.conda\\lib\\site-packages (from qiskit_finance) (68.0.0)\n",
      "Collecting pandas (from qiskit_finance)\n",
      "  Obtaining dependency information for pandas from https://files.pythonhosted.org/packages/9e/71/756a1be6bee0209d8c0d8c5e3b9fc72c00373f384a4017095ec404aec3ad/pandas-2.0.3-cp311-cp311-win_amd64.whl.metadata\n",
      "  Downloading pandas-2.0.3-cp311-cp311-win_amd64.whl.metadata (18 kB)\n",
      "Collecting nasdaq-data-link (from qiskit_finance)\n",
      "  Downloading Nasdaq_Data_Link-1.0.4-py2.py3-none-any.whl (28 kB)\n",
      "Collecting yfinance>=0.1.70 (from qiskit_finance)\n",
      "  Obtaining dependency information for yfinance>=0.1.70 from https://files.pythonhosted.org/packages/e9/43/93ea65227c938a0a4a8925d7f054b050ea743044b887170da9eca210635a/yfinance-0.2.28-py2.py3-none-any.whl.metadata\n",
      "  Downloading yfinance-0.2.28-py2.py3-none-any.whl.metadata (11 kB)\n",
      "Requirement already satisfied: certifi in c:\\users\\qwqwh\\documents\\github\\quantum_computing\\.conda\\lib\\site-packages (from qiskit_finance) (2023.7.22)\n",
      "Requirement already satisfied: urllib3 in c:\\users\\qwqwh\\documents\\github\\quantum_computing\\.conda\\lib\\site-packages (from qiskit_finance) (1.26.16)\n",
      "Collecting docplex!=2.24.231,>=2.21.207 (from qiskit-optimization>=0.2.0->qiskit_finance)\n",
      "  Downloading docplex-2.25.236.tar.gz (633 kB)\n",
      "     ---------------------------------------- 0.0/633.5 kB ? eta -:--:--\n",
      "     ---------------------------------------  624.6/633.5 kB ? eta -:--:--\n",
      "     -------------------------------------- 633.5/633.5 kB 8.0 MB/s eta 0:00:00\n",
      "  Preparing metadata (setup.py): started\n",
      "  Preparing metadata (setup.py): finished with status 'done'\n",
      "Requirement already satisfied: networkx>=2.6.3 in c:\\users\\qwqwh\\documents\\github\\quantum_computing\\.conda\\lib\\site-packages (from qiskit-optimization>=0.2.0->qiskit_finance) (3.1)\n",
      "Requirement already satisfied: requests>=2.31 in c:\\users\\qwqwh\\documents\\github\\quantum_computing\\.conda\\lib\\site-packages (from yfinance>=0.1.70->qiskit_finance) (2.31.0)\n",
      "Collecting multitasking>=0.0.7 (from yfinance>=0.1.70->qiskit_finance)\n",
      "  Downloading multitasking-0.0.11-py3-none-any.whl (8.5 kB)\n",
      "Collecting lxml>=4.9.1 (from yfinance>=0.1.70->qiskit_finance)\n",
      "  Obtaining dependency information for lxml>=4.9.1 from https://files.pythonhosted.org/packages/31/58/e3b3dd6bb2ab7404f1f4992e2d0e6926ed40cef8ce1b3bbefd95877499e1/lxml-4.9.3-cp311-cp311-win_amd64.whl.metadata\n",
      "  Downloading lxml-4.9.3-cp311-cp311-win_amd64.whl.metadata (3.9 kB)\n",
      "Requirement already satisfied: appdirs>=1.4.4 in c:\\users\\qwqwh\\documents\\github\\quantum_computing\\.conda\\lib\\site-packages (from yfinance>=0.1.70->qiskit_finance) (1.4.4)\n",
      "Collecting pytz>=2022.5 (from yfinance>=0.1.70->qiskit_finance)\n",
      "  Downloading pytz-2023.3-py2.py3-none-any.whl (502 kB)\n",
      "     ---------------------------------------- 0.0/502.3 kB ? eta -:--:--\n",
      "     ------------------------------------- 502.3/502.3 kB 30.8 MB/s eta 0:00:00\n",
      "Collecting frozendict>=2.3.4 (from yfinance>=0.1.70->qiskit_finance)\n",
      "  Downloading frozendict-2.3.8-py311-none-any.whl (14 kB)\n",
      "Requirement already satisfied: beautifulsoup4>=4.11.1 in c:\\users\\qwqwh\\documents\\github\\quantum_computing\\.conda\\lib\\site-packages (from yfinance>=0.1.70->qiskit_finance) (4.12.2)\n",
      "Collecting html5lib>=1.1 (from yfinance>=0.1.70->qiskit_finance)\n",
      "  Downloading html5lib-1.1-py2.py3-none-any.whl (112 kB)\n",
      "     ---------------------------------------- 0.0/112.2 kB ? eta -:--:--\n",
      "     -------------------------------------- 112.2/112.2 kB 6.4 MB/s eta 0:00:00\n",
      "Collecting tzdata>=2022.1 (from pandas->qiskit_finance)\n",
      "  Downloading tzdata-2023.3-py2.py3-none-any.whl (341 kB)\n",
      "     ---------------------------------------- 0.0/341.8 kB ? eta -:--:--\n",
      "     ------------------------------------- 341.8/341.8 kB 20.7 MB/s eta 0:00:00\n",
      "Collecting inflection>=0.3.1 (from nasdaq-data-link->qiskit_finance)\n",
      "  Downloading inflection-0.5.1-py2.py3-none-any.whl (9.5 kB)\n",
      "Requirement already satisfied: six in c:\\users\\qwqwh\\documents\\github\\quantum_computing\\.conda\\lib\\site-packages (from nasdaq-data-link->qiskit_finance) (1.16.0)\n",
      "Collecting more-itertools (from nasdaq-data-link->qiskit_finance)\n",
      "  Obtaining dependency information for more-itertools from https://files.pythonhosted.org/packages/5a/cb/6dce742ea14e47d6f565589e859ad225f2a5de576d7696e0623b784e226b/more_itertools-10.1.0-py3-none-any.whl.metadata\n",
      "  Downloading more_itertools-10.1.0-py3-none-any.whl.metadata (33 kB)\n",
      "Requirement already satisfied: soupsieve>1.2 in c:\\users\\qwqwh\\documents\\github\\quantum_computing\\.conda\\lib\\site-packages (from beautifulsoup4>=4.11.1->yfinance>=0.1.70->qiskit_finance) (2.3.2.post1)\n",
      "Requirement already satisfied: webencodings in c:\\users\\qwqwh\\documents\\github\\quantum_computing\\.conda\\lib\\site-packages (from html5lib>=1.1->yfinance>=0.1.70->qiskit_finance) (0.5.1)\n",
      "Requirement already satisfied: charset-normalizer<4,>=2 in c:\\users\\qwqwh\\documents\\github\\quantum_computing\\.conda\\lib\\site-packages (from requests>=2.31->yfinance>=0.1.70->qiskit_finance) (3.2.0)\n",
      "Requirement already satisfied: idna<4,>=2.5 in c:\\users\\qwqwh\\documents\\github\\quantum_computing\\.conda\\lib\\site-packages (from requests>=2.31->yfinance>=0.1.70->qiskit_finance) (3.4)\n",
      "Requirement already satisfied: pbr!=2.1.0,>=2.0.0 in c:\\users\\qwqwh\\documents\\github\\quantum_computing\\.conda\\lib\\site-packages (from stevedore>=3.0.0->qiskit-terra==0.25.0->qiskit) (5.11.1)\n",
      "Requirement already satisfied: mpmath>=0.19 in c:\\users\\qwqwh\\documents\\github\\quantum_computing\\.conda\\lib\\site-packages (from sympy>=1.3->qiskit-terra==0.25.0->qiskit) (1.3.0)\n",
      "Downloading yfinance-0.2.28-py2.py3-none-any.whl (65 kB)\n",
      "   ---------------------------------------- 0.0/65.3 kB ? eta -:--:--\n",
      "   ---------------------------------------- 65.3/65.3 kB 3.4 MB/s eta 0:00:00\n",
      "Downloading pandas-2.0.3-cp311-cp311-win_amd64.whl (10.6 MB)\n",
      "   ---------------------------------------- 0.0/10.6 MB ? eta -:--:--\n",
      "   ----------- ---------------------------- 3.0/10.6 MB 64.3 MB/s eta 0:00:01\n",
      "   --------------------- ------------------ 5.8/10.6 MB 61.2 MB/s eta 0:00:01\n",
      "   -------------------------------- ------- 8.6/10.6 MB 61.1 MB/s eta 0:00:01\n",
      "   ---------------------------------------  10.6/10.6 MB 59.5 MB/s eta 0:00:01\n",
      "   ---------------------------------------- 10.6/10.6 MB 46.7 MB/s eta 0:00:00\n",
      "Downloading lxml-4.9.3-cp311-cp311-win_amd64.whl (3.8 MB)\n",
      "   ---------------------------------------- 0.0/3.8 MB ? eta -:--:--\n",
      "   ------------------------------ --------- 2.9/3.8 MB 60.8 MB/s eta 0:00:01\n",
      "   ---------------------------------------  3.8/3.8 MB 59.7 MB/s eta 0:00:01\n",
      "   ---------------------------------------- 3.8/3.8 MB 34.2 MB/s eta 0:00:00\n",
      "Downloading more_itertools-10.1.0-py3-none-any.whl (55 kB)\n",
      "   ---------------------------------------- 0.0/55.8 kB ? eta -:--:--\n",
      "   ---------------------------------------- 55.8/55.8 kB ? eta 0:00:00\n",
      "Building wheels for collected packages: fastdtw, docplex\n",
      "  Building wheel for fastdtw (setup.py): started\n",
      "  Building wheel for fastdtw (setup.py): finished with status 'done'\n",
      "  Created wheel for fastdtw: filename=fastdtw-0.3.4-py3-none-any.whl size=3585 sha256=f6c8f2b68f8b88c890c43550509c24bdcb886ccc5142ecbf9006b1a90333d20b\n",
      "  Stored in directory: c:\\users\\qwqwh\\appdata\\local\\pip\\cache\\wheels\\5c\\8a\\f6\\fd3df9a9714677410a5ccbf3ca519e66db4a54a1c46ea95332\n",
      "  Building wheel for docplex (setup.py): started\n",
      "  Building wheel for docplex (setup.py): finished with status 'done'\n",
      "  Created wheel for docplex: filename=docplex-2.25.236-py3-none-any.whl size=671402 sha256=a83ada75a2f67ea8f988b425e06987c289cdbe634b09dfdb134fd81857b20426\n",
      "  Stored in directory: c:\\users\\qwqwh\\appdata\\local\\pip\\cache\\wheels\\d7\\69\\a9\\31f594a2226d1b2af8d2ddf041e976ad9aae0161d5f8f8bdf0\n",
      "Successfully built fastdtw docplex\n",
      "Installing collected packages: pytz, multitasking, tzdata, more-itertools, lxml, inflection, html5lib, frozendict, fastdtw, docplex, pandas, yfinance, qiskit-optimization, nasdaq-data-link, qiskit_finance\n",
      "Successfully installed docplex-2.25.236 fastdtw-0.3.4 frozendict-2.3.8 html5lib-1.1 inflection-0.5.1 lxml-4.9.3 more-itertools-10.1.0 multitasking-0.0.11 nasdaq-data-link-1.0.4 pandas-2.0.3 pytz-2023.3 qiskit-optimization-0.5.0 qiskit_finance-0.3.4 tzdata-2023.3 yfinance-0.2.28\n",
      "Note: you may need to restart the kernel to use updated packages.\n"
     ]
    }
   ],
   "source": [
    "%pip install qiskit qiskit_finance"
   ]
  },
  {
   "cell_type": "code",
   "execution_count": 1,
   "metadata": {},
   "outputs": [
    {
     "data": {
      "text/html": [
       "<pre style=\"word-wrap: normal;white-space: pre;background: #fff0;line-height: 1.1;font-family: &quot;Courier New&quot;,Courier,monospace\">                                                        »\n",
       "q_0: ───────────────────────────────────────────────────»\n",
       "                              ┌────────────────────────┐»\n",
       "q_1: ─────────────────────────┤0                       ├»\n",
       "     ┌───────────────────────┐│  multiplex2_reverse_dg │»\n",
       "q_2: ┤ multiplex1_reverse_dg ├┤1                       ├»\n",
       "     └───────────────────────┘└────────────────────────┘»\n",
       "«     ┌────────────────────────┐\n",
       "«q_0: ┤0                       ├\n",
       "«     │                        │\n",
       "«q_1: ┤1 multiplex3_reverse_dg ├\n",
       "«     │                        │\n",
       "«q_2: ┤2                       ├\n",
       "«     └────────────────────────┘</pre>"
      ],
      "text/plain": [
       "                                                        »\n",
       "q_0: ───────────────────────────────────────────────────»\n",
       "                              ┌────────────────────────┐»\n",
       "q_1: ─────────────────────────┤0                       ├»\n",
       "     ┌───────────────────────┐│  multiplex2_reverse_dg │»\n",
       "q_2: ┤ multiplex1_reverse_dg ├┤1                       ├»\n",
       "     └───────────────────────┘└────────────────────────┘»\n",
       "«     ┌────────────────────────┐\n",
       "«q_0: ┤0                       ├\n",
       "«     │                        │\n",
       "«q_1: ┤1 multiplex3_reverse_dg ├\n",
       "«     │                        │\n",
       "«q_2: ┤2                       ├\n",
       "«     └────────────────────────┘"
      ]
     },
     "execution_count": 1,
     "metadata": {},
     "output_type": "execute_result"
    }
   ],
   "source": [
    "from qiskit_finance.circuit.library.probability_distributions import NormalDistribution\n",
    "circuit = NormalDistribution(3, mu=1, sigma=1, bounds=(0, 2))\n",
    "circuit.decompose().draw()"
   ]
  },
  {
   "cell_type": "code",
   "execution_count": 2,
   "metadata": {},
   "outputs": [],
   "source": [
    "import math"
   ]
  },
  {
   "cell_type": "code",
   "execution_count": 5,
   "metadata": {},
   "outputs": [
    {
     "data": {
      "text/plain": [
       "0.9553166181245092"
      ]
     },
     "execution_count": 5,
     "metadata": {},
     "output_type": "execute_result"
    }
   ],
   "source": []
  },
  {
   "cell_type": "code",
   "execution_count": 6,
   "metadata": {},
   "outputs": [
    {
     "data": {
      "text/plain": [
       "0.3040867239846963"
      ]
     },
     "execution_count": 6,
     "metadata": {},
     "output_type": "execute_result"
    }
   ],
   "source": [
    "math.acos(1/math.sqrt(3))/math.pi"
   ]
  },
  {
   "cell_type": "code",
   "execution_count": 7,
   "metadata": {},
   "outputs": [
    {
     "data": {
      "text/plain": [
       "0.5555555555555556"
      ]
     },
     "execution_count": 7,
     "metadata": {},
     "output_type": "execute_result"
    }
   ],
   "source": [
    "100/180"
   ]
  },
  {
   "cell_type": "code",
   "execution_count": null,
   "metadata": {},
   "outputs": [],
   "source": []
  }
 ],
 "metadata": {
  "kernelspec": {
   "display_name": "Python 3",
   "language": "python",
   "name": "python3"
  },
  "language_info": {
   "codemirror_mode": {
    "name": "ipython",
    "version": 3
   },
   "file_extension": ".py",
   "mimetype": "text/x-python",
   "name": "python",
   "nbconvert_exporter": "python",
   "pygments_lexer": "ipython3",
   "version": "3.11.4"
  },
  "orig_nbformat": 4
 },
 "nbformat": 4,
 "nbformat_minor": 2
}
