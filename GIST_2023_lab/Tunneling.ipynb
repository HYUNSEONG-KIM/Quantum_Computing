{
 "cells": [
  {
   "cell_type": "code",
   "execution_count": 1,
   "metadata": {},
   "outputs": [],
   "source": [
    "from qiskit import QuantumCircuit, transpile\n",
    "from qiskit_aer import AerSimulator\n",
    "from qiskit.visualization import plot_histogram"
   ]
  },
  {
   "cell_type": "code",
   "execution_count": 2,
   "metadata": {},
   "outputs": [],
   "source": [
    "from qiskit import BasicAer, transpile, QuantumRegister, ClassicalRegister, QuantumCircuit\n",
    "from qiskit import QuantumCircuit\n",
    "from qiskit.circuit.library import HGate, IGate, CXGate, QFT\n",
    "import numpy as np"
   ]
  },
  {
   "cell_type": "code",
   "execution_count": 3,
   "metadata": {},
   "outputs": [],
   "source": [
    "import qiskit.quantum_info as qi"
   ]
  },
  {
   "cell_type": "code",
   "execution_count": 3,
   "metadata": {},
   "outputs": [],
   "source": [
    "simulator = AerSimulator()\n",
    "\n",
    "circuit = QuantumCircuit()"
   ]
  },
  {
   "cell_type": "code",
   "execution_count": null,
   "metadata": {},
   "outputs": [],
   "source": [
    "# Initial state implementation\n",
    "\n",
    "# 1. Find an eignestate of momentum operator\n",
    "\n",
    "# 2. Initiate state function\n",
    "\n",
    "# 3. "
   ]
  },
  {
   "cell_type": "code",
   "execution_count": null,
   "metadata": {},
   "outputs": [],
   "source": [
    "def Kinetic_potential(qc):\n",
    "    qc.append(HGate(), [])"
   ]
  },
  {
   "cell_type": "code",
   "execution_count": null,
   "metadata": {},
   "outputs": [],
   "source": [
    "def Vpotential(n, data):\n",
    "    V_x = np.eye(n)\n",
    "    "
   ]
  },
  {
   "cell_type": "code",
   "execution_count": 4,
   "metadata": {},
   "outputs": [],
   "source": [
    "from matplotlib import pyplot as plt"
   ]
  },
  {
   "cell_type": "code",
   "execution_count": 59,
   "metadata": {},
   "outputs": [],
   "source": [
    "# V potential implementation\n",
    "\n",
    "I = np.eye(2)\n",
    "Z = np.array([[1, 0],[ 0, -1]])"
   ]
  },
  {
   "cell_type": "code",
   "execution_count": 68,
   "metadata": {},
   "outputs": [],
   "source": [
    "n =4\n",
    "xline = np.linspace(0, 4, int(2**n))\n",
    "vline = np.sin((2*np.pi/2) *xline)+1"
   ]
  },
  {
   "cell_type": "code",
   "execution_count": 69,
   "metadata": {},
   "outputs": [
    {
     "data": {
      "text/plain": [
       "<matplotlib.collections.PathCollection at 0x2102499dd50>"
      ]
     },
     "execution_count": 69,
     "metadata": {},
     "output_type": "execute_result"
    },
    {
     "data": {
      "image/png": "[encoded data removed]",
      "text/plain": [
       "<Figure size 640x480 with 1 Axes>"
      ]
     },
     "metadata": {},
     "output_type": "display_data"
    }
   ],
   "source": [
    "plt.scatter(xline, np.sin((2*np.pi/2) *xline)+1)"
   ]
  },
  {
   "cell_type": "code",
   "execution_count": 70,
   "metadata": {},
   "outputs": [
    {
     "name": "stdout",
     "output_type": "stream",
     "text": [
      "n: 4 , 2^n: 16\n"
     ]
    },
    {
     "data": {
      "text/plain": [
       "matrix([[1.        , 1.74314483, 1.9945219 , 1.58778525, 0.79208831,\n",
       "         0.1339746 , 0.04894348, 0.59326336, 1.40673664, 1.95105652,\n",
       "         1.8660254 , 1.20791169, 0.41221475, 0.0054781 , 0.25685517,\n",
       "         1.        ]])"
      ]
     },
     "execution_count": 70,
     "metadata": {},
     "output_type": "execute_result"
    }
   ],
   "source": [
    "print(\"n:\", n, \", 2^n:\", 2**n)\n",
    "V_x = np.matrix(np.diag(vline))\n",
    "V_x.diagonal()"
   ]
  },
  {
   "cell_type": "code",
   "execution_count": 8,
   "metadata": {},
   "outputs": [],
   "source": [
    "import numpy as np\n",
    "from itertools import combinations, combinations_with_replacement as re_combi, product\n",
    "from functools import reduce"
   ]
  },
  {
   "cell_type": "code",
   "execution_count": 9,
   "metadata": {},
   "outputs": [],
   "source": [
    "def krons(oper_list):\n",
    "    return reduce(np.kron, oper_list)\n",
    "def get_pauli_z_family_n_qubit(n):\n",
    "    return list(map(krons, product([I, Z], repeat=int(n)))), list(map(lambda x: \"\".join(x), product(\"IZ\", repeat=int(n))))"
   ]
  },
  {
   "cell_type": "code",
   "execution_count": 73,
   "metadata": {},
   "outputs": [],
   "source": [
    "pauli_z, z_symbol = get_pauli_z_family_n_qubit(n)"
   ]
  },
  {
   "cell_type": "code",
   "execution_count": 74,
   "metadata": {},
   "outputs": [
    {
     "name": "stdout",
     "output_type": "stream",
     "text": [
      "['IIII', 'IIIZ', 'IIZI', 'IIZZ', 'IZII', 'IZIZ', 'IZZI', 'IZZZ', 'ZIII', 'ZIIZ', 'ZIZI', 'ZIZZ', 'ZZII', 'ZZIZ', 'ZZZI', 'ZZZZ']\n"
     ]
    },
    {
     "data": {
      "text/plain": [
       "array([ 1.60000000e+01, -4.45228685e-01, -1.11061251e+00,  8.88178420e-16,\n",
       "        9.51436445e+00, -2.44249065e-15, -4.21884749e-15, -4.70463011e+00,\n",
       "       -2.12556562e-01,  7.77156117e-16,  1.77635684e-15,  1.05104235e-01,\n",
       "       -2.10942375e-15, -9.00404044e-01, -2.24603677e+00, -5.55111512e-16])"
      ]
     },
     "execution_count": 74,
     "metadata": {},
     "output_type": "execute_result"
    }
   ],
   "source": [
    "pauli_coefficient = np.fromiter(map(lambda x: np.trace(V_x.getH() @ np.matrix(x)), pauli_z), dtype=float)\n",
    "print(z_symbol)\n",
    "pauli_coefficient"
   ]
  },
  {
   "cell_type": "code",
   "execution_count": 79,
   "metadata": {},
   "outputs": [],
   "source": [
    "from qiskit.quantum_info import SparsePauliOp"
   ]
  },
  {
   "cell_type": "code",
   "execution_count": 81,
   "metadata": {},
   "outputs": [
    {
     "data": {
      "text/plain": [
       "SparsePauliOp(['IIII', 'IIIZ', 'IIZI', 'IIZZ', 'IZII', 'IZIZ', 'IZZI', 'IZZZ', 'ZIII', 'ZIIZ', 'ZIZI', 'ZIZZ', 'ZZII', 'ZZIZ', 'ZZZI', 'ZZZZ'],\n",
       "              coeffs=[ 1.60000000e+01+0.j, -4.45228685e-01+0.j, -1.11061251e+00+0.j,\n",
       "  8.88178420e-16+0.j,  9.51436445e+00+0.j, -2.44249065e-15+0.j,\n",
       " -4.21884749e-15+0.j, -4.70463011e+00+0.j, -2.12556562e-01+0.j,\n",
       "  7.77156117e-16+0.j,  1.77635684e-15+0.j,  1.05104235e-01+0.j,\n",
       " -2.10942375e-15+0.j, -9.00404044e-01+0.j, -2.24603677e+00+0.j,\n",
       " -5.55111512e-16+0.j])"
      ]
     },
     "execution_count": 81,
     "metadata": {},
     "output_type": "execute_result"
    }
   ],
   "source": [
    "V_hamiltonian = SparsePauliOp(z_symbol, pauli_coefficient)\n",
    "V_hamiltonian"
   ]
  },
  {
   "cell_type": "code",
   "execution_count": null,
   "metadata": {},
   "outputs": [],
   "source": [
    "def V_potential(n, data):\n",
    "    assert int(2**n)==data.size, f\"The data size {data.size} must be same with 2^n: {int(2**n)}.\"\n",
    "    V_x = np.matrix(np.diag(data))\n",
    "    pauli_z, z_symbol = get_pauli_z_family_n_qubit(n)\n",
    "    # Hilbert-Schmidt inner product of matrices\n",
    "    pauli_coefficient = np.fromiter(map(lambda x: np.trace(V_x.getH() @ np.matrix(x)), pauli_z), dtype=float) \n",
    "    return SparsePauliOp(z_symbol, pauli_coefficient)\n",
    "def V_potential_from_function(n, x_i, x_f, func):\n",
    "    xline = np.linspace(x_i, x_f, n, endpoint=True)\n",
    "    return V_potential(n, func(xline))"
   ]
  },
  {
   "cell_type": "code",
   "execution_count": 10,
   "metadata": {},
   "outputs": [],
   "source": [
    "i_v = np.array([1,1])\n",
    "i_z = np.array([1, -1])"
   ]
  },
  {
   "cell_type": "code",
   "execution_count": 11,
   "metadata": {},
   "outputs": [],
   "source": [
    "def krons(oper_list):\n",
    "    return reduce(np.kron, oper_list)"
   ]
  },
  {
   "cell_type": "code",
   "execution_count": 13,
   "metadata": {},
   "outputs": [
    {
     "data": {
      "text/plain": [
       "[array([1, 1, 1, 1, 1, 1, 1, 1, 1, 1, 1, 1, 1, 1, 1, 1]),\n",
       " array([ 1, -1,  1, -1,  1, -1,  1, -1,  1, -1,  1, -1,  1, -1,  1, -1]),\n",
       " array([ 1,  1, -1, -1,  1,  1, -1, -1,  1,  1, -1, -1,  1,  1, -1, -1]),\n",
       " array([ 1, -1, -1,  1,  1, -1, -1,  1,  1, -1, -1,  1,  1, -1, -1,  1]),\n",
       " array([ 1,  1,  1,  1, -1, -1, -1, -1,  1,  1,  1,  1, -1, -1, -1, -1]),\n",
       " array([ 1, -1,  1, -1, -1,  1, -1,  1,  1, -1,  1, -1, -1,  1, -1,  1]),\n",
       " array([ 1,  1, -1, -1, -1, -1,  1,  1,  1,  1, -1, -1, -1, -1,  1,  1]),\n",
       " array([ 1, -1, -1,  1, -1,  1,  1, -1,  1, -1, -1,  1, -1,  1,  1, -1]),\n",
       " array([ 1,  1,  1,  1,  1,  1,  1,  1, -1, -1, -1, -1, -1, -1, -1, -1]),\n",
       " array([ 1, -1,  1, -1,  1, -1,  1, -1, -1,  1, -1,  1, -1,  1, -1,  1]),\n",
       " array([ 1,  1, -1, -1,  1,  1, -1, -1, -1, -1,  1,  1, -1, -1,  1,  1]),\n",
       " array([ 1, -1, -1,  1,  1, -1, -1,  1, -1,  1,  1, -1, -1,  1,  1, -1]),\n",
       " array([ 1,  1,  1,  1, -1, -1, -1, -1, -1, -1, -1, -1,  1,  1,  1,  1]),\n",
       " array([ 1, -1,  1, -1, -1,  1, -1,  1, -1,  1, -1,  1,  1, -1,  1, -1]),\n",
       " array([ 1,  1, -1, -1, -1, -1,  1,  1, -1, -1,  1,  1,  1,  1, -1, -1]),\n",
       " array([ 1, -1, -1,  1, -1,  1,  1, -1, -1,  1,  1, -1,  1, -1, -1,  1])]"
      ]
     },
     "execution_count": 13,
     "metadata": {},
     "output_type": "execute_result"
    }
   ],
   "source": [
    "n=4\n",
    "list(map(krons, product([i_v, i_z], repeat=int(n))))"
   ]
  },
  {
   "cell_type": "code",
   "execution_count": 76,
   "metadata": {},
   "outputs": [
    {
     "data": {
      "image/png": "[encoded data removed]",
      "text/plain": [
       "<Figure size 222.318x367.889 with 1 Axes>"
      ]
     },
     "execution_count": 76,
     "metadata": {},
     "output_type": "execute_result"
    }
   ],
   "source": [
    "qr = QuantumRegister(n)\n",
    "qc = QuantumCircuit(qr)\n",
    "qc.h(0)\n",
    "qc.draw('mpl')"
   ]
  },
  {
   "cell_type": "code",
   "execution_count": 77,
   "metadata": {},
   "outputs": [],
   "source": [
    "stv = qi.Statevector.from_instruction(qc)"
   ]
  },
  {
   "cell_type": "code",
   "execution_count": 78,
   "metadata": {},
   "outputs": [
    {
     "data": {
      "text/plain": [
       "'Statevector([0.70710678+0.j, 0.70710678+0.j, 0.        +0.j,\\n             0.        +0.j, 0.        +0.j, 0.        +0.j,\\n             0.        +0.j, 0.        +0.j, 0.        +0.j,\\n             0.        +0.j, 0.        +0.j, 0.        +0.j,\\n             0.        +0.j, 0.        +0.j, 0.        +0.j,\\n             0.        +0.j],\\n            dims=(2, 2, 2, 2))'"
      ]
     },
     "execution_count": 78,
     "metadata": {},
     "output_type": "execute_result"
    }
   ],
   "source": [
    "stv.expectation_value()"
   ]
  },
  {
   "cell_type": "code",
   "execution_count": 6,
   "metadata": {},
   "outputs": [],
   "source": [
    "# Potential implementation\n",
    "from mpmath import exp"
   ]
  },
  {
   "cell_type": "markdown",
   "metadata": {},
   "source": [
    "## Tunneling Simulation"
   ]
  },
  {
   "cell_type": "code",
   "execution_count": null,
   "metadata": {},
   "outputs": [],
   "source": [
    "# Register setting\n",
    "num_qubits = 6\n",
    "k_register= num_qubits-1\n",
    "# Parameter-time\n",
    "dt = 0.01\n",
    "steps = 30\n",
    "T = dt * steps\n",
    "\n",
    "# Clock system for measurement\n",
    "# num_clock = fun_cal(num_qubits, dt, numbers)\n",
    "num_clock = 0 \n",
    "\n",
    "total_qubits= num_qubits + num_clock"
   ]
  },
  {
   "cell_type": "code",
   "execution_count": null,
   "metadata": {},
   "outputs": [],
   "source": [
    "q = QuantumRegister(total_qubits, 'q')\n",
    "c = ClassicalRegister(total_qubits, \"c\")\n",
    "qc= QuantumCircuit(q, c)"
   ]
  },
  {
   "cell_type": "markdown",
   "metadata": {},
   "source": []
  }
 ],
 "metadata": {
  "kernelspec": {
   "display_name": "Python 3",
   "language": "python",
   "name": "python3"
  },
  "language_info": {
   "codemirror_mode": {
    "name": "ipython",
    "version": 3
   },
   "file_extension": ".py",
   "mimetype": "text/x-python",
   "name": "python",
   "nbconvert_exporter": "python",
   "pygments_lexer": "ipython3",
   "version": "3.11.4"
  },
  "orig_nbformat": 4
 },
 "nbformat": 4,
 "nbformat_minor": 2
}
