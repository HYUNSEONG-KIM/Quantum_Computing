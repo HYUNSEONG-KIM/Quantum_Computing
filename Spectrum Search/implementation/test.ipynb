{
 "cells": [
  {
   "cell_type": "code",
   "execution_count": 2,
   "metadata": {},
   "outputs": [],
   "source": [
    "import numpy as np"
   ]
  },
  {
   "cell_type": "code",
   "execution_count": 3,
   "metadata": {},
   "outputs": [],
   "source": [
    "def coef(a, phi):\n",
    "    ca = np.cos(a)\n",
    "    sa = np.sin(a)\n",
    "    pha = np.exp(1j*phi)\n",
    "    return (ca - sa*pha)/(ca+sa*pha)"
   ]
  },
  {
   "cell_type": "code",
   "execution_count": 4,
   "metadata": {},
   "outputs": [],
   "source": [
    "from matplotlib import pyplot as plt"
   ]
  },
  {
   "cell_type": "code",
   "execution_count": 7,
   "metadata": {},
   "outputs": [],
   "source": [
    "phi_line = np.linspace(0, np.pi, 100)\n",
    "theta = np.pi/3\n",
    "\n",
    "coefs = coef(theta, phi_line)\n"
   ]
  },
  {
   "cell_type": "code",
   "execution_count": 13,
   "metadata": {},
   "outputs": [
    {
     "data": {
      "text/plain": [
       "<matplotlib.lines.Line2D at 0x11a40d250>"
      ]
     },
     "execution_count": 13,
     "metadata": {},
     "output_type": "execute_result"
    },
    {
     "data": {
      "image/png": "[encoded data removed]",
      "text/plain": [
       "<Figure size 640x480 with 1 Axes>"
      ]
     },
     "metadata": {},
     "output_type": "display_data"
    }
   ],
   "source": [
    "plt.plot(phi_line, np.abs(coefs)/(1+np.abs(coefs)))\n",
    "plt.axhline(np.abs(coef(theta, 0))/(1+np.abs(coef(theta, 0))))"
   ]
  },
  {
   "cell_type": "code",
   "execution_count": 14,
   "metadata": {},
   "outputs": [],
   "source": [
    "import sympy as scp"
   ]
  },
  {
   "cell_type": "code",
   "execution_count": 21,
   "metadata": {},
   "outputs": [],
   "source": [
    "theta, phi = scp.symbols(\"\\\\theta, \\\\phi\", real=True)"
   ]
  },
  {
   "cell_type": "code",
   "execution_count": 22,
   "metadata": {},
   "outputs": [
    {
     "data": {
      "text/latex": [
       "$\\displaystyle \\theta$"
      ],
      "text/plain": [
       "\\theta"
      ]
     },
     "execution_count": 22,
     "metadata": {},
     "output_type": "execute_result"
    }
   ],
   "source": [
    "theta"
   ]
  },
  {
   "cell_type": "code",
   "execution_count": 23,
   "metadata": {},
   "outputs": [],
   "source": [
    "amplitude =(scp.cos(theta) - scp.sin(theta)*scp.exp(1j*phi))/(scp.cos(theta) + scp.sin(theta)*scp.exp(1j*phi))\n"
   ]
  },
  {
   "cell_type": "code",
   "execution_count": 24,
   "metadata": {},
   "outputs": [
    {
     "data": {
      "text/latex": [
       "$\\displaystyle \\frac{\\cos{\\left(\\theta \\right)} - e^{- 1.0 i \\phi} \\sin{\\left(\\theta \\right)}}{\\cos{\\left(\\theta \\right)} + e^{- 1.0 i \\phi} \\sin{\\left(\\theta \\right)}}$"
      ],
      "text/plain": [
       "(cos(\\theta) - exp(-1.0*I*\\phi)*sin(\\theta))/(cos(\\theta) + exp(-1.0*I*\\phi)*sin(\\theta))"
      ]
     },
     "execution_count": 24,
     "metadata": {},
     "output_type": "execute_result"
    }
   ],
   "source": [
    "amplitude.conjugate()"
   ]
  },
  {
   "cell_type": "code",
   "execution_count": 25,
   "metadata": {},
   "outputs": [
    {
     "data": {
      "text/latex": [
       "$\\displaystyle \\frac{\\left(- e^{1.0 i \\phi} \\sin{\\left(\\theta \\right)} + \\cos{\\left(\\theta \\right)}\\right) \\left(\\cos{\\left(\\theta \\right)} - e^{- 1.0 i \\phi} \\sin{\\left(\\theta \\right)}\\right)}{\\left(e^{1.0 i \\phi} \\sin{\\left(\\theta \\right)} + \\cos{\\left(\\theta \\right)}\\right) \\left(\\cos{\\left(\\theta \\right)} + e^{- 1.0 i \\phi} \\sin{\\left(\\theta \\right)}\\right)}$"
      ],
      "text/plain": [
       "(-exp(1.0*I*\\phi)*sin(\\theta) + cos(\\theta))*(cos(\\theta) - exp(-1.0*I*\\phi)*sin(\\theta))/((exp(1.0*I*\\phi)*sin(\\theta) + cos(\\theta))*(cos(\\theta) + exp(-1.0*I*\\phi)*sin(\\theta)))"
      ]
     },
     "execution_count": 25,
     "metadata": {},
     "output_type": "execute_result"
    }
   ],
   "source": [
    "amplitude.conjugate() * amplitude"
   ]
  },
  {
   "cell_type": "markdown",
   "metadata": {},
   "source": [
    "The above measure the amplitude is only permitted for separable states.\n",
    "\n",
    "---"
   ]
  },
  {
   "cell_type": "code",
   "execution_count": 181,
   "metadata": {},
   "outputs": [
    {
     "data": {
      "text/plain": [
       "matrix([[0.73798247-0.71266976j, 0.94811034-0.3754149j ],\n",
       "        [0.50555746-0.31314527j, 0.1144313 -0.31362347j]])"
      ]
     },
     "execution_count": 181,
     "metadata": {},
     "output_type": "execute_result"
    }
   ],
   "source": [
    "import numpy as np\n",
    "N = 2\n",
    "A = np.matrix(np.random.random((N,N))) + 1j*np.matrix(np.random.random((N, N)))\n",
    "A.getH()"
   ]
  },
  {
   "cell_type": "code",
   "execution_count": 182,
   "metadata": {},
   "outputs": [],
   "source": [
    "H = 10*A.getH()@A\n",
    "eins, evectors = np.linalg.eig(H)"
   ]
  },
  {
   "cell_type": "code",
   "execution_count": 183,
   "metadata": {},
   "outputs": [
    {
     "data": {
      "text/plain": [
       "(array([24.42420488+5.18372827e-16j,  1.15047894-1.06891145e-16j]),\n",
       " matrix([[ 0.92173335+0.j        , -0.38340837-0.05835803j],\n",
       "         [ 0.38340837-0.05835803j,  0.92173335+0.j        ]]))"
      ]
     },
     "execution_count": 183,
     "metadata": {},
     "output_type": "execute_result"
    }
   ],
   "source": [
    "eins, evectors"
   ]
  },
  {
   "cell_type": "code",
   "execution_count": 184,
   "metadata": {},
   "outputs": [],
   "source": [
    "from copy import deepcopy"
   ]
  },
  {
   "cell_type": "code",
   "execution_count": 185,
   "metadata": {},
   "outputs": [],
   "source": [
    "ein = eins[0]\n",
    "evec = evectors[0]"
   ]
  },
  {
   "cell_type": "code",
   "execution_count": 186,
   "metadata": {},
   "outputs": [
    {
     "data": {
      "text/plain": [
       "((24.424204875221452+5.183728273787687e-16j),\n",
       " matrix([[ 0.92173335+0.j        , -0.38340837-0.05835803j]]))"
      ]
     },
     "execution_count": 186,
     "metadata": {},
     "output_type": "execute_result"
    }
   ],
   "source": [
    "ein, evec.reshape(-1,N)"
   ]
  },
  {
   "cell_type": "code",
   "execution_count": 187,
   "metadata": {},
   "outputs": [
    {
     "name": "stdout",
     "output_type": "stream",
     "text": [
      "(0.9217333455734321+0j)\n",
      "cal: (0.9217333455734321+0j)\n",
      "(-0.38340837159545565-0.05835803499544051j)\n",
      "cal: (-0.38340837159545565+0.058358034995440476j)\n"
     ]
    }
   ],
   "source": [
    "rs = []\n",
    "thetas = []\n",
    "for i in range(N):\n",
    "    a = deepcopy(evectors[0, i])\n",
    "    print(a)\n",
    "    r =np.sqrt(a.real**2 + a.imag**2)\n",
    "    theta = np.arccos(a.real/r)\n",
    "    rs.append(r)\n",
    "    thetas.append(theta)\n",
    "    print(\"cal:\", r*np.exp(1j*theta))\n",
    "rs = np.array(rs)\n",
    "thetas = np.array(thetas)"
   ]
  },
  {
   "cell_type": "code",
   "execution_count": 188,
   "metadata": {},
   "outputs": [],
   "source": [
    "H_test = deepcopy(H)"
   ]
  },
  {
   "cell_type": "code",
   "execution_count": 189,
   "metadata": {},
   "outputs": [
    {
     "data": {
      "text/plain": [
       "matrix([[20.92365869+3.00459380e-16j,  8.22494129+1.25190644e+00j],\n",
       "        [ 8.22494129-1.25190644e+00j,  4.65102513+2.06547030e-16j]])"
      ]
     },
     "execution_count": 189,
     "metadata": {},
     "output_type": "execute_result"
    }
   ],
   "source": [
    "H_test"
   ]
  },
  {
   "cell_type": "code",
   "execution_count": 191,
   "metadata": {},
   "outputs": [],
   "source": [
    "h_r = []\n",
    "h_theta = []\n",
    "for i in range(N):\n",
    "    h_radi = []\n",
    "    h_angle = []\n",
    "    for j in range(N):\n",
    "        a = H_test[i, j]\n",
    "        r =np.sqrt(a.real**2 + a.imag**2)\n",
    "        theta = np.arccos(a.real/r) if i == j else np.arcsin(a.imag/r)\n",
    "        h_radi.append(r)\n",
    "        h_angle.append(theta)\n",
    "    h_r.append(h_radi)\n",
    "    h_theta.append(h_angle)\n",
    "h_r = np.matrix(h_r)\n",
    "h_theta = np.matrix(h_theta)"
   ]
  },
  {
   "cell_type": "code",
   "execution_count": 192,
   "metadata": {},
   "outputs": [
    {
     "data": {
      "text/plain": [
       "matrix([[20.92365869,  8.3196712 ],\n",
       "        [ 8.3196712 ,  4.65102513]])"
      ]
     },
     "execution_count": 192,
     "metadata": {},
     "output_type": "execute_result"
    }
   ],
   "source": [
    "h_r"
   ]
  },
  {
   "cell_type": "code",
   "execution_count": 193,
   "metadata": {},
   "outputs": [
    {
     "data": {
      "text/plain": [
       "matrix([[ 0.       ,  0.1510492],\n",
       "        [-0.1510492,  0.       ]])"
      ]
     },
     "execution_count": 193,
     "metadata": {},
     "output_type": "execute_result"
    }
   ],
   "source": [
    "h_theta"
   ]
  },
  {
   "cell_type": "code",
   "execution_count": 194,
   "metadata": {},
   "outputs": [],
   "source": [
    "dphi = []\n",
    "for i in range(N):\n",
    "    dphi.append(thetas - thetas[i])\n",
    "dphis = np.vstack(dphi)"
   ]
  },
  {
   "cell_type": "code",
   "execution_count": 195,
   "metadata": {},
   "outputs": [
    {
     "data": {
      "text/plain": [
       "array([[ 0.        ,  2.99054345],\n",
       "       [-2.99054345,  0.        ]])"
      ]
     },
     "execution_count": 195,
     "metadata": {},
     "output_type": "execute_result"
    }
   ],
   "source": [
    "dphis"
   ]
  },
  {
   "cell_type": "code",
   "execution_count": 196,
   "metadata": {},
   "outputs": [],
   "source": [
    "h_p_theta = h_theta + dphis # final angle"
   ]
  },
  {
   "cell_type": "code",
   "execution_count": 211,
   "metadata": {},
   "outputs": [
    {
     "data": {
      "text/plain": [
       "matrix([[ 0.        ,  3.14159265],\n",
       "        [-3.14159265,  0.        ]])"
      ]
     },
     "execution_count": 211,
     "metadata": {},
     "output_type": "execute_result"
    }
   ],
   "source": [
    "h_p_theta"
   ]
  },
  {
   "cell_type": "code",
   "execution_count": 212,
   "metadata": {},
   "outputs": [],
   "source": [
    "h_p_addi = np.zeros((N, N))"
   ]
  },
  {
   "cell_type": "code",
   "execution_count": 213,
   "metadata": {},
   "outputs": [],
   "source": [
    "for i in range(N):\n",
    "    numer = rs[i]\n",
    "    for j in range(N):\n",
    "        h_p_addi[i,j] = rs[j]/numer"
   ]
  },
  {
   "cell_type": "code",
   "execution_count": 214,
   "metadata": {},
   "outputs": [
    {
     "data": {
      "text/plain": [
       "matrix([[20.92365869,  8.3196712 ],\n",
       "        [ 8.3196712 ,  4.65102513]])"
      ]
     },
     "execution_count": 214,
     "metadata": {},
     "output_type": "execute_result"
    }
   ],
   "source": [
    "h_r"
   ]
  },
  {
   "cell_type": "code",
   "execution_count": 215,
   "metadata": {},
   "outputs": [
    {
     "data": {
      "text/plain": [
       "array([[1.        , 0.42075535],\n",
       "       [2.37667803, 1.        ]])"
      ]
     },
     "execution_count": 215,
     "metadata": {},
     "output_type": "execute_result"
    }
   ],
   "source": [
    "h_p_addi"
   ]
  },
  {
   "cell_type": "code",
   "execution_count": 216,
   "metadata": {},
   "outputs": [
    {
     "data": {
      "text/plain": [
       "matrix([[ 1.        , -0.42075535],\n",
       "        [-2.37667803,  1.        ]])"
      ]
     },
     "execution_count": 216,
     "metadata": {},
     "output_type": "execute_result"
    }
   ],
   "source": [
    "np.multiply(h_p_addi,np.cos(h_p_theta))"
   ]
  },
  {
   "cell_type": "code",
   "execution_count": 217,
   "metadata": {},
   "outputs": [
    {
     "data": {
      "text/plain": [
       "matrix([[20.92365869,  3.50054618],\n",
       "        [19.77317975,  4.65102513]])"
      ]
     },
     "execution_count": 217,
     "metadata": {},
     "output_type": "execute_result"
    }
   ],
   "source": [
    "factor = np.multiply(h_r, h_p_addi)\n",
    "factor"
   ]
  },
  {
   "cell_type": "code",
   "execution_count": 222,
   "metadata": {},
   "outputs": [
    {
     "data": {
      "text/plain": [
       "24.424204875221452"
      ]
     },
     "execution_count": 222,
     "metadata": {},
     "output_type": "execute_result"
    }
   ],
   "source": [
    "ein.real"
   ]
  },
  {
   "cell_type": "code",
   "execution_count": 223,
   "metadata": {},
   "outputs": [
    {
     "data": {
      "text/plain": [
       "matrix([[-2.42151613e-15, -1.12586152e-15]])"
      ]
     },
     "execution_count": 223,
     "metadata": {},
     "output_type": "execute_result"
    }
   ],
   "source": [
    "np.multiply(factor,np.sin(h_p_theta)).sum(axis=0)"
   ]
  },
  {
   "cell_type": "code",
   "execution_count": 220,
   "metadata": {},
   "outputs": [
    {
     "data": {
      "text/plain": [
       "-156.990347"
      ]
     },
     "execution_count": 220,
     "metadata": {},
     "output_type": "execute_result"
    }
   ],
   "source": [
    "sum([-39.554658  , -83.67283976, -33.76284924,   0.        ])"
   ]
  },
  {
   "cell_type": "code",
   "execution_count": 160,
   "metadata": {},
   "outputs": [
    {
     "data": {
      "text/plain": [
       "array([[23.66681561, 22.39343937, 20.96903036, 10.6108827 ],\n",
       "       [ 5.76636333, 14.45306299,  8.05742431,  5.42410978],\n",
       "       [24.77315862, 36.96732855, 32.77662852, 17.88156738],\n",
       "       [47.32771429, 93.95313695, 67.50976023, 41.47308543]])"
      ]
     },
     "execution_count": 160,
     "metadata": {},
     "output_type": "execute_result"
    }
   ],
   "source": [
    "h_p_r"
   ]
  },
  {
   "cell_type": "code",
   "execution_count": 148,
   "metadata": {},
   "outputs": [
    {
     "data": {
      "text/plain": [
       "matrix([[28.12990486],\n",
       "        [12.68823554],\n",
       "        [30.4445224 ],\n",
       "        [74.3456179 ]])"
      ]
     },
     "execution_count": 148,
     "metadata": {},
     "output_type": "execute_result"
    }
   ],
   "source": [
    "((h_p_r*np.exp(1j*h_p_theta)).imag).sum(axis=1)"
   ]
  },
  {
   "cell_type": "code",
   "execution_count": null,
   "metadata": {},
   "outputs": [],
   "source": []
  }
 ],
 "metadata": {
  "kernelspec": {
   "display_name": "quantum_computer",
   "language": "python",
   "name": "python3"
  },
  "language_info": {
   "codemirror_mode": {
    "name": "ipython",
    "version": 3
   },
   "file_extension": ".py",
   "mimetype": "text/x-python",
   "name": "python",
   "nbconvert_exporter": "python",
   "pygments_lexer": "ipython3",
   "version": "3.1.undefined"
  }
 },
 "nbformat": 4,
 "nbformat_minor": 2
}
