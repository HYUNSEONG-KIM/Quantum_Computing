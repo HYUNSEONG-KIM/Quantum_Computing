{
 "cells": [
  {
   "cell_type": "code",
   "execution_count": 1,
   "metadata": {},
   "outputs": [],
   "source": [
    "import numpy as np\n",
    "import matplotlib.pyplot as plt\n"
   ]
  },
  {
   "cell_type": "code",
   "execution_count": 2,
   "metadata": {},
   "outputs": [],
   "source": [
    "from pauli_mani import PauliPoly"
   ]
  },
  {
   "cell_type": "code",
   "execution_count": 3,
   "metadata": {},
   "outputs": [],
   "source": [
    "## Arbitary Hamiltonian\n",
    "qubits = 4\n",
    "n_dim = int(2**qubits)\n",
    "h_r = np.matrix(np.random.random((n_dim, n_dim)))\n",
    "h_c = np.matrix(np.random.random((n_dim, n_dim)))\n",
    "A_h = h_r + 1j*h_c\n",
    "H = A_h.H@A_h"
   ]
  },
  {
   "cell_type": "code",
   "execution_count": 4,
   "metadata": {},
   "outputs": [
    {
     "data": {
      "text/plain": [
       "array([1.32376525e+02, 9.19763127e+00, 5.65966579e+00, 5.21804728e+00,\n",
       "       4.61466349e+00, 3.53006786e+00, 2.87550002e+00, 2.12777497e+00,\n",
       "       1.58532724e+00, 1.23466214e+00, 6.04837060e-03, 7.55430267e-01,\n",
       "       5.71442422e-01, 1.03026539e-01, 2.38168433e-01, 3.56414179e-01])"
      ]
     },
     "execution_count": 4,
     "metadata": {},
     "output_type": "execute_result"
    }
   ],
   "source": [
    "# Get eigen terms\n",
    "evals, evectors = np.linalg.eig(H)\n",
    "evals.real"
   ]
  },
  {
   "cell_type": "code",
   "execution_count": 5,
   "metadata": {},
   "outputs": [
    {
     "name": "stdout",
     "output_type": "stream",
     "text": [
      "0.999999999999999\n",
      "0.9999999999999997\n",
      "1.0000000000000004\n",
      "1.0000000000000004\n",
      "0.9999999999999991\n",
      "0.9999999999999994\n",
      "0.9999999999999997\n",
      "1.0000000000000016\n",
      "1.0000000000000002\n",
      "1.000000000000001\n",
      "1.000000000000001\n",
      "0.9999999999999987\n",
      "0.9999999999999998\n",
      "0.9999999999999996\n",
      "0.999999999999999\n",
      "1.000000000000001\n"
     ]
    }
   ],
   "source": [
    "# Test the normality\n",
    "for i in range(0, n_dim):\n",
    "    print(np.linalg.norm(evectors[i]))"
   ]
  },
  {
   "cell_type": "code",
   "execution_count": 6,
   "metadata": {},
   "outputs": [
    {
     "data": {
      "text/plain": [
       "matrix([[2.77555756e-16+3.05311332e-16j]])"
      ]
     },
     "execution_count": 6,
     "metadata": {},
     "output_type": "execute_result"
    }
   ],
   "source": [
    "# Orthogonal\n",
    "evectors[0]@(evectors[1].H)"
   ]
  },
  {
   "cell_type": "code",
   "execution_count": 7,
   "metadata": {},
   "outputs": [],
   "source": [
    "spectrum = [(e,ev)for e, ev in zip(evals.real, evectors)]"
   ]
  },
  {
   "cell_type": "code",
   "execution_count": 8,
   "metadata": {},
   "outputs": [],
   "source": [
    "spectrum.sort()"
   ]
  },
  {
   "cell_type": "code",
   "execution_count": 9,
   "metadata": {},
   "outputs": [
    {
     "name": "stdout",
     "output_type": "stream",
     "text": [
      "0.00604837060320899\n",
      "0.1030265388203518\n",
      "0.23816843318109118\n",
      "0.35641417872966624\n",
      "0.5714424217733866\n",
      "0.755430266995803\n",
      "1.23466214430503\n",
      "1.5853272392453848\n",
      "2.1277749664132544\n",
      "2.875500019514425\n",
      "3.530067856513459\n",
      "4.614663490932679\n",
      "5.218047279757027\n",
      "5.659665790544063\n",
      "9.197631268798107\n",
      "132.37652534104325\n"
     ]
    }
   ],
   "source": [
    "# Spectrums\n",
    "for e, v in spectrum:\n",
    "    print(e)"
   ]
  },
  {
   "cell_type": "markdown",
   "metadata": {},
   "source": [
    "## Decompose the given Hamiltonian"
   ]
  },
  {
   "cell_type": "code",
   "execution_count": 10,
   "metadata": {},
   "outputs": [],
   "source": [
    "from copy import deepcopy"
   ]
  },
  {
   "cell_type": "code",
   "execution_count": 11,
   "metadata": {},
   "outputs": [],
   "source": [
    "H_test = deepcopy(H)"
   ]
  },
  {
   "cell_type": "code",
   "execution_count": 12,
   "metadata": {},
   "outputs": [],
   "source": [
    "ppoly = PauliPoly.from_matrix(H_test)\n",
    "H_poly = ppoly.to_matrix()\n",
    "mixed_state = deepcopy(H_poly.sum(axis=1))\n",
    "m_amp = np.sqrt((mixed_state.conj()*mixed_state).sum())\n",
    "mixed_state /= m_amp"
   ]
  },
  {
   "cell_type": "code",
   "execution_count": 13,
   "metadata": {},
   "outputs": [
    {
     "data": {
      "text/plain": [
       "1.0"
      ]
     },
     "execution_count": 13,
     "metadata": {},
     "output_type": "execute_result"
    }
   ],
   "source": [
    "np.linalg.norm(mixed_state)"
   ]
  },
  {
   "cell_type": "code",
   "execution_count": 14,
   "metadata": {},
   "outputs": [
    {
     "data": {
      "text/plain": [
       "array([0.26472101+0.03214333j, 0.23209201-0.01130189j,\n",
       "       0.22635612-0.02025818j, 0.27617283-0.00311788j,\n",
       "       0.18909797-0.02379891j, 0.27301192+0.04094024j,\n",
       "       0.2217382 +0.0290714j , 0.2743087 +0.02598324j,\n",
       "       0.23930658-0.02738535j, 0.24473742-0.01190226j,\n",
       "       0.2848397 -0.03834552j, 0.22609125-0.01833547j,\n",
       "       0.23286471-0.00412221j, 0.25990888+0.03029694j,\n",
       "       0.26048474-0.01709405j, 0.25540011+0.01722657j])"
      ]
     },
     "execution_count": 14,
     "metadata": {},
     "output_type": "execute_result"
    }
   ],
   "source": [
    "mixed_state"
   ]
  },
  {
   "cell_type": "markdown",
   "metadata": {},
   "source": [
    "## Implement Spectrum Search Algorithm"
   ]
  },
  {
   "cell_type": "code",
   "execution_count": 15,
   "metadata": {},
   "outputs": [],
   "source": [
    "## Quantum Circuit\n",
    "import qiskit\n",
    "from qiskit.circuit.library import StatePreparation\n",
    "from qiskit.quantum_info import Statevector\n",
    "from qiskit import QuantumCircuit\n",
    "from qiskit_algorithms import "
   ]
  },
  {
   "cell_type": "code",
   "execution_count": null,
   "metadata": {},
   "outputs": [],
   "source": [
    "def get_resources(mix_state, known_states):\n",
    "        n = mix_state.size\n",
    "        # sum known_state\n",
    "        # nomarlization\n",
    "\n",
    "        M0 = \n",
    "        Hw = np.identity(n) - \n",
    "        H0 = np.identity(n)\n",
    "        return Hw, H0, M0"
   ]
  },
  {
   "cell_type": "code",
   "execution_count": 16,
   "metadata": {},
   "outputs": [],
   "source": [
    "q_mix_state_vec = Statevector(mixed_state)"
   ]
  },
  {
   "cell_type": "code",
   "execution_count": 18,
   "metadata": {},
   "outputs": [
    {
     "data": {
      "image/png": "[encoded data removed]",
      "text/plain": [
       "<Figure size 2210.55x367.889 with 1 Axes>"
      ]
     },
     "execution_count": 18,
     "metadata": {},
     "output_type": "execute_result"
    }
   ],
   "source": [
    "# Initial preparation\n",
    "# \n",
    "circ = QuantumCircuit(qubits)\n",
    "circ.initialize(q_mix_state_vec, circ.qubits) # initialize the mixed state\n",
    "circ.draw('mpl')"
   ]
  },
  {
   "cell_type": "markdown",
   "metadata": {},
   "source": [
    "## Current Stage(ITE): \n",
    "\n",
    "1. Qiskit Only provides Variational Quantum Imaginary Time evolution routine\n",
    "2. The routine needs Ansatz to work on.\n",
    "3. Qiskit provides convenience routines to work on the Ansatz, however, the proper choice is still remained.\n",
    "4. Implement the ITE routine is required to work on the routine."
   ]
  },
  {
   "cell_type": "code",
   "execution_count": null,
   "metadata": {},
   "outputs": [],
   "source": []
  },
  {
   "cell_type": "markdown",
   "metadata": {},
   "source": [
    "## Current Stage(Custom Grover Algorithm)"
   ]
  },
  {
   "cell_type": "markdown",
   "metadata": {},
   "source": []
  },
  {
   "cell_type": "markdown",
   "metadata": {},
   "source": []
  },
  {
   "cell_type": "markdown",
   "metadata": {},
   "source": []
  }
 ],
 "metadata": {
  "kernelspec": {
   "display_name": "quantum_computer",
   "language": "python",
   "name": "python3"
  },
  "language_info": {
   "codemirror_mode": {
    "name": "ipython",
    "version": 3
   },
   "file_extension": ".py",
   "mimetype": "text/x-python",
   "name": "python",
   "nbconvert_exporter": "python",
   "pygments_lexer": "ipython3",
   "version": "3.11.4"
  }
 },
 "nbformat": 4,
 "nbformat_minor": 2
}
