{
 "cells": [
  {
   "cell_type": "code",
   "execution_count": 3,
   "metadata": {},
   "outputs": [
    {
     "ename": "TypeError",
     "evalue": "'str' object does not support item assignment",
     "output_type": "error",
     "traceback": [
      "\u001b[1;31m---------------------------------------------------------------------------\u001b[0m",
      "\u001b[1;31mTypeError\u001b[0m                                 Traceback (most recent call last)",
      "Cell \u001b[1;32mIn[3], line 2\u001b[0m\n\u001b[0;32m      1\u001b[0m a \u001b[38;5;241m=\u001b[39m\u001b[38;5;124m\"\u001b[39m\u001b[38;5;124mIIII\u001b[39m\u001b[38;5;124m\"\u001b[39m\n\u001b[1;32m----> 2\u001b[0m \u001b[43ma\u001b[49m\u001b[43m[\u001b[49m\u001b[38;5;241;43m3\u001b[39;49m\u001b[43m]\u001b[49m\u001b[38;5;241m=\u001b[39m\u001b[38;5;124m\"\u001b[39m\u001b[38;5;124mz\u001b[39m\u001b[38;5;124m\"\u001b[39m\n",
      "\u001b[1;31mTypeError\u001b[0m: 'str' object does not support item assignment"
     ]
    }
   ],
   "source": [
    "a =\"IIII\"\n",
    "a[3]=\"z\""
   ]
  },
  {
   "cell_type": "code",
   "execution_count": 4,
   "metadata": {},
   "outputs": [
    {
     "data": {
      "text/plain": [
       "'IIIII'"
      ]
     },
     "execution_count": 4,
     "metadata": {},
     "output_type": "execute_result"
    }
   ],
   "source": [
    "5*\"I\""
   ]
  },
  {
   "cell_type": "code",
   "execution_count": 2,
   "metadata": {},
   "outputs": [
    {
     "data": {
      "text/plain": [
       "1"
      ]
     },
     "execution_count": 2,
     "metadata": {},
     "output_type": "execute_result"
    }
   ],
   "source": [
    "a.pop()"
   ]
  },
  {
   "cell_type": "code",
   "execution_count": 3,
   "metadata": {},
   "outputs": [],
   "source": [
    "import numpy as np\n",
    "import matplotlib.pyplot as plt\n"
   ]
  },
  {
   "cell_type": "code",
   "execution_count": 4,
   "metadata": {},
   "outputs": [],
   "source": [
    "from pauli_mani import PauliPoly"
   ]
  },
  {
   "cell_type": "code",
   "execution_count": 5,
   "metadata": {},
   "outputs": [],
   "source": [
    "## Arbitary Hamiltonian\n",
    "qubits = 4\n",
    "n_dim = int(2**qubits)\n",
    "h_r = np.matrix(np.random.random((n_dim, n_dim)))\n",
    "h_c = np.matrix(np.random.random((n_dim, n_dim)))\n",
    "A_h = h_r + 1j*h_c\n",
    "H = A_h.H@A_h"
   ]
  },
  {
   "cell_type": "code",
   "execution_count": 6,
   "metadata": {},
   "outputs": [
    {
     "data": {
      "text/plain": [
       "array([1.28435031e+02, 7.90503540e+00, 6.97758631e+00, 5.03938328e+00,\n",
       "       4.14114382e+00, 3.09151962e+00, 2.57829489e+00, 2.13470043e+00,\n",
       "       1.78904129e+00, 1.08641730e+00, 1.53993859e-02, 9.93216921e-02,\n",
       "       1.95574892e-01, 8.17371496e-01, 4.67408764e-01, 6.56571946e-01])"
      ]
     },
     "execution_count": 6,
     "metadata": {},
     "output_type": "execute_result"
    }
   ],
   "source": [
    "# Get eigen terms\n",
    "evals, evectors = np.linalg.eig(H)\n",
    "evals.real"
   ]
  },
  {
   "cell_type": "code",
   "execution_count": 7,
   "metadata": {},
   "outputs": [
    {
     "name": "stdout",
     "output_type": "stream",
     "text": [
      "0.9999999999999993\n",
      "1.0000000000000007\n",
      "1.0000000000000004\n",
      "0.9999999999999991\n",
      "0.9999999999999987\n",
      "0.9999999999999997\n",
      "1.0000000000000018\n",
      "1.000000000000001\n",
      "0.9999999999999991\n",
      "0.9999999999999987\n",
      "0.9999999999999999\n",
      "1.0000000000000004\n",
      "0.9999999999999996\n",
      "1.0000000000000002\n",
      "1.0000000000000004\n",
      "1.0000000000000009\n"
     ]
    }
   ],
   "source": [
    "# Test the normality\n",
    "for i in range(0, n_dim):\n",
    "    print(np.linalg.norm(evectors[i]))"
   ]
  },
  {
   "cell_type": "code",
   "execution_count": 8,
   "metadata": {},
   "outputs": [
    {
     "data": {
      "text/plain": [
       "matrix([[-8.32667268e-16+2.3869795e-15j]])"
      ]
     },
     "execution_count": 8,
     "metadata": {},
     "output_type": "execute_result"
    }
   ],
   "source": [
    "# Orthogonal\n",
    "evectors[0]@(evectors[1].H)"
   ]
  },
  {
   "cell_type": "code",
   "execution_count": 9,
   "metadata": {},
   "outputs": [],
   "source": [
    "spectrum = [(e,ev)for e, ev in zip(evals.real, evectors)]"
   ]
  },
  {
   "cell_type": "code",
   "execution_count": 10,
   "metadata": {},
   "outputs": [],
   "source": [
    "spectrum.sort()"
   ]
  },
  {
   "cell_type": "code",
   "execution_count": 11,
   "metadata": {},
   "outputs": [
    {
     "name": "stdout",
     "output_type": "stream",
     "text": [
      "0.015399385914542783\n",
      "0.09932169210257524\n",
      "0.1955748919055337\n",
      "0.4674087641342873\n",
      "0.6565719463481708\n",
      "0.8173714960009039\n",
      "1.0864173041628302\n",
      "1.789041294765781\n",
      "2.134700425018472\n",
      "2.5782948876014213\n",
      "3.091519623889923\n",
      "4.14114381693796\n",
      "5.0393832830732705\n",
      "6.977586309905002\n",
      "7.905035400229152\n",
      "128.43503087819226\n"
     ]
    }
   ],
   "source": [
    "# Spectrums\n",
    "for e, v in spectrum:\n",
    "    print(e)"
   ]
  },
  {
   "cell_type": "markdown",
   "metadata": {},
   "source": [
    "## Decompose the given Hamiltonian"
   ]
  },
  {
   "cell_type": "code",
   "execution_count": 12,
   "metadata": {},
   "outputs": [],
   "source": [
    "from copy import deepcopy"
   ]
  },
  {
   "cell_type": "code",
   "execution_count": 13,
   "metadata": {},
   "outputs": [],
   "source": [
    "H_test = deepcopy(H)"
   ]
  },
  {
   "cell_type": "code",
   "execution_count": 14,
   "metadata": {},
   "outputs": [],
   "source": [
    "ppoly = PauliPoly.from_matrix(H_test)\n",
    "H_poly = ppoly.to_matrix()\n",
    "# Find a state whose eigen vector decomposition is all eigen vector of Hamiltonian.\n",
    "mixed_state = deepcopy(H_poly.sum(axis=1))\n",
    "m_amp = np.sqrt((mixed_state.conj()*mixed_state).sum())\n",
    "mixed_state /= m_amp"
   ]
  },
  {
   "cell_type": "code",
   "execution_count": 15,
   "metadata": {},
   "outputs": [
    {
     "data": {
      "text/plain": [
       "1.0"
      ]
     },
     "execution_count": 15,
     "metadata": {},
     "output_type": "execute_result"
    }
   ],
   "source": [
    "np.linalg.norm(mixed_state)"
   ]
  },
  {
   "cell_type": "code",
   "execution_count": 16,
   "metadata": {},
   "outputs": [
    {
     "data": {
      "text/plain": [
       "array([0.2576979 +0.00433149j, 0.24215351+0.02566434j,\n",
       "       0.27387657-0.00304832j, 0.21844215+0.05209886j,\n",
       "       0.27317745-0.04711776j, 0.2493468 -0.03562707j,\n",
       "       0.21117835-0.01711189j, 0.24805078-0.01409856j,\n",
       "       0.25884583+0.02952348j, 0.23257301-0.00652868j,\n",
       "       0.25027832-0.00491548j, 0.30089827+0.04101541j,\n",
       "       0.2298426 -0.05393703j, 0.21930953+0.03597012j,\n",
       "       0.2438447 +0.01971427j, 0.24368239-0.02593317j])"
      ]
     },
     "execution_count": 16,
     "metadata": {},
     "output_type": "execute_result"
    }
   ],
   "source": [
    "mixed_state"
   ]
  },
  {
   "cell_type": "markdown",
   "metadata": {},
   "source": [
    "## Test with Imaginary VQE"
   ]
  },
  {
   "cell_type": "code",
   "execution_count": 17,
   "metadata": {},
   "outputs": [],
   "source": [
    "from qiskit.quantum_info import SparsePauliOp"
   ]
  },
  {
   "cell_type": "code",
   "execution_count": 18,
   "metadata": {},
   "outputs": [],
   "source": [
    "coefs, paulis =  ppoly.to_qiskit(sparse=False)"
   ]
  },
  {
   "cell_type": "code",
   "execution_count": 19,
   "metadata": {},
   "outputs": [],
   "source": [
    "hamiltonian = SparsePauliOp(paulis, coefs)"
   ]
  },
  {
   "cell_type": "code",
   "execution_count": 20,
   "metadata": {},
   "outputs": [
    {
     "data": {
      "image/png": "[encoded data removed]",
      "text/plain": [
       "<Figure size 2210.55x367.889 with 1 Axes>"
      ]
     },
     "execution_count": 20,
     "metadata": {},
     "output_type": "execute_result"
    }
   ],
   "source": [
    "from qiskit.circuit.library import EfficientSU2\n",
    "from qiskit import QuantumCircuit\n",
    "import numpy as np\n",
    "\n",
    "\n",
    "qc = QuantumCircuit(hamiltonian.num_qubits)\n",
    "qc.initialize(mixed_state, range(hamiltonian.num_qubits))\n",
    "qc.draw(\"mpl\")\n"
   ]
  },
  {
   "cell_type": "code",
   "execution_count": 21,
   "metadata": {},
   "outputs": [
    {
     "data": {
      "text/plain": [
       "ParameterView([ParameterVectorElement(θ[0]), ParameterVectorElement(θ[1]), ParameterVectorElement(θ[2]), ParameterVectorElement(θ[3]), ParameterVectorElement(θ[4]), ParameterVectorElement(θ[5]), ParameterVectorElement(θ[6]), ParameterVectorElement(θ[7]), ParameterVectorElement(θ[8]), ParameterVectorElement(θ[9]), ParameterVectorElement(θ[10]), ParameterVectorElement(θ[11]), ParameterVectorElement(θ[12]), ParameterVectorElement(θ[13]), ParameterVectorElement(θ[14]), ParameterVectorElement(θ[15])])"
      ]
     },
     "execution_count": 21,
     "metadata": {},
     "output_type": "execute_result"
    }
   ],
   "source": [
    "ansatz = EfficientSU2(\n",
    "    hamiltonian.num_qubits, reps=1, \n",
    "    initial_state=qc) # Initial state is a forward circuit.\n",
    "ansatz.parameters"
   ]
  },
  {
   "cell_type": "code",
   "execution_count": 22,
   "metadata": {},
   "outputs": [
    {
     "data": {
      "image/png": "[encoded data removed]",
      "text/plain": [
       "<Figure size 2210.55x785.944 with 1 Axes>"
      ]
     },
     "execution_count": 22,
     "metadata": {},
     "output_type": "execute_result"
    }
   ],
   "source": [
    "ansatz.decompose().draw(\"mpl\")"
   ]
  },
  {
   "cell_type": "code",
   "execution_count": 23,
   "metadata": {},
   "outputs": [],
   "source": [
    "init_param_values = {}\n",
    "for i in range(len(ansatz.parameters)):\n",
    "    init_param_values[ansatz.parameters[i]] = np.pi / 2"
   ]
  },
  {
   "cell_type": "code",
   "execution_count": 24,
   "metadata": {},
   "outputs": [],
   "source": [
    "from qiskit_algorithms.time_evolvers.variational import ImaginaryMcLachlanPrinciple\n",
    "from qiskit_algorithms import TimeEvolutionProblem\n",
    "from qiskit_algorithms.gradients import ReverseEstimatorGradient, ReverseQGT"
   ]
  },
  {
   "cell_type": "code",
   "execution_count": 25,
   "metadata": {},
   "outputs": [],
   "source": [
    "var_principle = ImaginaryMcLachlanPrinciple()\n",
    "time = 8.0\n",
    "aux_ops = [hamiltonian]\n",
    "evolution_problem = TimeEvolutionProblem(hamiltonian, time, aux_operators=aux_ops)"
   ]
  },
  {
   "cell_type": "code",
   "execution_count": 26,
   "metadata": {},
   "outputs": [],
   "source": [
    "from qiskit_algorithms import VarQITE\n",
    "from qiskit.primitives import Estimator"
   ]
  },
  {
   "cell_type": "code",
   "execution_count": 27,
   "metadata": {},
   "outputs": [],
   "source": [
    "var_qite = VarQITE(ansatz, init_param_values, var_principle, Estimator())\n",
    "# an Estimator instance is necessary, if we want to calculate the expectation value of auxiliary operators.\n",
    "evolution_result = var_qite.evolve(evolution_problem)"
   ]
  },
  {
   "cell_type": "code",
   "execution_count": null,
   "metadata": {},
   "outputs": [],
   "source": [
    "import pylab"
   ]
  },
  {
   "cell_type": "code",
   "execution_count": null,
   "metadata": {},
   "outputs": [
    {
     "data": {
      "text/plain": [
       "array([1.30349929e+02, 6.81184616e+00, 6.00360287e+00, 5.42263370e+00,\n",
       "       3.78288297e+00, 3.63078061e+00, 2.75142529e+00, 2.02637701e+00,\n",
       "       1.56031178e+00, 1.32896407e+00, 8.03478621e-01, 3.74488545e-01,\n",
       "       1.64251996e-02, 2.50505608e-01, 1.21967675e-01, 1.65492608e-01])"
      ]
     },
     "execution_count": 46,
     "metadata": {},
     "output_type": "execute_result"
    }
   ],
   "source": [
    "np.linalg.eigvals(H_poly).real"
   ]
  },
  {
   "cell_type": "code",
   "execution_count": null,
   "metadata": {},
   "outputs": [
    {
     "name": "stdout",
     "output_type": "stream",
     "text": [
      "130.34992927933038\n",
      "6.811846156959237\n",
      "6.0036028742935175\n",
      "5.422633704630233\n",
      "3.782882968560693\n",
      "3.630780606111309\n",
      "2.751425294686183\n",
      "2.0263770085562163\n",
      "1.5603117779057343\n",
      "1.3289640739687876\n",
      "0.8034786208445489\n",
      "0.37448854532033615\n",
      "0.016425199554548825\n",
      "0.2505056077712875\n",
      "0.12196767533875023\n",
      "0.16549260840786595\n"
     ]
    },
    {
     "data": {
      "text/plain": [
       "(-0.3, 3.0)"
      ]
     },
     "execution_count": 47,
     "metadata": {},
     "output_type": "execute_result"
    },
    {
     "data": {
      "image/png": "[encoded data removed]",
      "text/plain": [
       "<Figure size 640x480 with 1 Axes>"
      ]
     },
     "metadata": {},
     "output_type": "display_data"
    }
   ],
   "source": [
    "h_exp_val = np.array([ele[0][0] for ele in evolution_result.observables])\n",
    "times = evolution_result.times\n",
    "pylab.plot(times, h_exp_val, label=\"VarQITE\")\n",
    "pylab.xlabel(\"Time\")\n",
    "pylab.ylabel(r\"$\\langle H \\rangle$ (energy)\")\n",
    "pylab.legend(loc=\"upper right\")\n",
    "\n",
    "for e in np.linalg.eigvals(H_poly).real:\n",
    "    print(e)\n",
    "    pylab.axhline(y=e, xmin=0, xmax=time, linestyle=\"--\", c= \"r\")\n",
    "pylab.ylim(-0.3, 3)"
   ]
  },
  {
   "cell_type": "code",
   "execution_count": null,
   "metadata": {},
   "outputs": [],
   "source": []
  },
  {
   "cell_type": "markdown",
   "metadata": {},
   "source": [
    "## Implement Spectrum Search Algorithm"
   ]
  },
  {
   "cell_type": "code",
   "execution_count": 15,
   "metadata": {},
   "outputs": [],
   "source": [
    "## Quantum Circuit\n",
    "import qiskit\n",
    "from qiskit.circuit.library import StatePreparation\n",
    "from qiskit.quantum_info import Statevector\n",
    "from qiskit import QuantumCircuit\n",
    "from qiskit_algorithms import "
   ]
  },
  {
   "cell_type": "code",
   "execution_count": null,
   "metadata": {},
   "outputs": [],
   "source": [
    "def get_resources(mix_state, known_states):\n",
    "        n = mix_state.size\n",
    "        # sum known_state\n",
    "        # nomarlization\n",
    "\n",
    "        M0 = \n",
    "        Hw = np.identity(n) - \n",
    "        H0 = np.identity(n)\n",
    "        return Hw, H0, M0"
   ]
  },
  {
   "cell_type": "code",
   "execution_count": 16,
   "metadata": {},
   "outputs": [],
   "source": [
    "q_mix_state_vec = Statevector(mixed_state)"
   ]
  },
  {
   "cell_type": "code",
   "execution_count": 18,
   "metadata": {},
   "outputs": [
    {
     "data": {
      "image/png": "[encoded data removed]",
      "text/plain": [
       "<Figure size 2210.55x367.889 with 1 Axes>"
      ]
     },
     "execution_count": 18,
     "metadata": {},
     "output_type": "execute_result"
    }
   ],
   "source": [
    "# Initial preparation\n",
    "# \n",
    "circ = QuantumCircuit(qubits)\n",
    "circ.initialize(q_mix_state_vec, circ.qubits) # initialize the mixed state\n",
    "circ.draw('mpl')"
   ]
  },
  {
   "cell_type": "markdown",
   "metadata": {},
   "source": [
    "## Current Stage(ITE): \n",
    "\n",
    "1. Qiskit Only provides Variational Quantum Imaginary Time evolution routine\n",
    "2. The routine needs Ansatz to work on.\n",
    "3. Qiskit provides convenience routines to work on the Ansatz, however, the proper choice is still remained.\n",
    "4. Implement the ITE routine is required to work on the routine."
   ]
  },
  {
   "cell_type": "code",
   "execution_count": null,
   "metadata": {},
   "outputs": [],
   "source": []
  },
  {
   "cell_type": "markdown",
   "metadata": {},
   "source": []
  },
  {
   "cell_type": "markdown",
   "metadata": {},
   "source": [
    "## Current Stage(Custom Grover Algorithm)"
   ]
  },
  {
   "cell_type": "markdown",
   "metadata": {},
   "source": []
  },
  {
   "cell_type": "markdown",
   "metadata": {},
   "source": []
  },
  {
   "cell_type": "markdown",
   "metadata": {},
   "source": []
  }
 ],
 "metadata": {
  "kernelspec": {
   "display_name": "quantum_computer",
   "language": "python",
   "name": "python3"
  },
  "language_info": {
   "codemirror_mode": {
    "name": "ipython",
    "version": 3
   },
   "file_extension": ".py",
   "mimetype": "text/x-python",
   "name": "python",
   "nbconvert_exporter": "python",
   "pygments_lexer": "ipython3",
   "version": "3.11.4"
  }
 },
 "nbformat": 4,
 "nbformat_minor": 2
}
