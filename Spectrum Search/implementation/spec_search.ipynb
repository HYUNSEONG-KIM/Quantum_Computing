{
 "cells": [
  {
   "cell_type": "code",
   "execution_count": 1,
   "metadata": {},
   "outputs": [],
   "source": [
    "import numpy as np\n",
    "import matplotlib.pyplot as plt\n"
   ]
  },
  {
   "cell_type": "code",
   "execution_count": 2,
   "metadata": {},
   "outputs": [],
   "source": [
    "from pauli_mani import PauliPoly"
   ]
  },
  {
   "cell_type": "code",
   "execution_count": 3,
   "metadata": {},
   "outputs": [],
   "source": [
    "## Arbitary Hamiltonian\n",
    "qubits = 4\n",
    "n_dim = int(2**qubits)\n",
    "h_r = np.matrix(np.random.random((n_dim, n_dim)))\n",
    "h_c = np.matrix(np.random.random((n_dim, n_dim)))\n",
    "A_h = h_r + 1j*h_c\n",
    "H = A_h.H@A_h"
   ]
  },
  {
   "cell_type": "code",
   "execution_count": 4,
   "metadata": {},
   "outputs": [
    {
     "data": {
      "text/plain": [
       "array([1.30349929e+02, 6.81184616e+00, 6.00360287e+00, 5.42263370e+00,\n",
       "       3.78288297e+00, 3.63078061e+00, 2.75142529e+00, 2.02637701e+00,\n",
       "       1.56031178e+00, 1.32896407e+00, 8.03478621e-01, 3.74488545e-01,\n",
       "       1.64251996e-02, 2.50505608e-01, 1.21967675e-01, 1.65492608e-01])"
      ]
     },
     "execution_count": 4,
     "metadata": {},
     "output_type": "execute_result"
    }
   ],
   "source": [
    "# Get eigen terms\n",
    "evals, evectors = np.linalg.eig(H)\n",
    "evals.real"
   ]
  },
  {
   "cell_type": "code",
   "execution_count": 5,
   "metadata": {},
   "outputs": [
    {
     "name": "stdout",
     "output_type": "stream",
     "text": [
      "1.0000000000000033\n",
      "0.999999999999997\n",
      "1.0000000000000002\n",
      "1.000000000000004\n",
      "1.000000000000001\n",
      "0.9999999999999988\n",
      "0.9999999999999938\n",
      "1.0000000000000013\n",
      "1.0000000000000016\n",
      "1.0000000000000047\n",
      "0.9999999999999983\n",
      "0.9999999999999976\n",
      "0.999999999999998\n",
      "0.999999999999999\n",
      "1.0000000000000013\n",
      "0.9999999999999994\n"
     ]
    }
   ],
   "source": [
    "# Test the normality\n",
    "for i in range(0, n_dim):\n",
    "    print(np.linalg.norm(evectors[i]))"
   ]
  },
  {
   "cell_type": "code",
   "execution_count": 6,
   "metadata": {},
   "outputs": [
    {
     "data": {
      "text/plain": [
       "matrix([[1.05471187e-15+2.18575158e-15j]])"
      ]
     },
     "execution_count": 6,
     "metadata": {},
     "output_type": "execute_result"
    }
   ],
   "source": [
    "# Orthogonal\n",
    "evectors[0]@(evectors[1].H)"
   ]
  },
  {
   "cell_type": "code",
   "execution_count": 7,
   "metadata": {},
   "outputs": [],
   "source": [
    "spectrum = [(e,ev)for e, ev in zip(evals.real, evectors)]"
   ]
  },
  {
   "cell_type": "code",
   "execution_count": 8,
   "metadata": {},
   "outputs": [],
   "source": [
    "spectrum.sort()"
   ]
  },
  {
   "cell_type": "code",
   "execution_count": 9,
   "metadata": {},
   "outputs": [
    {
     "name": "stdout",
     "output_type": "stream",
     "text": [
      "0.016425199554546903\n",
      "0.12196767533875005\n",
      "0.16549260840786575\n",
      "0.2505056077712877\n",
      "0.37448854532033604\n",
      "0.803478620844548\n",
      "1.3289640739687862\n",
      "1.5603117779057338\n",
      "2.026377008556212\n",
      "2.751425294686188\n",
      "3.630780606111305\n",
      "3.7828829685606915\n",
      "5.422633704630232\n",
      "6.003602874293515\n",
      "6.811846156959234\n",
      "130.34992927933024\n"
     ]
    }
   ],
   "source": [
    "# Spectrums\n",
    "for e, v in spectrum:\n",
    "    print(e)"
   ]
  },
  {
   "cell_type": "markdown",
   "metadata": {},
   "source": [
    "## Decompose the given Hamiltonian"
   ]
  },
  {
   "cell_type": "code",
   "execution_count": 10,
   "metadata": {},
   "outputs": [],
   "source": [
    "from copy import deepcopy"
   ]
  },
  {
   "cell_type": "code",
   "execution_count": 11,
   "metadata": {},
   "outputs": [],
   "source": [
    "H_test = deepcopy(H)"
   ]
  },
  {
   "cell_type": "code",
   "execution_count": 12,
   "metadata": {},
   "outputs": [],
   "source": [
    "ppoly = PauliPoly.from_matrix(H_test)\n",
    "H_poly = ppoly.to_matrix()\n",
    "# Find a state whose eigen vector decomposition is all eigen vector of Hamiltonian.\n",
    "mixed_state = deepcopy(H_poly.sum(axis=1))\n",
    "m_amp = np.sqrt((mixed_state.conj()*mixed_state).sum())\n",
    "mixed_state /= m_amp"
   ]
  },
  {
   "cell_type": "code",
   "execution_count": 13,
   "metadata": {},
   "outputs": [
    {
     "data": {
      "text/plain": [
       "0.9999999999999999"
      ]
     },
     "execution_count": 13,
     "metadata": {},
     "output_type": "execute_result"
    }
   ],
   "source": [
    "np.linalg.norm(mixed_state)"
   ]
  },
  {
   "cell_type": "code",
   "execution_count": 14,
   "metadata": {},
   "outputs": [
    {
     "data": {
      "text/plain": [
       "array([0.23513175+0.01492016j, 0.23681164-0.02151025j,\n",
       "       0.24938975+0.00102153j, 0.23029559+0.00805673j,\n",
       "       0.22128957+0.00023588j, 0.25282604-0.03100425j,\n",
       "       0.2099945 +0.00381265j, 0.25481588-0.03305248j,\n",
       "       0.27949304+0.057348j  , 0.26190993-0.00528781j,\n",
       "       0.26083389-0.01671567j, 0.24202478-0.03113919j,\n",
       "       0.23174947+0.04140454j, 0.27269107-0.02390363j,\n",
       "       0.2894342 +0.0029941j , 0.23571597+0.03281969j])"
      ]
     },
     "execution_count": 14,
     "metadata": {},
     "output_type": "execute_result"
    }
   ],
   "source": [
    "mixed_state"
   ]
  },
  {
   "cell_type": "markdown",
   "metadata": {},
   "source": [
    "## Test with Imaginary VQE"
   ]
  },
  {
   "cell_type": "code",
   "execution_count": 15,
   "metadata": {},
   "outputs": [],
   "source": [
    "from qiskit.quantum_info import SparsePauliOp"
   ]
  },
  {
   "cell_type": "code",
   "execution_count": 17,
   "metadata": {},
   "outputs": [],
   "source": [
    "coefs, paulis =  ppoly.to_qiskit(sparse=False)"
   ]
  },
  {
   "cell_type": "code",
   "execution_count": 18,
   "metadata": {},
   "outputs": [],
   "source": [
    "hamiltonian = SparsePauliOp(paulis, coefs)"
   ]
  },
  {
   "cell_type": "code",
   "execution_count": 19,
   "metadata": {},
   "outputs": [
    {
     "data": {
      "image/png": "[encoded data removed]",
      "text/plain": [
       "<Figure size 2210.55x367.889 with 1 Axes>"
      ]
     },
     "execution_count": 19,
     "metadata": {},
     "output_type": "execute_result"
    }
   ],
   "source": [
    "from qiskit.circuit.library import EfficientSU2\n",
    "from qiskit import QuantumCircuit\n",
    "import numpy as np\n",
    "\n",
    "\n",
    "qc = QuantumCircuit(hamiltonian.num_qubits)\n",
    "qc.initialize(mixed_state, range(hamiltonian.num_qubits))\n",
    "qc.draw(\"mpl\")\n"
   ]
  },
  {
   "cell_type": "code",
   "execution_count": 20,
   "metadata": {},
   "outputs": [
    {
     "data": {
      "text/plain": [
       "ParameterView([ParameterVectorElement(θ[0]), ParameterVectorElement(θ[1]), ParameterVectorElement(θ[2]), ParameterVectorElement(θ[3]), ParameterVectorElement(θ[4]), ParameterVectorElement(θ[5]), ParameterVectorElement(θ[6]), ParameterVectorElement(θ[7]), ParameterVectorElement(θ[8]), ParameterVectorElement(θ[9]), ParameterVectorElement(θ[10]), ParameterVectorElement(θ[11]), ParameterVectorElement(θ[12]), ParameterVectorElement(θ[13]), ParameterVectorElement(θ[14]), ParameterVectorElement(θ[15])])"
      ]
     },
     "execution_count": 20,
     "metadata": {},
     "output_type": "execute_result"
    }
   ],
   "source": [
    "ansatz = EfficientSU2(\n",
    "    hamiltonian.num_qubits, reps=1, \n",
    "    initial_state=qc) # Initial state is a forward circuit.\n",
    "ansatz.parameters"
   ]
  },
  {
   "cell_type": "code",
   "execution_count": 21,
   "metadata": {},
   "outputs": [
    {
     "data": {
      "image/png": "[encoded data removed]",
      "text/plain": [
       "<Figure size 2210.55x785.944 with 1 Axes>"
      ]
     },
     "execution_count": 21,
     "metadata": {},
     "output_type": "execute_result"
    }
   ],
   "source": [
    "ansatz.decompose().draw(\"mpl\")"
   ]
  },
  {
   "cell_type": "code",
   "execution_count": 22,
   "metadata": {},
   "outputs": [],
   "source": [
    "init_param_values = {}\n",
    "for i in range(len(ansatz.parameters)):\n",
    "    init_param_values[ansatz.parameters[i]] = np.pi / 2"
   ]
  },
  {
   "cell_type": "code",
   "execution_count": 23,
   "metadata": {},
   "outputs": [],
   "source": [
    "from qiskit_algorithms.time_evolvers.variational import ImaginaryMcLachlanPrinciple\n",
    "from qiskit_algorithms import TimeEvolutionProblem\n",
    "from qiskit_algorithms.gradients import ReverseEstimatorGradient, ReverseQGT"
   ]
  },
  {
   "cell_type": "code",
   "execution_count": 42,
   "metadata": {},
   "outputs": [],
   "source": [
    "var_principle = ImaginaryMcLachlanPrinciple()\n",
    "time = 8.0\n",
    "aux_ops = [hamiltonian]\n",
    "evolution_problem = TimeEvolutionProblem(hamiltonian, time, aux_operators=aux_ops)"
   ]
  },
  {
   "cell_type": "code",
   "execution_count": 43,
   "metadata": {},
   "outputs": [],
   "source": [
    "from qiskit_algorithms import VarQITE\n",
    "from qiskit.primitives import Estimator"
   ]
  },
  {
   "cell_type": "code",
   "execution_count": 44,
   "metadata": {},
   "outputs": [],
   "source": [
    "var_qite = VarQITE(ansatz, init_param_values, var_principle, Estimator())\n",
    "# an Estimator instance is necessary, if we want to calculate the expectation value of auxiliary operators.\n",
    "evolution_result = var_qite.evolve(evolution_problem)"
   ]
  },
  {
   "cell_type": "code",
   "execution_count": 45,
   "metadata": {},
   "outputs": [],
   "source": [
    "import pylab"
   ]
  },
  {
   "cell_type": "code",
   "execution_count": 46,
   "metadata": {},
   "outputs": [
    {
     "data": {
      "text/plain": [
       "array([1.30349929e+02, 6.81184616e+00, 6.00360287e+00, 5.42263370e+00,\n",
       "       3.78288297e+00, 3.63078061e+00, 2.75142529e+00, 2.02637701e+00,\n",
       "       1.56031178e+00, 1.32896407e+00, 8.03478621e-01, 3.74488545e-01,\n",
       "       1.64251996e-02, 2.50505608e-01, 1.21967675e-01, 1.65492608e-01])"
      ]
     },
     "execution_count": 46,
     "metadata": {},
     "output_type": "execute_result"
    }
   ],
   "source": [
    "np.linalg.eigvals(H_poly).real"
   ]
  },
  {
   "cell_type": "code",
   "execution_count": 47,
   "metadata": {},
   "outputs": [
    {
     "name": "stdout",
     "output_type": "stream",
     "text": [
      "130.34992927933038\n",
      "6.811846156959237\n",
      "6.0036028742935175\n",
      "5.422633704630233\n",
      "3.782882968560693\n",
      "3.630780606111309\n",
      "2.751425294686183\n",
      "2.0263770085562163\n",
      "1.5603117779057343\n",
      "1.3289640739687876\n",
      "0.8034786208445489\n",
      "0.37448854532033615\n",
      "0.016425199554548825\n",
      "0.2505056077712875\n",
      "0.12196767533875023\n",
      "0.16549260840786595\n"
     ]
    },
    {
     "data": {
      "text/plain": [
       "(-0.3, 3.0)"
      ]
     },
     "execution_count": 47,
     "metadata": {},
     "output_type": "execute_result"
    },
    {
     "data": {
      "image/png": "[encoded data removed]",
      "text/plain": [
       "<Figure size 640x480 with 1 Axes>"
      ]
     },
     "metadata": {},
     "output_type": "display_data"
    }
   ],
   "source": [
    "h_exp_val = np.array([ele[0][0] for ele in evolution_result.observables])\n",
    "times = evolution_result.times\n",
    "pylab.plot(times, h_exp_val, label=\"VarQITE\")\n",
    "pylab.xlabel(\"Time\")\n",
    "pylab.ylabel(r\"$\\langle H \\rangle$ (energy)\")\n",
    "pylab.legend(loc=\"upper right\")\n",
    "\n",
    "for e in np.linalg.eigvals(H_poly).real:\n",
    "    print(e)\n",
    "    pylab.axhline(y=e, xmin=0, xmax=time, linestyle=\"--\", c= \"r\")\n",
    "pylab.ylim(-0.3, 3)"
   ]
  },
  {
   "cell_type": "code",
   "execution_count": null,
   "metadata": {},
   "outputs": [],
   "source": []
  },
  {
   "cell_type": "markdown",
   "metadata": {},
   "source": [
    "## Implement Spectrum Search Algorithm"
   ]
  },
  {
   "cell_type": "code",
   "execution_count": 15,
   "metadata": {},
   "outputs": [],
   "source": [
    "## Quantum Circuit\n",
    "import qiskit\n",
    "from qiskit.circuit.library import StatePreparation\n",
    "from qiskit.quantum_info import Statevector\n",
    "from qiskit import QuantumCircuit\n",
    "from qiskit_algorithms import "
   ]
  },
  {
   "cell_type": "code",
   "execution_count": null,
   "metadata": {},
   "outputs": [],
   "source": [
    "def get_resources(mix_state, known_states):\n",
    "        n = mix_state.size\n",
    "        # sum known_state\n",
    "        # nomarlization\n",
    "\n",
    "        M0 = \n",
    "        Hw = np.identity(n) - \n",
    "        H0 = np.identity(n)\n",
    "        return Hw, H0, M0"
   ]
  },
  {
   "cell_type": "code",
   "execution_count": 16,
   "metadata": {},
   "outputs": [],
   "source": [
    "q_mix_state_vec = Statevector(mixed_state)"
   ]
  },
  {
   "cell_type": "code",
   "execution_count": 18,
   "metadata": {},
   "outputs": [
    {
     "data": {
      "image/png": "[encoded data removed]",
      "text/plain": [
       "<Figure size 2210.55x367.889 with 1 Axes>"
      ]
     },
     "execution_count": 18,
     "metadata": {},
     "output_type": "execute_result"
    }
   ],
   "source": [
    "# Initial preparation\n",
    "# \n",
    "circ = QuantumCircuit(qubits)\n",
    "circ.initialize(q_mix_state_vec, circ.qubits) # initialize the mixed state\n",
    "circ.draw('mpl')"
   ]
  },
  {
   "cell_type": "markdown",
   "metadata": {},
   "source": [
    "## Current Stage(ITE): \n",
    "\n",
    "1. Qiskit Only provides Variational Quantum Imaginary Time evolution routine\n",
    "2. The routine needs Ansatz to work on.\n",
    "3. Qiskit provides convenience routines to work on the Ansatz, however, the proper choice is still remained.\n",
    "4. Implement the ITE routine is required to work on the routine."
   ]
  },
  {
   "cell_type": "code",
   "execution_count": null,
   "metadata": {},
   "outputs": [],
   "source": []
  },
  {
   "cell_type": "markdown",
   "metadata": {},
   "source": []
  },
  {
   "cell_type": "markdown",
   "metadata": {},
   "source": [
    "## Current Stage(Custom Grover Algorithm)"
   ]
  },
  {
   "cell_type": "markdown",
   "metadata": {},
   "source": []
  },
  {
   "cell_type": "markdown",
   "metadata": {},
   "source": []
  },
  {
   "cell_type": "markdown",
   "metadata": {},
   "source": []
  }
 ],
 "metadata": {
  "kernelspec": {
   "display_name": "quantum_computer",
   "language": "python",
   "name": "python3"
  },
  "language_info": {
   "codemirror_mode": {
    "name": "ipython",
    "version": 3
   },
   "file_extension": ".py",
   "mimetype": "text/x-python",
   "name": "python",
   "nbconvert_exporter": "python",
   "pygments_lexer": "ipython3",
   "version": "3.11.8"
  }
 },
 "nbformat": 4,
 "nbformat_minor": 2
}
