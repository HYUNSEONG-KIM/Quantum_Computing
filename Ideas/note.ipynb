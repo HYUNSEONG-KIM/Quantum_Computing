{
 "cells": [
  {
   "cell_type": "markdown",
   "metadata": {},
   "source": [
    "# Special function implementation"
   ]
  },
  {
   "cell_type": "markdown",
   "metadata": {},
   "source": [
    "With single qubit and gate operators, we can imitate universal analytic functions by universal approximation theorem.\n",
    "\n",
    "See, \n",
    "\n",
    "```\n",
    "Takahiro Goto et al., Universal Approximation Property of Quantum Machine Learning Models in Quantum-Enhanced Feature Spaces, Phys. Rev. Lett. 127, 090506, 2021\n",
    "```\n",
    "\n",
    "**IDEA**\n",
    "\n",
    "The computation model of special function in classical computer requires many techniques and mostly they are iterative methods. Furthermore, they are sperately treating analytic continuation via different algorithms.\n",
    "The importance of special function in Physics is that they arise in many differential equations describing important physical systems. We know that the qubit system is well-controlled quantum system we have. If we are possible to imitate quantum system via quantum computer, then the special functions could be approximated via qubit-gate operations.\n",
    "\n",
    "Shortly, try to use qubit-gate as an implementation of special function."
   ]
  },
  {
   "cell_type": "markdown",
   "metadata": {},
   "source": [
    "# Krylov Method optimization"
   ]
  },
  {
   "cell_type": "markdown",
   "metadata": {},
   "source": [
    "Krylov-subspace method is commonly used to approximate large Hilbert space quantum dynamics. For example, if we are working in $D$ dimension space of time-independent Hamiltonian, $H$, the $N<D$ dimension Krylov subspace is defined as next.\n",
    "\n",
    "$$\\text{span}(\\psi, H \\psi, H^2 \\psi, \\dots H^{N-1} \\psi)$$\n",
    "\n",
    "The basis is not orthogonal, however, with Gram-Schimidt process we can find orthonormal basis of Krylob-subspace. We can reduce the overall dimension of dynamics calculation with the method."
   ]
  },
  {
   "cell_type": "markdown",
   "metadata": {},
   "source": [
    "One of good things of Krylob basis is that it is a basis of minimum spread complexity of time-evolution on Hilbert space. See next article\n",
    "\n",
    "* Quantum chaos and the complexity of spread of states\n",
    "* Krylov complexity of modular Hamiltonian evolution\n"
   ]
  },
  {
   "cell_type": "markdown",
   "metadata": {},
   "source": []
  }
 ],
 "metadata": {
  "language_info": {
   "name": "python"
  },
  "orig_nbformat": 4
 },
 "nbformat": 4,
 "nbformat_minor": 2
}
