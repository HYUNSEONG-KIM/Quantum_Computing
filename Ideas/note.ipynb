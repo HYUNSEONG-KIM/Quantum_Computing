{
 "cells": [
  {
   "cell_type": "markdown",
   "metadata": {},
   "source": [
    "# Special function implementation"
   ]
  },
  {
   "cell_type": "markdown",
   "metadata": {},
   "source": [
    "With single qubit and gate operators, we can imitate universal analytic functions by universal approximation theorem.\n",
    "\n",
    "See, \n",
    "\n",
    "```\n",
    "Takahiro Goto et al., Universal Approximation Property of Quantum Machine Learning Models in Quantum-Enhanced Feature Spaces, Phys. Rev. Lett. 127, 090506, 2021\n",
    "```\n",
    "\n",
    "**IDEA**\n",
    "\n",
    "The computation model of special function in classical computer requires many techniques and mostly they are iterative methods. Furthermore, they are sperately treating analytic continuation via different algorithms.\n",
    "The importance of special function in Physics is that they arise in many differential equations describing important physical systems.   "
   ]
  },
  {
   "cell_type": "markdown",
   "metadata": {},
   "source": []
  }
 ],
 "metadata": {
  "language_info": {
   "name": "python"
  },
  "orig_nbformat": 4
 },
 "nbformat": 4,
 "nbformat_minor": 2
}
