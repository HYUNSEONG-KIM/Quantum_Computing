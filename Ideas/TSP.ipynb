{
 "cells": [
  {
   "cell_type": "markdown",
   "metadata": {},
   "source": [
    "Traveling Salesman Problem"
   ]
  },
  {
   "cell_type": "markdown",
   "metadata": {},
   "source": [
    "보통 Edge 전체를 Qubit에 맵핑시키려고 노력해서 qubit resource 가 폭주하는데,\n",
    "($n$ node에 대해, edge는 $n!$개가 존재하므로)\n",
    "\n",
    "어느 Optimal Path가 존재할 때, 어느 i-th node의 i+1, i-1 만 특정 지어주는 것만으로 완성될 테니,\n",
    "음 대충 n개 node에 n개 qubit이 대응 되었다 치고, Optimal 정보를 가지는 Ground state가 있다고 하자.\n",
    "\n",
    "측정을 $Z_{i-1}Z_{i}Z_{i+1}$ basis로 맵핑 시키고, <- Commute 하지 않으니 적절하게 각각의 노드에 대한 측정 방법을 찾아야한다.\n",
    "여기서 $Z_i Z_k$ 이나 더 큰 State 들을 잘 측정하면, Path를 얻을 수 있지 않나?"
   ]
  },
  {
   "cell_type": "markdown",
   "metadata": {},
   "source": [
    "Phase Ecoding으로 비슷한 시도를 한 논문 찾음.\n",
    "```\n",
    "@misc{srinivasan2018efficient,\n",
    "      title={Efficient quantum algorithm for solving travelling salesman problem: An IBM quantum experience}, \n",
    "      author={Karthik Srinivasan and Saipriya Satyajit and Bikash K. Behera and Prasanta K. Panigrahi},\n",
    "      year={2018},\n",
    "      eprint={1805.10928},\n",
    "      archivePrefix={arXiv},\n",
    "      primaryClass={quant-ph}\n",
    "}\n",
    "```"
   ]
  },
  {
   "cell_type": "markdown",
   "metadata": {},
   "source": [
    "근데 나는 약간 Basis Amplitude 관점으로 풀고 싶은데"
   ]
  },
  {
   "cell_type": "markdown",
   "metadata": {},
   "source": [
    "1. Suppose that there exists optimal state of $\\psi$ for given TSP problem graph.\n",
    "2. Whose nodes are mapped to each qubits.\n",
    "3. The edge weight can be measured with $Z_iZ_j$ or Whatever $P_i P_j, P \\in \\{Z, X, Y \\}$ measurement on the quantum circuit.\n",
    "4. For i-th node, corresponding i-th qubit, have a pre and post position $i-1, i+1$-th in the optimal path."
   ]
  },
  {
   "cell_type": "markdown",
   "metadata": {},
   "source": []
  }
 ],
 "metadata": {
  "language_info": {
   "name": "python"
  },
  "orig_nbformat": 4
 },
 "nbformat": 4,
 "nbformat_minor": 2
}
