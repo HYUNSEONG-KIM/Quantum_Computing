{
 "cells": [
  {
   "cell_type": "markdown",
   "metadata": {},
   "source": [
    "# HHL Algorithm\n",
    "\n",
    "HHL ALgorithm is an abbreivation of Harrow-Hassidim-Lloyd Algorithm. It was presented at 2009 and aiming to solve linear programming problem with quantum computer. "
   ]
  },
  {
   "cell_type": "markdown",
   "metadata": {},
   "source": []
  },
  {
   "cell_type": "markdown",
   "metadata": {},
   "source": [
    "# Structure of Algorithm\n",
    "\n",
    "## Preparation of System\n",
    "\n",
    "$$A x = b$$\n",
    "\n",
    "We assume that $A$ is Hermitian and $b$ is a normal vector whose norm is 1. All arbitary linear system can be converted to this system. \n",
    "\n",
    "About an arbitary system,\n",
    "\n",
    "$$A' x = b'\\\\\n",
    "A'^\\dagger A' x = A'^\\dagger b'\\\\\n",
    "\\frac{1}{|| A'^\\dagger b'||} A'^\\dagger A' x = \\frac{1}{|| A'^\\dagger b'||}A'^\\dagger b'$$\n",
    "\n",
    "The above transofmation generate symmetric-normal vector system whose solution is exactly same with original system. \n",
    "\n",
    "\n",
    "\n",
    "This algorithm requires 3 register qubits set, $|0 \\dots \\rangle_1, |0 \\dots \\rangle_2, |0 \\dots \\rangle_3$\n",
    "\n",
    "* $|0 \\dots \\rangle_1$: Ancilla register.\n",
    "* $|0 \\dots \\rangle_2$: Eigen vector estimation register.\n",
    "* $|0 \\dots \\rangle_3$: $b$ vector representation register."
   ]
  },
  {
   "cell_type": "markdown",
   "metadata": {},
   "source": []
  }
 ],
 "metadata": {
  "language_info": {
   "name": "python"
  },
  "orig_nbformat": 4
 },
 "nbformat": 4,
 "nbformat_minor": 2
}
