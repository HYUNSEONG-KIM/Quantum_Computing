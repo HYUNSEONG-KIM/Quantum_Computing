{
 "cells": [
  {
   "cell_type": "code",
   "execution_count": 56,
   "metadata": {},
   "outputs": [],
   "source": [
    "from qiskit.circuit.library import EfficientSU2\n",
    "from qiskit import QuantumCircuit"
   ]
  },
  {
   "cell_type": "code",
   "execution_count": 57,
   "metadata": {},
   "outputs": [
    {
     "data": {
      "text/html": [
       "<pre style=\"word-wrap: normal;white-space: pre;background: #fff0;line-height: 1.1;font-family: &quot;Courier New&quot;,Courier,monospace\">     ┌──────────┐┌──────────┐                                ┌──────────┐»\n",
       "q_0: ┤ Ry(θ[0]) ├┤ Rz(θ[4]) ├────────────────────────■───────┤ Ry(θ[8]) ├»\n",
       "     ├──────────┤├──────────┤                      ┌─┴─┐     ├──────────┤»\n",
       "q_1: ┤ Ry(θ[1]) ├┤ Rz(θ[5]) ├───────────■──────────┤ X ├─────┤ Ry(θ[9]) ├»\n",
       "     ├──────────┤├──────────┤         ┌─┴─┐    ┌───┴───┴───┐┌┴──────────┤»\n",
       "q_2: ┤ Ry(θ[2]) ├┤ Rz(θ[6]) ├──■──────┤ X ├────┤ Ry(θ[10]) ├┤ Rz(θ[14]) ├»\n",
       "     ├──────────┤├──────────┤┌─┴─┐┌───┴───┴───┐├───────────┤└───────────┘»\n",
       "q_3: ┤ Ry(θ[3]) ├┤ Rz(θ[7]) ├┤ X ├┤ Ry(θ[11]) ├┤ Rz(θ[15]) ├─────────────»\n",
       "     └──────────┘└──────────┘└───┘└───────────┘└───────────┘             »\n",
       "«     ┌───────────┐                          ┌───────────┐┌───────────┐\n",
       "«q_0: ┤ Rz(θ[12]) ├───────────────────■──────┤ Ry(θ[16]) ├┤ Rz(θ[20]) ├\n",
       "«     ├───────────┤                 ┌─┴─┐    ├───────────┤├───────────┤\n",
       "«q_1: ┤ Rz(θ[13]) ├──────■──────────┤ X ├────┤ Ry(θ[17]) ├┤ Rz(θ[21]) ├\n",
       "«     └───────────┘    ┌─┴─┐    ┌───┴───┴───┐├───────────┤└───────────┘\n",
       "«q_2: ──────■──────────┤ X ├────┤ Ry(θ[18]) ├┤ Rz(θ[22]) ├─────────────\n",
       "«         ┌─┴─┐    ┌───┴───┴───┐├───────────┤└───────────┘             \n",
       "«q_3: ────┤ X ├────┤ Ry(θ[19]) ├┤ Rz(θ[23]) ├──────────────────────────\n",
       "«         └───┘    └───────────┘└───────────┘                          </pre>"
      ],
      "text/plain": [
       "     ┌──────────┐┌──────────┐                                ┌──────────┐»\n",
       "q_0: ┤ Ry(θ[0]) ├┤ Rz(θ[4]) ├────────────────────────■───────┤ Ry(θ[8]) ├»\n",
       "     ├──────────┤├──────────┤                      ┌─┴─┐     ├──────────┤»\n",
       "q_1: ┤ Ry(θ[1]) ├┤ Rz(θ[5]) ├───────────■──────────┤ X ├─────┤ Ry(θ[9]) ├»\n",
       "     ├──────────┤├──────────┤         ┌─┴─┐    ┌───┴───┴───┐┌┴──────────┤»\n",
       "q_2: ┤ Ry(θ[2]) ├┤ Rz(θ[6]) ├──■──────┤ X ├────┤ Ry(θ[10]) ├┤ Rz(θ[14]) ├»\n",
       "     ├──────────┤├──────────┤┌─┴─┐┌───┴───┴───┐├───────────┤└───────────┘»\n",
       "q_3: ┤ Ry(θ[3]) ├┤ Rz(θ[7]) ├┤ X ├┤ Ry(θ[11]) ├┤ Rz(θ[15]) ├─────────────»\n",
       "     └──────────┘└──────────┘└───┘└───────────┘└───────────┘             »\n",
       "«     ┌───────────┐                          ┌───────────┐┌───────────┐\n",
       "«q_0: ┤ Rz(θ[12]) ├───────────────────■──────┤ Ry(θ[16]) ├┤ Rz(θ[20]) ├\n",
       "«     ├───────────┤                 ┌─┴─┐    ├───────────┤├───────────┤\n",
       "«q_1: ┤ Rz(θ[13]) ├──────■──────────┤ X ├────┤ Ry(θ[17]) ├┤ Rz(θ[21]) ├\n",
       "«     └───────────┘    ┌─┴─┐    ┌───┴───┴───┐├───────────┤└───────────┘\n",
       "«q_2: ──────■──────────┤ X ├────┤ Ry(θ[18]) ├┤ Rz(θ[22]) ├─────────────\n",
       "«         ┌─┴─┐    ┌───┴───┴───┐├───────────┤└───────────┘             \n",
       "«q_3: ────┤ X ├────┤ Ry(θ[19]) ├┤ Rz(θ[23]) ├──────────────────────────\n",
       "«         └───┘    └───────────┘└───────────┘                          "
      ]
     },
     "execution_count": 57,
     "metadata": {},
     "output_type": "execute_result"
    }
   ],
   "source": [
    "ansatz = EfficientSU2(4, reps=2)\n",
    "ansatz.decompose().draw()"
   ]
  },
  {
   "cell_type": "code",
   "execution_count": 58,
   "metadata": {},
   "outputs": [],
   "source": [
    "nodes = ansatz.decompose().draw().nodes"
   ]
  },
  {
   "cell_type": "code",
   "execution_count": 59,
   "metadata": {},
   "outputs": [
    {
     "name": "stdout",
     "output_type": "stream",
     "text": [
      "4\n",
      "4\n",
      "1\n",
      "2\n",
      "3\n",
      "3\n",
      "3\n",
      "2\n",
      "3\n",
      "3\n",
      "2\n"
     ]
    }
   ],
   "source": [
    "for n in nodes:\n",
    "    print(len(n))"
   ]
  },
  {
   "cell_type": "code",
   "execution_count": 60,
   "metadata": {},
   "outputs": [
    {
     "data": {
      "text/plain": [
       "[DAGOpNode(op=Instruction(name='ry', num_qubits=1, num_clbits=0, params=[ParameterVectorElement(θ[0])]), qargs=(Qubit(QuantumRegister(4, 'q'), 0),), cargs=()),\n",
       " DAGOpNode(op=Instruction(name='ry', num_qubits=1, num_clbits=0, params=[ParameterVectorElement(θ[1])]), qargs=(Qubit(QuantumRegister(4, 'q'), 1),), cargs=()),\n",
       " DAGOpNode(op=Instruction(name='ry', num_qubits=1, num_clbits=0, params=[ParameterVectorElement(θ[2])]), qargs=(Qubit(QuantumRegister(4, 'q'), 2),), cargs=()),\n",
       " DAGOpNode(op=Instruction(name='ry', num_qubits=1, num_clbits=0, params=[ParameterVectorElement(θ[3])]), qargs=(Qubit(QuantumRegister(4, 'q'), 3),), cargs=())]"
      ]
     },
     "execution_count": 60,
     "metadata": {},
     "output_type": "execute_result"
    }
   ],
   "source": [
    "nodes[0]"
   ]
  },
  {
   "cell_type": "code",
   "execution_count": 6,
   "metadata": {},
   "outputs": [],
   "source": [
    "node = nodes[0][0]"
   ]
  },
  {
   "cell_type": "code",
   "execution_count": null,
   "metadata": {},
   "outputs": [],
   "source": []
  },
  {
   "cell_type": "code",
   "execution_count": 7,
   "metadata": {},
   "outputs": [],
   "source": [
    "import re\n",
    "def extract_numbers(qubit_string):\n",
    "    # Define a regular expression pattern to match the numbers in the string\n",
    "    pattern = r\"Qubit\\(QuantumRegister\\((\\d+), '[a-zA-Z]'\\), (\\d+)\\)\"\n",
    "    \n",
    "    # Use re.search to find the first match of the pattern in the string\n",
    "    match = re.search(pattern, qubit_string)\n",
    "    \n",
    "    # If a match is found, extract the numbers and convert them to integers\n",
    "    if match:\n",
    "        register_number = int(match.group(1))\n",
    "        qubit_index = int(match.group(2))\n",
    "        return register_number, qubit_index\n",
    "    else:\n",
    "        raise ValueError(\"The input string does not match the expected format\")\n"
   ]
  },
  {
   "cell_type": "code",
   "execution_count": 75,
   "metadata": {},
   "outputs": [],
   "source": [
    "def get_info_node(node):\n",
    "    name = node.name\n",
    "    num_qubits = node.op.num_qubits \n",
    "    params = [q.name for q in node.op.params]\n",
    "    qubit_loc = [extract_numbers(str(q))[1] for q in node.qargs]\n",
    "    return name, num_qubits, params, qubit_loc"
   ]
  },
  {
   "cell_type": "code",
   "execution_count": 76,
   "metadata": {},
   "outputs": [
    {
     "data": {
      "text/plain": [
       "DAGOpNode(op=Instruction(name='rz', num_qubits=1, num_clbits=0, params=[ParameterVectorElement(θ[4])]), qargs=(Qubit(QuantumRegister(4, 'q'), 0),), cargs=())"
      ]
     },
     "execution_count": 76,
     "metadata": {},
     "output_type": "execute_result"
    }
   ],
   "source": [
    "nodes[1][0]"
   ]
  },
  {
   "cell_type": "code",
   "execution_count": 77,
   "metadata": {},
   "outputs": [
    {
     "name": "stdout",
     "output_type": "stream",
     "text": [
      "('ry', 1, ['θ[0]'], [0])\t ,('ry', 1, ['θ[1]'], [1])\t ,('ry', 1, ['θ[2]'], [2])\t ,('ry', 1, ['θ[3]'], [3])\t ,\n",
      "('rz', 1, ['θ[4]'], [0])\t ,('rz', 1, ['θ[5]'], [1])\t ,('rz', 1, ['θ[6]'], [2])\t ,('rz', 1, ['θ[7]'], [3])\t ,\n",
      "('cx', 2, [], [2, 3])\t ,\n",
      "('cx', 2, [], [1, 2])\t ,('ry', 1, ['θ[11]'], [3])\t ,\n",
      "('cx', 2, [], [0, 1])\t ,('ry', 1, ['θ[10]'], [2])\t ,('rz', 1, ['θ[15]'], [3])\t ,\n",
      "('ry', 1, ['θ[8]'], [0])\t ,('ry', 1, ['θ[9]'], [1])\t ,('rz', 1, ['θ[14]'], [2])\t ,\n",
      "('rz', 1, ['θ[12]'], [0])\t ,('rz', 1, ['θ[13]'], [1])\t ,('cx', 2, [], [2, 3])\t ,\n",
      "('cx', 2, [], [1, 2])\t ,('ry', 1, ['θ[19]'], [3])\t ,\n",
      "('cx', 2, [], [0, 1])\t ,('ry', 1, ['θ[18]'], [2])\t ,('rz', 1, ['θ[23]'], [3])\t ,\n",
      "('ry', 1, ['θ[16]'], [0])\t ,('ry', 1, ['θ[17]'], [1])\t ,('rz', 1, ['θ[22]'], [2])\t ,\n",
      "('rz', 1, ['θ[20]'], [0])\t ,('rz', 1, ['θ[21]'], [1])\t ,\n"
     ]
    }
   ],
   "source": [
    "for node in nodes:\n",
    "    for n in node:\n",
    "        print(get_info_node(n), end=\"\\t ,\")\n",
    "    print(\"\")"
   ]
  },
  {
   "cell_type": "code",
   "execution_count": 120,
   "metadata": {},
   "outputs": [
    {
     "name": "stdout",
     "output_type": "stream",
     "text": [
      "\n"
     ]
    }
   ],
   "source": [
    "%%python\n",
    "\n",
    "import tkinter as tk\n",
    "#from matplotlib.backends.backend_tkagg import FigureCanvasTkAgg\n",
    "from qiskit import QuantumCircuit\n",
    "from qiskit.circuit.library import EfficientSU2\n",
    "\n",
    "import re\n",
    "def extract_numbers(qubit_string):\n",
    "    # Define a regular expression pattern to match the numbers in the string\n",
    "    pattern = r\"Qubit\\(QuantumRegister\\((\\d+), '[a-zA-Z]'\\), (\\d+)\\)\"\n",
    "    \n",
    "    # Use re.search to find the first match of the pattern in the string\n",
    "    match = re.search(pattern, qubit_string)\n",
    "    \n",
    "    # If a match is found, extract the numbers and convert them to integers\n",
    "    if match:\n",
    "        register_number = int(match.group(1))\n",
    "        qubit_index = int(match.group(2))\n",
    "        return register_number, qubit_index\n",
    "    else:\n",
    "        raise ValueError(\"The input string does not match the expected format\")\n",
    "\n",
    "def get_info_node(node):\n",
    "    name = node.name\n",
    "    num_qubits = node.op.num_qubits, \n",
    "    params = [q.name for q in node.op.params]\n",
    "    qubit_loc = [extract_numbers(str(q)) for q in node.qargs]\n",
    "    return name, num_qubits, params, qubit_loc\n",
    "    \n",
    "style_dict = {\n",
    "    \"H\":{\n",
    "        \"bg\": \"red\",\n",
    "        \"tc\": \"black\",\n",
    "    },\n",
    "    \"RX\":{\n",
    "        \"bg\": \"blue\",\n",
    "        \"tc\": \"white\"\n",
    "    },\n",
    "    \"U\":{\n",
    "        \"bg\": \"yellow\",\n",
    "        \"tc\": \"black\"\n",
    "    }\n",
    "}\n",
    "class CircuitCanvas(tk.Canvas):\n",
    "    def __init__(self, master=None, **kwargs):\n",
    "        super().__init__(master, **kwargs)\n",
    "        self.pack(side=tk.LEFT)\n",
    "\n",
    "        self.loc = [100, 90]\n",
    "        self.d = 40\n",
    "\n",
    "        self.nodes =[]\n",
    "        self.draw_sample()\n",
    "    def set_dim(self, x0, y0, dd =30):\n",
    "        self.loc = [x0, y0]\n",
    "        self.d = dd\n",
    "    #def draw_circuit_node(self, qnodes):\n",
    "    #    for node in qnodes:\n",
    "    #        name, n_q, params, qub_loc = get_info_node(qnode)\n",
    "    #    for \n",
    "        \n",
    "    def draw_sample(self):\n",
    "        dx, dy = self.loc\n",
    "\n",
    "        self.create_line(100, dy, 100+dx, dy,fill=\"black\")\n",
    "        self.create_line(100, dy+self.d, 100+dx, dy+self.d,fill=\"black\")\n",
    "        self.create_line(100, dy+2*self.d, 100+dx, dy+2*self.d,fill=\"black\")\n",
    "        self.create_line(100, dy+3*self.d, 100+dx, dy+3*self.d,fill=\"black\")\n",
    "\n",
    "        #rdx = 50\n",
    "        #id = self.create_rectangle(150-rdx/2, 3*dy-rdx/2, 150+rdx/2, 3*dy+rdx/2, fill=\"black\")\n",
    "        self.gate((dx, dy), \"H\", \"red\")\n",
    "        self.param_gate((dx+self.d, dy), \"RX\", \"Ψ[0]\", \"red\")\n",
    "        self.gate((dx, dy+self.d), \"H\", \"pink\")\n",
    "\n",
    "        \n",
    "        self.multi_gate((dx+self.d, dy+self.d), 3, \"U\", \"blue\", 3)\n",
    "        self.gate((dx+self.d, dy+self.d), \"H\", \"pink\")\n",
    "        self.gate((dx+2*self.d, dy+self.d), \"H\", \"pink\")\n",
    "        self.gate((dx+3*self.d, dy+self.d), \"H\", \"pink\")\n",
    "\n",
    "\n",
    "        self.gate((dx+self.d,   dy+3*self.d), \"H\", \"pink\")\n",
    "        self.gate((dx+2*self.d, dy+3*self.d), \"H\", \"pink\")\n",
    "        self.gate((dx+3*self.d, dy+3*self.d), \"H\", \"pink\")\n",
    "        self.cgate(\n",
    "            (dx+4*self.d, dy+self.d), \n",
    "            (dx+4*self.d, dy+2*self.d), \n",
    "            (True,[(dx+4*self.d, dy+2*self.d), \"⊕\", \"white\", 30, False]),\n",
    "            cont_type = 1\n",
    "        )\n",
    "        self.cgate(\n",
    "            (dx+5*self.d, dy-self.d), \n",
    "            (dx+5*self.d, dy+2*self.d), \n",
    "            (True,[(dx+5*self.d, dy+2*self.d), \"⊕\", \"white\", 30, False]),\n",
    "            cont_type = 0\n",
    "        )\n",
    "    def draw_circuit(self, nodes):\n",
    "        x, y = self.loc\n",
    "        for node in nodes:\n",
    "            for n in node:\n",
    "                name, qubits, params, loc = get_info_node(n)\n",
    "                if name[0] == \"c\":\n",
    "                    self.cgate(\n",
    "                        (x0, y0),\n",
    "                        (x1, y1),\n",
    "                        (),\n",
    "                        cont_type=0\n",
    "                    )\n",
    "                elif qubits==1:\n",
    "                    self.gate((x,y), name, )\n",
    "                else:\n",
    "                    self.multi_gate()\n",
    "            x += self.d\n",
    "\n",
    "    print(\"\")\n",
    "    #------\n",
    "    def gate(self, loc, text, color, font_size = 15, bg=True):\n",
    "        x, y = loc\n",
    "        dd = self.d/2\n",
    "        gate_id = {\n",
    "            \"type\": \"single\",\n",
    "            \"rec\": self.create_rectangle(x-dd, y+dd, x+dd, y-dd, fill=color) if bg else None, \n",
    "            \"text\": self.create_text(x, y, text=text, font=('Helvetica', font_size), fill='black'),\n",
    "            \"params\": (loc, text, color, font_size, bg)\n",
    "            }\n",
    "        return gate_id\n",
    "    def param_gate(self, loc, text, param, color, font_size = 15, bg=True):\n",
    "        x, y = loc\n",
    "        dd = self.d/2\n",
    "        gate_id = {\n",
    "            \"type\": \"param_single\",\n",
    "            \"rec\": self.create_rectangle(x-dd, y+dd, x+dd, y-dd, fill=color) if bg else None, \n",
    "            \"text\":  self.create_text(x, y-dd/4, text=text, font=('Helvetica', int(font_size/1.2)), fill='black'),\n",
    "            \"param\": self.create_text(x, y+dd/2, text=param, font=('Helvetica', int(font_size/1.3)), fill='black'),\n",
    "            \"param\": (loc, text, param, color, font_size, bg)\n",
    "            }\n",
    "        return gate_id   \n",
    "    def multi_gate(self, loc, num, text, color, space=1, font_size = 15, bg=True):\n",
    "        x, y = loc\n",
    "        dd = self.d/2\n",
    "        gate_id = {\n",
    "            \"type\": \"multi\",\n",
    "            \"rec\":self.create_rectangle(x-dd, y+dd+(num-1)*self.d, x+space*self.d -dd, y-dd, fill=color), \n",
    "            \"text\": self.create_text(x+space*self.d/2 -dd, y+(num-1)*self.d/2, text=text, font=('Helvetica', 15), fill='black'),\n",
    "            \"param\": (loc, num, text, color, 1, font_size, bg)\n",
    "            }\n",
    "        return gate_id\n",
    "    def cgate(self, loc, tloc, gate_pack, cont_type=0):\n",
    "        x, y = loc\n",
    "        xt, yt = tloc\n",
    "        dd = self.d/6\n",
    "        fill_type = \"black\" if cont_type==0 else \"white\"\n",
    "\n",
    "        line_id = self.create_line(x, y, xt, yt,fill=\"black\")\n",
    "        g_type, args = gate_pack\n",
    "        gate_id = {\n",
    "            \"type\": \"control\",\n",
    "            \"ctrl\": self.create_oval(x-dd, y-dd, x+dd, y+dd, fill=fill_type, outline=\"black\"),\n",
    "            \"line\": line_id,\n",
    "            \"subgate\": self.gate(*args) if g_type else self.multi_gate(*args) ,\n",
    "            \"param\": (loc, tloc, gate_pack, cont_type)\n",
    "        }\n",
    "        return gate_id\n",
    "\n",
    "# Create the main window\n",
    "root = tk.Tk()\n",
    "root.title(\"Ising VQA\")\n",
    "\n",
    "casnvas_frame = tk.LabelFrame(root, text=\"Graph Canvas\", relief=\"solid\", bd=2)\n",
    "casnvas_frame.pack(side=tk.LEFT, fill=tk.Y)\n",
    "canvas = CircuitCanvas(casnvas_frame, width=400, height=400, bg=\"white\")\n",
    "\n",
    "ansatz = EfficientSU2(4, reps=2)\n",
    "nodes = ansatz.decompose().draw().nodes\n",
    "#canvas.draw_circuit(nodes)\n",
    "\n",
    "root.mainloop()"
   ]
  },
  {
   "cell_type": "code",
   "execution_count": 177,
   "metadata": {},
   "outputs": [
    {
     "name": "stdout",
     "output_type": "stream",
     "text": [
      "Qubits 4\n",
      "totla_len: 18\n"
     ]
    }
   ],
   "source": [
    "%%python\n",
    "\n",
    "import tkinter as tk\n",
    "from tkinter import Scrollbar\n",
    "from tkinter import Event\n",
    "import random\n",
    "from qiskit.circuit.library import EfficientSU2\n",
    "import re\n",
    "\n",
    "def extract_numbers(qubit_string):\n",
    "    pattern = r\"Qubit\\(QuantumRegister\\((\\d+), '[a-zA-Z]'\\), (\\d+)\\)\"\n",
    "    match = re.search(pattern, qubit_string)\n",
    "    if match:\n",
    "        register_number = int(match.group(1))\n",
    "        qubit_index = int(match.group(2))\n",
    "        return register_number, qubit_index\n",
    "    else:\n",
    "        raise ValueError(\"The input string does not match the expected format\")\n",
    "\n",
    "def get_info_node(node):\n",
    "    name = node.name\n",
    "    num_qubits = node.op.num_qubits \n",
    "    params = [q.name for q in node.op.params]\n",
    "    qubit_loc = [extract_numbers(str(q))[1] for q in node.qargs]\n",
    "    return name, num_qubits, params, qubit_loc\n",
    "\n",
    "\n",
    "# Style \n",
    "\n",
    "style_gate = {\n",
    "    \"h\":{\n",
    "        \"bg\": \"red\",\n",
    "        \"tc\": \"black\",\n",
    "    },\n",
    "    \"rx\":{\n",
    "        \"bg\": \"blue\",\n",
    "        \"tc\": \"white\"\n",
    "    },\n",
    "    \"ry\":{\n",
    "        \"bg\": \"cyan\",\n",
    "        \"tc\": \"white\"\n",
    "    },\n",
    "    \"rz\":{\n",
    "        \"bg\": \"pink\",\n",
    "        \"tc\": \"white\"\n",
    "    },\n",
    "    \"u\":{\n",
    "        \"bg\": \"yellow\",\n",
    "        \"tc\": \"black\"\n",
    "    }\n",
    "}\n",
    "\n",
    "class CircuitCanvas(tk.Canvas):\n",
    "    def __init__(self, master=None, **kwargs):\n",
    "        super().__init__(master, **kwargs)\n",
    "        self.pack(side=tk.LEFT)\n",
    "        self.loc = [100, 90]\n",
    "        self.d = 40\n",
    "        self.nodes = []\n",
    "        self.gates = []\n",
    "        self.param_index = []\n",
    "        #self.draw_sample()\n",
    "        self.configure(scrollregion=self.bbox(\"all\"))\n",
    "        \n",
    "        # Adding scrollbars\n",
    "        self.hbar = Scrollbar(master, orient=tk.HORIZONTAL, command=self.xview)\n",
    "        self.hbar.pack(side=tk.BOTTOM, fill=tk.X)\n",
    "        self.configure(xscrollcommand=self.hbar.set)\n",
    "\n",
    "        self.vbar = Scrollbar(master, orient=tk.VERTICAL, command=self.yview)\n",
    "        self.vbar.pack(side=tk.RIGHT, fill=tk.Y)\n",
    "        self.configure(yscrollcommand=self.vbar.set)\n",
    "\n",
    "        # Mouse zoom \n",
    "        self.bind(\"<MouseWheel>\", self.zoom)\n",
    "        self.scale_factor = 1.0\n",
    "\n",
    "    def zoom(self, event: Event):\n",
    "        scale = 1.0\n",
    "        if event.delta > 0:\n",
    "            scale = 1.1\n",
    "            self.scale_factor *= scale\n",
    "        elif event.delta < 0:\n",
    "            scale = 0.9\n",
    "            self.scale_factor *= scale\n",
    "\n",
    "        self.scale(\"all\", event.x, event.y, scale, scale)\n",
    "        self.configure(scrollregion=self.bbox(\"all\"))\n",
    "\n",
    "    def set_dim(self, x0, y0, dd=30):\n",
    "        self.loc = [x0, y0]\n",
    "        self.d = dd\n",
    "\n",
    "    def cal_loc(self, i, j):\n",
    "        x0, y0 = self.loc\n",
    "\n",
    "        x = x0+i*self.d\n",
    "        y = y0+j*self.d\n",
    "        return x, y\n",
    "    def draw_circuit(self, nodes):\n",
    "        x, y = self.loc\n",
    "        qubits = extract_numbers(str(nodes[0][0].qargs))[0]\n",
    "        total_len = len(nodes)\n",
    "\n",
    "        print(\"Qubits\", qubits)\n",
    "        print(\"totla_len:\", total_len)\n",
    "        # Draw lines\n",
    "        for i in range(qubits):\n",
    "            dy = i*self.d\n",
    "            self.create_line(x-self.d, y+dy-1, x+total_len*self.d, y+dy-1, fill=\"black\")\n",
    "            self.create_line(x-self.d, y+dy, x+total_len*self.d, y+dy, fill=\"black\")\n",
    "            self.create_line(x-self.d, y+dy+1, x+total_len*self.d, y+dy+1, fill=\"black\")\n",
    "\n",
    "        for i, node in enumerate(nodes):\n",
    "            for j, n in enumerate(node):\n",
    "                name, qubits, params, loc = get_info_node(n)\n",
    "                if name[0] == \"c\":\n",
    "                    x0, y0 = self.cal_loc(i, loc[0])\n",
    "                    x1, y1 = self.cal_loc(i, loc[1])\n",
    "\n",
    "                    gate_param = (\n",
    "                        True, \n",
    "                        [(x1, y1), \n",
    "                        \"⊕\", \"white\", 30, \n",
    "                        False])\n",
    "                    self.gates.append(\n",
    "                        self.cgate((x0, y0), (x1, y1), gate_param, cont_type=0)\n",
    "                    )\n",
    "\n",
    "                elif qubits == 1:\n",
    "                    #print(\"qubit 1:\", name)\n",
    "                    x0, y0 = self.cal_loc(i, loc[0])\n",
    "                    custom_style = style_gate[name]\n",
    "                    #print(custom_style)\n",
    "                    if len(params) ==0:\n",
    "                        self.gates.append(\n",
    "                            self.gate((x0, y0), name, custom_style[\"bg\"])\n",
    "                        )\n",
    "                    # if param exists\n",
    "                    else:\n",
    "                        self.param_index.append(len(self.gates))\n",
    "                        self.gates.append(\n",
    "                            self.param_gate(\n",
    "                                (x0, y0), \n",
    "                                name, \n",
    "                                params[0],\n",
    "                                custom_style[\"bg\"])\n",
    "                        )\n",
    "                else:\n",
    "                    x0, y0 = self.cal_loc(i, loc[0])\n",
    "                    if len(params) == 0:\n",
    "                        self.multi_gate((x0, y0), qubits, name, \"pink\", 1)\n",
    "                    else:\n",
    "                        self.param_index.append(len(self.gates))\n",
    "                        self.gates.append(\n",
    "                            self.param_multi_gate((x0, y0), qubits, name, params[0], \"pink\", 1)\n",
    "                        )\n",
    "            x += self.d\n",
    "\n",
    "    def gate(self, loc, text, color, font_size=15, bg=True):\n",
    "        x, y = loc\n",
    "        dd = self.d / 2\n",
    "        gate_id = {\n",
    "            \"type\": \"single\",\n",
    "            \"rec\": self.create_rectangle(x-dd, y+dd, x+dd, y-dd, fill=color) if bg else None,\n",
    "            \"text\": self.create_text(x, y, text=text, font=('Helvetica', font_size), fill='black'),\n",
    "            \"params\": (loc, text, color, font_size, bg)\n",
    "        }\n",
    "        return gate_id\n",
    "\n",
    "    def param_gate(self, loc, text, param, color, font_size=15, bg=True):\n",
    "        x, y = loc\n",
    "        dd = self.d / 2\n",
    "        gate_id = {\n",
    "            \"type\": \"param_single\",\n",
    "            \"rec\": self.create_rectangle(x-dd, y+dd, x+dd, y-dd, fill=color) if bg else None,\n",
    "            \"text\": self.create_text(x, y-dd/4, text=text, font=('Helvetica', int(font_size/1.2)), fill='black'),\n",
    "            \"param\": self.create_text(x, y+dd/2, text=param, font=('Helvetica', int(font_size/1.3)), fill='black'),\n",
    "            \"params\": (loc, text, param, color, font_size, bg)\n",
    "        }\n",
    "        return gate_id\n",
    "\n",
    "    def multi_gate(self, loc, num, text, color, space=1, font_size=15, bg=True):\n",
    "        x, y = loc\n",
    "        dd = self.d / 2\n",
    "        gate_id = {\n",
    "            \"type\": \"multi\",\n",
    "            \"rec\": self.create_rectangle(x-dd, y+dd+(num-1)*self.d, x+space*self.d-dd, y-dd, fill=color),\n",
    "            \"text\": self.create_text(x+space*self.d/2 -dd, y+(num-1)*self.d/2, text=text, font=('Helvetica', 15), fill='black'),\n",
    "            \"params\": (loc, num, text, color, 1, font_size, bg)\n",
    "        }\n",
    "        return gate_id\n",
    "    def param_multi_gate(self, loc, num, text, param, color, space=1, font_size=15, bg=True):\n",
    "        x, y = loc\n",
    "        dd = self.d / 2\n",
    "\n",
    "        cx, cy = x, y \n",
    "\n",
    "        gate_id = {\n",
    "            \"type\": \"multi\",\n",
    "            \"rec\": self.create_rectangle(x-dd, y+dd+(num-1)*self.d, x+space*self.d -dd, y-dd, fill=color),\n",
    "            \"text\": self.create_text(cx+space*self.d/2 -dd, cy+(num-1)*dd/2, text=text, font=('Helvetica', int(font_size/1.2)), fill='black'),\n",
    "            \"param\": self.create_text(cx+space*self.d/2 -dd, cy+(num+1)*dd/2, text=param, font=('Helvetica', int(font_size/1.3)), fill='black'),\n",
    "            \"params\": (loc, num, text, color, 1, font_size, bg)\n",
    "        }\n",
    "        return gate_id\n",
    "    def cgate(self, loc, tloc, gate_pack, cont_type=0):\n",
    "        x, y = loc\n",
    "        xt, yt = tloc\n",
    "        dd = self.d / 6\n",
    "        fill_type = \"black\" if cont_type == 0 else \"white\"\n",
    "        line_id = self.create_line(x, y, xt, yt, fill=\"black\")\n",
    "        g_type, args = gate_pack\n",
    "        gate_id = {\n",
    "            \"type\": \"control\",\n",
    "            \"ctrl\": self.create_oval(x-dd, y-dd, x+dd, y+dd, fill=fill_type, outline=\"black\"),\n",
    "            \"line\": line_id,\n",
    "            \"subgate\": self.gate(*args) if g_type else self.multi_gate(*args),\n",
    "            \"params\": (loc, tloc, gate_pack, cont_type)\n",
    "        }\n",
    "        return gate_id\n",
    "\n",
    "    def change_random_rectangle_color(self):\n",
    "        if self.gates:\n",
    "            idx = random.choice(self.param_index)\n",
    "            random_gate = self.gates[idx]\n",
    "            if random_gate[\"type\"] in [\"single\", \"param_single\", \"multi\"]:\n",
    "                colors = [\"red\", \"blue\", \"yellow\", \"green\", \"purple\", \"orange\", \"pink\"]\n",
    "                new_color = random.choice(colors)\n",
    "                self.itemconfig(random_gate[\"rec\"], fill=new_color)\n",
    "    def update_color_by_params(self, params):\n",
    "        if self.gates:\n",
    "            for pidx, param in zip(self.param_index, params):\n",
    "                gate = self.gates[pidx]\n",
    "                name = gate[\"text\"]\n",
    "                color_map = cmap[name]\n",
    "                new_color = color_map[params]\n",
    "                self.itemconfig(gate, fill=new_color)\n",
    "    #def \n",
    "\n",
    "# Create the main window\n",
    "root = tk.Tk()\n",
    "root.title(\"Ising VQA\")\n",
    "\n",
    "canvas_frame = tk.LabelFrame(root, text=\"Graph Canvas\", relief=\"solid\", bd=2)\n",
    "canvas_frame.pack(side=tk.LEFT, fill=tk.Y)\n",
    "canvas = CircuitCanvas(canvas_frame, width=400, height=400, bg=\"white\")\n",
    "\n",
    "button_frame = tk.Frame(root)\n",
    "button_frame.pack(side=tk.RIGHT, fill=tk.Y)\n",
    "change_color_button = tk.Button(button_frame, text=\"Change Color\", command=canvas.change_random_rectangle_color)\n",
    "change_color_button.pack(pady=20)\n",
    "\n",
    "#-----------\n",
    "from qiskit.circuit.library import ExcitationPreserving\n",
    "ansatz = ExcitationPreserving(4, entanglement='linear')\n",
    "#ansatz.decompose().draw()\n",
    "#ansatz = EfficientSU2(4, reps=2)\n",
    "nodes = ansatz.decompose().draw().nodes\n",
    "canvas.draw_circuit(nodes)\n",
    "\n",
    "root.mainloop()\n"
   ]
  },
  {
   "cell_type": "code",
   "execution_count": 169,
   "metadata": {},
   "outputs": [],
   "source": [
    "from qiskit.circuit.library import ExcitationPreserving\n",
    "ansatz = ExcitationPreserving(4, entanglement='linear')\n",
    "ansatz.decompose().draw()"
   ]
  },
  {
   "cell_type": "code",
   "execution_count": 166,
   "metadata": {},
   "outputs": [],
   "source": [
    "from qiskit.circuit.library import QAOAAnsatz\n",
    "from qiskit.quantum_info.operators import Operator, Pauli, SparsePauliOp\n",
    "import numpy as np\n",
    "\n",
    "A = np.matrix(np.random.random((16,16)))\n",
    "B = np.matrix(np.random.random((16,16)))\n",
    "M = A+1j*B\n",
    "H = M@M.H\n",
    "#---------------\n",
    "H = Operator(3*np.matrix(np.diag(np.random.random(16))))\n",
    "\n",
    "ansatz = QAOAAnsatz(H)"
   ]
  },
  {
   "cell_type": "code",
   "execution_count": 168,
   "metadata": {},
   "outputs": [
    {
     "data": {
      "text/html": [
       "<pre style=\"word-wrap: normal;white-space: pre;background: #fff0;line-height: 1.1;font-family: &quot;Courier New&quot;,Courier,monospace\">     ┌───┐┌──────────────┐┌─────────────────────────────────────────────┐\n",
       "q_0: ┤ H ├┤0             ├┤0                                            ├\n",
       "     ├───┤│              ││                                             │\n",
       "q_1: ┤ H ├┤1             ├┤1                                            ├\n",
       "     ├───┤│  Hamiltonian ││  exp(-it (XIII + IXII + IIXI + IIIX))(β[0]) │\n",
       "q_2: ┤ H ├┤2             ├┤2                                            ├\n",
       "     ├───┤│              ││                                             │\n",
       "q_3: ┤ H ├┤3             ├┤3                                            ├\n",
       "     └───┘└──────────────┘└─────────────────────────────────────────────┘</pre>"
      ],
      "text/plain": [
       "     ┌───┐┌──────────────┐┌─────────────────────────────────────────────┐\n",
       "q_0: ┤ H ├┤0             ├┤0                                            ├\n",
       "     ├───┤│              ││                                             │\n",
       "q_1: ┤ H ├┤1             ├┤1                                            ├\n",
       "     ├───┤│  Hamiltonian ││  exp(-it (XIII + IXII + IIXI + IIIX))(β[0]) │\n",
       "q_2: ┤ H ├┤2             ├┤2                                            ├\n",
       "     ├───┤│              ││                                             │\n",
       "q_3: ┤ H ├┤3             ├┤3                                            ├\n",
       "     └───┘└──────────────┘└─────────────────────────────────────────────┘"
      ]
     },
     "execution_count": 168,
     "metadata": {},
     "output_type": "execute_result"
    }
   ],
   "source": [
    "ansatz.decompose().draw()"
   ]
  },
  {
   "cell_type": "code",
   "execution_count": 158,
   "metadata": {},
   "outputs": [
    {
     "data": {
      "text/html": [
       "<pre style=\"word-wrap: normal;white-space: pre;background: #fff0;line-height: 1.1;font-family: &quot;Courier New&quot;,Courier,monospace\">     ┌──────────────────┐\n",
       "q_0: ┤0                 ├\n",
       "     │                  │\n",
       "q_1: ┤1                 ├\n",
       "     │  QAOA(γ[0],β[0]) │\n",
       "q_2: ┤2                 ├\n",
       "     │                  │\n",
       "q_3: ┤3                 ├\n",
       "     └──────────────────┘</pre>"
      ],
      "text/plain": [
       "     ┌──────────────────┐\n",
       "q_0: ┤0                 ├\n",
       "     │                  │\n",
       "q_1: ┤1                 ├\n",
       "     │  QAOA(γ[0],β[0]) │\n",
       "q_2: ┤2                 ├\n",
       "     │                  │\n",
       "q_3: ┤3                 ├\n",
       "     └──────────────────┘"
      ]
     },
     "execution_count": 158,
     "metadata": {},
     "output_type": "execute_result"
    }
   ],
   "source": [
    "ansatz.draw()"
   ]
  },
  {
   "cell_type": "code",
   "execution_count": 132,
   "metadata": {},
   "outputs": [
    {
     "data": {
      "text/html": [
       "<pre style=\"word-wrap: normal;white-space: pre;background: #fff0;line-height: 1.1;font-family: &quot;Courier New&quot;,Courier,monospace\">     ┌──────────┐┌──────────┐                                ┌──────────┐»\n",
       "q_0: ┤ Ry(θ[0]) ├┤ Rz(θ[4]) ├────────────────────────■───────┤ Ry(θ[8]) ├»\n",
       "     ├──────────┤├──────────┤                      ┌─┴─┐     ├──────────┤»\n",
       "q_1: ┤ Ry(θ[1]) ├┤ Rz(θ[5]) ├───────────■──────────┤ X ├─────┤ Ry(θ[9]) ├»\n",
       "     ├──────────┤├──────────┤         ┌─┴─┐    ┌───┴───┴───┐┌┴──────────┤»\n",
       "q_2: ┤ Ry(θ[2]) ├┤ Rz(θ[6]) ├──■──────┤ X ├────┤ Ry(θ[10]) ├┤ Rz(θ[14]) ├»\n",
       "     ├──────────┤├──────────┤┌─┴─┐┌───┴───┴───┐├───────────┤└───────────┘»\n",
       "q_3: ┤ Ry(θ[3]) ├┤ Rz(θ[7]) ├┤ X ├┤ Ry(θ[11]) ├┤ Rz(θ[15]) ├─────────────»\n",
       "     └──────────┘└──────────┘└───┘└───────────┘└───────────┘             »\n",
       "«     ┌───────────┐                          ┌───────────┐┌───────────┐\n",
       "«q_0: ┤ Rz(θ[12]) ├───────────────────■──────┤ Ry(θ[16]) ├┤ Rz(θ[20]) ├\n",
       "«     ├───────────┤                 ┌─┴─┐    ├───────────┤├───────────┤\n",
       "«q_1: ┤ Rz(θ[13]) ├──────■──────────┤ X ├────┤ Ry(θ[17]) ├┤ Rz(θ[21]) ├\n",
       "«     └───────────┘    ┌─┴─┐    ┌───┴───┴───┐├───────────┤└───────────┘\n",
       "«q_2: ──────■──────────┤ X ├────┤ Ry(θ[18]) ├┤ Rz(θ[22]) ├─────────────\n",
       "«         ┌─┴─┐    ┌───┴───┴───┐├───────────┤└───────────┘             \n",
       "«q_3: ────┤ X ├────┤ Ry(θ[19]) ├┤ Rz(θ[23]) ├──────────────────────────\n",
       "«         └───┘    └───────────┘└───────────┘                          </pre>"
      ],
      "text/plain": [
       "     ┌──────────┐┌──────────┐                                ┌──────────┐»\n",
       "q_0: ┤ Ry(θ[0]) ├┤ Rz(θ[4]) ├────────────────────────■───────┤ Ry(θ[8]) ├»\n",
       "     ├──────────┤├──────────┤                      ┌─┴─┐     ├──────────┤»\n",
       "q_1: ┤ Ry(θ[1]) ├┤ Rz(θ[5]) ├───────────■──────────┤ X ├─────┤ Ry(θ[9]) ├»\n",
       "     ├──────────┤├──────────┤         ┌─┴─┐    ┌───┴───┴───┐┌┴──────────┤»\n",
       "q_2: ┤ Ry(θ[2]) ├┤ Rz(θ[6]) ├──■──────┤ X ├────┤ Ry(θ[10]) ├┤ Rz(θ[14]) ├»\n",
       "     ├──────────┤├──────────┤┌─┴─┐┌───┴───┴───┐├───────────┤└───────────┘»\n",
       "q_3: ┤ Ry(θ[3]) ├┤ Rz(θ[7]) ├┤ X ├┤ Ry(θ[11]) ├┤ Rz(θ[15]) ├─────────────»\n",
       "     └──────────┘└──────────┘└───┘└───────────┘└───────────┘             »\n",
       "«     ┌───────────┐                          ┌───────────┐┌───────────┐\n",
       "«q_0: ┤ Rz(θ[12]) ├───────────────────■──────┤ Ry(θ[16]) ├┤ Rz(θ[20]) ├\n",
       "«     ├───────────┤                 ┌─┴─┐    ├───────────┤├───────────┤\n",
       "«q_1: ┤ Rz(θ[13]) ├──────■──────────┤ X ├────┤ Ry(θ[17]) ├┤ Rz(θ[21]) ├\n",
       "«     └───────────┘    ┌─┴─┐    ┌───┴───┴───┐├───────────┤└───────────┘\n",
       "«q_2: ──────■──────────┤ X ├────┤ Ry(θ[18]) ├┤ Rz(θ[22]) ├─────────────\n",
       "«         ┌─┴─┐    ┌───┴───┴───┐├───────────┤└───────────┘             \n",
       "«q_3: ────┤ X ├────┤ Ry(θ[19]) ├┤ Rz(θ[23]) ├──────────────────────────\n",
       "«         └───┘    └───────────┘└───────────┘                          "
      ]
     },
     "execution_count": 132,
     "metadata": {},
     "output_type": "execute_result"
    }
   ],
   "source": [
    "ansatz.decompose().draw()"
   ]
  },
  {
   "cell_type": "code",
   "execution_count": 112,
   "metadata": {},
   "outputs": [],
   "source": [
    "nodes = ansatz.decompose().draw().nodes"
   ]
  },
  {
   "cell_type": "code",
   "execution_count": 113,
   "metadata": {},
   "outputs": [
    {
     "data": {
      "text/plain": [
       "[DAGOpNode(op=Instruction(name='ry', num_qubits=1, num_clbits=0, params=[ParameterVectorElement(θ[0])]), qargs=(Qubit(QuantumRegister(4, 'q'), 0),), cargs=()),\n",
       " DAGOpNode(op=Instruction(name='ry', num_qubits=1, num_clbits=0, params=[ParameterVectorElement(θ[1])]), qargs=(Qubit(QuantumRegister(4, 'q'), 1),), cargs=()),\n",
       " DAGOpNode(op=Instruction(name='ry', num_qubits=1, num_clbits=0, params=[ParameterVectorElement(θ[2])]), qargs=(Qubit(QuantumRegister(4, 'q'), 2),), cargs=()),\n",
       " DAGOpNode(op=Instruction(name='ry', num_qubits=1, num_clbits=0, params=[ParameterVectorElement(θ[3])]), qargs=(Qubit(QuantumRegister(4, 'q'), 3),), cargs=())]"
      ]
     },
     "execution_count": 113,
     "metadata": {},
     "output_type": "execute_result"
    }
   ],
   "source": [
    "nodes[0]"
   ]
  },
  {
   "cell_type": "code",
   "execution_count": 115,
   "metadata": {},
   "outputs": [],
   "source": [
    "n = nodes[0][0]"
   ]
  },
  {
   "cell_type": "code",
   "execution_count": 119,
   "metadata": {},
   "outputs": [
    {
     "name": "stdout",
     "output_type": "stream",
     "text": [
      "('ry', 1, ['θ[0]'], [0]), ('ry', 1, ['θ[1]'], [1]), ('ry', 1, ['θ[2]'], [2]), ('ry', 1, ['θ[3]'], [3]), \n",
      "('rz', 1, ['θ[4]'], [0]), ('rz', 1, ['θ[5]'], [1]), ('rz', 1, ['θ[6]'], [2]), ('rz', 1, ['θ[7]'], [3]), \n",
      "('cx', 2, [], [2, 3]), \n",
      "('cx', 2, [], [1, 2]), ('ry', 1, ['θ[11]'], [3]), \n",
      "('cx', 2, [], [0, 1]), ('ry', 1, ['θ[10]'], [2]), ('rz', 1, ['θ[15]'], [3]), \n",
      "('ry', 1, ['θ[8]'], [0]), ('ry', 1, ['θ[9]'], [1]), ('rz', 1, ['θ[14]'], [2]), \n",
      "('rz', 1, ['θ[12]'], [0]), ('rz', 1, ['θ[13]'], [1]), ('cx', 2, [], [2, 3]), \n",
      "('cx', 2, [], [1, 2]), ('ry', 1, ['θ[19]'], [3]), \n",
      "('cx', 2, [], [0, 1]), ('ry', 1, ['θ[18]'], [2]), ('rz', 1, ['θ[23]'], [3]), \n",
      "('ry', 1, ['θ[16]'], [0]), ('ry', 1, ['θ[17]'], [1]), ('rz', 1, ['θ[22]'], [2]), \n",
      "('rz', 1, ['θ[20]'], [0]), ('rz', 1, ['θ[21]'], [1]), \n"
     ]
    }
   ],
   "source": [
    "for node in nodes:\n",
    "    for n in node:\n",
    "        print(get_info_node(n), end=\", \")\n",
    "    print()"
   ]
  },
  {
   "cell_type": "code",
   "execution_count": 116,
   "metadata": {},
   "outputs": [],
   "source": [
    "name, qubits, params, loc = get_info_node(n)"
   ]
  },
  {
   "cell_type": "code",
   "execution_count": 117,
   "metadata": {},
   "outputs": [
    {
     "data": {
      "text/plain": [
       "('ry', 1, ['θ[0]'], [0])"
      ]
     },
     "execution_count": 117,
     "metadata": {},
     "output_type": "execute_result"
    }
   ],
   "source": [
    "name, qubits, params, loc"
   ]
  },
  {
   "cell_type": "code",
   "execution_count": 179,
   "metadata": {},
   "outputs": [],
   "source": [
    "%%python\n",
    "\n",
    "import tkinter as tk\n",
    "\n",
    "def interpolate_color(color1, color2, t):\n",
    "    \"\"\"\n",
    "    Interpolate between two colors.\n",
    "    \n",
    "    :param color1: Tuple of RGB values (r1, g1, b1)\n",
    "    :param color2: Tuple of RGB values (r2, g2, b2)\n",
    "    :param t: Float between 0 and 1\n",
    "    :return: Interpolated color as a tuple of RGB values\n",
    "    \"\"\"\n",
    "    r = int(color1[0] + (color2[0] - color1[0]) * t)\n",
    "    g = int(color1[1] + (color2[1] - color1[1]) * t)\n",
    "    b = int(color1[2] + (color2[2] - color1[2]) * t)\n",
    "    return (r, g, b)\n",
    "\n",
    "def color_map_function(t):\n",
    "    \"\"\"\n",
    "    Map a value between 0 and 1 to a color.\n",
    "    \n",
    "    :param t: Float between 0 and 1\n",
    "    :return: Color in '#RRGGBB' format\n",
    "    \"\"\"\n",
    "    color1 = (255, 0, 0)  # Red\n",
    "    color2 = (0, 0, 255)  # Blue\n",
    "    color = interpolate_color(color1, color2, t)\n",
    "    return f'#{color[0]:02x}{color[1]:02x}{color[2]:02x}'\n",
    "\n",
    "def draw_gradient(canvas, width, height):\n",
    "    \"\"\"\n",
    "    Draw a vertical gradient on a Tkinter canvas.\n",
    "    \n",
    "    :param canvas: Tkinter Canvas object\n",
    "    :param width: Width of the canvas\n",
    "    :param height: Height of the canvas\n",
    "    \"\"\"\n",
    "    for i in range(height):\n",
    "        t = i / height\n",
    "        color = color_map_function(t)\n",
    "        canvas.create_line(0, i, width, i, fill=color)\n",
    "\n",
    "# Create a Tkinter window\n",
    "root = tk.Tk()\n",
    "root.title(\"Color Gradient\")\n",
    "\n",
    "# Create a canvas\n",
    "canvas_width = 300\n",
    "canvas_height = 300\n",
    "canvas = tk.Canvas(root, width=canvas_width, height=canvas_height)\n",
    "canvas.pack()\n",
    "\n",
    "# Draw the gradient\n",
    "draw_gradient(canvas, canvas_width, canvas_height)\n",
    "\n",
    "# Run the Tkinter main loop\n",
    "root.mainloop()\n",
    "\n"
   ]
  },
  {
   "cell_type": "code",
   "execution_count": null,
   "metadata": {},
   "outputs": [],
   "source": []
  },
  {
   "cell_type": "code",
   "execution_count": 1,
   "metadata": {},
   "outputs": [],
   "source": [
    "from sympy import symbols, sin, cos"
   ]
  },
  {
   "cell_type": "code",
   "execution_count": 2,
   "metadata": {},
   "outputs": [],
   "source": [
    "a1, a2 = symbols(\"a_1, a_2\")"
   ]
  },
  {
   "cell_type": "code",
   "execution_count": 3,
   "metadata": {},
   "outputs": [],
   "source": [
    "from sympy import Matrix"
   ]
  },
  {
   "cell_type": "code",
   "execution_count": 4,
   "metadata": {},
   "outputs": [],
   "source": [
    "m1 = Matrix([\n",
    "    [cos(a1/2), -sin(a1/2)],\n",
    "    [sin(a1/2), cos(a1/2)]\n",
    "])\n",
    "m2 = Matrix([\n",
    "    [cos(a2/2), -sin(a2/2)],\n",
    "    [sin(a2/2), cos(a2/2)]\n",
    "])"
   ]
  },
  {
   "cell_type": "code",
   "execution_count": 5,
   "metadata": {},
   "outputs": [],
   "source": [
    "from sympy import kronecker_product as kron"
   ]
  },
  {
   "cell_type": "code",
   "execution_count": 6,
   "metadata": {},
   "outputs": [],
   "source": [
    "general = kron(m1, m2)\n",
    "zero = Matrix([1, 0, 0, 0])"
   ]
  },
  {
   "cell_type": "code",
   "execution_count": 31,
   "metadata": {},
   "outputs": [],
   "source": [
    "vector = general@zero"
   ]
  },
  {
   "cell_type": "code",
   "execution_count": 32,
   "metadata": {},
   "outputs": [
    {
     "data": {
      "text/latex": [
       "$\\displaystyle \\left[\\begin{matrix}\\cos{\\left(\\frac{a_{1}}{2} \\right)} \\cos{\\left(\\frac{a_{2}}{2} \\right)}\\\\\\sin{\\left(\\frac{a_{2}}{2} \\right)} \\cos{\\left(\\frac{a_{1}}{2} \\right)}\\\\\\sin{\\left(\\frac{a_{1}}{2} \\right)} \\cos{\\left(\\frac{a_{2}}{2} \\right)}\\\\\\sin{\\left(\\frac{a_{1}}{2} \\right)} \\sin{\\left(\\frac{a_{2}}{2} \\right)}\\end{matrix}\\right]$"
      ],
      "text/plain": [
       "Matrix([\n",
       "[cos(a_1/2)*cos(a_2/2)],\n",
       "[sin(a_2/2)*cos(a_1/2)],\n",
       "[sin(a_1/2)*cos(a_2/2)],\n",
       "[sin(a_1/2)*sin(a_2/2)]])"
      ]
     },
     "execution_count": 32,
     "metadata": {},
     "output_type": "execute_result"
    }
   ],
   "source": [
    "vector"
   ]
  },
  {
   "cell_type": "code",
   "execution_count": 33,
   "metadata": {},
   "outputs": [],
   "source": [
    "f_vec = lambda a, b: vector.subs([(a1, a), (a2, b)])"
   ]
  },
  {
   "cell_type": "code",
   "execution_count": 9,
   "metadata": {},
   "outputs": [],
   "source": [
    "import sympy as sp"
   ]
  },
  {
   "cell_type": "code",
   "execution_count": 12,
   "metadata": {},
   "outputs": [],
   "source": [
    "H = kron(Matrix([[1,0],[0, -1]]), Matrix([[1,0],[0, -1]])) "
   ]
  },
  {
   "cell_type": "code",
   "execution_count": 34,
   "metadata": {},
   "outputs": [
    {
     "data": {
      "text/latex": [
       "$\\displaystyle \\left[\\begin{matrix}\\sin^{2}{\\left(\\frac{a_{1}}{2} \\right)} \\sin^{2}{\\left(\\frac{a_{2}}{2} \\right)} - \\sin^{2}{\\left(\\frac{a_{1}}{2} \\right)} \\cos^{2}{\\left(\\frac{a_{2}}{2} \\right)} - \\sin^{2}{\\left(\\frac{a_{2}}{2} \\right)} \\cos^{2}{\\left(\\frac{a_{1}}{2} \\right)} + \\cos^{2}{\\left(\\frac{a_{1}}{2} \\right)} \\cos^{2}{\\left(\\frac{a_{2}}{2} \\right)}\\end{matrix}\\right]$"
      ],
      "text/plain": [
       "Matrix([[sin(a_1/2)**2*sin(a_2/2)**2 - sin(a_1/2)**2*cos(a_2/2)**2 - sin(a_2/2)**2*cos(a_1/2)**2 + cos(a_1/2)**2*cos(a_2/2)**2]])"
      ]
     },
     "execution_count": 34,
     "metadata": {},
     "output_type": "execute_result"
    }
   ],
   "source": [
    "vector.T @ H @vector"
   ]
  },
  {
   "cell_type": "code",
   "execution_count": 35,
   "metadata": {},
   "outputs": [
    {
     "data": {
      "text/latex": [
       "$\\displaystyle \\left[\\begin{matrix}\\frac{\\cos{\\left(a_{1} - a_{2} \\right)}}{2} + \\frac{\\cos{\\left(a_{1} + a_{2} \\right)}}{2}\\end{matrix}\\right]$"
      ],
      "text/plain": [
       "Matrix([[cos(a_1 - a_2)/2 + cos(a_1 + a_2)/2]])"
      ]
     },
     "execution_count": 35,
     "metadata": {},
     "output_type": "execute_result"
    }
   ],
   "source": [
    "sp.simplify(vector.T @ H @vector)"
   ]
  },
  {
   "cell_type": "code",
   "execution_count": 13,
   "metadata": {},
   "outputs": [],
   "source": [
    "numeric_function = sp.lambdify((a1, a2), vector.T @ H @vector, 'numpy')"
   ]
  },
  {
   "cell_type": "code",
   "execution_count": 14,
   "metadata": {},
   "outputs": [],
   "source": [
    "import numpy as np"
   ]
  },
  {
   "cell_type": "code",
   "execution_count": 15,
   "metadata": {},
   "outputs": [],
   "source": [
    "val = vector.T @ H @vector"
   ]
  },
  {
   "cell_type": "code",
   "execution_count": 16,
   "metadata": {},
   "outputs": [],
   "source": [
    "f  = lambda a, b: val.subs([(a1, a), (a2, b)])"
   ]
  },
  {
   "cell_type": "code",
   "execution_count": 29,
   "metadata": {},
   "outputs": [],
   "source": [
    "from scipy.optimize import minimize"
   ]
  },
  {
   "cell_type": "code",
   "execution_count": 30,
   "metadata": {},
   "outputs": [
    {
     "ename": "TypeError",
     "evalue": "unsupported operand type(s) for /: 'module' and 'int'",
     "output_type": "error",
     "traceback": [
      "\u001b[0;31m---------------------------------------------------------------------------\u001b[0m",
      "\u001b[0;31mTypeError\u001b[0m                                 Traceback (most recent call last)",
      "Cell \u001b[0;32mIn[30], line 1\u001b[0m\n\u001b[0;32m----> 1\u001b[0m initial_guess \u001b[38;5;241m=\u001b[39m [\u001b[43mnp\u001b[49m\u001b[38;5;241;43m/\u001b[39;49m\u001b[38;5;241;43m4\u001b[39;49m, np\u001b[38;5;241m/\u001b[39m\u001b[38;5;241m4\u001b[39m]\n\u001b[1;32m      2\u001b[0m result \u001b[38;5;241m=\u001b[39m minimize(\u001b[38;5;28;01mlambda\u001b[39;00m param: numeric_function(\u001b[38;5;241m*\u001b[39mparam), initial_guess, method\u001b[38;5;241m=\u001b[39m\u001b[38;5;124m'\u001b[39m\u001b[38;5;124mBFGS\u001b[39m\u001b[38;5;124m'\u001b[39m)  \u001b[38;5;66;03m# BFGS is one of the optimization methods\u001b[39;00m\n",
      "\u001b[0;31mTypeError\u001b[0m: unsupported operand type(s) for /: 'module' and 'int'"
     ]
    }
   ],
   "source": [
    "initial_guess = [np/4, np/4]\n",
    "result = minimize(lambda param: numeric_function(*param), initial_guess, method='BFGS')  # BFGS is one of the optimization methods"
   ]
  },
  {
   "cell_type": "code",
   "execution_count": 27,
   "metadata": {},
   "outputs": [
    {
     "data": {
      "text/plain": [
       "  message: Optimization terminated successfully.\n",
       "  success: True\n",
       "   status: 0\n",
       "      fun: 1.0\n",
       "        x: [ 0.000e+00  0.000e+00]\n",
       "      nit: 0\n",
       "      jac: [ 0.000e+00  0.000e+00]\n",
       " hess_inv: [[1 0]\n",
       "            [0 1]]\n",
       "     nfev: 3\n",
       "     njev: 1"
      ]
     },
     "execution_count": 27,
     "metadata": {},
     "output_type": "execute_result"
    }
   ],
   "source": [
    "result"
   ]
  },
  {
   "cell_type": "code",
   "execution_count": 18,
   "metadata": {},
   "outputs": [],
   "source": [
    "from matplotlib import pyplot as plt"
   ]
  },
  {
   "cell_type": "code",
   "execution_count": 19,
   "metadata": {},
   "outputs": [],
   "source": [
    "x = np.linspace(-np.pi/2, np.pi/2, 100)\n",
    "y = np.linspace(-np.pi/2, np.pi/2, 100)\n",
    "X, Y = np.meshgrid(x, y)"
   ]
  },
  {
   "cell_type": "code",
   "execution_count": 20,
   "metadata": {},
   "outputs": [],
   "source": [
    "Z = numeric_function(X, Y)"
   ]
  },
  {
   "cell_type": "code",
   "execution_count": 21,
   "metadata": {},
   "outputs": [
    {
     "data": {
      "image/png": "[encoded data removed]",
      "text/plain": [
       "<Figure size 640x480 with 2 Axes>"
      ]
     },
     "metadata": {},
     "output_type": "display_data"
    }
   ],
   "source": [
    "import matplotlib.pyplot as plt\n",
    "import numpy as np\n",
    "\n",
    "from matplotlib import cm\n",
    "from matplotlib.ticker import LinearLocator\n",
    "\n",
    "fig, ax = plt.subplots(subplot_kw={\"projection\": \"3d\"})\n",
    "\n",
    "# Make data.\n",
    "x = np.linspace(-np.pi/2, np.pi/2, 100)\n",
    "y = np.linspace(-np.pi/2, np.pi/2, 100)\n",
    "X, Y = np.meshgrid(x, y)\n",
    "Z = numeric_function(X, Y)\n",
    "\n",
    "# Plot the surface.\n",
    "surf = ax.plot_surface(X, Y, Z[0][0], cmap=cm.coolwarm,\n",
    "                       linewidth=0, antialiased=False)\n",
    "\n",
    "# Customize the z axis.\n",
    "ax.set_zlim(-1.01, 1.01)\n",
    "ax.zaxis.set_major_locator(LinearLocator(10))\n",
    "# A StrMethodFormatter is used automatically\n",
    "ax.zaxis.set_major_formatter('{x:.02f}')\n",
    "\n",
    "# Add a color bar which maps values to colors.\n",
    "fig.colorbar(surf, shrink=0.5, aspect=5)\n",
    "\n",
    "plt.show()"
   ]
  },
  {
   "cell_type": "code",
   "execution_count": null,
   "metadata": {},
   "outputs": [],
   "source": [
    "from scipy.optimize import minimize_scalar\n",
    "\n",
    "res = minimize_scalar(numeric_function(X, Y))"
   ]
  },
  {
   "cell_type": "code",
   "execution_count": 223,
   "metadata": {},
   "outputs": [
    {
     "data": {
      "text/plain": [
       "(100, 100)"
      ]
     },
     "execution_count": 223,
     "metadata": {},
     "output_type": "execute_result"
    }
   ],
   "source": [
    "Z[0][0].shape"
   ]
  },
  {
   "cell_type": "code",
   "execution_count": 222,
   "metadata": {},
   "outputs": [
    {
     "data": {
      "text/plain": [
       "(100, 100)"
      ]
     },
     "execution_count": 222,
     "metadata": {},
     "output_type": "execute_result"
    }
   ],
   "source": [
    "X.shape"
   ]
  },
  {
   "cell_type": "code",
   "execution_count": 217,
   "metadata": {},
   "outputs": [
    {
     "data": {
      "image/png": "[encoded data removed]",
      "text/plain": [
       "<Figure size 640x480 with 2 Axes>"
      ]
     },
     "metadata": {},
     "output_type": "display_data"
    }
   ],
   "source": [
    "import matplotlib.pyplot as plt\n",
    "import numpy as np\n",
    "\n",
    "from matplotlib import cm\n",
    "from matplotlib.ticker import LinearLocator\n",
    "\n",
    "fig, ax = plt.subplots(subplot_kw={\"projection\": \"3d\"})\n",
    "\n",
    "# Make data.\n",
    "X = np.arange(-5, 5, 0.25)\n",
    "Y = np.arange(-5, 5, 0.25)\n",
    "X, Y = np.meshgrid(X, Y)\n",
    "R = np.sqrt(X**2 + Y**2)\n",
    "Z = np.sin(R)\n",
    "\n",
    "# Plot the surface.\n",
    "surf = ax.plot_surface(X, Y, Z, cmap=cm.coolwarm,\n",
    "                       linewidth=0, antialiased=False)\n",
    "\n",
    "# Customize the z axis.\n",
    "ax.set_zlim(-1.01, 1.01)\n",
    "ax.zaxis.set_major_locator(LinearLocator(10))\n",
    "# A StrMethodFormatter is used automatically\n",
    "ax.zaxis.set_major_formatter('{x:.02f}')\n",
    "\n",
    "# Add a color bar which maps values to colors.\n",
    "fig.colorbar(surf, shrink=0.5, aspect=5)\n",
    "\n",
    "plt.show()"
   ]
  },
  {
   "cell_type": "code",
   "execution_count": null,
   "metadata": {},
   "outputs": [],
   "source": []
  }
 ],
 "metadata": {
  "kernelspec": {
   "display_name": "pygtk",
   "language": "python",
   "name": "python3"
  },
  "language_info": {
   "codemirror_mode": {
    "name": "ipython",
    "version": 3
   },
   "file_extension": ".py",
   "mimetype": "text/x-python",
   "name": "python",
   "nbconvert_exporter": "python",
   "pygments_lexer": "ipython3",
   "version": "3.11.4"
  }
 },
 "nbformat": 4,
 "nbformat_minor": 2
}
