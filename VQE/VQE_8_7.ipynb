{
 "cells": [
  {
   "cell_type": "markdown",
   "metadata": {},
   "source": [
    "# Variational Quantum Eigensolver\n",
    "\n",
    "8.7 강의"
   ]
  },
  {
   "cell_type": "markdown",
   "metadata": {},
   "source": [
    "VQE 자체는 바로 실행 할 수 있을 만큼 실용적인 부분에서 어려운 구현 방법은 아니다.\n",
    "그러나 이러한 방법이 활용되고 있는 이유에 대해서는 기초적인 물리 과정부터 지식이 필요하다."
   ]
  },
  {
   "cell_type": "markdown",
   "metadata": {},
   "source": [
    "* Photo electric effect\n",
    "* Bell Theorem \n",
    "* Quantum computer\n",
    "* David deutsch Quantum algorithm"
   ]
  },
  {
   "cell_type": "markdown",
   "metadata": {},
   "source": [
    "Error Correction\n",
    "\n",
    "* Decoherence or Quantum noise\n",
    "    * error correction\n",
    "    * Quantum threshold, 에러 보정을 위해서는 99% 수준이 필요\n",
    "    ...\n"
   ]
  },
  {
   "cell_type": "markdown",
   "metadata": {},
   "source": [
    "NISQ "
   ]
  },
  {
   "cell_type": "markdown",
   "metadata": {},
   "source": [
    "## Quantum supremacy\n",
    "\n",
    "* Sampling problem\n",
    "\n",
    "    양자컴퓨터는 그 특성상 임의의 회로로 구성된 Unitary Transformation에 대해서도 결과를 잘 계산할수 있지만, 고전 컴퓨터는 인자 하나가 바뀔 때마다 계속 시작부터 끝까지 행렬 계산을 지속해야한다.\n",
    "    \n",
    "    Random Circuit Simualtion 읽어보자."
   ]
  },
  {
   "cell_type": "markdown",
   "metadata": {},
   "source": [
    "## Universility of Quantum computer"
   ]
  },
  {
   "cell_type": "markdown",
   "metadata": {},
   "source": [
    "\n",
    "Universal quantum simulators(1996), Seth Lloyd, Science J"
   ]
  },
  {
   "cell_type": "markdown",
   "metadata": {},
   "source": [
    "Proof:\n",
    "\n",
    "국소 해밀토니안, $H_i$으로 구성된 어느 해밀토니안 $H= \\sum H_i$가 있다라고하자.\n",
    "\n",
    "양자 시뮬레이션의 문제는 궁극적으로 $\\exp(i H t)$를 구하는 문제가 된다. 이는 해당 시스템의 시간에 따른 변화를 나타내는 Unitary Time evolution operation이다.\n",
    "\n",
    "우린 국소 해밀토니안은 양자 컴퓨터에서 효율적으로 묘사할 수 있다. 그리고 이러한 해밀토니안은 정해진 오류와 함께 국소 해밀토니안의 Unitary Time evolution으로 근사할 수 있다.\n",
    "Trotter decomposition 확인\n",
    "\n",
    "\n",
    "어느 해밀토니안을 푸는 문제는 근본적으로 대각화 문제이고 대각화문제는 고유값과 고유 벡터들을 탐색하는 과정이다. \n",
    "문제는 대규모 해밀토니안은 대각화 작업이 편리하지 않다.\n",
    "\n",
    "최근 연구결과에 따르면, 일반적으로 commute 한 하위 해밀토니안으로 묶어주면 좀 더 효율적으로 해밀토니안을 시뮬레이션 할 수 있다."
   ]
  },
  {
   "cell_type": "markdown",
   "metadata": {},
   "source": [
    "IBMQ 돌려봄 질문:\n",
    "\n",
    "실제 양자 컴퓨터는 아직 오류 측면에서 구리다 아직은 검증단계에서는 시뮬레이션을 써야한다."
   ]
  },
  {
   "cell_type": "markdown",
   "metadata": {},
   "source": [
    "## Introduction to Quantum Graph Neural networks\n",
    "\n",
    "포스코 홀딩스 미래기술 연구원 AI 연구소\n",
    "\n",
    "이나영 수석 연구원"
   ]
  },
  {
   "cell_type": "markdown",
   "metadata": {},
   "source": [
    "연구원은 생긴지 얼마 안됐습니다.\n",
    "Ai, 수소 저탄소, 이차전지 연구소등이 산하에 있습니다."
   ]
  },
  {
   "cell_type": "markdown",
   "metadata": {},
   "source": [
    "Graph Neural Network는 AI 내부에서도 특이한 분야로 Graph 구조를 NN에 넣어야 합니다.\n",
    "\n",
    "Gori et al, 2005\n",
    "Scarselli er al, 2004, 2009\n",
    "\n",
    "에서 최초로 시도했고 그래프 자료구조를 입력값으로 받아 구현한 신경망으로\n",
    "처리하기 위해 다양한 임베딩 기법을 이용합니다.\n",
    "\n",
    "최종 목표는 각 노드의 상태 임베딩을 학습하고 이 임베딩은 각 노드와 주변 노드 정보를 포함하는 값입니다.\n",
    "노드 상태값은 주변 정보에 영향을 받고 있음을 가정합니다."
   ]
  },
  {
   "cell_type": "markdown",
   "metadata": {},
   "source": [
    "양자 그래프 뉴럴넷트워크는 \n",
    "Convolution을 이용해 Graph Convoution을 수행할 수 있는 VQA기반 QGNN을 제작하는 방법입니다.\n",
    "\n",
    "1. QGRNN: \n",
    "2. QGCNN: 공간적 변화가 있을 떄 사용\n",
    "3. QSGCNN: 위의 두 개 결합.\n",
    "\n",
    "수행할 수 있는 작업은 크게 4가지가 있는데\n",
    "\n",
    "* 양자계의 Hamiltonian dynamics 학습\n",
    "* 양자 네트워크의 Multipartite 얽힘을 생성\n",
    "* Clustering(unsupervised)\n",
    "* Classification ( Graph Isomorphism)\n",
    "\n",
    "가 있습니다."
   ]
  },
  {
   "cell_type": "markdown",
   "metadata": {},
   "source": [
    "알고있는 2 개의 state 를 입력받아 해당 시스템을 만드는 해밀토니안을 계산하는 예시를 \n",
    "Quantum recurrent graph neural network 로 얻을 수 있음.\n",
    "\n",
    "-> 이녀석을 이용해서 adiabatic 상태의 시작 지점을 만드는 해밀토니안을 QRGNN로 찾을 수 있어보인다.\n",
    "\n",
    "Pennylane 에도 튜토리얼이 하나 있음"
   ]
  },
  {
   "cell_type": "markdown",
   "metadata": {},
   "source": [
    "포스코 홀딩스 상무-> 회사 소개 발표"
   ]
  },
  {
   "cell_type": "markdown",
   "metadata": {},
   "source": [
    "최근 비즈니스 도메인을 변경해서 주목을 많이 받고 있음, 미래기술연구원에서 수소-저탄소, 이차전지, 인프라적으로 AI 연구에 주목하고 있고\n",
    "AI직군은 주로 서울에, 수소 저탄소는 수소 생산연구에 대해 연구도 하고, \n",
    "철강 생산할 때 수소를 넣어서 하는 수소환연 제철, 발전연구에도 활발히 사용된다.\n",
    "\n",
    "양자하면 어차피 머신러닝 지식도 필요하고 수요가 많이 필요하니까 \n",
    "\n",
    "포스코 홀딩스도 고려해봐! \n",
    "\n",
    "내부에서 안풀리는 문제들은 할상 우리 연구소로 들고오더라고!\n",
    "\n",
    "규모가 대략, 200여명정도 연구원들이 있고\n",
    "인공지능은 5-60명정도 리쿠루팅은 지속적으로 하고있고\n",
    "양자 관련은 10여명 정도가 있다.\n",
    "\n",
    "자기가 알기로 LG, 현대 자동차도 집중적으로 양자 계산 인력에 신경을 쓰고 있다."
   ]
  },
  {
   "cell_type": "markdown",
   "metadata": {},
   "source": [
    "필요사항: \n",
    "\n",
    "일단 박사학위가 매우 유리하고, Programming 능력도 어느정도 중요하긴 합니다.\n",
    "기본적으로 지원자들을 비교를 하는 건 당연하고 회사에 어떤 기여를 하는지를 고려한다. \n",
    "운도 중요하고. \n",
    "본인이 직업을 찾을 때 본인의 커리어와 맞는 자리가 잇느냐가 중요하다."
   ]
  },
  {
   "cell_type": "markdown",
   "metadata": {},
   "source": []
  }
 ],
 "metadata": {
  "language_info": {
   "name": "python"
  },
  "orig_nbformat": 4
 },
 "nbformat": 4,
 "nbformat_minor": 2
}
