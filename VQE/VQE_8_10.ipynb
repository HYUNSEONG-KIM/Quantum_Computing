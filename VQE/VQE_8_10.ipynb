{
 "cells": [
  {
   "cell_type": "markdown",
   "metadata": {},
   "source": [
    "# Quantum simulation"
   ]
  },
  {
   "cell_type": "markdown",
   "metadata": {},
   "source": [
    "Hamiltonian 의 에너지 레벨을 구하는 것은 기본적으로 Eigenvector 를 구하는 과정이다.\n",
    "양자컴퓨터는 기본적으로 이러한 과정을 매우 쉽게 할 수 있다."
   ]
  },
  {
   "cell_type": "markdown",
   "metadata": {},
   "source": [
    "NP, P 문제들 말고도 복잡도에 따라 많은 분류가 있다. 양자 컴퓨터까지 추가하면 몇 종류가 더 추가된다."
   ]
  },
  {
   "cell_type": "markdown",
   "metadata": {},
   "source": [
    "BQP: Quantumly solvable in polynomial time\n",
    "\n",
    "대표적인 예제게 time-evolution 문제이다.\n",
    "\n",
    "QMA-Complete: Hardest problems in QMA: \n",
    "\n",
    "Quantum Hamiltonian Ground state problem: 양자컴퓨터가 있더라도 빠르게 풀 수 없음이 이미 증명되어 있다.\n",
    "\n",
    "적어도 적절한 구조가 알려져 있으면 문제별로 해결법을 고안할 수 있다.\n",
    "여기에서 사용되는 방법이 VQE가 대표적이다.\n",
    "\n",
    "VQE에서의 양자컴퓨터의 장점은 여러 양자 최적화 문제에서 Cost 함수를 잘 구할 수 있다는 것이다. 일반적으로 고전 컴퓨터에서는 계산 효율이 낮다.\n",
    "고전 컴퓨터에서 구하기 힘들고 양자 컴퓨터에서 구하기 쉬운 문제가 양자 컴퓨터를 사용하는 이유가 된다."
   ]
  },
  {
   "cell_type": "markdown",
   "metadata": {},
   "source": [
    "## Example: Hydrogen Model"
   ]
  },
  {
   "cell_type": "markdown",
   "metadata": {},
   "source": [
    "Basic-sets: STO(Slater Type Orbital), G(Gaussian-type orbital)\n",
    "\n",
    "STO: 근사 오비탈 모델임."
   ]
  },
  {
   "cell_type": "markdown",
   "metadata": {},
   "source": [
    "* Slater-type orbital\n",
    "$$R^{STO}_n (r) \\sim (\\eta r)^{n-1} e^{- \\eta r})$$\n",
    "\n",
    "이 녀석 수치 적분이 매우 어려움\n",
    "\n",
    "다시한번 근사를 해서 Gaussian-orbital로 근사할 수 있다. 오류를 줄이기 위해 각 STO에 대해 가장 가까운 형태의 G를 찾고\n",
    "여기에 대해 몇개의 G로 근사할 수 있다. STO-nG는 n개의 Gaussian orbital 로 근사한 STO를 의미한다. \n",
    "\n",
    "$$R^{GTO}_n (R) \\sim $$"
   ]
  },
  {
   "cell_type": "markdown",
   "metadata": {},
   "source": [
    "실제 Basis는 최대로 무한대 까지 잡을 수 잇지만 일반적으로 우리가 관심을 가지는 부분은 Ground state 부분이다. 때문에, 적절한 유한 차원의 basis로 이를 근사할 수 있다."
   ]
  },
  {
   "cell_type": "markdown",
   "metadata": {},
   "source": [
    "이를 이용해서 Ferminic Operator를 이용해 유한 차원 연산자로 해밀토니안을 근사할 수 있고,\n",
    "이렇게 근사된 해밀토니안을 QC에서 사용하기 위한 Spin Operator 형태로 변환한다."
   ]
  },
  {
   "cell_type": "markdown",
   "metadata": {},
   "source": [
    "Jordan-Wigner, Parity, Bravyi-Kitaev 3가지 방법으로 fermionic-spin 연산자를 대응시킬 수 있다."
   ]
  },
  {
   "cell_type": "markdown",
   "metadata": {},
   "source": [
    "**Note**:\n",
    "\n",
    "해밀토니안이 있으면 굳이 양자컴퓨터만 사용하지는 않아도 된다. 근데 양자컴퓨터가 잘하는게 뭐냐면,\n",
    "\n",
    "양자화학분야에서는 Coupled Cluster Method가 있다. 이를 양자컴퓨터를 위한 Unitary 형태로 만들면, (UCC),\n",
    "\n",
    "$$| \\psi \\rangle = e^{T -T^*} | \\psi_{HF} \\rangle$$\n",
    "\n",
    "where $T = \\sum_i T_i$\n",
    "\n",
    "고전 컴퓨터는 Unitary 연산을 그리 잘하지 못한다. 양자컴퓨터에서는 자연스럽게 이루어진다.\n"
   ]
  },
  {
   "cell_type": "markdown",
   "metadata": {},
   "source": [
    "UCCSD(Single and double excitations) 의 구현에는 Trotterization이 필요한데 JW 변환에서는 다항시간 복잡도를 가진다."
   ]
  },
  {
   "cell_type": "markdown",
   "metadata": {},
   "source": [
    "예시로 논문을 보면: \n",
    "\n",
    "* A variational eigenvalue solver on a photonic quantum processor\n",
    "* Scalable quantum simutlation of Moecular energies"
   ]
  },
  {
   "cell_type": "markdown",
   "metadata": {},
   "source": [
    "Choi note: QFT를 대체할 수 있는 방법이 2개 있다. Single Qubit으로 바꾸고 State tomography를 하거나, (아니면 하나 더 있느데 이름이 뭔지 모르겠네)"
   ]
  },
  {
   "cell_type": "markdown",
   "metadata": {},
   "source": [
    "VQE가 Scalable, Nosie-Resistant에 대해 반례 논문이 꽤 나왔다."
   ]
  },
  {
   "cell_type": "markdown",
   "metadata": {},
   "source": [
    "Time-evolution 은 그래도 아직은 어렵고 그래서 Hardware Efficient 구조가 나왔다. \n",
    "주어진 한계 내에서 가능한 한 많은 게이트와 Entanglement를 줄 수 있는 구조를 넣고 이를 최적화한다."
   ]
  },
  {
   "cell_type": "markdown",
   "metadata": {},
   "source": [
    "## Barren Plateaus"
   ]
  },
  {
   "cell_type": "markdown",
   "metadata": {},
   "source": [
    "HE를 막무가내로 구성하면 시작 지점에서 최적화 지점으로 가는 방향 정보를 얻기가 힘들다. Exponential 한 반복 계산이 필요하고 매우 비효율적이다.\n",
    "HE는 다항시간으로는 풀 수 없을 것으로 보인다."
   ]
  },
  {
   "cell_type": "markdown",
   "metadata": {},
   "source": [
    "## Error-mitigation"
   ]
  },
  {
   "cell_type": "markdown",
   "metadata": {},
   "source": [
    "후처리 과정을 넣어서 좀 더 좋은 결과를 얻을 수도 있다.\n",
    "\n",
    "Gate의 수를 고의로 늘려서 기기의 Noise 경향성을 보고 이를 이용해 기기 Noise를 구성해서 사용할 수 있다.\n",
    "\n",
    "간단히 말해서 에러 프로파일을 기기뱔로 만들어서 결과치에 보정을 가해줄 수 있다."
   ]
  },
  {
   "cell_type": "markdown",
   "metadata": {},
   "source": [
    "Choi: Spin 모델도 재미있는게 많은데 fermionic 모델을 spin으로 풀려고하니 변환이 복잡해지는 것 같다. 왜 그럴까요?\n",
    "\n",
    "VQE는 최근 Quantum Chemistry에 집중되어있는데 Spin model도 아주 많은데 이것들에 집중해도 유용할 것 같다."
   ]
  },
  {
   "cell_type": "markdown",
   "metadata": {},
   "source": []
  },
  {
   "cell_type": "markdown",
   "metadata": {},
   "source": [
    "# Solving Differential Equation in Multiphysics Application with DQC\n",
    "\n",
    "DQC = Differentiable quantum circuit"
   ]
  },
  {
   "cell_type": "markdown",
   "metadata": {},
   "source": [
    "포스코 홀딩스 미래기술연구원 AI 연구소, 박찬식 수석 연구원 발표\n",
    "\n",
    "+ 이용호 박사"
   ]
  },
  {
   "cell_type": "markdown",
   "metadata": {},
   "source": [
    "고전 계산 모델들은 수렴성 부분에서 약점이 있다. \n",
    "또, 원하는 정밀도까지 필요한 계산 리소스가 매우 크다.\n",
    "\n",
    "\n",
    "1. Deterministic Classical Solver: 고전 수치 계산(유한 요소, 차분, 경계)\n",
    "2. Variational classical solvers(PINN): Basis 함수 학습에 대해 학습이 필요, 계산 복잡도와 긴 학습기간이 요구된다.\n",
    "3. Deterministic Quantum Solvers: HHL 및 유사 알고리즘 -> 현재 노이즈 때문에 산업계에서 활용은 어렵다.\n",
    "4. Variational Quantum Solvers: Differentiable Quantum circuits -> 산업계에서 주목은 이부분에서 이루어지고 있다."
   ]
  },
  {
   "cell_type": "markdown",
   "metadata": {},
   "source": [
    "PINN 방법과 VQE를 결합해보려는 시도가 있다."
   ]
  },
  {
   "cell_type": "markdown",
   "metadata": {},
   "source": [
    "### PINN\n",
    "\n",
    "* Mesh free 방법으로 형상에 관계없이 효과적으로 적용가능하고 빠르게 PDE 해를 도출가능\n",
    "* 학습 속도가 빠르고, \n",
    "* Non-linear 관계를 빠르고 정확히 계산할 수 있다."
   ]
  },
  {
   "cell_type": "markdown",
   "metadata": {},
   "source": [
    "### DQC\n",
    "\n",
    "PASQAL은 포스코 홀딩스랑 협업중, 이곳에서 DQC workflow를 제안했다.\n",
    "\n"
   ]
  },
  {
   "cell_type": "markdown",
   "metadata": {},
   "source": [
    "PINN 기법은 복잡한 시나리오 수렴이 어렵다.\n",
    "\n",
    "- Domain Decomposition\n",
    "Range를 시간에 따라 조금 나누어서 수렴을 가속할 수 있다.+ \n",
    "- Boundary Pinning"
   ]
  },
  {
   "cell_type": "markdown",
   "metadata": {},
   "source": [
    "### 응용\n",
    "\n",
    "Simluating Particle Motion"
   ]
  },
  {
   "cell_type": "markdown",
   "metadata": {},
   "source": [
    "1개의  qubit으로도 임의의 해석함수를 근사할 수 잇습니다.\n",
    " \n",
    "Univsersal Approximation Property of quantum Machine Learning Models in quantum Enchanced Feature Sapce , Phys, Rev. Lett 127, 090506 2021"
   ]
  }
 ],
 "metadata": {
  "language_info": {
   "name": "python"
  },
  "orig_nbformat": 4
 },
 "nbformat": 4,
 "nbformat_minor": 2
}
