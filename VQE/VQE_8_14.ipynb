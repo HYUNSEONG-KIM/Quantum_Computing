{
 "cells": [
  {
   "cell_type": "markdown",
   "metadata": {},
   "source": [
    "# Quantum Approximate Optimization algorithm\n",
    "\n",
    "## Part 1"
   ]
  },
  {
   "cell_type": "markdown",
   "metadata": {},
   "source": [
    "초청 연사: KIAS 배은옥"
   ]
  },
  {
   "cell_type": "markdown",
   "metadata": {},
   "source": [
    "Note: \n",
    "Choi: Non-abelian QFT, Shor transform 은 사람들으 의외로 모르는 듯? 최근에 잘쓰고 있습니다."
   ]
  },
  {
   "cell_type": "markdown",
   "metadata": {},
   "source": [
    "- Reivew VQA\n",
    "- QAOA\n",
    "- MAX-CUT Problem\n",
    "- Implementing QAOA\n"
   ]
  },
  {
   "cell_type": "markdown",
   "metadata": {},
   "source": [
    "Gradient 계산하는 Quantum circuit은 이미 알려져 있다. \n",
    "Parameter shift 방법을 이용하면 직접 미분을 하지 않고도 미분항을 만들 수 있다.\n",
    "\n",
    "오늘 다룰 문제는 Combinational optimization 부분입니다."
   ]
  },
  {
   "cell_type": "markdown",
   "metadata": {},
   "source": [
    "QAOA는 2014년도에 고안된 최초의 양자 근사 알고리즘으로 VQE를 이용하나, Ansatz가 좀더 이 문제에 최적화 되어있습니다.\n",
    "일반적으로 H가 diagonal할 필요는 없으나 여기서는 이러한 문제를 가정하고 잇습니다.\n",
    "\n",
    "여기서는 Max-Cut 문제를 풀었지만 실제로는 동치인 여러 문제들을 해결해볼 수 있다.\n"
   ]
  },
  {
   "cell_type": "markdown",
   "metadata": {},
   "source": [
    "## Max-cut problem"
   ]
  },
  {
   "cell_type": "markdown",
   "metadata": {},
   "source": [
    "그래프의 노드들을 2개의 부분으로 나누어서 잘리는 모서리의 갯수가 최대가 되도록 자르는 방법을 찾는 문제, 이때 각 부분이 가지는 노드 갯수에 특별한 제한은 없다."
   ]
  },
  {
   "cell_type": "markdown",
   "metadata": {},
   "source": [
    "QAOA는 classifier 문제에도 잘 연결할 수 있다.\n",
    "\n",
    "보통 그래프에서 조합론적 최적화 문제를 많이 푼다. 응용이 많이 이루어지고 있고 문제도 매우 많다."
   ]
  },
  {
   "cell_type": "markdown",
   "metadata": {},
   "source": [
    "Max cut hamiltonian의 예시는 다음이 있다. 유일하지는 않고 여러가지가 있다. 이때 각 노드가 1, -1 이 Mapping된다 가정한다.\n",
    "\n",
    "$$\\max C(z) = \\max \\frac{1}{2} \\sum_{i, j} (1-z_i z_j)$$"
   ]
  },
  {
   "cell_type": "markdown",
   "metadata": {},
   "source": [
    "## Weighted Max-cut problem"
   ]
  },
  {
   "cell_type": "markdown",
   "metadata": {},
   "source": [
    "가중치가 노드에 부가된 그래프를 사용한다. 이 경우\n",
    "\n",
    "$$\\max C(z) = \\max \\frac{1}{2} \\sum_{i, j} w_{ij}(1-z_i z_j)$$"
   ]
  },
  {
   "cell_type": "markdown",
   "metadata": {},
   "source": [
    "0, 1을 사용할 경우\n",
    "\n",
    "$$w_{ij} (1- (-1)^{x_i} (-1)^{x_j})$$\n",
    "$$w_{ij} (1-{x_i}) {x_j})$$"
   ]
  },
  {
   "cell_type": "markdown",
   "metadata": {},
   "source": [
    "choi: 풀어놔! 프레젠테이션 목요일에 해! <- 힝"
   ]
  },
  {
   "cell_type": "markdown",
   "metadata": {},
   "source": [
    "## P-QAOA"
   ]
  },
  {
   "cell_type": "markdown",
   "metadata": {},
   "source": [
    "QAOA 는 2가지 circuit이 필요하다. 문제 H와 보조용 H가 2개 필요하다. 이 Ansatz는 실제 Adaiabatic theorem에서 온 것으로 실제 Ansatz도 똑같다.\n",
    "(진짜 똑같은데? 내가 Adiabatic Theorem 구현한 형태랑)"
   ]
  },
  {
   "cell_type": "markdown",
   "metadata": {},
   "source": [
    "Palcon이라는 P depth도 parameter로 최적화하는 방법도 있다."
   ]
  },
  {
   "cell_type": "markdown",
   "metadata": {},
   "source": [
    "Approximation ratio 에서 Cmax를 모르는 문제는 |total Edge number| 를 분모에 넣어서 사용하기도 한다."
   ]
  },
  {
   "cell_type": "markdown",
   "metadata": {},
   "source": [
    "## Implementing QAOA"
   ]
  },
  {
   "cell_type": "markdown",
   "metadata": {},
   "source": [
    " Parameter 가 너무 크면 Quantum inspired algorithm이라고 부른다. \n",
    " \n",
    " 더 이상 양자 파트가 주도적이지 않고 Classical-optimizer가 영향이 크기때문이다."
   ]
  },
  {
   "cell_type": "markdown",
   "metadata": {},
   "source": [
    "## Limitation Of QAOA"
   ]
  },
  {
   "cell_type": "markdown",
   "metadata": {},
   "source": [
    "* Bipartite D-regular graph 문제는 깊이가 제한될 경우, Classic algorithm이 더 잘 푼다.\n",
    "* Ring of disagree problem."
   ]
  },
  {
   "cell_type": "markdown",
   "metadata": {},
   "source": [
    "계산 가능한 특정 분야들에 대해 실제 계산을 주로 연구하고 있다.\n",
    "\n",
    "QAOA의 변형에 대해 보고 싶다면.\n",
    "6월 마지막에 올라온 논문에 잘 정리된게 있다. Variant of QAOA로 검색해보면 될 것이다."
   ]
  },
  {
   "cell_type": "markdown",
   "metadata": {},
   "source": []
  },
  {
   "cell_type": "markdown",
   "metadata": {},
   "source": [
    "Adiabatic 을 이러한 QAOA와 비교해서 해보자 내부 구조도 비슷하고\n",
    "비교하기 좋을것 같다."
   ]
  },
  {
   "cell_type": "markdown",
   "metadata": {},
   "source": [
    "---"
   ]
  },
  {
   "cell_type": "markdown",
   "metadata": {},
   "source": [
    "# 학생 발표"
   ]
  },
  {
   "cell_type": "markdown",
   "metadata": {},
   "source": [
    "## QEM \n",
    "\n",
    "Quantum Error Mitigation, 김성훈"
   ]
  },
  {
   "cell_type": "markdown",
   "metadata": {},
   "source": [
    "Mitigateion은 circuit 사이즈 자체가 너무 크지 않음을 요구한다. \n",
    "Error Mitigation은 최종 결과에서 에러를 줄이는 것을 요청하기 때문에 NISQ에서도 충분히 쓸 수 있다."
   ]
  },
  {
   "cell_type": "markdown",
   "metadata": {},
   "source": [
    "## Quantum Transfer Learning"
   ]
  },
  {
   "cell_type": "markdown",
   "metadata": {},
   "source": [
    "## QAOA ansatz optimization for Max-cut problem"
   ]
  },
  {
   "cell_type": "markdown",
   "metadata": {},
   "source": []
  }
 ],
 "metadata": {
  "language_info": {
   "name": "python"
  },
  "orig_nbformat": 4
 },
 "nbformat": 4,
 "nbformat_minor": 2
}
