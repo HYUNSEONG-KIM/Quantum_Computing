{
 "cells": [
  {
   "cell_type": "markdown",
   "metadata": {},
   "source": [
    "Pauli string commutation \n",
    "\n",
    "```\n",
    "Reggio et al, Fast Partitioning of Pauli Strings into Commuting Families for Optimal Expectation Value Measurements of Dense Operators, 2023-06-07\n",
    "```"
   ]
  },
  {
   "cell_type": "code",
   "execution_count": 22,
   "metadata": {},
   "outputs": [],
   "source": [
    "from typing import *\n",
    "from collections import OrderedDict\n",
    "from itertools import combinations, combinations_with_replacement as re_combi, product\n",
    "from functools import reduce\n",
    "from sys import float_info\n",
    "FLOAT_EPS = 1E4 * float_info.min\n",
    "from pathlib import Path\n",
    "\n",
    "import numpy as np\n",
    "from scipy import linalg\n",
    "import pandas as pd\n",
    "from matplotlib import pyplot as plt\n",
    "plt.rcParams.update({\"font.serif\": \"Times New Roman\"})\n"
   ]
  },
  {
   "cell_type": "code",
   "execution_count": 3,
   "metadata": {},
   "outputs": [],
   "source": [
    "from pauli_op import PauliDecompose"
   ]
  },
  {
   "cell_type": "code",
   "execution_count": 4,
   "metadata": {},
   "outputs": [
    {
     "data": {
      "text/plain": [
       "(2, 'IZZZ', 'XXXI')"
      ]
     },
     "execution_count": 4,
     "metadata": {},
     "output_type": "execute_result"
    }
   ],
   "source": [
    "PauliDecompose(\"XYYZ\")"
   ]
  },
  {
   "cell_type": "code",
   "execution_count": 20,
   "metadata": {},
   "outputs": [],
   "source": [
    "# utils\n",
    "def krons(oper_list): # Operator Kronecker delta\n",
    "    return reduce(np.kron, oper_list)\n",
    "def frobenius_inner(A, B): # Frobenius inner product.\n",
    "    n, n2 = A.shape\n",
    "    return np.trace((A.conj().T)@B)/(n)\n",
    "def get_pauli_coefficient(A): # Get Pauli coefficients of the given Hermit matrix A.\n",
    "    k, k2 = A.shape\n",
    "    n = int(np.log2(k))\n",
    "    p_fam, p_str = get_pauli_familiy(n)\n",
    "    \n",
    "    coef = {}\n",
    "    for p_m, p_m_str in zip(p_fam, p_str):\n",
    "        coef[p_m_str] = frobenius_inner(p_m, A)\n",
    "    return coef\n",
    "\n",
    "def get_coef(x_str, z_str): \n",
    "    # i coefficient in construction of general pauli-element from XZ elements.\n",
    "    n = len(x_str)\n",
    "    x_str = x_str.replace(\"X\", \"1\")\n",
    "    x_str = x_str.replace(\"I\", \"0\")\n",
    "    z_str = z_str.replace(\"Z\", \"1\")\n",
    "    z_str = z_str.replace(\"I\", \"0\")\n",
    "    \n",
    "    x_int = int(x_str, 2)\n",
    "    z_int = int(z_str, 2)\n",
    "    \n",
    "    y_pos = format(x_int&z_int, f\"0{n}b\")\n",
    "    z_pos = format((x_int|z_int) - x_int, f\"0{n}b\")\n",
    "    x_pos = format((x_int|z_int) - z_int, f\"0{n}b\")\n",
    "\n",
    "    g_str = []\n",
    "    for x,y,z in zip(x_pos, y_pos, z_pos):\n",
    "        if x==y and y==z:\n",
    "            g_str.append(\"I\")\n",
    "        elif x== \"1\":\n",
    "            g_str.append(\"X\")\n",
    "        elif y == \"1\":\n",
    "            g_str.append(\"Y\")\n",
    "        else:\n",
    "            g_str.append(\"Z\")\n",
    "    return 1j**y_pos.count(\"1\"), \"\".join(g_str)"
   ]
  },
  {
   "cell_type": "code",
   "execution_count": 21,
   "metadata": {},
   "outputs": [],
   "source": [
    "I = np.eye(2)\n",
    "pauli_X = np.array([[0, 1], [1, 0]])\n",
    "pauli_Y = complex(0, 1)*np.array([[0, -1], [1, 0]])\n",
    "pauli_Z = np.array([[1, 0], [0, -1]])"
   ]
  },
  {
   "cell_type": "code",
   "execution_count": null,
   "metadata": {},
   "outputs": [],
   "source": [
    "# Sample\n",
    "t_h = Hamiltonian()\n",
    "commute_map = t_h.get_commute_map() # compatible graph\n",
    "latin_matrix = t_h.get_latin_matrix() # get latin matrix"
   ]
  },
  {
   "cell_type": "markdown",
   "metadata": {},
   "source": [
    "## Routines\n",
    "\n",
    "1. Decompose the given hermite matrix as Pauli-polynomial.\n",
    "   1. Generate n qubit pauli-matrices.\n",
    "   2. Frobnius inner product.\n",
    "   3. Kronecker product, tensor product on matrix form.\n",
    "2. Compute Latin matrix\n",
    "3. Generate compatible graph of Pauli-terms or local terms, adjacent matrix.\n",
    "4. Saave and reload the profile"
   ]
  },
  {
   "cell_type": "code",
   "execution_count": null,
   "metadata": {},
   "outputs": [],
   "source": [
    "float_tol = 1E-8\n",
    "class Hamiltonian:\n",
    "    def __init__(self, \n",
    "                 H:np.matrix, \n",
    "                 tols=(1E4*float_tol , float_tol), \n",
    "                 pauli_basis:Union[None, dict]=None):\n",
    "        assert len(H.shape) ==2, f\"H must be 2dim matrix. current: {H.shape}.\"\n",
    "        n1, n2 = H.shape\n",
    "        assert n1 == n2, f\"Hamiltonian must be square matrix. Current:{(n1, n2)}.\"\n",
    "        assert np.allclose(H, H.H, *tols), f\"Hamiltonian must be a hermite matrix. Relative, absolute tolerance, {tols}.\"\n",
    "        assert bin(8)[2:].count(\"1\") == 1, f\"Dimension must be a 2^n. Current:{n1}.\"\n",
    "        \n",
    "        self.Hamiltonian = H\n",
    "        \n",
    "        # None or Dataframe\n",
    "        self.local_decomposition = self._check_decomposition(pauli_basis)  \n",
    "        self.exist_decompositon = False if pauli_basis is None else True \n",
    "        self.x_family = None # save as integer 2dim matrix point the latin matrix.\n",
    "        self.z_family = None\n",
    "        self.coefficients = None # Latin matrix corresponding coefficient.\n",
    "        \n",
    "        self.qubit_num = len(bin(2)[3:]) # Consider a 1 bit position of 2^n integer.\n",
    "    @staticmethod\n",
    "    def get_total_hamiltonian(pstrs:dict):\n",
    "        p_matrices = Hamiltonian.pstr_to_matrix(pstrs)\n",
    "        pass\n",
    "    @staticmethod\n",
    "    def get_pauli_strings(qubit_num):\n",
    "        n = int(qubit_num)\n",
    "        assert n >0, \"The given argument must be a positive natural number.\"\n",
    "        \n",
    "        p_xs =  get_pauli_family_matrix(n, fam=\"X\")\n",
    "        p_zx =  get_pauli_family_matrix(n, fam=\"Z\")\n",
    "        p_xs_str = get_pauli_family_string(n, fam=\"X\")\n",
    "        p_zs_str = get_pauli_family_string(n, fam=\"Z\")\n",
    "\n",
    "        p_g = []\n",
    "        p_g_str =[]\n",
    "        for x_i, x_str in zip(p_xs, p_xs_str):\n",
    "            for z_j, z_str in zip(p_zs, p_zs_str):\n",
    "                g = x_i@z_j\n",
    "\n",
    "                g_coef, g_str = get_coef(x_str, z_str)\n",
    "\n",
    "                p_g.append(g_coef*g)\n",
    "                p_g_str.append(g_str)\n",
    "        return p_g, p_g_str \n",
    "    #--------------------------------------------------------------\n",
    "    def _check_decomposition(self, pauli_basis):\n",
    "        if pauli_basis is None:\n",
    "            return None\n",
    "        pass    \n",
    "    def get_decomposition(self, H:np.matrix, tol=float_tol ):\n",
    "        pass\n",
    "    def get_pauli_family_string(n, fam=\"Z\"):\n",
    "        return list(map(lambda x: \"\".join(x), product(f\"I{fam}\", repeat=int(n))))\n",
    "    def get_pauli_family_matrix(n:int, fam=\"Z\")->Iterable[np.matrix]:\n",
    "        \"\"\"Get pauli_family of `n` qubits of `fam` family. \n",
    "\n",
    "        Args:\n",
    "            n (int): Number of qubits. The output matrices are :math:`2^n`.\n",
    "            fam (str, optional): Type of Pauli-family of X, Y, or Z. Defaults to \"Z\".\n",
    "\n",
    "        Returns:\n",
    "            Iterable[np.matrix]: list of Pauli-matrices\n",
    "        \"\"\"\n",
    "        G = pauli_Z if fam==\"Z\" else (pauli_X if fam==\"X\" else pauli_Y)\n",
    "\n",
    "        return list(map(krons, product([I, G], repeat=int(n))))\n",
    "        \n",
    "    \n",
    "    def decompose(self, tol=float_tol , replace = False):\n",
    "        if self.exist_decompositon\n",
    "            if not replace:\n",
    "                return self.local_decomposition\n",
    "        \n",
    "        if replace:\n",
    "            self.local_decomposition = self.get_decomposition(self.H, tol) \n",
    "            self.exist_decompositon = True\n",
    "            return self.local_decomposition\n",
    "        return self.get_decomposition(self.H, tol) \n",
    "    def save_as(self, filepath:Union[Path, str]):\n",
    "        if isinstance(filepath, str):\n",
    "            filepath = Path(filepath)\n",
    "            \n",
    "        pass\n",
    "    #--------------------------------------------------------------\n",
    "    @property\n",
    "    def pauli_decomposition(self):\n",
    "        if self.exist_decompositon:\n",
    "            pass\n",
    "        return None\n",
    "    @property\n",
    "    def xz_family(self):\n",
    "        if self.exist_decompositon:\n",
    "            pass\n",
    "        return None\n",
    "    @property\n",
    "    def latin_matrix(self):\n",
    "        if self.exist_decompositon:\n",
    "            pass\n",
    "        return None    \n",
    "    #--------------------------------------------------------------\n",
    "    @classmethod\n",
    "    from from_latin_matrix(cls:Hamiltonian, \n",
    "                      l_matrix:np.matrix, \n",
    "                      coefficient:Union[np.matrix, None]=None):\n",
    "        return cls()\n",
    "    @classmethod\n",
    "    from from_pauli_polynomial(cls:Hamiltonian, \n",
    "                               p_poly:Union[dict, np.ndarray], \n",
    "                               p_coef:Union[None, np.ndarray]=None):\n",
    "        pass\n",
    "    @classmethod\n",
    "    from from_data(cls, file_path):\n",
    "        pass\n",
    "    #------------------------------\n",
    "    "
   ]
  },
  {
   "cell_type": "code",
   "execution_count": 15,
   "metadata": {},
   "outputs": [
    {
     "data": {
      "text/plain": [
       "1"
      ]
     },
     "execution_count": 15,
     "metadata": {},
     "output_type": "execute_result"
    }
   ],
   "source": [
    "len(bin(2)[3:])"
   ]
  },
  {
   "cell_type": "code",
   "execution_count": null,
   "metadata": {},
   "outputs": [],
   "source": []
  }
 ],
 "metadata": {
  "kernelspec": {
   "display_name": "Python 3",
   "language": "python",
   "name": "python3"
  },
  "language_info": {
   "codemirror_mode": {
    "name": "ipython",
    "version": 3
   },
   "file_extension": ".py",
   "mimetype": "text/x-python",
   "name": "python",
   "nbconvert_exporter": "python",
   "pygments_lexer": "ipython3",
   "version": "3.11.4"
  }
 },
 "nbformat": 4,
 "nbformat_minor": 2
}
