{
 "cells": [
  {
   "cell_type": "markdown",
   "metadata": {},
   "source": [
    "Pauli string commutation \n",
    "\n",
    "```\n",
    "Reggio et al, Fast Partitioning of Pauli Strings into Commuting Families for Optimal Expectation Value Measurements of Dense Operators, 2023-06-07\n",
    "```"
   ]
  },
  {
   "cell_type": "code",
   "execution_count": 12,
   "metadata": {},
   "outputs": [],
   "source": [
    "from typing import *\n",
    "from collections import OrderedDict\n",
    "from itertools import combinations, combinations_with_replacement as re_combi, product\n",
    "from functools import reduce\n",
    "from sys import float_info\n",
    "FLOAT_EPS = 1E4 * float_info.min\n",
    "from pathlib import Path\n",
    "\n",
    "import numpy as np\n",
    "from scipy import linalg\n",
    "import pandas as pd\n",
    "from matplotlib import pyplot as plt\n",
    "plt.rcParams.update({\"font.serif\": \"Times New Roman\"})\n"
   ]
  },
  {
   "cell_type": "code",
   "execution_count": 13,
   "metadata": {},
   "outputs": [],
   "source": [
    "from pauli_op import PauliDecompose"
   ]
  },
  {
   "cell_type": "code",
   "execution_count": 14,
   "metadata": {},
   "outputs": [
    {
     "data": {
      "text/plain": [
       "(2, 'IZZZ', 'XXXI')"
      ]
     },
     "execution_count": 14,
     "metadata": {},
     "output_type": "execute_result"
    }
   ],
   "source": [
    "PauliDecompose(\"XYYZ\")"
   ]
  },
  {
   "cell_type": "code",
   "execution_count": 38,
   "metadata": {},
   "outputs": [],
   "source": [
    "# utils\n",
    "def krons(*oper_list): # Operator Kronecker delta\n",
    "    if len(oper_list) == 1:\n",
    "        oper_list = oper_list[0]\n",
    "    return reduce(np.kron, oper_list)\n",
    "def frobenius_inner(A, B): # Frobenius inner product.\n",
    "    n, n2 = A.shape\n",
    "    return np.trace((A.conj().T)@B)/(n)\n",
    "\n",
    "def get_coef(x_str, z_str): \n",
    "    # i coefficient in construction of general pauli-element from XZ elements.\n",
    "    n = len(x_str)\n",
    "    x_str = x_str.replace(\"X\", \"1\")\n",
    "    x_str = x_str.replace(\"I\", \"0\")\n",
    "    z_str = z_str.replace(\"Z\", \"1\")\n",
    "    z_str = z_str.replace(\"I\", \"0\")\n",
    "    \n",
    "    x_int = int(x_str, 2)\n",
    "    z_int = int(z_str, 2)\n",
    "    \n",
    "    y_pos = format(x_int&z_int, f\"0{n}b\")\n",
    "    z_pos = format((x_int|z_int) - x_int, f\"0{n}b\")\n",
    "    x_pos = format((x_int|z_int) - z_int, f\"0{n}b\")\n",
    "\n",
    "    g_str = []\n",
    "    for x,y,z in zip(x_pos, y_pos, z_pos):\n",
    "        if x==y and y==z:\n",
    "            g_str.append(\"I\")\n",
    "        elif x== \"1\":\n",
    "            g_str.append(\"X\")\n",
    "        elif y == \"1\":\n",
    "            g_str.append(\"Y\")\n",
    "        else:\n",
    "            g_str.append(\"Z\")\n",
    "    return 1j**y_pos.count(\"1\"), \"\".join(g_str)"
   ]
  },
  {
   "cell_type": "code",
   "execution_count": 82,
   "metadata": {},
   "outputs": [],
   "source": [
    "I = np.eye(2)\n",
    "pauli_X = np.array([[0, 1], [1, 0]], dtype=complex)\n",
    "pauli_Y = complex(0, 1)*np.array([[0, -1], [1, 0]], dtype=complex)\n",
    "pauli_Z = np.array([[1, 0], [0, -1]], dtype=complex)\n",
    "p_basis = {\"I\":I, \"X\":pauli_X, \"Y\":pauli_Y, \"Z\":pauli_Z}"
   ]
  },
  {
   "cell_type": "code",
   "execution_count": 83,
   "metadata": {},
   "outputs": [],
   "source": [
    "# Sample\n",
    "#t_h = Hamiltonian()\n",
    "#commute_map = t_h.get_commute_map() # compatible graph\n",
    "#latin_matrix = t_h.get_latin_matrix() # get latin matrix"
   ]
  },
  {
   "cell_type": "markdown",
   "metadata": {},
   "source": [
    "## Routines\n",
    "\n",
    "1. Decompose the given hermite matrix as Pauli-polynomial.\n",
    "   1. Generate n qubit pauli-matrices.\n",
    "   2. Frobnius inner product.\n",
    "   3. Kronecker product, tensor product on matrix form.\n",
    "2. Compute Latin matrix\n",
    "3. Generate compatible graph of Pauli-terms or local terms, adjacent matrix.\n",
    "4. Saave and reload the profile"
   ]
  },
  {
   "cell_type": "code",
   "execution_count": 84,
   "metadata": {},
   "outputs": [],
   "source": [
    "from __future__ import annotations"
   ]
  },
  {
   "cell_type": "code",
   "execution_count": 140,
   "metadata": {},
   "outputs": [],
   "source": [
    "float_tol = 1E-8\n",
    "class Hamiltonian:\n",
    "    def __init__(self, \n",
    "                 H:np.matrix, \n",
    "                 tols=(1E4*float_tol , float_tol), \n",
    "                 pauli_basis:Union[None, dict]=None):\n",
    "        assert len(H.shape) ==2, f\"H must be 2dim matrix. current: {H.shape}.\"\n",
    "        n1, n2 = H.shape\n",
    "        assert n1 == n2, f\"Hamiltonian must be square matrix. Current:{(n1, n2)}.\"\n",
    "        assert np.allclose(H, H.H, *tols), f\"Hamiltonian must be a hermite matrix. Relative, absolute tolerance, {tols}.\"\n",
    "        assert bin(8)[2:].count(\"1\") == 1, f\"Dimension must be a 2^n. Current:{n1}.\"\n",
    "        \n",
    "        self.Hamiltonian = H\n",
    "        \n",
    "        # None or Dataframe\n",
    "        self.local_decomposition = self._check_decomposition(pauli_basis)  \n",
    "        self.exist_decompositon = False if pauli_basis is None else True \n",
    "        self.x_family = None # save as integer 2dim matrix point the latin matrix.\n",
    "        self.z_family = None\n",
    "        self.coefficients = None # Latin matrix corresponding coefficient.\n",
    "        \n",
    "        self.qubit_num = len(bin(H.shape[0])[3:]) # Consider a 1 bit position of 2^n integer.\n",
    "    # Basic utils\n",
    "    @staticmethod\n",
    "    def pstr_to_matrix(pstr):\n",
    "        result = []\n",
    "        for p in pstr:\n",
    "            result.append(p_basis[p])\n",
    "        return krons(result)\n",
    "    @staticmethod\n",
    "    def pstr_to_xz_fam_code(pstr:str)->Tuple[int, int]:\n",
    "        num = 1\n",
    "        x_num = 0 # Consider a bit represenation\n",
    "        z_num = 0\n",
    "\n",
    "        p_map = {\"I\":(0,0), \"X\":(1, 0), \"Y\":(1,1), \"Z\":(0,1)}\n",
    "        for p in reversed(pstr):\n",
    "            nx, nz = p_map[p]\n",
    "            x_num += nx*num\n",
    "            z_num += nz*num\n",
    "            num += num\n",
    "        return x_num, z_num\n",
    "    @staticmethod\n",
    "    def xz_fam_code_to_pstr(ns:Tuple[int, int], l:int):\n",
    "        assert l>0, \"l must be positive integer and greater than 0.\"\n",
    "        nx, nz = ns\n",
    "        max_int_1 = 2**l\n",
    "        assert (nx < max_int_1 and nz < max_int_1), \"The given integers and the qubit dim are not matched.\"\n",
    "        if nx==0:\n",
    "            st = format(nz, f\"0{l}b\")\n",
    "            st = st.replace(\"0\", \"I\")\n",
    "            st = st.replace(\"1\", \"Z\")\n",
    "            return st\n",
    "        if nz==0:\n",
    "            st = format(nx, f\"0{l}b\")\n",
    "            st = st.replace(\"0\", \"I\")\n",
    "            st = st.replace(\"1\", \"X\")\n",
    "            return st\n",
    "        \n",
    "        st_x = format(nx, f\"0{l}b\")\n",
    "        st_z = format(nz, f\"0{l}b\")\n",
    "\n",
    "        result = []\n",
    "        for x, z in zip(st_x, st_z):\n",
    "            if x == z:\n",
    "                if x ==\"1\":\n",
    "                    result.append(\"Y\")\n",
    "                else: \n",
    "                    result.append(\"I\")\n",
    "            elif x > z:\n",
    "                result.append(\"X\")\n",
    "            else:\n",
    "                result.append(\"Z\")\n",
    "        return \"\".join(result)\n",
    "\n",
    "    @staticmethod\n",
    "    def p_poly_to_H(p_poly:dict):\n",
    "        \"\"\"Convert pauli-polynomial of dictionary form to total Hamiltonian matrix.\n",
    "        The given polynomial must be a dictionary whose keys are pauli-terms and the values are coefficient.\n",
    "\n",
    "        Args:\n",
    "            pstrs (dict): _description_\n",
    "        \"\"\"\n",
    "        n = len(list(p_poly.keys())[0])\n",
    "        dim = int(2**n)\n",
    "        shape = (dim, dim)\n",
    "        result = np.zeros(shape, dtype=complex)\n",
    "        for pstr in p_poly:\n",
    "            coef = p_poly[pstr]\n",
    "            result += coef*Hamiltonian.pstr_to_matrix(pstr)\n",
    "        return result\n",
    "    @staticmethod\n",
    "    def H_to_p_poly(H, tol=float_tol, include_zeros=False):\n",
    "        n = len(bin(H.shape[0])[3:])\n",
    "        p_mat, p_str = Hamiltonian.generate_pauli_terms(n)\n",
    "        poly = {}\n",
    "        for p_m, p_str in zip(p_mat, p_str):\n",
    "            coef = frobenius_inner(p_m, H)\n",
    "            coef = 0 if np.absolute(coef) < tol else coef\n",
    "            if include_zeros:\n",
    "                poly[p_str] = coef\n",
    "            elif coef != 0:\n",
    "                poly[p_str] = coef\n",
    "        return poly\n",
    "    @staticmethod\n",
    "    def p_poly_to_latin(p_poly:dict, full=False)->Tuple[np.ndarray, list, list]:\n",
    "        \n",
    "        pass\n",
    "    @staticmethod\n",
    "    def generate_pauli_terms(\n",
    "        qubit_num:int, \n",
    "        only:Literal[\"both\", \"string\", \"matrix\"]=\"both\")-> Union[Tuple[Iterable, Iterable], Iterable]:\n",
    "        \"\"\"Generate full set of pauli-terms in matrix and strings of `n` number of qubit system.\n",
    "\n",
    "        Args:\n",
    "            qubit_num (int): _description_\n",
    "            only (Literal[&quot;both&quot;, &quot;string&quot;, &quot;matrix&quot;], optional): _description_. Defaults to \"both\".\n",
    "\n",
    "        Returns:\n",
    "            _type_: _description_\n",
    "        \"\"\"\n",
    "        n = int(qubit_num)\n",
    "        assert n >0, \"The given argument must be a positive natural number.\"\n",
    "        \n",
    "        p_xs =  Hamiltonian.get_pauli_family_matrix(n, fam=\"X\")\n",
    "        p_zs =  Hamiltonian.get_pauli_family_matrix(n, fam=\"Z\")\n",
    "        p_xs_str = Hamiltonian.get_pauli_family_string(n, fam=\"X\")\n",
    "        p_zs_str = Hamiltonian.get_pauli_family_string(n, fam=\"Z\")\n",
    "\n",
    "        result = []\n",
    "        if only==\"both\" or only==\"matrix\":\n",
    "            p_g = []\n",
    "            p_g_str =[]\n",
    "            for x_i, x_str in zip(p_xs, p_xs_str):\n",
    "                for z_j, z_str in zip(p_zs, p_zs_str):\n",
    "                    g = x_i@z_j\n",
    "\n",
    "                    g_coef, g_str = get_coef(x_str, z_str)\n",
    "\n",
    "                    p_g.append(g_coef*g)\n",
    "                    p_g_str.append(g_str)\n",
    "            result.append(p_g) \n",
    "            if only ==\"both\":\n",
    "                result.append(p_g_str)\n",
    "        elif only==\"string\":\n",
    "            p_g_str = []\n",
    "            for x_str in p_xs_str:\n",
    "                for z_str in p_zs_str:\n",
    "                    p_g_str.append(g_str)\n",
    "            result.append(p_g_str)\n",
    "        return result\n",
    "    @staticmethod\n",
    "    def get_pauli_family_string(n, fam=\"Z\"):\n",
    "        return list(map(lambda x: \"\".join(x), product(f\"I{fam}\", repeat=int(n))))\n",
    "    @staticmethod\n",
    "    def get_pauli_family_matrix(n:int, fam=\"Z\")->Iterable[np.matrix]:\n",
    "        \"\"\"Get pauli_family of `n` qubits of `fam` family. \n",
    "\n",
    "        Args:\n",
    "            n (int): Number of qubits. The output matrices are :math:`2^n`.\n",
    "            fam (str, optional): Type of Pauli-family of X, Y, or Z. Defaults to \"Z\".\n",
    "\n",
    "        Returns:\n",
    "            Iterable[np.matrix]: list of Pauli-matrices\n",
    "        \"\"\"\n",
    "        G = pauli_Z if fam==\"Z\" else (pauli_X if fam==\"X\" else pauli_Y)\n",
    "\n",
    "        return list(map(krons, product([I, G], repeat=int(n))))\n",
    "        \n",
    "    #--------------------------------------------------------------\n",
    "    def _check_decomposition(self, pauli_basis):\n",
    "        if pauli_basis is None:\n",
    "            return None\n",
    "        pass    \n",
    "    def get_decomposition(self, H:np.matrix, tol=float_tol ):\n",
    "        pass\n",
    "    def decompose(self, tol=float_tol , replace = False):\n",
    "        if self.exist_decompositon:\n",
    "            if not replace:\n",
    "                return self.local_decomposition\n",
    "        \n",
    "        if replace:\n",
    "            self.local_decomposition = self.get_decomposition(self.H, tol) \n",
    "            self.exist_decompositon = True\n",
    "            return self.local_decomposition\n",
    "        return self.get_decomposition(self.H, tol) \n",
    "    def save_as(self, filepath:Union[Path, str]):\n",
    "        if isinstance(filepath, str):\n",
    "            filepath = Path(filepath)\n",
    "            \n",
    "        pass\n",
    "    #--------------------------------------------------------------\n",
    "    @property\n",
    "    def pauli_decomposition(self):\n",
    "        if self.exist_decompositon:\n",
    "            pass\n",
    "        return None\n",
    "    @property\n",
    "    def xz_family(self):\n",
    "        if self.exist_decompositon:\n",
    "            pass\n",
    "        return None\n",
    "    @property\n",
    "    def latin_matrix(self):\n",
    "        if self.exist_decompositon:\n",
    "            pass\n",
    "        return None    \n",
    "    #--------------------------------------------------------------\n",
    "    @classmethod\n",
    "    def from_latin_matrix(cls:Hamiltonian, \n",
    "                      l_matrix:np.matrix, \n",
    "                      coefficient:Union[np.matrix, None]=None)->Hamiltonian:\n",
    "        pass\n",
    "    @classmethod\n",
    "    def from_pauli_polynomial(cls:Hamiltonian, \n",
    "                               p_poly:Union[dict, np.ndarray], \n",
    "                               p_coef:Union[None, np.ndarray]=None)-> Hamiltonian:\n",
    "        pass\n",
    "    @classmethod\n",
    "    def from_data(cls:Hamiltonian, file_path)->Hamiltonian:\n",
    "        pass\n",
    "    #------------------------------\n",
    "    "
   ]
  },
  {
   "cell_type": "code",
   "execution_count": 123,
   "metadata": {},
   "outputs": [
    {
     "data": {
      "text/plain": [
       "True"
      ]
     },
     "execution_count": 123,
     "metadata": {},
     "output_type": "execute_result"
    }
   ],
   "source": [
    "\"0101\"<\"0110\""
   ]
  },
  {
   "cell_type": "code",
   "execution_count": 124,
   "metadata": {},
   "outputs": [
    {
     "data": {
      "text/plain": [
       "array([[0.+0.j, 0.+0.j, 0.+0.j, 1.+0.j],\n",
       "       [0.+0.j, 0.+0.j, 1.+0.j, 0.+0.j],\n",
       "       [0.+0.j, 1.+0.j, 0.+0.j, 0.+0.j],\n",
       "       [1.+0.j, 0.+0.j, 0.+0.j, 0.+0.j]])"
      ]
     },
     "execution_count": 124,
     "metadata": {},
     "output_type": "execute_result"
    }
   ],
   "source": [
    "# Paulistring to matrix\n",
    "Hamiltonian.pstr_to_matrix(\"XX\")"
   ]
  },
  {
   "cell_type": "code",
   "execution_count": 125,
   "metadata": {},
   "outputs": [
    {
     "data": {
      "text/plain": [
       "array([[ 3.+0.j,  0.+0.j,  2.+0.j,  0.-4.j],\n",
       "       [ 0.+0.j,  3.+0.j,  0.-4.j, -2.+0.j],\n",
       "       [ 2.+0.j,  0.+4.j,  3.+0.j,  0.+0.j],\n",
       "       [ 0.+4.j, -2.+0.j,  0.+0.j,  3.+0.j]])"
      ]
     },
     "execution_count": 125,
     "metadata": {},
     "output_type": "execute_result"
    }
   ],
   "source": [
    "# Polynomial to total Hamiltonian\n",
    "\n",
    "poly_test = {\n",
    "    \"YX\": 4,\n",
    "    \"II\": 3,\n",
    "    \"XZ\": 2\n",
    "}\n",
    "n = len(list(poly_test.keys())[0])\n",
    "hamiltonian =Hamiltonian.p_poly_to_H(poly_test)\n",
    "hamiltonian"
   ]
  },
  {
   "cell_type": "code",
   "execution_count": 126,
   "metadata": {},
   "outputs": [
    {
     "data": {
      "text/plain": [
       "{'II': (3+0j), 'XZ': (2+0j), 'YX': (4+0j)}"
      ]
     },
     "execution_count": 126,
     "metadata": {},
     "output_type": "execute_result"
    }
   ],
   "source": [
    "Hamiltonian.H_to_p_poly(hamiltonian, include_zeros=False)"
   ]
  },
  {
   "cell_type": "code",
   "execution_count": 127,
   "metadata": {},
   "outputs": [
    {
     "data": {
      "text/plain": [
       "{'II': (3+0j),\n",
       " 'IZ': 0,\n",
       " 'ZI': 0,\n",
       " 'ZZ': 0,\n",
       " 'IX': 0,\n",
       " 'IY': 0,\n",
       " 'ZX': 0,\n",
       " 'ZY': 0,\n",
       " 'XI': 0,\n",
       " 'XZ': (2+0j),\n",
       " 'YI': 0,\n",
       " 'YZ': 0,\n",
       " 'XX': 0,\n",
       " 'XY': 0,\n",
       " 'YX': (4+0j),\n",
       " 'YY': 0}"
      ]
     },
     "execution_count": 127,
     "metadata": {},
     "output_type": "execute_result"
    }
   ],
   "source": [
    "Hamiltonian.H_to_p_poly(hamiltonian, include_zeros=True)"
   ]
  },
  {
   "cell_type": "code",
   "execution_count": 128,
   "metadata": {},
   "outputs": [
    {
     "name": "stdout",
     "output_type": "stream",
     "text": [
      "6 3\n"
     ]
    }
   ],
   "source": [
    "nx, nz = Hamiltonian.pstr_to_xz_family_code(\"IXYZ\")\n",
    "print(nx, nz)"
   ]
  },
  {
   "cell_type": "code",
   "execution_count": 144,
   "metadata": {},
   "outputs": [
    {
     "data": {
      "text/plain": [
       "'IIIXYZ'"
      ]
     },
     "execution_count": 144,
     "metadata": {},
     "output_type": "execute_result"
    }
   ],
   "source": [
    "Hamiltonian.xz_fam_code_to_pstr((6,3), 6)"
   ]
  },
  {
   "cell_type": "code",
   "execution_count": 130,
   "metadata": {},
   "outputs": [
    {
     "data": {
      "text/plain": [
       "'0b11'"
      ]
     },
     "execution_count": 130,
     "metadata": {},
     "output_type": "execute_result"
    }
   ],
   "source": [
    "bin(nz)"
   ]
  },
  {
   "cell_type": "code",
   "execution_count": 25,
   "metadata": {},
   "outputs": [],
   "source": [
    "p_mat, p_strs = Hamiltonian.get_pauli_strings(3)"
   ]
  },
  {
   "cell_type": "code",
   "execution_count": 31,
   "metadata": {},
   "outputs": [
    {
     "data": {
      "text/plain": [
       "array([[ 1.+0.j,  0.+0.j,  0.+0.j,  0.+0.j,  0.+0.j,  0.+0.j,  0.+0.j,\n",
       "         0.+0.j],\n",
       "       [ 0.+0.j,  1.+0.j,  0.+0.j,  0.+0.j,  0.+0.j,  0.+0.j,  0.+0.j,\n",
       "         0.+0.j],\n",
       "       [ 0.+0.j,  0.+0.j, -1.+0.j,  0.+0.j,  0.+0.j,  0.+0.j,  0.+0.j,\n",
       "         0.+0.j],\n",
       "       [ 0.+0.j,  0.+0.j,  0.+0.j, -1.+0.j,  0.+0.j,  0.+0.j,  0.+0.j,\n",
       "         0.+0.j],\n",
       "       [ 0.+0.j,  0.+0.j,  0.+0.j,  0.+0.j, -1.+0.j,  0.+0.j,  0.+0.j,\n",
       "         0.+0.j],\n",
       "       [ 0.+0.j,  0.+0.j,  0.+0.j,  0.+0.j,  0.+0.j, -1.+0.j,  0.+0.j,\n",
       "         0.+0.j],\n",
       "       [ 0.+0.j,  0.+0.j,  0.+0.j,  0.+0.j,  0.+0.j,  0.+0.j,  1.+0.j,\n",
       "         0.+0.j],\n",
       "       [ 0.+0.j,  0.+0.j,  0.+0.j,  0.+0.j,  0.+0.j,  0.+0.j,  0.+0.j,\n",
       "         1.+0.j]])"
      ]
     },
     "execution_count": 31,
     "metadata": {},
     "output_type": "execute_result"
    }
   ],
   "source": [
    "p_mat[6]"
   ]
  },
  {
   "cell_type": "code",
   "execution_count": null,
   "metadata": {},
   "outputs": [],
   "source": []
  }
 ],
 "metadata": {
  "kernelspec": {
   "display_name": "Python 3",
   "language": "python",
   "name": "python3"
  },
  "language_info": {
   "codemirror_mode": {
    "name": "ipython",
    "version": 3
   },
   "file_extension": ".py",
   "mimetype": "text/x-python",
   "name": "python",
   "nbconvert_exporter": "python",
   "pygments_lexer": "ipython3",
   "version": "3.11.4"
  }
 },
 "nbformat": 4,
 "nbformat_minor": 2
}
